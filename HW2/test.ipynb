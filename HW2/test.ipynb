{
 "cells": [
  {
   "cell_type": "code",
   "execution_count": 8,
   "metadata": {},
   "outputs": [
    {
     "name": "stdout",
     "output_type": "stream",
     "text": [
      "[[1, 1], [2], 3, 4]\n",
      "[[1, 1], [2], 3]\n"
     ]
    }
   ],
   "source": [
    "best = [[1,1],[2],3,4]\n",
    "print(best)\n",
    "print(best[:3])"
   ]
  },
  {
   "cell_type": "code",
   "execution_count": 12,
   "metadata": {},
   "outputs": [
    {
     "name": "stdout",
     "output_type": "stream",
     "text": [
      "{'klaza'}\n",
      "{'5151', 'klaza'}\n",
      "{'5151', 'klaza'}\n",
      "<class 'set'>\n",
      "<class 'list'>\n",
      "['5151', 'klaza']\n"
     ]
    }
   ],
   "source": [
    "all_vocabulary =set()\n",
    "word = \"klaza\"\n",
    "all_vocabulary.add(word)\n",
    "print(all_vocabulary)\n",
    "word = \"5151\"\n",
    "all_vocabulary.add(word)\n",
    "print(all_vocabulary)\n",
    "word = \"klaza\"\n",
    "all_vocabulary.add(word)\n",
    "print(all_vocabulary)\n",
    "print(type(all_vocabulary))\n",
    "print(type(list(all_vocabulary)))\n",
    "print(list(all_vocabulary))"
   ]
  },
  {
   "cell_type": "code",
   "execution_count": 6,
   "metadata": {},
   "outputs": [],
   "source": [
    "def uu(gg=1,kk=1):\n",
    "    a = gg*(kk*kk)\n",
    "    return a \n"
   ]
  },
  {
   "cell_type": "code",
   "execution_count": 8,
   "metadata": {},
   "outputs": [
    {
     "data": {
      "text/plain": [
       "5"
      ]
     },
     "execution_count": 8,
     "metadata": {},
     "output_type": "execute_result"
    }
   ],
   "source": [
    "uu(gg=5)"
   ]
  },
  {
   "cell_type": "code",
   "execution_count": 1,
   "metadata": {},
   "outputs": [
    {
     "name": "stdout",
     "output_type": "stream",
     "text": [
      "1\n",
      "2\n",
      "6\n",
      "24\n"
     ]
    }
   ],
   "source": [
    "a = 1\n",
    "for i in range(1,5):\n",
    "    a *= i\n",
    "    print(a)\n"
   ]
  },
  {
   "cell_type": "code",
   "execution_count": 13,
   "metadata": {},
   "outputs": [
    {
     "name": "stdout",
     "output_type": "stream",
     "text": [
      "['ajl', 'jsfjl', 'ksjdlfjl', 'sldfjk']\n",
      "3\n"
     ]
    }
   ],
   "source": [
    "a = \"ajl|jsfjl|ksjdlfjl|sldfjk\"\n",
    "print(a.split('|'))\n",
    "print(a.count(\"|\"))"
   ]
  },
  {
   "cell_type": "code",
   "execution_count": 16,
   "metadata": {},
   "outputs": [
    {
     "name": "stdout",
     "output_type": "stream",
     "text": [
      "defaultdict(<class 'int'>, {1: 'a', 2: 'h', 3: 'b', 4: 'a', 5: 'c'})\n",
      "5\n"
     ]
    }
   ],
   "source": [
    "my_dict = defaultdict(int)\n",
    "my_dict[1] = 'a'\n",
    "my_dict[2] = 'h'\n",
    "my_dict[3] = 'b'\n",
    "my_dict[4] = 'a'\n",
    "my_dict[5] = 'c'\n",
    "print(my_dict)\n",
    "print(len(my_dict))"
   ]
  },
  {
   "cell_type": "code",
   "execution_count": 7,
   "metadata": {},
   "outputs": [
    {
     "name": "stdout",
     "output_type": "stream",
     "text": [
      "defaultdict(<function getBigramModel.<locals>.<lambda> at 0x000001FE9AE1CF70>, {None: 2.0, 'สงสัย': 2.0, 'ติด': 2.0, 'หวัด': 2.0, 'นก': 2.0, ' ': 1.0, 'อีก': 1.0, 'คน': 1.0, 'ยัง': 1.0, 'น่า': 1.0, 'ห่วง': 1.0})\n"
     ]
    },
    {
     "ename": "AttributeError",
     "evalue": "'collections.defaultdict' object has no attribute 'count'",
     "output_type": "error",
     "traceback": [
      "\u001b[1;31m---------------------------------------------------------------------------\u001b[0m",
      "\u001b[1;31mAttributeError\u001b[0m                            Traceback (most recent call last)",
      "\u001b[1;32md:\\FRA501-NLP\\HW2\\test.ipynb Cell 6\u001b[0m in \u001b[0;36m<cell line: 26>\u001b[1;34m()\u001b[0m\n\u001b[0;32m     <a href='vscode-notebook-cell:/d%3A/FRA501-NLP/HW2/test.ipynb#W5sZmlsZQ%3D%3D?line=22'>23</a>\u001b[0m     \u001b[39mreturn\u001b[39;00m model\n\u001b[0;32m     <a href='vscode-notebook-cell:/d%3A/FRA501-NLP/HW2/test.ipynb#W5sZmlsZQ%3D%3D?line=24'>25</a>\u001b[0m \u001b[39m# Bigram_model = getBigramModel(train)\u001b[39;00m\n\u001b[1;32m---> <a href='vscode-notebook-cell:/d%3A/FRA501-NLP/HW2/test.ipynb#W5sZmlsZQ%3D%3D?line=25'>26</a>\u001b[0m Bigram_model \u001b[39m=\u001b[39m getBigramModel([\u001b[39m'\u001b[39;49m\u001b[39mสงสัย|ติด|หวัด|นก| |อีก|คน|ยัง|น่า|ห่วง\u001b[39;49m\u001b[39m'\u001b[39;49m,\u001b[39m'\u001b[39;49m\u001b[39mสงสัย|ติด|หวัด|นก\u001b[39;49m\u001b[39m'\u001b[39;49m])\n\u001b[0;32m     <a href='vscode-notebook-cell:/d%3A/FRA501-NLP/HW2/test.ipynb#W5sZmlsZQ%3D%3D?line=26'>27</a>\u001b[0m Bigram_model\n",
      "\u001b[1;32md:\\FRA501-NLP\\HW2\\test.ipynb Cell 6\u001b[0m in \u001b[0;36mgetBigramModel\u001b[1;34m(data)\u001b[0m\n\u001b[0;32m     <a href='vscode-notebook-cell:/d%3A/FRA501-NLP/HW2/test.ipynb#W5sZmlsZQ%3D%3D?line=16'>17</a>\u001b[0m \u001b[39m# for ไล่เเต่ละ token ใน bigram ทั้งหมด\u001b[39;00m\n\u001b[0;32m     <a href='vscode-notebook-cell:/d%3A/FRA501-NLP/HW2/test.ipynb#W5sZmlsZQ%3D%3D?line=17'>18</a>\u001b[0m \u001b[39m#   model[?] = ?\u001b[39;00m\n\u001b[0;32m     <a href='vscode-notebook-cell:/d%3A/FRA501-NLP/HW2/test.ipynb#W5sZmlsZQ%3D%3D?line=18'>19</a>\u001b[0m \u001b[39mprint\u001b[39m(unigram_count)\n\u001b[1;32m---> <a href='vscode-notebook-cell:/d%3A/FRA501-NLP/HW2/test.ipynb#W5sZmlsZQ%3D%3D?line=19'>20</a>\u001b[0m \u001b[39mprint\u001b[39m(unigram_count\u001b[39m.\u001b[39;49mcount(\u001b[39m1.0\u001b[39m))\n\u001b[0;32m     <a href='vscode-notebook-cell:/d%3A/FRA501-NLP/HW2/test.ipynb#W5sZmlsZQ%3D%3D?line=20'>21</a>\u001b[0m \u001b[39mfor\u001b[39;00m i \u001b[39min\u001b[39;00m bigram_count:\n\u001b[0;32m     <a href='vscode-notebook-cell:/d%3A/FRA501-NLP/HW2/test.ipynb#W5sZmlsZQ%3D%3D?line=21'>22</a>\u001b[0m     model[i] \u001b[39m=\u001b[39m bigram_count[i]\u001b[39m/\u001b[39munigram_count[i[\u001b[39m0\u001b[39m]]\n",
      "\u001b[1;31mAttributeError\u001b[0m: 'collections.defaultdict' object has no attribute 'count'"
     ]
    }
   ],
   "source": [
    "from nltk import bigrams, trigrams\n",
    "from collections import Counter, defaultdict\n",
    "def getBigramModel(data):\n",
    "    ###FILL YOUR CODE HERE###\n",
    "    unigram_count = defaultdict(lambda: 0.0)\n",
    "    bigram_count = defaultdict(lambda: 0.0)\n",
    "    model = defaultdict(lambda: 0.0)\n",
    "    # for เเต่ละ sentence\n",
    "    #   for เเต่ละ token ในรูปเเบบ bigram ที่ generate ขึ้นมา\n",
    "    #     bigram_count[?] = ?\n",
    "    #     unigram_count[?] = ?\n",
    "    for sentence in data:\n",
    "        for w1,w2 in bigrams(sentence.split('|'), pad_right=True, pad_left=True):\n",
    "            bigram_count[w1,w2] += 1.0\n",
    "            unigram_count[w1] += 1\n",
    "\n",
    "    # for ไล่เเต่ละ token ใน bigram ทั้งหมด\n",
    "    #   model[?] = ?\n",
    "    print(unigram_count)\n",
    "    print(unigram_count.count(1.0))\n",
    "    for i in bigram_count:\n",
    "        model[i] = bigram_count[i]/unigram_count[i[0]]\n",
    "    return model\n",
    "\n",
    "# Bigram_model = getBigramModel(train)\n",
    "Bigram_model = getBigramModel(['สงสัย|ติด|หวัด|นก| |อีก|คน|ยัง|น่า|ห่วง','สงสัย|ติด|หวัด|นก'])\n",
    "Bigram_model"
   ]
  },
  {
   "cell_type": "code",
   "execution_count": 1,
   "metadata": {},
   "outputs": [
    {
     "ename": "TypeError",
     "evalue": "can only concatenate list (not \"str\") to list",
     "output_type": "error",
     "traceback": [
      "\u001b[1;31m---------------------------------------------------------------------------\u001b[0m",
      "\u001b[1;31mTypeError\u001b[0m                                 Traceback (most recent call last)",
      "\u001b[1;32md:\\FRA501-NLP\\HW2\\test.ipynb Cell 9\u001b[0m in \u001b[0;36m<cell line: 3>\u001b[1;34m()\u001b[0m\n\u001b[0;32m      <a href='vscode-notebook-cell:/d%3A/FRA501-NLP/HW2/test.ipynb#X11sZmlsZQ%3D%3D?line=0'>1</a>\u001b[0m a \u001b[39m=\u001b[39m[\u001b[39m'\u001b[39m\u001b[39mสงสัย|ติด|หวัด|นก| |อีก|คน|ยัง|น่า|ห่วง\u001b[39m\u001b[39m'\u001b[39m]\n\u001b[0;32m      <a href='vscode-notebook-cell:/d%3A/FRA501-NLP/HW2/test.ipynb#X11sZmlsZQ%3D%3D?line=1'>2</a>\u001b[0m b \u001b[39m=\u001b[39m \u001b[39m'\u001b[39m\u001b[39mskdf\u001b[39m\u001b[39m'\u001b[39m\n\u001b[1;32m----> <a href='vscode-notebook-cell:/d%3A/FRA501-NLP/HW2/test.ipynb#X11sZmlsZQ%3D%3D?line=2'>3</a>\u001b[0m a \u001b[39m+\u001b[39;49mb\n",
      "\u001b[1;31mTypeError\u001b[0m: can only concatenate list (not \"str\") to list"
     ]
    }
   ],
   "source": [
    "a =['สงสัย|ติด|หวัด|นก| |อีก|คน|ยัง|น่า|ห่วง',]\n",
    "b = 'skdf'\n",
    "a +b"
   ]
  },
  {
   "cell_type": "code",
   "execution_count": 3,
   "metadata": {},
   "outputs": [
    {
     "data": {
      "text/plain": [
       "{'a': 1, 'b': 4, 'c': 3}"
      ]
     },
     "execution_count": 3,
     "metadata": {},
     "output_type": "execute_result"
    }
   ],
   "source": [
    "def combine_model(model_one,model_two):\n",
    "    model = dict(model_one,**model_two)\n",
    "    return model\n",
    "dict1 = {'a': 1, 'b': 2}\n",
    "dict2 = {'c': 3, 'b': 4}\n",
    "combine_model(dict1,dict2)"
   ]
  }
 ],
 "metadata": {
  "kernelspec": {
   "display_name": "base",
   "language": "python",
   "name": "python3"
  },
  "language_info": {
   "codemirror_mode": {
    "name": "ipython",
    "version": 3
   },
   "file_extension": ".py",
   "mimetype": "text/x-python",
   "name": "python",
   "nbconvert_exporter": "python",
   "pygments_lexer": "ipython3",
   "version": "3.9.12"
  },
  "orig_nbformat": 4,
  "vscode": {
   "interpreter": {
    "hash": "929163599431c7b3e753eb9c75a6800fa8c5c72fb3910ee126ea89c879162a29"
   }
  }
 },
 "nbformat": 4,
 "nbformat_minor": 2
}

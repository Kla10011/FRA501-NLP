{
 "cells": [
  {
   "cell_type": "code",
   "execution_count": 8,
   "metadata": {},
   "outputs": [
    {
     "name": "stdout",
     "output_type": "stream",
     "text": [
      "[[1, 1], [2], 3, 4]\n",
      "[[1, 1], [2], 3]\n"
     ]
    }
   ],
   "source": [
    "best = [[1,1],[2],3,4]\n",
    "print(best)\n",
    "print(best[:3])"
   ]
  },
  {
   "cell_type": "code",
   "execution_count": 12,
   "metadata": {},
   "outputs": [
    {
     "name": "stdout",
     "output_type": "stream",
     "text": [
      "{'klaza'}\n",
      "{'5151', 'klaza'}\n",
      "{'5151', 'klaza'}\n",
      "<class 'set'>\n",
      "<class 'list'>\n",
      "['5151', 'klaza']\n"
     ]
    }
   ],
   "source": [
    "all_vocabulary =set()\n",
    "word = \"klaza\"\n",
    "all_vocabulary.add(word)\n",
    "print(all_vocabulary)\n",
    "word = \"5151\"\n",
    "all_vocabulary.add(word)\n",
    "print(all_vocabulary)\n",
    "word = \"klaza\"\n",
    "all_vocabulary.add(word)\n",
    "print(all_vocabulary)\n",
    "print(type(all_vocabulary))\n",
    "print(type(list(all_vocabulary)))\n",
    "print(list(all_vocabulary))"
   ]
  },
  {
   "cell_type": "code",
   "execution_count": 6,
   "metadata": {},
   "outputs": [],
   "source": [
    "def uu(gg=1,kk=1):\n",
    "    a = gg*(kk*kk)\n",
    "    return a \n"
   ]
  },
  {
   "cell_type": "code",
   "execution_count": 8,
   "metadata": {},
   "outputs": [
    {
     "data": {
      "text/plain": [
       "5"
      ]
     },
     "execution_count": 8,
     "metadata": {},
     "output_type": "execute_result"
    }
   ],
   "source": [
    "uu(gg=5)"
   ]
  },
  {
   "cell_type": "code",
   "execution_count": 1,
   "metadata": {},
   "outputs": [
    {
     "name": "stdout",
     "output_type": "stream",
     "text": [
      "1\n",
      "2\n",
      "6\n",
      "24\n"
     ]
    }
   ],
   "source": [
    "a = 1\n",
    "for i in range(1,5):\n",
    "    a *= i\n",
    "    print(a)\n"
   ]
  },
  {
   "cell_type": "code",
   "execution_count": 13,
   "metadata": {},
   "outputs": [
    {
     "name": "stdout",
     "output_type": "stream",
     "text": [
      "['ajl', 'jsfjl', 'ksjdlfjl', 'sldfjk']\n",
      "3\n"
     ]
    }
   ],
   "source": [
    "a = \"ajl|jsfjl|ksjdlfjl|sldfjk\"\n",
    "print(a.split('|'))\n",
    "print(a.count(\"|\"))"
   ]
  },
  {
   "cell_type": "code",
   "execution_count": 16,
   "metadata": {},
   "outputs": [
    {
     "name": "stdout",
     "output_type": "stream",
     "text": [
      "defaultdict(<class 'int'>, {1: 'a', 2: 'h', 3: 'b', 4: 'a', 5: 'c'})\n",
      "5\n"
     ]
    }
   ],
   "source": [
    "my_dict = defaultdict(int)\n",
    "my_dict[1] = 'a'\n",
    "my_dict[2] = 'h'\n",
    "my_dict[3] = 'b'\n",
    "my_dict[4] = 'a'\n",
    "my_dict[5] = 'c'\n",
    "print(my_dict)\n",
    "print(len(my_dict))"
   ]
  },
  {
   "cell_type": "code",
   "execution_count": 7,
   "metadata": {},
   "outputs": [
    {
     "name": "stdout",
     "output_type": "stream",
     "text": [
      "defaultdict(<function getBigramModel.<locals>.<lambda> at 0x000001FE9AE1CF70>, {None: 2.0, 'สงสัย': 2.0, 'ติด': 2.0, 'หวัด': 2.0, 'นก': 2.0, ' ': 1.0, 'อีก': 1.0, 'คน': 1.0, 'ยัง': 1.0, 'น่า': 1.0, 'ห่วง': 1.0})\n"
     ]
    },
    {
     "ename": "AttributeError",
     "evalue": "'collections.defaultdict' object has no attribute 'count'",
     "output_type": "error",
     "traceback": [
      "\u001b[1;31m---------------------------------------------------------------------------\u001b[0m",
      "\u001b[1;31mAttributeError\u001b[0m                            Traceback (most recent call last)",
      "\u001b[1;32md:\\FRA501-NLP\\HW2\\test.ipynb Cell 6\u001b[0m in \u001b[0;36m<cell line: 26>\u001b[1;34m()\u001b[0m\n\u001b[0;32m     <a href='vscode-notebook-cell:/d%3A/FRA501-NLP/HW2/test.ipynb#W5sZmlsZQ%3D%3D?line=22'>23</a>\u001b[0m     \u001b[39mreturn\u001b[39;00m model\n\u001b[0;32m     <a href='vscode-notebook-cell:/d%3A/FRA501-NLP/HW2/test.ipynb#W5sZmlsZQ%3D%3D?line=24'>25</a>\u001b[0m \u001b[39m# Bigram_model = getBigramModel(train)\u001b[39;00m\n\u001b[1;32m---> <a href='vscode-notebook-cell:/d%3A/FRA501-NLP/HW2/test.ipynb#W5sZmlsZQ%3D%3D?line=25'>26</a>\u001b[0m Bigram_model \u001b[39m=\u001b[39m getBigramModel([\u001b[39m'\u001b[39;49m\u001b[39mสงสัย|ติด|หวัด|นก| |อีก|คน|ยัง|น่า|ห่วง\u001b[39;49m\u001b[39m'\u001b[39;49m,\u001b[39m'\u001b[39;49m\u001b[39mสงสัย|ติด|หวัด|นก\u001b[39;49m\u001b[39m'\u001b[39;49m])\n\u001b[0;32m     <a href='vscode-notebook-cell:/d%3A/FRA501-NLP/HW2/test.ipynb#W5sZmlsZQ%3D%3D?line=26'>27</a>\u001b[0m Bigram_model\n",
      "\u001b[1;32md:\\FRA501-NLP\\HW2\\test.ipynb Cell 6\u001b[0m in \u001b[0;36mgetBigramModel\u001b[1;34m(data)\u001b[0m\n\u001b[0;32m     <a href='vscode-notebook-cell:/d%3A/FRA501-NLP/HW2/test.ipynb#W5sZmlsZQ%3D%3D?line=16'>17</a>\u001b[0m \u001b[39m# for ไล่เเต่ละ token ใน bigram ทั้งหมด\u001b[39;00m\n\u001b[0;32m     <a href='vscode-notebook-cell:/d%3A/FRA501-NLP/HW2/test.ipynb#W5sZmlsZQ%3D%3D?line=17'>18</a>\u001b[0m \u001b[39m#   model[?] = ?\u001b[39;00m\n\u001b[0;32m     <a href='vscode-notebook-cell:/d%3A/FRA501-NLP/HW2/test.ipynb#W5sZmlsZQ%3D%3D?line=18'>19</a>\u001b[0m \u001b[39mprint\u001b[39m(unigram_count)\n\u001b[1;32m---> <a href='vscode-notebook-cell:/d%3A/FRA501-NLP/HW2/test.ipynb#W5sZmlsZQ%3D%3D?line=19'>20</a>\u001b[0m \u001b[39mprint\u001b[39m(unigram_count\u001b[39m.\u001b[39;49mcount(\u001b[39m1.0\u001b[39m))\n\u001b[0;32m     <a href='vscode-notebook-cell:/d%3A/FRA501-NLP/HW2/test.ipynb#W5sZmlsZQ%3D%3D?line=20'>21</a>\u001b[0m \u001b[39mfor\u001b[39;00m i \u001b[39min\u001b[39;00m bigram_count:\n\u001b[0;32m     <a href='vscode-notebook-cell:/d%3A/FRA501-NLP/HW2/test.ipynb#W5sZmlsZQ%3D%3D?line=21'>22</a>\u001b[0m     model[i] \u001b[39m=\u001b[39m bigram_count[i]\u001b[39m/\u001b[39munigram_count[i[\u001b[39m0\u001b[39m]]\n",
      "\u001b[1;31mAttributeError\u001b[0m: 'collections.defaultdict' object has no attribute 'count'"
     ]
    }
   ],
   "source": [
    "from nltk import bigrams, trigrams\n",
    "from collections import Counter, defaultdict\n",
    "def getBigramModel(data):\n",
    "    ###FILL YOUR CODE HERE###\n",
    "    unigram_count = defaultdict(lambda: 0.0)\n",
    "    bigram_count = defaultdict(lambda: 0.0)\n",
    "    model = defaultdict(lambda: 0.0)\n",
    "    # for เเต่ละ sentence\n",
    "    #   for เเต่ละ token ในรูปเเบบ bigram ที่ generate ขึ้นมา\n",
    "    #     bigram_count[?] = ?\n",
    "    #     unigram_count[?] = ?\n",
    "    for sentence in data:\n",
    "        for w1,w2 in bigrams(sentence.split('|'), pad_right=True, pad_left=True):\n",
    "            bigram_count[w1,w2] += 1.0\n",
    "            unigram_count[w1] += 1\n",
    "\n",
    "    # for ไล่เเต่ละ token ใน bigram ทั้งหมด\n",
    "    #   model[?] = ?\n",
    "    print(unigram_count)\n",
    "    print(unigram_count.count(1.0))\n",
    "    for i in bigram_count:\n",
    "        model[i] = bigram_count[i]/unigram_count[i[0]]\n",
    "    return model\n",
    "\n",
    "# Bigram_model = getBigramModel(train)\n",
    "Bigram_model = getBigramModel(['สงสัย|ติด|หวัด|นก| |อีก|คน|ยัง|น่า|ห่วง','สงสัย|ติด|หวัด|นก'])\n",
    "Bigram_model"
   ]
  },
  {
   "cell_type": "code",
   "execution_count": 1,
   "metadata": {},
   "outputs": [
    {
     "ename": "TypeError",
     "evalue": "can only concatenate list (not \"str\") to list",
     "output_type": "error",
     "traceback": [
      "\u001b[1;31m---------------------------------------------------------------------------\u001b[0m",
      "\u001b[1;31mTypeError\u001b[0m                                 Traceback (most recent call last)",
      "\u001b[1;32md:\\FRA501-NLP\\HW2\\test.ipynb Cell 9\u001b[0m in \u001b[0;36m<cell line: 3>\u001b[1;34m()\u001b[0m\n\u001b[0;32m      <a href='vscode-notebook-cell:/d%3A/FRA501-NLP/HW2/test.ipynb#X11sZmlsZQ%3D%3D?line=0'>1</a>\u001b[0m a \u001b[39m=\u001b[39m[\u001b[39m'\u001b[39m\u001b[39mสงสัย|ติด|หวัด|นก| |อีก|คน|ยัง|น่า|ห่วง\u001b[39m\u001b[39m'\u001b[39m]\n\u001b[0;32m      <a href='vscode-notebook-cell:/d%3A/FRA501-NLP/HW2/test.ipynb#X11sZmlsZQ%3D%3D?line=1'>2</a>\u001b[0m b \u001b[39m=\u001b[39m \u001b[39m'\u001b[39m\u001b[39mskdf\u001b[39m\u001b[39m'\u001b[39m\n\u001b[1;32m----> <a href='vscode-notebook-cell:/d%3A/FRA501-NLP/HW2/test.ipynb#X11sZmlsZQ%3D%3D?line=2'>3</a>\u001b[0m a \u001b[39m+\u001b[39;49mb\n",
      "\u001b[1;31mTypeError\u001b[0m: can only concatenate list (not \"str\") to list"
     ]
    }
   ],
   "source": [
    "a =['สงสัย|ติด|หวัด|นก| |อีก|คน|ยัง|น่า|ห่วง',]\n",
    "b = 'skdf'\n",
    "a +b"
   ]
  },
  {
   "cell_type": "code",
   "execution_count": 1,
   "metadata": {},
   "outputs": [
    {
     "data": {
      "text/plain": [
       "{'a': 1, 'b': 1, 'c': 3}"
      ]
     },
     "execution_count": 1,
     "metadata": {},
     "output_type": "execute_result"
    }
   ],
   "source": [
    "def combine_model(model_one,model_two):\n",
    "    model = dict(model_one,**model_two)\n",
    "    return model\n",
    "dict1 = {'a': 1, 'b': 2}\n",
    "dict2 = {'c': 3, 'b': 1}\n",
    "combine_model(dict1,dict2)"
   ]
  },
  {
   "cell_type": "code",
   "execution_count": 2,
   "metadata": {},
   "outputs": [
    {
     "name": "stdout",
     "output_type": "stream",
     "text": [
      "a\n",
      "b\n",
      "g\n",
      "{'a': 1, 'b': 6.0, 'g': 24.0, 'c': 3, 'v': 4, 'l': 4}\n"
     ]
    }
   ],
   "source": [
    "from collections import defaultdict\n",
    "dict1 = {'a': 1, 'b': 2, 'g': 12}\n",
    "dict2 = {'c': 3, 'g': 12 ,'b': 4,'v': 4,'l': 4}\n",
    "sum = defaultdict(lambda: 0.0)\n",
    "for i in dict1:\n",
    "    print(i)\n",
    "    if i in dict1 and i in dict2:\n",
    "        sum[i] += dict1[i] + dict2[i]\n",
    "        # dict3 = {**dict1, **dict2, i : sum_b}\n",
    "dict3 = {**dict1,**dict2,**sum,}\n",
    "print(dict3)"
   ]
  },
  {
   "cell_type": "code",
   "execution_count": 4,
   "metadata": {},
   "outputs": [
    {
     "data": {
      "text/plain": [
       "{'c': 3, 'b': 4, 'v': 4, 'l': 4}"
      ]
     },
     "execution_count": 4,
     "metadata": {},
     "output_type": "execute_result"
    }
   ],
   "source": [
    "dict2 = {'c': 3, 'g': 12 ,'b': 4,'v': 4,'l': 4}\n",
    "del dict2['g']\n",
    "dict2"
   ]
  },
  {
   "cell_type": "code",
   "execution_count": 1,
   "metadata": {},
   "outputs": [
    {
     "data": {
      "text/plain": [
       "222"
      ]
     },
     "execution_count": 1,
     "metadata": {},
     "output_type": "execute_result"
    }
   ],
   "source": [
    "a = [0,222]\n",
    "max(a)"
   ]
  },
  {
   "cell_type": "code",
   "execution_count": 22,
   "metadata": {},
   "outputs": [
    {
     "name": "stdout",
     "output_type": "stream",
     "text": [
      "0.3468872021416375\n",
      "dfdf\n"
     ]
    }
   ],
   "source": [
    "a =     {('หวัด', 'นก'): 1.0816936740257084,\n",
    "        ('นก', ' '): 0.3468872021416375,\n",
    "        (' ', 'อีก'): 0.003166772091205391}\n",
    "\n",
    "# print(len(a['หวัด', 'นก']))\n",
    "print(a['นก', ' '])\n",
    "if ('นก', ' ') in a :\n",
    "    print(\"dfdf\")\n"
   ]
  },
  {
   "cell_type": "code",
   "execution_count": 13,
   "metadata": {},
   "outputs": [
    {
     "name": "stdout",
     "output_type": "stream",
     "text": [
      "0\n"
     ]
    }
   ],
   "source": [
    "a = 3%3\n",
    "print(a)"
   ]
  },
  {
   "cell_type": "code",
   "execution_count": 3,
   "metadata": {},
   "outputs": [
    {
     "name": "stdout",
     "output_type": "stream",
     "text": [
      "[1, 2]\n"
     ]
    }
   ],
   "source": [
    "a=[]\n",
    "a += [1]\n",
    "a += [2]\n",
    "print(a)"
   ]
  },
  {
   "cell_type": "code",
   "execution_count": 7,
   "metadata": {},
   "outputs": [
    {
     "name": "stdout",
     "output_type": "stream",
     "text": [
      "สงสัย|ติด|หวัด|นก| |อีก|คน|ยัง|น่า|ห่วง\n",
      "ขณะ|นี้|ยัง|ไม่|ดี|ขึ้น\n"
     ]
    }
   ],
   "source": [
    "train1 = ['สงสัย|ติด|หวัด|นก| |อีก|คน|ยัง|น่า|ห่วง', 'ขณะ|นี้|ยัง|ไม่|ดี|ขึ้น']\n",
    "train1 = '\\n'.join(train1)\n",
    "print(train1)"
   ]
  },
  {
   "cell_type": "code",
   "execution_count": 9,
   "metadata": {},
   "outputs": [
    {
     "name": "stdout",
     "output_type": "stream",
     "text": [
      "2\n",
      "7\n"
     ]
    }
   ],
   "source": [
    "print(int(4.5/2))\n",
    "print(15//2)"
   ]
  },
  {
   "cell_type": "code",
   "execution_count": 2,
   "metadata": {},
   "outputs": [
    {
     "name": "stdout",
     "output_type": "stream",
     "text": [
      "0\n",
      "3\n",
      "3\n",
      "3\n",
      "3\n",
      "3\n",
      "3\n",
      "3\n",
      "3\n",
      "3\n",
      "3\n",
      "[1, 1, 1, 1, 1, 1, 1, 1, 1, 0]\n",
      "[('หน้า', 3)]\n"
     ]
    }
   ],
   "source": [
    "word_count = [('หน้า', 3), ('หลัก', 1), ('วิกิพีเดีย', 1), ('ดำเนินการ', 1), ('โดย', 1), ('มูลนิธิ', 1), ('วิกิ', 1), ('มีเดีย', 1), ('องค์กร', 1), ('ไม่', 1), ('UNK', 0)]\n",
    "rare_word = [rare for rare in word_count if rare[:][1] <=1]\n",
    "# print(rare_word)\n",
    "rare = list()\n",
    "the_most = list()\n",
    "Max = 0\n",
    "for i in word_count : \n",
    "    if i[:][1] <=1:\n",
    "        rare += [i[:][1]] \n",
    "    print(Max)\n",
    "    if i[:][1] > Max:\n",
    "        Max = i[:][1]\n",
    "        the_most = list()\n",
    "    if i[:][1] == Max:\n",
    "        the_most += [i]\n",
    "        \n",
    "print(rare)\n",
    "print(the_most)\n",
    "# print(word_count[:5][1])\n",
    "# print(max(word_count[:][1]))\n"
   ]
  },
  {
   "cell_type": "code",
   "execution_count": 15,
   "metadata": {},
   "outputs": [
    {
     "name": "stdout",
     "output_type": "stream",
     "text": [
      "Word_count\t: [('หน้า', 3), ('หลัก', 1), ('วิกิพีเดีย', 1), ('ดำเนินการ', 1), ('โดย', 1), ('มูลนิธิ', 1), ('วิกิ', 1), ('มีเดีย', 1), ('องค์กร', 1), ('ไม่', 1), ('UNK', 0)]\n",
      "Word_count\t: [('หลัก', 1), ('วิกิพีเดีย', 1), ('ดำเนินการ', 1), ('โดย', 1), ('มูลนิธิ', 1), ('วิกิ', 1), ('มีเดีย', 1), ('องค์กร', 1), ('ไม่', 1), ('UNK', 0)]\n"
     ]
    },
    {
     "ename": "TypeError",
     "evalue": "'tuple' object does not support item assignment",
     "output_type": "error",
     "traceback": [
      "\u001b[1;31m---------------------------------------------------------------------------\u001b[0m",
      "\u001b[1;31mTypeError\u001b[0m                                 Traceback (most recent call last)",
      "\u001b[1;32md:\\FRA501-NLP\\HW2\\test.ipynb Cell 20\u001b[0m in \u001b[0;36m<cell line: 14>\u001b[1;34m()\u001b[0m\n\u001b[0;32m     <a href='vscode-notebook-cell:/d%3A/FRA501-NLP/HW2/test.ipynb#X24sZmlsZQ%3D%3D?line=11'>12</a>\u001b[0m word_count \u001b[39m=\u001b[39m [(word, count) \u001b[39mfor\u001b[39;00m word, count \u001b[39min\u001b[39;00m word_count \u001b[39mif\u001b[39;00m word \u001b[39m!=\u001b[39m \u001b[39m'\u001b[39m\u001b[39mหน้า\u001b[39m\u001b[39m'\u001b[39m]\n\u001b[0;32m     <a href='vscode-notebook-cell:/d%3A/FRA501-NLP/HW2/test.ipynb#X24sZmlsZQ%3D%3D?line=12'>13</a>\u001b[0m \u001b[39mprint\u001b[39m(\u001b[39m'\u001b[39m\u001b[39mWord_count\u001b[39m\u001b[39m\\t\u001b[39;00m\u001b[39m:\u001b[39m\u001b[39m'\u001b[39m,word_count) \n\u001b[1;32m---> <a href='vscode-notebook-cell:/d%3A/FRA501-NLP/HW2/test.ipynb#X24sZmlsZQ%3D%3D?line=13'>14</a>\u001b[0m word_count[\u001b[39m1\u001b[39m][\u001b[39m1\u001b[39m] \u001b[39m=\u001b[39m \u001b[39m10\u001b[39m\n\u001b[0;32m     <a href='vscode-notebook-cell:/d%3A/FRA501-NLP/HW2/test.ipynb#X24sZmlsZQ%3D%3D?line=14'>15</a>\u001b[0m \u001b[39mprint\u001b[39m(\u001b[39m'\u001b[39m\u001b[39mWord_count\u001b[39m\u001b[39m\\t\u001b[39;00m\u001b[39m:\u001b[39m\u001b[39m'\u001b[39m,word_count)\n",
      "\u001b[1;31mTypeError\u001b[0m: 'tuple' object does not support item assignment"
     ]
    }
   ],
   "source": [
    "import collections\n",
    "tokens = ['หน้า','หน้า','หน้า', 'หลัก', 'วิกิพีเดีย', 'ดำเนินการ', 'โดย', 'มูลนิธิ', 'วิกิ', 'มีเดีย', 'องค์กร', 'ไม่']\n",
    "words = [word for word in tokens ]\n",
    "word_count = list()\n",
    "#use set and len to get the number of unique words\n",
    "word_count.extend(collections.Counter(words).most_common(len(set(words))))      #Counter(words) in list(word)\n",
    "#include a token for unknown word\n",
    "word_count.append((\"UNK\",0))\n",
    "#print out 10 most frequent words\n",
    "print('Word_count\\t:',word_count[:11]) \n",
    "\n",
    "word_count = [(word, count) for word, count in word_count if word != 'หน้า']\n",
    "print('Word_count\\t:',word_count) \n",
    "word_count[1][1] = 10\n",
    "print('Word_count\\t:',word_count) "
   ]
  },
  {
   "cell_type": "code",
   "execution_count": 5,
   "metadata": {},
   "outputs": [
    {
     "name": "stdout",
     "output_type": "stream",
     "text": [
      "5\n"
     ]
    }
   ],
   "source": [
    "a = [1,1,1,1,1]\n",
    "print(len(a))"
   ]
  },
  {
   "cell_type": "code",
   "execution_count": 20,
   "metadata": {},
   "outputs": [
    {
     "ename": "KeyError",
     "evalue": "'1'",
     "output_type": "error",
     "traceback": [
      "\u001b[1;31m---------------------------------------------------------------------------\u001b[0m",
      "\u001b[1;31mKeyError\u001b[0m                                  Traceback (most recent call last)",
      "\u001b[1;32md:\\FRA501-NLP\\HW2\\test.ipynb Cell 22\u001b[0m in \u001b[0;36m<cell line: 2>\u001b[1;34m()\u001b[0m\n\u001b[0;32m      <a href='vscode-notebook-cell:/d%3A/FRA501-NLP/HW2/test.ipynb#X30sZmlsZQ%3D%3D?line=0'>1</a>\u001b[0m tokens \u001b[39m=\u001b[39m {\u001b[39m'\u001b[39m\u001b[39mหน้า\u001b[39m\u001b[39m'\u001b[39m: \u001b[39m3\u001b[39m, \u001b[39m'\u001b[39m\u001b[39mหลัก\u001b[39m\u001b[39m'\u001b[39m: \u001b[39m1\u001b[39m}\n\u001b[1;32m----> <a href='vscode-notebook-cell:/d%3A/FRA501-NLP/HW2/test.ipynb#X30sZmlsZQ%3D%3D?line=1'>2</a>\u001b[0m \u001b[39mprint\u001b[39m(tokens[\u001b[39m'\u001b[39;49m\u001b[39m1\u001b[39;49m\u001b[39m'\u001b[39;49m])\n",
      "\u001b[1;31mKeyError\u001b[0m: '1'"
     ]
    }
   ],
   "source": [
    "tokens = {'หน้า': 3, 'หลัก': 1}\n",
    "print(tokens['1'])"
   ]
  },
  {
   "cell_type": "code",
   "execution_count": 24,
   "metadata": {},
   "outputs": [
    {
     "ename": "TypeError",
     "evalue": "tuple indices must be integers or slices, not str",
     "output_type": "error",
     "traceback": [
      "\u001b[1;31m---------------------------------------------------------------------------\u001b[0m",
      "\u001b[1;31mTypeError\u001b[0m                                 Traceback (most recent call last)",
      "\u001b[1;32md:\\FRA501-NLP\\HW2\\test.ipynb Cell 23\u001b[0m in \u001b[0;36m<cell line: 2>\u001b[1;34m()\u001b[0m\n\u001b[0;32m      <a href='vscode-notebook-cell:/d%3A/FRA501-NLP/HW2/test.ipynb#X31sZmlsZQ%3D%3D?line=0'>1</a>\u001b[0m Word_count\t\u001b[39m=\u001b[39m [(\u001b[39m'\u001b[39m\u001b[39mหน้า\u001b[39m\u001b[39m'\u001b[39m, \u001b[39m3\u001b[39m), (\u001b[39m'\u001b[39m\u001b[39mหลัก\u001b[39m\u001b[39m'\u001b[39m, \u001b[39m1\u001b[39m), (\u001b[39m'\u001b[39m\u001b[39mวิกิพีเดีย\u001b[39m\u001b[39m'\u001b[39m, \u001b[39m1\u001b[39m), (\u001b[39m'\u001b[39m\u001b[39mดำเนินการ\u001b[39m\u001b[39m'\u001b[39m, \u001b[39m1\u001b[39m), (\u001b[39m'\u001b[39m\u001b[39mโดย\u001b[39m\u001b[39m'\u001b[39m, \u001b[39m1\u001b[39m), (\u001b[39m'\u001b[39m\u001b[39mมูลนิธิ\u001b[39m\u001b[39m'\u001b[39m, \u001b[39m1\u001b[39m), (\u001b[39m'\u001b[39m\u001b[39mวิกิ\u001b[39m\u001b[39m'\u001b[39m, \u001b[39m1\u001b[39m), (\u001b[39m'\u001b[39m\u001b[39mมีเดีย\u001b[39m\u001b[39m'\u001b[39m, \u001b[39m1\u001b[39m), (\u001b[39m'\u001b[39m\u001b[39mองค์กร\u001b[39m\u001b[39m'\u001b[39m, \u001b[39m1\u001b[39m), (\u001b[39m'\u001b[39m\u001b[39mไม่\u001b[39m\u001b[39m'\u001b[39m, \u001b[39m1\u001b[39m), (\u001b[39m'\u001b[39m\u001b[39mUNK\u001b[39m\u001b[39m'\u001b[39m, \u001b[39m0\u001b[39m)]\n\u001b[1;32m----> <a href='vscode-notebook-cell:/d%3A/FRA501-NLP/HW2/test.ipynb#X31sZmlsZQ%3D%3D?line=1'>2</a>\u001b[0m \u001b[39mprint\u001b[39m(Word_count[\u001b[39m1\u001b[39;49m][\u001b[39m'\u001b[39;49m\u001b[39mหลัก\u001b[39;49m\u001b[39m'\u001b[39;49m])\n",
      "\u001b[1;31mTypeError\u001b[0m: tuple indices must be integers or slices, not str"
     ]
    }
   ],
   "source": [
    "Word_count\t= [('หน้า', 3), ('หลัก', 1), ('วิกิพีเดีย', 1), ('ดำเนินการ', 1), ('โดย', 1), ('มูลนิธิ', 1), ('วิกิ', 1), ('มีเดีย', 1), ('องค์กร', 1), ('ไม่', 1), ('UNK', 0)]\n",
    "print(Word_count[1]['หลัก'])"
   ]
  }
 ],
 "metadata": {
  "kernelspec": {
   "display_name": "base",
   "language": "python",
   "name": "python3"
  },
  "language_info": {
   "codemirror_mode": {
    "name": "ipython",
    "version": 3
   },
   "file_extension": ".py",
   "mimetype": "text/x-python",
   "name": "python",
   "nbconvert_exporter": "python",
   "pygments_lexer": "ipython3",
   "version": "3.9.12"
  },
  "orig_nbformat": 4,
  "vscode": {
   "interpreter": {
    "hash": "929163599431c7b3e753eb9c75a6800fa8c5c72fb3910ee126ea89c879162a29"
   }
  }
 },
 "nbformat": 4,
 "nbformat_minor": 2
}

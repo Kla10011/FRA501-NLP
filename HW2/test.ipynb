{
 "cells": [
  {
   "cell_type": "code",
   "execution_count": 8,
   "metadata": {},
   "outputs": [
    {
     "name": "stdout",
     "output_type": "stream",
     "text": [
      "[[1, 1], [2], 3, 4]\n",
      "[[1, 1], [2], 3]\n"
     ]
    }
   ],
   "source": [
    "best = [[1,1],[2],3,4]\n",
    "print(best)\n",
    "print(best[:3])"
   ]
  },
  {
   "cell_type": "code",
   "execution_count": 12,
   "metadata": {},
   "outputs": [
    {
     "name": "stdout",
     "output_type": "stream",
     "text": [
      "{'klaza'}\n",
      "{'5151', 'klaza'}\n",
      "{'5151', 'klaza'}\n",
      "<class 'set'>\n",
      "<class 'list'>\n",
      "['5151', 'klaza']\n"
     ]
    }
   ],
   "source": [
    "all_vocabulary =set()\n",
    "word = \"klaza\"\n",
    "all_vocabulary.add(word)\n",
    "print(all_vocabulary)\n",
    "word = \"5151\"\n",
    "all_vocabulary.add(word)\n",
    "print(all_vocabulary)\n",
    "word = \"klaza\"\n",
    "all_vocabulary.add(word)\n",
    "print(all_vocabulary)\n",
    "print(type(all_vocabulary))\n",
    "print(type(list(all_vocabulary)))\n",
    "print(list(all_vocabulary))"
   ]
  },
  {
   "cell_type": "code",
   "execution_count": 6,
   "metadata": {},
   "outputs": [],
   "source": [
    "def uu(gg=1,kk=1):\n",
    "    a = gg*(kk*kk)\n",
    "    return a \n"
   ]
  },
  {
   "cell_type": "code",
   "execution_count": 8,
   "metadata": {},
   "outputs": [
    {
     "data": {
      "text/plain": [
       "5"
      ]
     },
     "execution_count": 8,
     "metadata": {},
     "output_type": "execute_result"
    }
   ],
   "source": [
    "uu(gg=5)"
   ]
  }
 ],
 "metadata": {
  "kernelspec": {
   "display_name": "base",
   "language": "python",
   "name": "python3"
  },
  "language_info": {
   "codemirror_mode": {
    "name": "ipython",
    "version": 3
   },
   "file_extension": ".py",
   "mimetype": "text/x-python",
   "name": "python",
   "nbconvert_exporter": "python",
   "pygments_lexer": "ipython3",
   "version": "3.9.12"
  },
  "orig_nbformat": 4,
  "vscode": {
   "interpreter": {
    "hash": "ad2bdc8ecc057115af97d19610ffacc2b4e99fae6737bb82f5d7fb13d2f2c186"
   }
  }
 },
 "nbformat": 4,
 "nbformat_minor": 2
}

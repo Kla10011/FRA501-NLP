{
  "nbformat": 4,
  "nbformat_minor": 0,
  "metadata": {
    "kernelspec": {
      "display_name": "Python 3",
      "language": "python",
      "name": "python3"
    },
    "language_info": {
      "codemirror_mode": {
        "name": "ipython",
        "version": 3
      },
      "file_extension": ".py",
      "mimetype": "text/x-python",
      "name": "python",
      "nbconvert_exporter": "python",
      "pygments_lexer": "ipython3",
      "version": "3.6.1"
    },
    "colab": {
      "provenance": []
    }
  },
  "cells": [
    {
      "cell_type": "code",
      "source": [
        "from google.colab import drive\n",
        "drive.mount('/content/drive')"
      ],
      "metadata": {
        "colab": {
          "base_uri": "https://localhost:8080/"
        },
        "id": "A1u2swSDulgY",
        "outputId": "850a8b41-284f-4d5f-d6fc-e10666ccccb9"
      },
      "execution_count": null,
      "outputs": [
        {
          "output_type": "stream",
          "name": "stdout",
          "text": [
            "Mounted at /content/drive\n"
          ]
        }
      ]
    },
    {
      "cell_type": "code",
      "source": [
        "import shutil\n",
        "shutil.copy(\"/content/drive/MyDrive/FRA 501 IntroNLP&DL/Dataset/clean-phone-data.csv\", \"/content/clean-phone-data.csv\")"
      ],
      "metadata": {
        "colab": {
          "base_uri": "https://localhost:8080/",
          "height": 35
        },
        "id": "VbgXabHgupYg",
        "outputId": "2c0920b4-2690-4f68-a8da-c805e1bfcee3"
      },
      "execution_count": null,
      "outputs": [
        {
          "output_type": "execute_result",
          "data": {
            "text/plain": [
              "'/content/clean-phone-data.csv'"
            ],
            "application/vnd.google.colaboratory.intrinsic+json": {
              "type": "string"
            }
          },
          "metadata": {},
          "execution_count": 2
        }
      ]
    },
    {
      "cell_type": "code",
      "metadata": {
        "id": "O0KyVj-imLXq"
      },
      "source": [
        "%matplotlib inline\n",
        "import pandas\n",
        "import sklearn\n",
        "import numpy as np\n",
        "from IPython.display import display\n",
        "\n",
        "import matplotlib.pyplot as plt"
      ],
      "execution_count": null,
      "outputs": []
    },
    {
      "cell_type": "markdown",
      "metadata": {
        "id": "o-EPKojEmLXv"
      },
      "source": [
        "## Loading data\n",
        "First, we load the data from disk into a Dataframe.\n",
        "\n",
        "A Dataframe is essentially a table, or 2D-array/Matrix with a name for each column.\n",
        "\n",
        "**Note: the data is provided courtesy of TrueVoice and must be used for educational purposes only**"
      ]
    },
    {
      "cell_type": "code",
      "metadata": {
        "id": "SNFUIdt3mLXw"
      },
      "source": [
        "phone_df = pandas.read_csv('clean-phone-data.csv')"
      ],
      "execution_count": null,
      "outputs": []
    },
    {
      "cell_type": "markdown",
      "metadata": {
        "id": "9Z9PN1oPmLX0"
      },
      "source": [
        "Let's preview the data."
      ]
    },
    {
      "cell_type": "code",
      "metadata": {
        "id": "IOopId3qmLX2",
        "colab": {
          "base_uri": "https://localhost:8080/",
          "height": 363
        },
        "outputId": "bd62678b-c3a0-4d9a-9441-c73513527e6d"
      },
      "source": [
        "# Show the top 5 rows\n",
        "display(phone_df.head())\n",
        "# Summarize the data\n",
        "phone_df.describe()"
      ],
      "execution_count": null,
      "outputs": [
        {
          "output_type": "display_data",
          "data": {
            "text/plain": [
              "                                  Sentence Utterance   Action        Object\n",
              "0   <PHONE_NUMBER_REMOVED> ผมไปจ่ายเงินที่ Counte...  enquire       payment\n",
              "1               internet ยังความเร็วอยุ่เท่าไหร ครับ  enquire       package\n",
              "2   ตะกี้ไปชำระค่าบริการไปแล้ว แต่ยังใช้งานไม่ได้...   report       suspend\n",
              "3   พี่ค่ะยังใช้ internet ไม่ได้เลยค่ะ เป็นเครื่อ...  enquire      internet\n",
              "4   ฮาโหล คะ พอดีว่าเมื่อวานเปิดซิมทรูมูฟ แต่มันโ...   report  phone_issues"
            ],
            "text/html": [
              "\n",
              "  <div id=\"df-57df015a-6964-4b40-abed-284b101b8b56\">\n",
              "    <div class=\"colab-df-container\">\n",
              "      <div>\n",
              "<style scoped>\n",
              "    .dataframe tbody tr th:only-of-type {\n",
              "        vertical-align: middle;\n",
              "    }\n",
              "\n",
              "    .dataframe tbody tr th {\n",
              "        vertical-align: top;\n",
              "    }\n",
              "\n",
              "    .dataframe thead th {\n",
              "        text-align: right;\n",
              "    }\n",
              "</style>\n",
              "<table border=\"1\" class=\"dataframe\">\n",
              "  <thead>\n",
              "    <tr style=\"text-align: right;\">\n",
              "      <th></th>\n",
              "      <th>Sentence Utterance</th>\n",
              "      <th>Action</th>\n",
              "      <th>Object</th>\n",
              "    </tr>\n",
              "  </thead>\n",
              "  <tbody>\n",
              "    <tr>\n",
              "      <th>0</th>\n",
              "      <td>&lt;PHONE_NUMBER_REMOVED&gt; ผมไปจ่ายเงินที่ Counte...</td>\n",
              "      <td>enquire</td>\n",
              "      <td>payment</td>\n",
              "    </tr>\n",
              "    <tr>\n",
              "      <th>1</th>\n",
              "      <td>internet ยังความเร็วอยุ่เท่าไหร ครับ</td>\n",
              "      <td>enquire</td>\n",
              "      <td>package</td>\n",
              "    </tr>\n",
              "    <tr>\n",
              "      <th>2</th>\n",
              "      <td>ตะกี้ไปชำระค่าบริการไปแล้ว แต่ยังใช้งานไม่ได้...</td>\n",
              "      <td>report</td>\n",
              "      <td>suspend</td>\n",
              "    </tr>\n",
              "    <tr>\n",
              "      <th>3</th>\n",
              "      <td>พี่ค่ะยังใช้ internet ไม่ได้เลยค่ะ เป็นเครื่อ...</td>\n",
              "      <td>enquire</td>\n",
              "      <td>internet</td>\n",
              "    </tr>\n",
              "    <tr>\n",
              "      <th>4</th>\n",
              "      <td>ฮาโหล คะ พอดีว่าเมื่อวานเปิดซิมทรูมูฟ แต่มันโ...</td>\n",
              "      <td>report</td>\n",
              "      <td>phone_issues</td>\n",
              "    </tr>\n",
              "  </tbody>\n",
              "</table>\n",
              "</div>\n",
              "      <button class=\"colab-df-convert\" onclick=\"convertToInteractive('df-57df015a-6964-4b40-abed-284b101b8b56')\"\n",
              "              title=\"Convert this dataframe to an interactive table.\"\n",
              "              style=\"display:none;\">\n",
              "        \n",
              "  <svg xmlns=\"http://www.w3.org/2000/svg\" height=\"24px\"viewBox=\"0 0 24 24\"\n",
              "       width=\"24px\">\n",
              "    <path d=\"M0 0h24v24H0V0z\" fill=\"none\"/>\n",
              "    <path d=\"M18.56 5.44l.94 2.06.94-2.06 2.06-.94-2.06-.94-.94-2.06-.94 2.06-2.06.94zm-11 1L8.5 8.5l.94-2.06 2.06-.94-2.06-.94L8.5 2.5l-.94 2.06-2.06.94zm10 10l.94 2.06.94-2.06 2.06-.94-2.06-.94-.94-2.06-.94 2.06-2.06.94z\"/><path d=\"M17.41 7.96l-1.37-1.37c-.4-.4-.92-.59-1.43-.59-.52 0-1.04.2-1.43.59L10.3 9.45l-7.72 7.72c-.78.78-.78 2.05 0 2.83L4 21.41c.39.39.9.59 1.41.59.51 0 1.02-.2 1.41-.59l7.78-7.78 2.81-2.81c.8-.78.8-2.07 0-2.86zM5.41 20L4 18.59l7.72-7.72 1.47 1.35L5.41 20z\"/>\n",
              "  </svg>\n",
              "      </button>\n",
              "      \n",
              "  <style>\n",
              "    .colab-df-container {\n",
              "      display:flex;\n",
              "      flex-wrap:wrap;\n",
              "      gap: 12px;\n",
              "    }\n",
              "\n",
              "    .colab-df-convert {\n",
              "      background-color: #E8F0FE;\n",
              "      border: none;\n",
              "      border-radius: 50%;\n",
              "      cursor: pointer;\n",
              "      display: none;\n",
              "      fill: #1967D2;\n",
              "      height: 32px;\n",
              "      padding: 0 0 0 0;\n",
              "      width: 32px;\n",
              "    }\n",
              "\n",
              "    .colab-df-convert:hover {\n",
              "      background-color: #E2EBFA;\n",
              "      box-shadow: 0px 1px 2px rgba(60, 64, 67, 0.3), 0px 1px 3px 1px rgba(60, 64, 67, 0.15);\n",
              "      fill: #174EA6;\n",
              "    }\n",
              "\n",
              "    [theme=dark] .colab-df-convert {\n",
              "      background-color: #3B4455;\n",
              "      fill: #D2E3FC;\n",
              "    }\n",
              "\n",
              "    [theme=dark] .colab-df-convert:hover {\n",
              "      background-color: #434B5C;\n",
              "      box-shadow: 0px 1px 3px 1px rgba(0, 0, 0, 0.15);\n",
              "      filter: drop-shadow(0px 1px 2px rgba(0, 0, 0, 0.3));\n",
              "      fill: #FFFFFF;\n",
              "    }\n",
              "  </style>\n",
              "\n",
              "      <script>\n",
              "        const buttonEl =\n",
              "          document.querySelector('#df-57df015a-6964-4b40-abed-284b101b8b56 button.colab-df-convert');\n",
              "        buttonEl.style.display =\n",
              "          google.colab.kernel.accessAllowed ? 'block' : 'none';\n",
              "\n",
              "        async function convertToInteractive(key) {\n",
              "          const element = document.querySelector('#df-57df015a-6964-4b40-abed-284b101b8b56');\n",
              "          const dataTable =\n",
              "            await google.colab.kernel.invokeFunction('convertToInteractive',\n",
              "                                                     [key], {});\n",
              "          if (!dataTable) return;\n",
              "\n",
              "          const docLinkHtml = 'Like what you see? Visit the ' +\n",
              "            '<a target=\"_blank\" href=https://colab.research.google.com/notebooks/data_table.ipynb>data table notebook</a>'\n",
              "            + ' to learn more about interactive tables.';\n",
              "          element.innerHTML = '';\n",
              "          dataTable['output_type'] = 'display_data';\n",
              "          await google.colab.output.renderOutput(dataTable, element);\n",
              "          const docLink = document.createElement('div');\n",
              "          docLink.innerHTML = docLinkHtml;\n",
              "          element.appendChild(docLink);\n",
              "        }\n",
              "      </script>\n",
              "    </div>\n",
              "  </div>\n",
              "  "
            ]
          },
          "metadata": {}
        },
        {
          "output_type": "execute_result",
          "data": {
            "text/plain": [
              "       Sentence Utterance   Action   Object\n",
              "count               16175    16175    16175\n",
              "unique              13389       10       33\n",
              "top           บริการอื่นๆ  enquire  service\n",
              "freq                   97    10377     2525"
            ],
            "text/html": [
              "\n",
              "  <div id=\"df-3bbb7191-ee5e-4b16-94e5-ad236336152c\">\n",
              "    <div class=\"colab-df-container\">\n",
              "      <div>\n",
              "<style scoped>\n",
              "    .dataframe tbody tr th:only-of-type {\n",
              "        vertical-align: middle;\n",
              "    }\n",
              "\n",
              "    .dataframe tbody tr th {\n",
              "        vertical-align: top;\n",
              "    }\n",
              "\n",
              "    .dataframe thead th {\n",
              "        text-align: right;\n",
              "    }\n",
              "</style>\n",
              "<table border=\"1\" class=\"dataframe\">\n",
              "  <thead>\n",
              "    <tr style=\"text-align: right;\">\n",
              "      <th></th>\n",
              "      <th>Sentence Utterance</th>\n",
              "      <th>Action</th>\n",
              "      <th>Object</th>\n",
              "    </tr>\n",
              "  </thead>\n",
              "  <tbody>\n",
              "    <tr>\n",
              "      <th>count</th>\n",
              "      <td>16175</td>\n",
              "      <td>16175</td>\n",
              "      <td>16175</td>\n",
              "    </tr>\n",
              "    <tr>\n",
              "      <th>unique</th>\n",
              "      <td>13389</td>\n",
              "      <td>10</td>\n",
              "      <td>33</td>\n",
              "    </tr>\n",
              "    <tr>\n",
              "      <th>top</th>\n",
              "      <td>บริการอื่นๆ</td>\n",
              "      <td>enquire</td>\n",
              "      <td>service</td>\n",
              "    </tr>\n",
              "    <tr>\n",
              "      <th>freq</th>\n",
              "      <td>97</td>\n",
              "      <td>10377</td>\n",
              "      <td>2525</td>\n",
              "    </tr>\n",
              "  </tbody>\n",
              "</table>\n",
              "</div>\n",
              "      <button class=\"colab-df-convert\" onclick=\"convertToInteractive('df-3bbb7191-ee5e-4b16-94e5-ad236336152c')\"\n",
              "              title=\"Convert this dataframe to an interactive table.\"\n",
              "              style=\"display:none;\">\n",
              "        \n",
              "  <svg xmlns=\"http://www.w3.org/2000/svg\" height=\"24px\"viewBox=\"0 0 24 24\"\n",
              "       width=\"24px\">\n",
              "    <path d=\"M0 0h24v24H0V0z\" fill=\"none\"/>\n",
              "    <path d=\"M18.56 5.44l.94 2.06.94-2.06 2.06-.94-2.06-.94-.94-2.06-.94 2.06-2.06.94zm-11 1L8.5 8.5l.94-2.06 2.06-.94-2.06-.94L8.5 2.5l-.94 2.06-2.06.94zm10 10l.94 2.06.94-2.06 2.06-.94-2.06-.94-.94-2.06-.94 2.06-2.06.94z\"/><path d=\"M17.41 7.96l-1.37-1.37c-.4-.4-.92-.59-1.43-.59-.52 0-1.04.2-1.43.59L10.3 9.45l-7.72 7.72c-.78.78-.78 2.05 0 2.83L4 21.41c.39.39.9.59 1.41.59.51 0 1.02-.2 1.41-.59l7.78-7.78 2.81-2.81c.8-.78.8-2.07 0-2.86zM5.41 20L4 18.59l7.72-7.72 1.47 1.35L5.41 20z\"/>\n",
              "  </svg>\n",
              "      </button>\n",
              "      \n",
              "  <style>\n",
              "    .colab-df-container {\n",
              "      display:flex;\n",
              "      flex-wrap:wrap;\n",
              "      gap: 12px;\n",
              "    }\n",
              "\n",
              "    .colab-df-convert {\n",
              "      background-color: #E8F0FE;\n",
              "      border: none;\n",
              "      border-radius: 50%;\n",
              "      cursor: pointer;\n",
              "      display: none;\n",
              "      fill: #1967D2;\n",
              "      height: 32px;\n",
              "      padding: 0 0 0 0;\n",
              "      width: 32px;\n",
              "    }\n",
              "\n",
              "    .colab-df-convert:hover {\n",
              "      background-color: #E2EBFA;\n",
              "      box-shadow: 0px 1px 2px rgba(60, 64, 67, 0.3), 0px 1px 3px 1px rgba(60, 64, 67, 0.15);\n",
              "      fill: #174EA6;\n",
              "    }\n",
              "\n",
              "    [theme=dark] .colab-df-convert {\n",
              "      background-color: #3B4455;\n",
              "      fill: #D2E3FC;\n",
              "    }\n",
              "\n",
              "    [theme=dark] .colab-df-convert:hover {\n",
              "      background-color: #434B5C;\n",
              "      box-shadow: 0px 1px 3px 1px rgba(0, 0, 0, 0.15);\n",
              "      filter: drop-shadow(0px 1px 2px rgba(0, 0, 0, 0.3));\n",
              "      fill: #FFFFFF;\n",
              "    }\n",
              "  </style>\n",
              "\n",
              "      <script>\n",
              "        const buttonEl =\n",
              "          document.querySelector('#df-3bbb7191-ee5e-4b16-94e5-ad236336152c button.colab-df-convert');\n",
              "        buttonEl.style.display =\n",
              "          google.colab.kernel.accessAllowed ? 'block' : 'none';\n",
              "\n",
              "        async function convertToInteractive(key) {\n",
              "          const element = document.querySelector('#df-3bbb7191-ee5e-4b16-94e5-ad236336152c');\n",
              "          const dataTable =\n",
              "            await google.colab.kernel.invokeFunction('convertToInteractive',\n",
              "                                                     [key], {});\n",
              "          if (!dataTable) return;\n",
              "\n",
              "          const docLinkHtml = 'Like what you see? Visit the ' +\n",
              "            '<a target=\"_blank\" href=https://colab.research.google.com/notebooks/data_table.ipynb>data table notebook</a>'\n",
              "            + ' to learn more about interactive tables.';\n",
              "          element.innerHTML = '';\n",
              "          dataTable['output_type'] = 'display_data';\n",
              "          await google.colab.output.renderOutput(dataTable, element);\n",
              "          const docLink = document.createElement('div');\n",
              "          docLink.innerHTML = docLinkHtml;\n",
              "          element.appendChild(docLink);\n",
              "        }\n",
              "      </script>\n",
              "    </div>\n",
              "  </div>\n",
              "  "
            ]
          },
          "metadata": {},
          "execution_count": 5
        }
      ]
    },
    {
      "cell_type": "markdown",
      "metadata": {
        "id": "mNmQxA7pmLX7"
      },
      "source": [
        "## Data cleaning\n",
        "\n",
        "We first select only the columns we are interested.\n",
        "\n",
        "For this example we will be training a model to predict the \"Object\" given a \"Sentence Utterance\". Thus we will be only selecting these two. Others can also be selected, but these two will serve as an example.\n",
        "\n",
        "We call the DataFrame.describe() again.\n",
        "Notice that there are 33 unique labels/classes that the model will try to predict.\n",
        "But there are unwanted duplications e.g. Idd,idd,lotalty_card,Lotalty_card"
      ]
    },
    {
      "cell_type": "code",
      "metadata": {
        "id": "1S-OurtXmLX8",
        "colab": {
          "base_uri": "https://localhost:8080/",
          "height": 296
        },
        "outputId": "d0b87333-c937-459d-a2ad-767b37ec96d5"
      },
      "source": [
        "data_df = phone_df[[\"Sentence Utterance\", \"Object\"]]\n",
        "data_df.columns = ['input', 'raw_label']\n",
        "display(data_df.describe())\n",
        "display(data_df.raw_label.unique())"
      ],
      "execution_count": null,
      "outputs": [
        {
          "output_type": "display_data",
          "data": {
            "text/plain": [
              "              input raw_label\n",
              "count         16175     16175\n",
              "unique        13389        33\n",
              "top     บริการอื่นๆ   service\n",
              "freq             97      2525"
            ],
            "text/html": [
              "\n",
              "  <div id=\"df-fd4345cf-24b3-4737-8f73-5f679924b6c9\">\n",
              "    <div class=\"colab-df-container\">\n",
              "      <div>\n",
              "<style scoped>\n",
              "    .dataframe tbody tr th:only-of-type {\n",
              "        vertical-align: middle;\n",
              "    }\n",
              "\n",
              "    .dataframe tbody tr th {\n",
              "        vertical-align: top;\n",
              "    }\n",
              "\n",
              "    .dataframe thead th {\n",
              "        text-align: right;\n",
              "    }\n",
              "</style>\n",
              "<table border=\"1\" class=\"dataframe\">\n",
              "  <thead>\n",
              "    <tr style=\"text-align: right;\">\n",
              "      <th></th>\n",
              "      <th>input</th>\n",
              "      <th>raw_label</th>\n",
              "    </tr>\n",
              "  </thead>\n",
              "  <tbody>\n",
              "    <tr>\n",
              "      <th>count</th>\n",
              "      <td>16175</td>\n",
              "      <td>16175</td>\n",
              "    </tr>\n",
              "    <tr>\n",
              "      <th>unique</th>\n",
              "      <td>13389</td>\n",
              "      <td>33</td>\n",
              "    </tr>\n",
              "    <tr>\n",
              "      <th>top</th>\n",
              "      <td>บริการอื่นๆ</td>\n",
              "      <td>service</td>\n",
              "    </tr>\n",
              "    <tr>\n",
              "      <th>freq</th>\n",
              "      <td>97</td>\n",
              "      <td>2525</td>\n",
              "    </tr>\n",
              "  </tbody>\n",
              "</table>\n",
              "</div>\n",
              "      <button class=\"colab-df-convert\" onclick=\"convertToInteractive('df-fd4345cf-24b3-4737-8f73-5f679924b6c9')\"\n",
              "              title=\"Convert this dataframe to an interactive table.\"\n",
              "              style=\"display:none;\">\n",
              "        \n",
              "  <svg xmlns=\"http://www.w3.org/2000/svg\" height=\"24px\"viewBox=\"0 0 24 24\"\n",
              "       width=\"24px\">\n",
              "    <path d=\"M0 0h24v24H0V0z\" fill=\"none\"/>\n",
              "    <path d=\"M18.56 5.44l.94 2.06.94-2.06 2.06-.94-2.06-.94-.94-2.06-.94 2.06-2.06.94zm-11 1L8.5 8.5l.94-2.06 2.06-.94-2.06-.94L8.5 2.5l-.94 2.06-2.06.94zm10 10l.94 2.06.94-2.06 2.06-.94-2.06-.94-.94-2.06-.94 2.06-2.06.94z\"/><path d=\"M17.41 7.96l-1.37-1.37c-.4-.4-.92-.59-1.43-.59-.52 0-1.04.2-1.43.59L10.3 9.45l-7.72 7.72c-.78.78-.78 2.05 0 2.83L4 21.41c.39.39.9.59 1.41.59.51 0 1.02-.2 1.41-.59l7.78-7.78 2.81-2.81c.8-.78.8-2.07 0-2.86zM5.41 20L4 18.59l7.72-7.72 1.47 1.35L5.41 20z\"/>\n",
              "  </svg>\n",
              "      </button>\n",
              "      \n",
              "  <style>\n",
              "    .colab-df-container {\n",
              "      display:flex;\n",
              "      flex-wrap:wrap;\n",
              "      gap: 12px;\n",
              "    }\n",
              "\n",
              "    .colab-df-convert {\n",
              "      background-color: #E8F0FE;\n",
              "      border: none;\n",
              "      border-radius: 50%;\n",
              "      cursor: pointer;\n",
              "      display: none;\n",
              "      fill: #1967D2;\n",
              "      height: 32px;\n",
              "      padding: 0 0 0 0;\n",
              "      width: 32px;\n",
              "    }\n",
              "\n",
              "    .colab-df-convert:hover {\n",
              "      background-color: #E2EBFA;\n",
              "      box-shadow: 0px 1px 2px rgba(60, 64, 67, 0.3), 0px 1px 3px 1px rgba(60, 64, 67, 0.15);\n",
              "      fill: #174EA6;\n",
              "    }\n",
              "\n",
              "    [theme=dark] .colab-df-convert {\n",
              "      background-color: #3B4455;\n",
              "      fill: #D2E3FC;\n",
              "    }\n",
              "\n",
              "    [theme=dark] .colab-df-convert:hover {\n",
              "      background-color: #434B5C;\n",
              "      box-shadow: 0px 1px 3px 1px rgba(0, 0, 0, 0.15);\n",
              "      filter: drop-shadow(0px 1px 2px rgba(0, 0, 0, 0.3));\n",
              "      fill: #FFFFFF;\n",
              "    }\n",
              "  </style>\n",
              "\n",
              "      <script>\n",
              "        const buttonEl =\n",
              "          document.querySelector('#df-fd4345cf-24b3-4737-8f73-5f679924b6c9 button.colab-df-convert');\n",
              "        buttonEl.style.display =\n",
              "          google.colab.kernel.accessAllowed ? 'block' : 'none';\n",
              "\n",
              "        async function convertToInteractive(key) {\n",
              "          const element = document.querySelector('#df-fd4345cf-24b3-4737-8f73-5f679924b6c9');\n",
              "          const dataTable =\n",
              "            await google.colab.kernel.invokeFunction('convertToInteractive',\n",
              "                                                     [key], {});\n",
              "          if (!dataTable) return;\n",
              "\n",
              "          const docLinkHtml = 'Like what you see? Visit the ' +\n",
              "            '<a target=\"_blank\" href=https://colab.research.google.com/notebooks/data_table.ipynb>data table notebook</a>'\n",
              "            + ' to learn more about interactive tables.';\n",
              "          element.innerHTML = '';\n",
              "          dataTable['output_type'] = 'display_data';\n",
              "          await google.colab.output.renderOutput(dataTable, element);\n",
              "          const docLink = document.createElement('div');\n",
              "          docLink.innerHTML = docLinkHtml;\n",
              "          element.appendChild(docLink);\n",
              "        }\n",
              "      </script>\n",
              "    </div>\n",
              "  </div>\n",
              "  "
            ]
          },
          "metadata": {}
        },
        {
          "output_type": "display_data",
          "data": {
            "text/plain": [
              "array(['payment', 'package', 'suspend', 'internet', 'phone_issues',\n",
              "       'service', 'nonTrueMove', 'balance', 'detail', 'bill', 'credit',\n",
              "       'promotion', 'mobile_setting', 'iservice', 'roaming', 'truemoney',\n",
              "       'information', 'lost_stolen', 'balance_minutes', 'idd',\n",
              "       'TrueMoney', 'garbage', 'Payment', 'IDD', 'ringtone', 'Idd',\n",
              "       'rate', 'loyalty_card', 'contact', 'officer', 'Balance', 'Service',\n",
              "       'Loyalty_card'], dtype=object)"
            ]
          },
          "metadata": {}
        }
      ]
    },
    {
      "cell_type": "markdown",
      "metadata": {
        "id": "TUryWhXsmLYA"
      },
      "source": [
        "### Removing duplicated labels\n",
        "\n",
        "from above, we can see that there are 33 unique labels\n",
        "\n",
        "But we want to make sure that these label are really unique from one another not just how capital letters are used"
      ]
    },
    {
      "cell_type": "code",
      "metadata": {
        "scrolled": false,
        "id": "2AyeEgH1mLYB",
        "colab": {
          "base_uri": "https://localhost:8080/",
          "height": 279
        },
        "outputId": "92d5626a-e512-4a7e-ab90-e1dd7801133c"
      },
      "source": [
        "data_df['clean_label']=data_df['raw_label'].str.lower().copy()\n",
        "display(data_df.describe())\n",
        "display(data_df.clean_label.unique())\n",
        "\n"
      ],
      "execution_count": null,
      "outputs": [
        {
          "output_type": "display_data",
          "data": {
            "text/plain": [
              "              input raw_label clean_label\n",
              "count         16175     16175       16175\n",
              "unique        13389        33          26\n",
              "top     บริการอื่นๆ   service     service\n",
              "freq             97      2525        2528"
            ],
            "text/html": [
              "\n",
              "  <div id=\"df-5c049a6e-4aa0-4418-9ba4-5b9b47a3b148\">\n",
              "    <div class=\"colab-df-container\">\n",
              "      <div>\n",
              "<style scoped>\n",
              "    .dataframe tbody tr th:only-of-type {\n",
              "        vertical-align: middle;\n",
              "    }\n",
              "\n",
              "    .dataframe tbody tr th {\n",
              "        vertical-align: top;\n",
              "    }\n",
              "\n",
              "    .dataframe thead th {\n",
              "        text-align: right;\n",
              "    }\n",
              "</style>\n",
              "<table border=\"1\" class=\"dataframe\">\n",
              "  <thead>\n",
              "    <tr style=\"text-align: right;\">\n",
              "      <th></th>\n",
              "      <th>input</th>\n",
              "      <th>raw_label</th>\n",
              "      <th>clean_label</th>\n",
              "    </tr>\n",
              "  </thead>\n",
              "  <tbody>\n",
              "    <tr>\n",
              "      <th>count</th>\n",
              "      <td>16175</td>\n",
              "      <td>16175</td>\n",
              "      <td>16175</td>\n",
              "    </tr>\n",
              "    <tr>\n",
              "      <th>unique</th>\n",
              "      <td>13389</td>\n",
              "      <td>33</td>\n",
              "      <td>26</td>\n",
              "    </tr>\n",
              "    <tr>\n",
              "      <th>top</th>\n",
              "      <td>บริการอื่นๆ</td>\n",
              "      <td>service</td>\n",
              "      <td>service</td>\n",
              "    </tr>\n",
              "    <tr>\n",
              "      <th>freq</th>\n",
              "      <td>97</td>\n",
              "      <td>2525</td>\n",
              "      <td>2528</td>\n",
              "    </tr>\n",
              "  </tbody>\n",
              "</table>\n",
              "</div>\n",
              "      <button class=\"colab-df-convert\" onclick=\"convertToInteractive('df-5c049a6e-4aa0-4418-9ba4-5b9b47a3b148')\"\n",
              "              title=\"Convert this dataframe to an interactive table.\"\n",
              "              style=\"display:none;\">\n",
              "        \n",
              "  <svg xmlns=\"http://www.w3.org/2000/svg\" height=\"24px\"viewBox=\"0 0 24 24\"\n",
              "       width=\"24px\">\n",
              "    <path d=\"M0 0h24v24H0V0z\" fill=\"none\"/>\n",
              "    <path d=\"M18.56 5.44l.94 2.06.94-2.06 2.06-.94-2.06-.94-.94-2.06-.94 2.06-2.06.94zm-11 1L8.5 8.5l.94-2.06 2.06-.94-2.06-.94L8.5 2.5l-.94 2.06-2.06.94zm10 10l.94 2.06.94-2.06 2.06-.94-2.06-.94-.94-2.06-.94 2.06-2.06.94z\"/><path d=\"M17.41 7.96l-1.37-1.37c-.4-.4-.92-.59-1.43-.59-.52 0-1.04.2-1.43.59L10.3 9.45l-7.72 7.72c-.78.78-.78 2.05 0 2.83L4 21.41c.39.39.9.59 1.41.59.51 0 1.02-.2 1.41-.59l7.78-7.78 2.81-2.81c.8-.78.8-2.07 0-2.86zM5.41 20L4 18.59l7.72-7.72 1.47 1.35L5.41 20z\"/>\n",
              "  </svg>\n",
              "      </button>\n",
              "      \n",
              "  <style>\n",
              "    .colab-df-container {\n",
              "      display:flex;\n",
              "      flex-wrap:wrap;\n",
              "      gap: 12px;\n",
              "    }\n",
              "\n",
              "    .colab-df-convert {\n",
              "      background-color: #E8F0FE;\n",
              "      border: none;\n",
              "      border-radius: 50%;\n",
              "      cursor: pointer;\n",
              "      display: none;\n",
              "      fill: #1967D2;\n",
              "      height: 32px;\n",
              "      padding: 0 0 0 0;\n",
              "      width: 32px;\n",
              "    }\n",
              "\n",
              "    .colab-df-convert:hover {\n",
              "      background-color: #E2EBFA;\n",
              "      box-shadow: 0px 1px 2px rgba(60, 64, 67, 0.3), 0px 1px 3px 1px rgba(60, 64, 67, 0.15);\n",
              "      fill: #174EA6;\n",
              "    }\n",
              "\n",
              "    [theme=dark] .colab-df-convert {\n",
              "      background-color: #3B4455;\n",
              "      fill: #D2E3FC;\n",
              "    }\n",
              "\n",
              "    [theme=dark] .colab-df-convert:hover {\n",
              "      background-color: #434B5C;\n",
              "      box-shadow: 0px 1px 3px 1px rgba(0, 0, 0, 0.15);\n",
              "      filter: drop-shadow(0px 1px 2px rgba(0, 0, 0, 0.3));\n",
              "      fill: #FFFFFF;\n",
              "    }\n",
              "  </style>\n",
              "\n",
              "      <script>\n",
              "        const buttonEl =\n",
              "          document.querySelector('#df-5c049a6e-4aa0-4418-9ba4-5b9b47a3b148 button.colab-df-convert');\n",
              "        buttonEl.style.display =\n",
              "          google.colab.kernel.accessAllowed ? 'block' : 'none';\n",
              "\n",
              "        async function convertToInteractive(key) {\n",
              "          const element = document.querySelector('#df-5c049a6e-4aa0-4418-9ba4-5b9b47a3b148');\n",
              "          const dataTable =\n",
              "            await google.colab.kernel.invokeFunction('convertToInteractive',\n",
              "                                                     [key], {});\n",
              "          if (!dataTable) return;\n",
              "\n",
              "          const docLinkHtml = 'Like what you see? Visit the ' +\n",
              "            '<a target=\"_blank\" href=https://colab.research.google.com/notebooks/data_table.ipynb>data table notebook</a>'\n",
              "            + ' to learn more about interactive tables.';\n",
              "          element.innerHTML = '';\n",
              "          dataTable['output_type'] = 'display_data';\n",
              "          await google.colab.output.renderOutput(dataTable, element);\n",
              "          const docLink = document.createElement('div');\n",
              "          docLink.innerHTML = docLinkHtml;\n",
              "          element.appendChild(docLink);\n",
              "        }\n",
              "      </script>\n",
              "    </div>\n",
              "  </div>\n",
              "  "
            ]
          },
          "metadata": {}
        },
        {
          "output_type": "display_data",
          "data": {
            "text/plain": [
              "array(['payment', 'package', 'suspend', 'internet', 'phone_issues',\n",
              "       'service', 'nontruemove', 'balance', 'detail', 'bill', 'credit',\n",
              "       'promotion', 'mobile_setting', 'iservice', 'roaming', 'truemoney',\n",
              "       'information', 'lost_stolen', 'balance_minutes', 'idd', 'garbage',\n",
              "       'ringtone', 'rate', 'loyalty_card', 'contact', 'officer'],\n",
              "      dtype=object)"
            ]
          },
          "metadata": {}
        }
      ]
    },
    {
      "cell_type": "code",
      "metadata": {
        "id": "NMT25AvLmLYF",
        "colab": {
          "base_uri": "https://localhost:8080/",
          "height": 174
        },
        "outputId": "4c2585cb-f140-454d-8b2b-40826d6cbd50"
      },
      "source": [
        "#we no longer need raw_label column\n",
        "data_df.drop('raw_label', axis=1, inplace=True)\n",
        "display(data_df.describe())"
      ],
      "execution_count": null,
      "outputs": [
        {
          "output_type": "display_data",
          "data": {
            "text/plain": [
              "              input clean_label\n",
              "count         16175       16175\n",
              "unique        13389          26\n",
              "top     บริการอื่นๆ     service\n",
              "freq             97        2528"
            ],
            "text/html": [
              "\n",
              "  <div id=\"df-583db5ca-8cdb-4500-92ba-c11a9cf201a3\">\n",
              "    <div class=\"colab-df-container\">\n",
              "      <div>\n",
              "<style scoped>\n",
              "    .dataframe tbody tr th:only-of-type {\n",
              "        vertical-align: middle;\n",
              "    }\n",
              "\n",
              "    .dataframe tbody tr th {\n",
              "        vertical-align: top;\n",
              "    }\n",
              "\n",
              "    .dataframe thead th {\n",
              "        text-align: right;\n",
              "    }\n",
              "</style>\n",
              "<table border=\"1\" class=\"dataframe\">\n",
              "  <thead>\n",
              "    <tr style=\"text-align: right;\">\n",
              "      <th></th>\n",
              "      <th>input</th>\n",
              "      <th>clean_label</th>\n",
              "    </tr>\n",
              "  </thead>\n",
              "  <tbody>\n",
              "    <tr>\n",
              "      <th>count</th>\n",
              "      <td>16175</td>\n",
              "      <td>16175</td>\n",
              "    </tr>\n",
              "    <tr>\n",
              "      <th>unique</th>\n",
              "      <td>13389</td>\n",
              "      <td>26</td>\n",
              "    </tr>\n",
              "    <tr>\n",
              "      <th>top</th>\n",
              "      <td>บริการอื่นๆ</td>\n",
              "      <td>service</td>\n",
              "    </tr>\n",
              "    <tr>\n",
              "      <th>freq</th>\n",
              "      <td>97</td>\n",
              "      <td>2528</td>\n",
              "    </tr>\n",
              "  </tbody>\n",
              "</table>\n",
              "</div>\n",
              "      <button class=\"colab-df-convert\" onclick=\"convertToInteractive('df-583db5ca-8cdb-4500-92ba-c11a9cf201a3')\"\n",
              "              title=\"Convert this dataframe to an interactive table.\"\n",
              "              style=\"display:none;\">\n",
              "        \n",
              "  <svg xmlns=\"http://www.w3.org/2000/svg\" height=\"24px\"viewBox=\"0 0 24 24\"\n",
              "       width=\"24px\">\n",
              "    <path d=\"M0 0h24v24H0V0z\" fill=\"none\"/>\n",
              "    <path d=\"M18.56 5.44l.94 2.06.94-2.06 2.06-.94-2.06-.94-.94-2.06-.94 2.06-2.06.94zm-11 1L8.5 8.5l.94-2.06 2.06-.94-2.06-.94L8.5 2.5l-.94 2.06-2.06.94zm10 10l.94 2.06.94-2.06 2.06-.94-2.06-.94-.94-2.06-.94 2.06-2.06.94z\"/><path d=\"M17.41 7.96l-1.37-1.37c-.4-.4-.92-.59-1.43-.59-.52 0-1.04.2-1.43.59L10.3 9.45l-7.72 7.72c-.78.78-.78 2.05 0 2.83L4 21.41c.39.39.9.59 1.41.59.51 0 1.02-.2 1.41-.59l7.78-7.78 2.81-2.81c.8-.78.8-2.07 0-2.86zM5.41 20L4 18.59l7.72-7.72 1.47 1.35L5.41 20z\"/>\n",
              "  </svg>\n",
              "      </button>\n",
              "      \n",
              "  <style>\n",
              "    .colab-df-container {\n",
              "      display:flex;\n",
              "      flex-wrap:wrap;\n",
              "      gap: 12px;\n",
              "    }\n",
              "\n",
              "    .colab-df-convert {\n",
              "      background-color: #E8F0FE;\n",
              "      border: none;\n",
              "      border-radius: 50%;\n",
              "      cursor: pointer;\n",
              "      display: none;\n",
              "      fill: #1967D2;\n",
              "      height: 32px;\n",
              "      padding: 0 0 0 0;\n",
              "      width: 32px;\n",
              "    }\n",
              "\n",
              "    .colab-df-convert:hover {\n",
              "      background-color: #E2EBFA;\n",
              "      box-shadow: 0px 1px 2px rgba(60, 64, 67, 0.3), 0px 1px 3px 1px rgba(60, 64, 67, 0.15);\n",
              "      fill: #174EA6;\n",
              "    }\n",
              "\n",
              "    [theme=dark] .colab-df-convert {\n",
              "      background-color: #3B4455;\n",
              "      fill: #D2E3FC;\n",
              "    }\n",
              "\n",
              "    [theme=dark] .colab-df-convert:hover {\n",
              "      background-color: #434B5C;\n",
              "      box-shadow: 0px 1px 3px 1px rgba(0, 0, 0, 0.15);\n",
              "      filter: drop-shadow(0px 1px 2px rgba(0, 0, 0, 0.3));\n",
              "      fill: #FFFFFF;\n",
              "    }\n",
              "  </style>\n",
              "\n",
              "      <script>\n",
              "        const buttonEl =\n",
              "          document.querySelector('#df-583db5ca-8cdb-4500-92ba-c11a9cf201a3 button.colab-df-convert');\n",
              "        buttonEl.style.display =\n",
              "          google.colab.kernel.accessAllowed ? 'block' : 'none';\n",
              "\n",
              "        async function convertToInteractive(key) {\n",
              "          const element = document.querySelector('#df-583db5ca-8cdb-4500-92ba-c11a9cf201a3');\n",
              "          const dataTable =\n",
              "            await google.colab.kernel.invokeFunction('convertToInteractive',\n",
              "                                                     [key], {});\n",
              "          if (!dataTable) return;\n",
              "\n",
              "          const docLinkHtml = 'Like what you see? Visit the ' +\n",
              "            '<a target=\"_blank\" href=https://colab.research.google.com/notebooks/data_table.ipynb>data table notebook</a>'\n",
              "            + ' to learn more about interactive tables.';\n",
              "          element.innerHTML = '';\n",
              "          dataTable['output_type'] = 'display_data';\n",
              "          await google.colab.output.renderOutput(dataTable, element);\n",
              "          const docLink = document.createElement('div');\n",
              "          docLink.innerHTML = docLinkHtml;\n",
              "          element.appendChild(docLink);\n",
              "        }\n",
              "      </script>\n",
              "    </div>\n",
              "  </div>\n",
              "  "
            ]
          },
          "metadata": {}
        }
      ]
    },
    {
      "cell_type": "markdown",
      "metadata": {
        "id": "2HebsyA0mLYK"
      },
      "source": [
        "### Remove duplicates input\n",
        "\n",
        "There are some duplicates in the input of this dataset."
      ]
    },
    {
      "cell_type": "code",
      "metadata": {
        "id": "BnGAeEFmmLYL",
        "colab": {
          "base_uri": "https://localhost:8080/",
          "height": 174
        },
        "outputId": "61734274-befa-400e-e35c-77b045efbd9b"
      },
      "source": [
        "display(data_df.describe())"
      ],
      "execution_count": null,
      "outputs": [
        {
          "output_type": "display_data",
          "data": {
            "text/plain": [
              "              input clean_label\n",
              "count         16175       16175\n",
              "unique        13389          26\n",
              "top     บริการอื่นๆ     service\n",
              "freq             97        2528"
            ],
            "text/html": [
              "\n",
              "  <div id=\"df-0a7ce518-6351-4957-a818-527712f025c3\">\n",
              "    <div class=\"colab-df-container\">\n",
              "      <div>\n",
              "<style scoped>\n",
              "    .dataframe tbody tr th:only-of-type {\n",
              "        vertical-align: middle;\n",
              "    }\n",
              "\n",
              "    .dataframe tbody tr th {\n",
              "        vertical-align: top;\n",
              "    }\n",
              "\n",
              "    .dataframe thead th {\n",
              "        text-align: right;\n",
              "    }\n",
              "</style>\n",
              "<table border=\"1\" class=\"dataframe\">\n",
              "  <thead>\n",
              "    <tr style=\"text-align: right;\">\n",
              "      <th></th>\n",
              "      <th>input</th>\n",
              "      <th>clean_label</th>\n",
              "    </tr>\n",
              "  </thead>\n",
              "  <tbody>\n",
              "    <tr>\n",
              "      <th>count</th>\n",
              "      <td>16175</td>\n",
              "      <td>16175</td>\n",
              "    </tr>\n",
              "    <tr>\n",
              "      <th>unique</th>\n",
              "      <td>13389</td>\n",
              "      <td>26</td>\n",
              "    </tr>\n",
              "    <tr>\n",
              "      <th>top</th>\n",
              "      <td>บริการอื่นๆ</td>\n",
              "      <td>service</td>\n",
              "    </tr>\n",
              "    <tr>\n",
              "      <th>freq</th>\n",
              "      <td>97</td>\n",
              "      <td>2528</td>\n",
              "    </tr>\n",
              "  </tbody>\n",
              "</table>\n",
              "</div>\n",
              "      <button class=\"colab-df-convert\" onclick=\"convertToInteractive('df-0a7ce518-6351-4957-a818-527712f025c3')\"\n",
              "              title=\"Convert this dataframe to an interactive table.\"\n",
              "              style=\"display:none;\">\n",
              "        \n",
              "  <svg xmlns=\"http://www.w3.org/2000/svg\" height=\"24px\"viewBox=\"0 0 24 24\"\n",
              "       width=\"24px\">\n",
              "    <path d=\"M0 0h24v24H0V0z\" fill=\"none\"/>\n",
              "    <path d=\"M18.56 5.44l.94 2.06.94-2.06 2.06-.94-2.06-.94-.94-2.06-.94 2.06-2.06.94zm-11 1L8.5 8.5l.94-2.06 2.06-.94-2.06-.94L8.5 2.5l-.94 2.06-2.06.94zm10 10l.94 2.06.94-2.06 2.06-.94-2.06-.94-.94-2.06-.94 2.06-2.06.94z\"/><path d=\"M17.41 7.96l-1.37-1.37c-.4-.4-.92-.59-1.43-.59-.52 0-1.04.2-1.43.59L10.3 9.45l-7.72 7.72c-.78.78-.78 2.05 0 2.83L4 21.41c.39.39.9.59 1.41.59.51 0 1.02-.2 1.41-.59l7.78-7.78 2.81-2.81c.8-.78.8-2.07 0-2.86zM5.41 20L4 18.59l7.72-7.72 1.47 1.35L5.41 20z\"/>\n",
              "  </svg>\n",
              "      </button>\n",
              "      \n",
              "  <style>\n",
              "    .colab-df-container {\n",
              "      display:flex;\n",
              "      flex-wrap:wrap;\n",
              "      gap: 12px;\n",
              "    }\n",
              "\n",
              "    .colab-df-convert {\n",
              "      background-color: #E8F0FE;\n",
              "      border: none;\n",
              "      border-radius: 50%;\n",
              "      cursor: pointer;\n",
              "      display: none;\n",
              "      fill: #1967D2;\n",
              "      height: 32px;\n",
              "      padding: 0 0 0 0;\n",
              "      width: 32px;\n",
              "    }\n",
              "\n",
              "    .colab-df-convert:hover {\n",
              "      background-color: #E2EBFA;\n",
              "      box-shadow: 0px 1px 2px rgba(60, 64, 67, 0.3), 0px 1px 3px 1px rgba(60, 64, 67, 0.15);\n",
              "      fill: #174EA6;\n",
              "    }\n",
              "\n",
              "    [theme=dark] .colab-df-convert {\n",
              "      background-color: #3B4455;\n",
              "      fill: #D2E3FC;\n",
              "    }\n",
              "\n",
              "    [theme=dark] .colab-df-convert:hover {\n",
              "      background-color: #434B5C;\n",
              "      box-shadow: 0px 1px 3px 1px rgba(0, 0, 0, 0.15);\n",
              "      filter: drop-shadow(0px 1px 2px rgba(0, 0, 0, 0.3));\n",
              "      fill: #FFFFFF;\n",
              "    }\n",
              "  </style>\n",
              "\n",
              "      <script>\n",
              "        const buttonEl =\n",
              "          document.querySelector('#df-0a7ce518-6351-4957-a818-527712f025c3 button.colab-df-convert');\n",
              "        buttonEl.style.display =\n",
              "          google.colab.kernel.accessAllowed ? 'block' : 'none';\n",
              "\n",
              "        async function convertToInteractive(key) {\n",
              "          const element = document.querySelector('#df-0a7ce518-6351-4957-a818-527712f025c3');\n",
              "          const dataTable =\n",
              "            await google.colab.kernel.invokeFunction('convertToInteractive',\n",
              "                                                     [key], {});\n",
              "          if (!dataTable) return;\n",
              "\n",
              "          const docLinkHtml = 'Like what you see? Visit the ' +\n",
              "            '<a target=\"_blank\" href=https://colab.research.google.com/notebooks/data_table.ipynb>data table notebook</a>'\n",
              "            + ' to learn more about interactive tables.';\n",
              "          element.innerHTML = '';\n",
              "          dataTable['output_type'] = 'display_data';\n",
              "          await google.colab.output.renderOutput(dataTable, element);\n",
              "          const docLink = document.createElement('div');\n",
              "          docLink.innerHTML = docLinkHtml;\n",
              "          element.appendChild(docLink);\n",
              "        }\n",
              "      </script>\n",
              "    </div>\n",
              "  </div>\n",
              "  "
            ]
          },
          "metadata": {}
        }
      ]
    },
    {
      "cell_type": "markdown",
      "metadata": {
        "id": "pyC_wU0ZmLYO"
      },
      "source": [
        "As you can see above, we no longer have unwanted duplicated in our labels\n",
        "\n",
        "But there are still duplicates in our input. 7 rows with \"สอบถามยอดค้างชำระค่ะ\"\n",
        "\n",
        "We will remove them now, by keeping only the first entry."
      ]
    },
    {
      "cell_type": "code",
      "metadata": {
        "id": "R_l7QzTZmLYQ",
        "colab": {
          "base_uri": "https://localhost:8080/",
          "height": 174
        },
        "outputId": "8c0e7366-2dbd-4172-f567-c3d4602d4b60"
      },
      "source": [
        "data_df = data_df.drop_duplicates(\"input\", keep=\"first\")\n",
        "display(data_df.describe())"
      ],
      "execution_count": null,
      "outputs": [
        {
          "output_type": "display_data",
          "data": {
            "text/plain": [
              "                                                    input clean_label\n",
              "count                                               13389       13389\n",
              "unique                                              13389          26\n",
              "top      <PHONE_NUMBER_REMOVED> ผมไปจ่ายเงินที่ Counte...     service\n",
              "freq                                                    1        2111"
            ],
            "text/html": [
              "\n",
              "  <div id=\"df-a27d87ff-ba09-403a-a5c6-1700b4aabac6\">\n",
              "    <div class=\"colab-df-container\">\n",
              "      <div>\n",
              "<style scoped>\n",
              "    .dataframe tbody tr th:only-of-type {\n",
              "        vertical-align: middle;\n",
              "    }\n",
              "\n",
              "    .dataframe tbody tr th {\n",
              "        vertical-align: top;\n",
              "    }\n",
              "\n",
              "    .dataframe thead th {\n",
              "        text-align: right;\n",
              "    }\n",
              "</style>\n",
              "<table border=\"1\" class=\"dataframe\">\n",
              "  <thead>\n",
              "    <tr style=\"text-align: right;\">\n",
              "      <th></th>\n",
              "      <th>input</th>\n",
              "      <th>clean_label</th>\n",
              "    </tr>\n",
              "  </thead>\n",
              "  <tbody>\n",
              "    <tr>\n",
              "      <th>count</th>\n",
              "      <td>13389</td>\n",
              "      <td>13389</td>\n",
              "    </tr>\n",
              "    <tr>\n",
              "      <th>unique</th>\n",
              "      <td>13389</td>\n",
              "      <td>26</td>\n",
              "    </tr>\n",
              "    <tr>\n",
              "      <th>top</th>\n",
              "      <td>&lt;PHONE_NUMBER_REMOVED&gt; ผมไปจ่ายเงินที่ Counte...</td>\n",
              "      <td>service</td>\n",
              "    </tr>\n",
              "    <tr>\n",
              "      <th>freq</th>\n",
              "      <td>1</td>\n",
              "      <td>2111</td>\n",
              "    </tr>\n",
              "  </tbody>\n",
              "</table>\n",
              "</div>\n",
              "      <button class=\"colab-df-convert\" onclick=\"convertToInteractive('df-a27d87ff-ba09-403a-a5c6-1700b4aabac6')\"\n",
              "              title=\"Convert this dataframe to an interactive table.\"\n",
              "              style=\"display:none;\">\n",
              "        \n",
              "  <svg xmlns=\"http://www.w3.org/2000/svg\" height=\"24px\"viewBox=\"0 0 24 24\"\n",
              "       width=\"24px\">\n",
              "    <path d=\"M0 0h24v24H0V0z\" fill=\"none\"/>\n",
              "    <path d=\"M18.56 5.44l.94 2.06.94-2.06 2.06-.94-2.06-.94-.94-2.06-.94 2.06-2.06.94zm-11 1L8.5 8.5l.94-2.06 2.06-.94-2.06-.94L8.5 2.5l-.94 2.06-2.06.94zm10 10l.94 2.06.94-2.06 2.06-.94-2.06-.94-.94-2.06-.94 2.06-2.06.94z\"/><path d=\"M17.41 7.96l-1.37-1.37c-.4-.4-.92-.59-1.43-.59-.52 0-1.04.2-1.43.59L10.3 9.45l-7.72 7.72c-.78.78-.78 2.05 0 2.83L4 21.41c.39.39.9.59 1.41.59.51 0 1.02-.2 1.41-.59l7.78-7.78 2.81-2.81c.8-.78.8-2.07 0-2.86zM5.41 20L4 18.59l7.72-7.72 1.47 1.35L5.41 20z\"/>\n",
              "  </svg>\n",
              "      </button>\n",
              "      \n",
              "  <style>\n",
              "    .colab-df-container {\n",
              "      display:flex;\n",
              "      flex-wrap:wrap;\n",
              "      gap: 12px;\n",
              "    }\n",
              "\n",
              "    .colab-df-convert {\n",
              "      background-color: #E8F0FE;\n",
              "      border: none;\n",
              "      border-radius: 50%;\n",
              "      cursor: pointer;\n",
              "      display: none;\n",
              "      fill: #1967D2;\n",
              "      height: 32px;\n",
              "      padding: 0 0 0 0;\n",
              "      width: 32px;\n",
              "    }\n",
              "\n",
              "    .colab-df-convert:hover {\n",
              "      background-color: #E2EBFA;\n",
              "      box-shadow: 0px 1px 2px rgba(60, 64, 67, 0.3), 0px 1px 3px 1px rgba(60, 64, 67, 0.15);\n",
              "      fill: #174EA6;\n",
              "    }\n",
              "\n",
              "    [theme=dark] .colab-df-convert {\n",
              "      background-color: #3B4455;\n",
              "      fill: #D2E3FC;\n",
              "    }\n",
              "\n",
              "    [theme=dark] .colab-df-convert:hover {\n",
              "      background-color: #434B5C;\n",
              "      box-shadow: 0px 1px 3px 1px rgba(0, 0, 0, 0.15);\n",
              "      filter: drop-shadow(0px 1px 2px rgba(0, 0, 0, 0.3));\n",
              "      fill: #FFFFFF;\n",
              "    }\n",
              "  </style>\n",
              "\n",
              "      <script>\n",
              "        const buttonEl =\n",
              "          document.querySelector('#df-a27d87ff-ba09-403a-a5c6-1700b4aabac6 button.colab-df-convert');\n",
              "        buttonEl.style.display =\n",
              "          google.colab.kernel.accessAllowed ? 'block' : 'none';\n",
              "\n",
              "        async function convertToInteractive(key) {\n",
              "          const element = document.querySelector('#df-a27d87ff-ba09-403a-a5c6-1700b4aabac6');\n",
              "          const dataTable =\n",
              "            await google.colab.kernel.invokeFunction('convertToInteractive',\n",
              "                                                     [key], {});\n",
              "          if (!dataTable) return;\n",
              "\n",
              "          const docLinkHtml = 'Like what you see? Visit the ' +\n",
              "            '<a target=\"_blank\" href=https://colab.research.google.com/notebooks/data_table.ipynb>data table notebook</a>'\n",
              "            + ' to learn more about interactive tables.';\n",
              "          element.innerHTML = '';\n",
              "          dataTable['output_type'] = 'display_data';\n",
              "          await google.colab.output.renderOutput(dataTable, element);\n",
              "          const docLink = document.createElement('div');\n",
              "          docLink.innerHTML = docLinkHtml;\n",
              "          element.appendChild(docLink);\n",
              "        }\n",
              "      </script>\n",
              "    </div>\n",
              "  </div>\n",
              "  "
            ]
          },
          "metadata": {}
        }
      ]
    },
    {
      "cell_type": "markdown",
      "metadata": {
        "id": "0XSsd9UFmLYU"
      },
      "source": [
        "### Substitute Strings in Label\n",
        "Computer don't actually understand the string in the label so we will substitute them with a number for each unique value."
      ]
    },
    {
      "cell_type": "code",
      "metadata": {
        "id": "gHdwrPLdmLYV",
        "colab": {
          "base_uri": "https://localhost:8080/",
          "height": 1000
        },
        "outputId": "b35b3ecb-6966-405f-e36b-1277f0344dee"
      },
      "source": [
        "data = data_df.to_numpy()\n",
        "\n",
        "unique_label = data_df.clean_label.unique()\n",
        "\n",
        "label_2_num_map = dict(zip(unique_label, range(len(unique_label))))\n",
        "num_2_label_map = dict(zip(range(len(unique_label)), unique_label))\n",
        "\n",
        "print(\"Create Mappings\")\n",
        "display(num_2_label_map)\n",
        "display(label_2_num_map)\n",
        "\n",
        "print(\"Before Mappings\")\n",
        "display(data[:, 1])\n",
        "data[:,1] = np.vectorize(label_2_num_map.get)(data[:,1])\n",
        "\n",
        "print(\"After Mappings\")\n",
        "display(data[:, 1])"
      ],
      "execution_count": null,
      "outputs": [
        {
          "output_type": "stream",
          "name": "stdout",
          "text": [
            "Create Mappings\n"
          ]
        },
        {
          "output_type": "display_data",
          "data": {
            "text/plain": [
              "{0: 'payment',\n",
              " 1: 'package',\n",
              " 2: 'suspend',\n",
              " 3: 'internet',\n",
              " 4: 'phone_issues',\n",
              " 5: 'service',\n",
              " 6: 'nontruemove',\n",
              " 7: 'balance',\n",
              " 8: 'detail',\n",
              " 9: 'bill',\n",
              " 10: 'credit',\n",
              " 11: 'promotion',\n",
              " 12: 'mobile_setting',\n",
              " 13: 'iservice',\n",
              " 14: 'roaming',\n",
              " 15: 'truemoney',\n",
              " 16: 'information',\n",
              " 17: 'lost_stolen',\n",
              " 18: 'balance_minutes',\n",
              " 19: 'idd',\n",
              " 20: 'garbage',\n",
              " 21: 'ringtone',\n",
              " 22: 'rate',\n",
              " 23: 'loyalty_card',\n",
              " 24: 'contact',\n",
              " 25: 'officer'}"
            ]
          },
          "metadata": {}
        },
        {
          "output_type": "display_data",
          "data": {
            "text/plain": [
              "{'payment': 0,\n",
              " 'package': 1,\n",
              " 'suspend': 2,\n",
              " 'internet': 3,\n",
              " 'phone_issues': 4,\n",
              " 'service': 5,\n",
              " 'nontruemove': 6,\n",
              " 'balance': 7,\n",
              " 'detail': 8,\n",
              " 'bill': 9,\n",
              " 'credit': 10,\n",
              " 'promotion': 11,\n",
              " 'mobile_setting': 12,\n",
              " 'iservice': 13,\n",
              " 'roaming': 14,\n",
              " 'truemoney': 15,\n",
              " 'information': 16,\n",
              " 'lost_stolen': 17,\n",
              " 'balance_minutes': 18,\n",
              " 'idd': 19,\n",
              " 'garbage': 20,\n",
              " 'ringtone': 21,\n",
              " 'rate': 22,\n",
              " 'loyalty_card': 23,\n",
              " 'contact': 24,\n",
              " 'officer': 25}"
            ]
          },
          "metadata": {}
        },
        {
          "output_type": "stream",
          "name": "stdout",
          "text": [
            "Before Mappings\n"
          ]
        },
        {
          "output_type": "display_data",
          "data": {
            "text/plain": [
              "array(['payment', 'package', 'suspend', ..., 'balance', 'balance',\n",
              "       'package'], dtype=object)"
            ]
          },
          "metadata": {}
        },
        {
          "output_type": "stream",
          "name": "stdout",
          "text": [
            "After Mappings\n"
          ]
        },
        {
          "output_type": "display_data",
          "data": {
            "text/plain": [
              "array([0, 1, 2, ..., 7, 7, 1], dtype=object)"
            ]
          },
          "metadata": {}
        }
      ]
    },
    {
      "cell_type": "markdown",
      "metadata": {
        "id": "AR8GLv4CmLYY"
      },
      "source": [
        "### String cleaning\n",
        "Trim whitespace"
      ]
    },
    {
      "cell_type": "code",
      "metadata": {
        "id": "qmcLTEf9mLYZ",
        "colab": {
          "base_uri": "https://localhost:8080/"
        },
        "outputId": "286e4a4c-f94d-40a2-8e68-60d6c18c1946"
      },
      "source": [
        "def strip_str(string):\n",
        "    return string.strip()\n",
        "     \n",
        "# Trim of extra begining and trailing whitespace in the string\n",
        "print(\"Before\")\n",
        "print(data)\n",
        "data[:,0] = np.vectorize(strip_str)(data[:,0])\n",
        "print(\"After\")\n",
        "print(data)"
      ],
      "execution_count": null,
      "outputs": [
        {
          "output_type": "stream",
          "name": "stdout",
          "text": [
            "Before\n",
            "[[' <PHONE_NUMBER_REMOVED> ผมไปจ่ายเงินที่ Counter Services เค้าเช็ต 3276.25 บาท เมื่อวานที่ผมเช็คที่ศูนย์บอกมียอด 3057.79 บาท'\n",
            "  0]\n",
            " [' internet ยังความเร็วอยุ่เท่าไหร ครับ' 1]\n",
            " [' ตะกี้ไปชำระค่าบริการไปแล้ว แต่ยังใช้งานไม่ได้ ค่ะ' 2]\n",
            " ...\n",
            " ['ยอดเงินเหลือเท่าไหร่ค่ะ' 7]\n",
            " ['ยอดเงินในระบบ' 7]\n",
            " ['สอบถามโปรโมชั่นปัจจุบันที่ใช้อยู่ค่ะ' 1]]\n",
            "After\n",
            "[['<PHONE_NUMBER_REMOVED> ผมไปจ่ายเงินที่ Counter Services เค้าเช็ต 3276.25 บาท เมื่อวานที่ผมเช็คที่ศูนย์บอกมียอด 3057.79 บาท'\n",
            "  0]\n",
            " ['internet ยังความเร็วอยุ่เท่าไหร ครับ' 1]\n",
            " ['ตะกี้ไปชำระค่าบริการไปแล้ว แต่ยังใช้งานไม่ได้ ค่ะ' 2]\n",
            " ...\n",
            " ['ยอดเงินเหลือเท่าไหร่ค่ะ' 7]\n",
            " ['ยอดเงินในระบบ' 7]\n",
            " ['สอบถามโปรโมชั่นปัจจุบันที่ใช้อยู่ค่ะ' 1]]\n"
          ]
        }
      ]
    },
    {
      "cell_type": "markdown",
      "metadata": {
        "id": "-PPAF6ULmLYd"
      },
      "source": [
        "### Visualize Class Count\n",
        "\n",
        "We will now visualize the class imbalance. Note that training directly on imbalance dataset can yield bad results. "
      ]
    },
    {
      "cell_type": "code",
      "metadata": {
        "id": "PDAN4L9ZmLYe",
        "colab": {
          "base_uri": "https://localhost:8080/",
          "height": 545
        },
        "outputId": "43f2d055-3bb4-482d-ac57-b768b81cf575"
      },
      "source": [
        "def plot(label, count):\n",
        "    fig, ax = plt.subplots()\n",
        "    ind = np.arange(len(count))\n",
        "    rects1 = ax.bar(ind, count, 0.5)\n",
        "\n",
        "    ax.set_ylabel('Count')\n",
        "    ax.set_title('Count for each class')\n",
        "    ax.set_xticks(ind)\n",
        "    ax.set_xticklabels(label)\n",
        "\n",
        "    plt.show()\n",
        "    \n",
        "label, count = np.unique(data[:, 1], return_counts=True)\n",
        "plot(label, count)\n",
        "\n",
        "# pack the label and count together\n",
        "bundle = list(zip(label, count))\n",
        "# sort them by count\n",
        "bundle = sorted(bundle, key=lambda e: e[1], reverse=True) \n",
        "# unpack the values\n",
        "label, count = zip(*bundle)\n",
        "plot(label, count)"
      ],
      "execution_count": null,
      "outputs": [
        {
          "output_type": "display_data",
          "data": {
            "text/plain": [
              "<Figure size 432x288 with 1 Axes>"
            ],
            "image/png": "[encoded data removed]"
          },
          "metadata": {
            "needs_background": "light"
          }
        },
        {
          "output_type": "display_data",
          "data": {
            "text/plain": [
              "<Figure size 432x288 with 1 Axes>"
            ],
            "image/png": "[encoded data removed]"
          },
          "metadata": {
            "needs_background": "light"
          }
        }
      ]
    },
    {
      "cell_type": "markdown",
      "metadata": {
        "id": "HvA6nc37mLYh"
      },
      "source": [
        "Now we have our training data with input and labels"
      ]
    },
    {
      "cell_type": "markdown",
      "metadata": {
        "id": "IBp47GQcmLYm"
      },
      "source": [
        "## Feature Engineering\n",
        "\n",
        "Which is just a fancy word for making the input work with our model.\n",
        "\n",
        "The models that we are going to tackle do not accpet varying size input, so we have to transform our input in some ways that makes the input have this property while also retaining some useful information."
      ]
    },
    {
      "cell_type": "markdown",
      "metadata": {
        "id": "ARrBuw7UmLYn"
      },
      "source": [
        "### Feature #1: Char count"
      ]
    },
    {
      "cell_type": "markdown",
      "metadata": {
        "id": "1aIOBHaYmLYo"
      },
      "source": [
        "#### Finding the Chars\n",
        "We will first find the list of possible chars in the dataset, we can just Google all the possible chars in Thai and English or we can just obtain it from the data set. The code bellow will do the latter."
      ]
    },
    {
      "cell_type": "code",
      "metadata": {
        "id": "Dy6oSVWwmLYp",
        "colab": {
          "base_uri": "https://localhost:8080/"
        },
        "outputId": "15d8c593-80ce-4e7d-a85a-667c078e35eb"
      },
      "source": [
        "all_the_string = \"\".join(data[:, 0])\n",
        "\n",
        "np_str = np.array(list(all_the_string))\n",
        "all_char = np.unique(np_str)\n",
        "\n",
        "sorted(all_char)\n",
        "print(\"There are %d unique chars in the data set\" % len(all_char))\n",
        "print(all_char)\n",
        "char_map = dict(zip(all_char, range(len(all_char))))"
      ],
      "execution_count": null,
      "outputs": [
        {
          "output_type": "stream",
          "name": "stdout",
          "text": [
            "There are 152 unique chars in the data set\n",
            "['\\n' ' ' '\"' '#' '%' '&' \"'\" '(' ')' '*' '+' ',' '-' '.' '/' '0' '1' '2'\n",
            " '3' '4' '5' '6' '7' '8' '9' '<' '>' '?' '@' 'A' 'B' 'C' 'D' 'E' 'F' 'G'\n",
            " 'H' 'I' 'J' 'K' 'L' 'M' 'N' 'O' 'P' 'R' 'S' 'T' 'U' 'V' 'W' 'X' 'Y' '_'\n",
            " 'a' 'b' 'c' 'd' 'e' 'f' 'g' 'h' 'i' 'j' 'k' 'l' 'm' 'n' 'o' 'p' 'q' 'r'\n",
            " 's' 't' 'u' 'v' 'w' 'x' 'y' 'z' 'é' 'ก' 'ข' 'ฃ' 'ค' 'ฆ' 'ง' 'จ' 'ฉ' 'ช'\n",
            " 'ซ' 'ฌ' 'ญ' 'ฎ' 'ฐ' 'ฑ' 'ฒ' 'ณ' 'ด' 'ต' 'ถ' 'ท' 'ธ' 'น' 'บ' 'ป' 'ผ' 'ฝ'\n",
            " 'พ' 'ฟ' 'ภ' 'ม' 'ย' 'ร' 'ฤ' 'ล' 'ว' 'ศ' 'ษ' 'ส' 'ห' 'ฬ' 'อ' 'ฮ' 'ฯ' 'ะ'\n",
            " 'ั' 'า' 'ำ' 'ิ' 'ี' 'ึ' 'ื' 'ุ' 'ู' 'ฺ' 'เ' 'แ' 'โ' 'ใ' 'ไ' 'ๆ' '็' '่'\n",
            " '้' '๊' '๋' '์' 'ํ' '“' '”' '…']\n"
          ]
        }
      ]
    },
    {
      "cell_type": "code",
      "source": [
        "char_map"
      ],
      "metadata": {
        "colab": {
          "base_uri": "https://localhost:8080/"
        },
        "id": "niuSeaIz0D3q",
        "outputId": "49798033-85f1-40a8-dfc2-10bd9e757c7c"
      },
      "execution_count": null,
      "outputs": [
        {
          "output_type": "execute_result",
          "data": {
            "text/plain": [
              "{'\\n': 0,\n",
              " ' ': 1,\n",
              " '\"': 2,\n",
              " '#': 3,\n",
              " '%': 4,\n",
              " '&': 5,\n",
              " \"'\": 6,\n",
              " '(': 7,\n",
              " ')': 8,\n",
              " '*': 9,\n",
              " '+': 10,\n",
              " ',': 11,\n",
              " '-': 12,\n",
              " '.': 13,\n",
              " '/': 14,\n",
              " '0': 15,\n",
              " '1': 16,\n",
              " '2': 17,\n",
              " '3': 18,\n",
              " '4': 19,\n",
              " '5': 20,\n",
              " '6': 21,\n",
              " '7': 22,\n",
              " '8': 23,\n",
              " '9': 24,\n",
              " '<': 25,\n",
              " '>': 26,\n",
              " '?': 27,\n",
              " '@': 28,\n",
              " 'A': 29,\n",
              " 'B': 30,\n",
              " 'C': 31,\n",
              " 'D': 32,\n",
              " 'E': 33,\n",
              " 'F': 34,\n",
              " 'G': 35,\n",
              " 'H': 36,\n",
              " 'I': 37,\n",
              " 'J': 38,\n",
              " 'K': 39,\n",
              " 'L': 40,\n",
              " 'M': 41,\n",
              " 'N': 42,\n",
              " 'O': 43,\n",
              " 'P': 44,\n",
              " 'R': 45,\n",
              " 'S': 46,\n",
              " 'T': 47,\n",
              " 'U': 48,\n",
              " 'V': 49,\n",
              " 'W': 50,\n",
              " 'X': 51,\n",
              " 'Y': 52,\n",
              " '_': 53,\n",
              " 'a': 54,\n",
              " 'b': 55,\n",
              " 'c': 56,\n",
              " 'd': 57,\n",
              " 'e': 58,\n",
              " 'f': 59,\n",
              " 'g': 60,\n",
              " 'h': 61,\n",
              " 'i': 62,\n",
              " 'j': 63,\n",
              " 'k': 64,\n",
              " 'l': 65,\n",
              " 'm': 66,\n",
              " 'n': 67,\n",
              " 'o': 68,\n",
              " 'p': 69,\n",
              " 'q': 70,\n",
              " 'r': 71,\n",
              " 's': 72,\n",
              " 't': 73,\n",
              " 'u': 74,\n",
              " 'v': 75,\n",
              " 'w': 76,\n",
              " 'x': 77,\n",
              " 'y': 78,\n",
              " 'z': 79,\n",
              " 'é': 80,\n",
              " 'ก': 81,\n",
              " 'ข': 82,\n",
              " 'ฃ': 83,\n",
              " 'ค': 84,\n",
              " 'ฆ': 85,\n",
              " 'ง': 86,\n",
              " 'จ': 87,\n",
              " 'ฉ': 88,\n",
              " 'ช': 89,\n",
              " 'ซ': 90,\n",
              " 'ฌ': 91,\n",
              " 'ญ': 92,\n",
              " 'ฎ': 93,\n",
              " 'ฐ': 94,\n",
              " 'ฑ': 95,\n",
              " 'ฒ': 96,\n",
              " 'ณ': 97,\n",
              " 'ด': 98,\n",
              " 'ต': 99,\n",
              " 'ถ': 100,\n",
              " 'ท': 101,\n",
              " 'ธ': 102,\n",
              " 'น': 103,\n",
              " 'บ': 104,\n",
              " 'ป': 105,\n",
              " 'ผ': 106,\n",
              " 'ฝ': 107,\n",
              " 'พ': 108,\n",
              " 'ฟ': 109,\n",
              " 'ภ': 110,\n",
              " 'ม': 111,\n",
              " 'ย': 112,\n",
              " 'ร': 113,\n",
              " 'ฤ': 114,\n",
              " 'ล': 115,\n",
              " 'ว': 116,\n",
              " 'ศ': 117,\n",
              " 'ษ': 118,\n",
              " 'ส': 119,\n",
              " 'ห': 120,\n",
              " 'ฬ': 121,\n",
              " 'อ': 122,\n",
              " 'ฮ': 123,\n",
              " 'ฯ': 124,\n",
              " 'ะ': 125,\n",
              " 'ั': 126,\n",
              " 'า': 127,\n",
              " 'ำ': 128,\n",
              " 'ิ': 129,\n",
              " 'ี': 130,\n",
              " 'ึ': 131,\n",
              " 'ื': 132,\n",
              " 'ุ': 133,\n",
              " 'ู': 134,\n",
              " 'ฺ': 135,\n",
              " 'เ': 136,\n",
              " 'แ': 137,\n",
              " 'โ': 138,\n",
              " 'ใ': 139,\n",
              " 'ไ': 140,\n",
              " 'ๆ': 141,\n",
              " '็': 142,\n",
              " '่': 143,\n",
              " '้': 144,\n",
              " '๊': 145,\n",
              " '๋': 146,\n",
              " '์': 147,\n",
              " 'ํ': 148,\n",
              " '“': 149,\n",
              " '”': 150,\n",
              " '…': 151}"
            ]
          },
          "metadata": {},
          "execution_count": 15
        }
      ]
    },
    {
      "cell_type": "code",
      "metadata": {
        "id": "12w7-EM9mLYt",
        "colab": {
          "base_uri": "https://localhost:8080/",
          "height": 226
        },
        "outputId": "7a9ff592-c092-4f9c-d46b-f613da7fc16c"
      },
      "source": [
        "def count_str(string):\n",
        "    global all_char, char_map\n",
        "    result = np.zeros(len(all_char))\n",
        "    np_str = np.array(list(string))\n",
        "    str_char, str_char_count = np.unique(np_str, return_counts=True)\n",
        "    for char, count in zip(str_char, str_char_count):\n",
        "        result[char_map[char]] = count\n",
        "    return result\n",
        "\n",
        "# run example feature transformation\n",
        "print(\"Example String to feature conversion\")\n",
        "display(data[0, 0])\n",
        "display(count_str(data[0, 0]))\n",
        "print(len(data[0, 0]),len(count_str(data[0, 0])))"
      ],
      "execution_count": null,
      "outputs": [
        {
          "output_type": "stream",
          "name": "stdout",
          "text": [
            "Example String to feature conversion\n"
          ]
        },
        {
          "output_type": "display_data",
          "data": {
            "text/plain": [
              "'<PHONE_NUMBER_REMOVED> ผมไปจ่ายเงินที่ Counter Services เค้าเช็ต 3276.25 บาท เมื่อวานที่ผมเช็คที่ศูนย์บอกมียอด 3057.79 บาท'"
            ],
            "application/vnd.google.colaboratory.intrinsic+json": {
              "type": "string"
            }
          },
          "metadata": {}
        },
        {
          "output_type": "display_data",
          "data": {
            "text/plain": [
              "array([0., 9., 0., 0., 0., 0., 0., 0., 0., 0., 0., 0., 0., 2., 0., 1., 0.,\n",
              "       2., 2., 0., 2., 1., 3., 0., 1., 1., 1., 0., 0., 0., 1., 1., 1., 4.,\n",
              "       0., 0., 1., 0., 0., 0., 0., 2., 2., 2., 1., 2., 1., 0., 1., 1., 0.,\n",
              "       0., 0., 2., 0., 0., 1., 0., 3., 0., 0., 0., 1., 0., 0., 0., 0., 1.,\n",
              "       1., 0., 0., 2., 1., 1., 1., 1., 0., 0., 0., 0., 0., 1., 0., 0., 2.,\n",
              "       0., 1., 1., 0., 2., 0., 0., 0., 0., 0., 0., 0., 0., 1., 1., 0., 5.,\n",
              "       0., 3., 3., 1., 2., 0., 0., 0., 0., 4., 3., 0., 0., 0., 1., 1., 0.,\n",
              "       0., 0., 0., 3., 0., 0., 0., 0., 5., 0., 1., 4., 0., 1., 0., 1., 0.,\n",
              "       5., 0., 0., 0., 1., 0., 2., 5., 1., 0., 0., 1., 0., 0., 0., 0.])"
            ]
          },
          "metadata": {}
        },
        {
          "output_type": "stream",
          "name": "stdout",
          "text": [
            "122 152\n"
          ]
        }
      ]
    },
    {
      "cell_type": "code",
      "metadata": {
        "id": "03QtRneKmLYw",
        "colab": {
          "base_uri": "https://localhost:8080/"
        },
        "outputId": "ba3d4cea-8ade-4767-c265-4c01bcb52e7d"
      },
      "source": [
        "# run on data set\n",
        "temp = np.vectorize(count_str, otypes=[object])(data[:, 0])\n",
        "x_f1 = np.array([[e for e in sl] for sl in temp.tolist()])\n",
        "label = data[:, 1]\n",
        "print(\"Data\")\n",
        "print(\"Data shape\", x_f1.shape)\n",
        "print(\"label shape\", label.shape)"
      ],
      "execution_count": null,
      "outputs": [
        {
          "output_type": "stream",
          "name": "stdout",
          "text": [
            "Data\n",
            "Data shape (13389, 152)\n",
            "label shape (13389,)\n"
          ]
        }
      ]
    },
    {
      "cell_type": "code",
      "source": [
        "x_f1"
      ],
      "metadata": {
        "colab": {
          "base_uri": "https://localhost:8080/"
        },
        "id": "tOHkTaekyPs4",
        "outputId": "af8b7cdd-f33f-439b-e8c3-301560a5eacc"
      },
      "execution_count": null,
      "outputs": [
        {
          "output_type": "execute_result",
          "data": {
            "text/plain": [
              "array([[0., 9., 0., ..., 0., 0., 0.],\n",
              "       [0., 2., 0., ..., 0., 0., 0.],\n",
              "       [0., 2., 0., ..., 0., 0., 0.],\n",
              "       ...,\n",
              "       [0., 0., 0., ..., 0., 0., 0.],\n",
              "       [0., 0., 0., ..., 0., 0., 0.],\n",
              "       [0., 0., 0., ..., 0., 0., 0.]])"
            ]
          },
          "metadata": {},
          "execution_count": 20
        }
      ]
    },
    {
      "cell_type": "markdown",
      "metadata": {
        "id": "5ANu-5tKmLY0"
      },
      "source": [
        "### Feature #2: Keyword Detection"
      ]
    },
    {
      "cell_type": "markdown",
      "metadata": {
        "id": "gIlnJk35mLY1"
      },
      "source": [
        "Code bellow will show the first 3 entries for each class\n",
        "\n",
        "Use this to find some keywords that you believe will useful for the classifer."
      ]
    },
    {
      "cell_type": "code",
      "metadata": {
        "scrolled": true,
        "id": "L_bKSpLymLY3",
        "colab": {
          "base_uri": "https://localhost:8080/"
        },
        "outputId": "8a1b0fe9-44dc-41c9-bdff-245c3ce524f4"
      },
      "source": [
        "def show_first_in_label(first, select_label):\n",
        "    print(\"Showing label \\\"%s\\\"\" % num_2_label_map[select_label])\n",
        "    select = data[data[:, 1] == select_label, 0]\n",
        "    for i in range(min(first, len(select))):\n",
        "        print(i, select[i])\n",
        "    print(\"\")\n",
        "        \n",
        "first_three = 3\n",
        "number_of_classes = 26\n",
        "for i in range(number_of_classes):\n",
        "    show_first_in_label(first_three, i)"
      ],
      "execution_count": null,
      "outputs": [
        {
          "output_type": "stream",
          "name": "stdout",
          "text": [
            "Showing label \"payment\"\n",
            "0 <PHONE_NUMBER_REMOVED> ผมไปจ่ายเงินที่ Counter Services เค้าเช็ต 3276.25 บาท เมื่อวานที่ผมเช็คที่ศูนย์บอกมียอด 3057.79 บาท\n",
            "1 <PHONE_NUMBER_REMOVED> เติมบัตรไม่ได้เลย\n",
            "2 <PHONE_NUMBER_REMOVED> ลูกค้าเติมเงินที่ <PHONE_NUMBER_REMOVED> เติมไป 150 บาท เงินของเค้าถูกตัด เค้าไม่เข้าใจว่าถูกตัดค่าอะไรไปค่ะ\n",
            "\n",
            "Showing label \"package\"\n",
            "0 internet ยังความเร็วอยุ่เท่าไหร ครับ\n",
            "1 <PHONE_NUMBER_REMOVED> เป็นเติมเงินนะคะ เดี๋ยวนี้วันหมดอายุ ต้องขอต่ออีกหรือไม่คะ\n",
            "2 <PHONE_NUMBER_REMOVED> ใช้โปรอะไรอยู่ค่ะ\n",
            "\n",
            "Showing label \"suspend\"\n",
            "0 ตะกี้ไปชำระค่าบริการไปแล้ว แต่ยังใช้งานไม่ได้ ค่ะ\n",
            "1 <PHONE_NUMBER_REMOVED> หมายเลขนี้โดนระงับบริการเหรอค่ะ\n",
            "2 <PHONE_NUMBER_REMOVED> โดนตัดสัญญาณหรือเปล่าครับ โทรเข้าออกไม่ได้\n",
            "\n",
            "Showing label \"internet\"\n",
            "0 พี่ค่ะยังใช้ internet ไม่ได้เลยค่ะ เป็นเครื่อง โกลไล\n",
            "1 <PHONE_NUMBER_REMOVED> เค้าบอกจะส่งรหัสเน็ตมาให้ แต่ยังไม่ได้ส่งมาเลยค่ะ\n",
            "2 <PHONE_NUMBER_REMOVED> รหัส ทรู ไวไฟ\n",
            "\n",
            "Showing label \"phone_issues\"\n",
            "0 ฮาโหล คะ พอดีว่าเมื่อวานเปิดซิมทรูมูฟ แต่มันโทรออกไม่ได้คะ แต่เล่นเนตได้คะ\n",
            "1 <PHONE_NUMBER_REMOVED> ไปชำระค่าบริการช้า เน็ตตัด แต่พี่ไปชำระค่าบริการแล้วค่ะ แต่ยังใช้ไม่ได้ค่ะ\n",
            "2 <PHONE_NUMBER_REMOVED> โทรเข้า โทรออก ไม่ได้แล้วหรอครับ\n",
            "\n",
            "Showing label \"service\"\n",
            "0 *2222 ใช้งานยังไง ขอรายละเอียดการสมัครหน่อย\n",
            "1 <PHONE_NUMBER_REMOVED> จะยกเลิกข้อความนะคะ\n",
            "2 <PHONE_NUMBER_REMOVED> มี SMS อะไรไม่รู้อ่ะค่ะ จะยกเลิกอ่ะค่ะ\n",
            "\n",
            "Showing label \"nontruemove\"\n",
            "0 <PHONE_NUMBER_REMOVED> เคยมีช่างมาซ่อมที่บ้าน แล้วโทรศัพท์ใช้งานไม่ได้ครับ\n",
            "1 <PHONE_NUMBER_REMOVED> อินเตอร์เน็ตไฟ Adsl ไม่มีสัญญาณครับ\n",
            "2 <PHONE_NUMBER_REMOVED> คู่สายใช้ไม่ได้ อินเตอร์เน็ตก็เลยใช้ไม่ได้ค่ะ\n",
            "\n",
            "Showing label \"balance\"\n",
            "0 <PHONE_NUMBER_REMOVED> ค้างค่าบริการเท่าไหร่ครับ\n",
            "1 <PHONE_NUMBER_REMOVED> ยอดชำระของเดือนที่ผ่านมาเท่าไหร่ค่ะ\n",
            "2 <PHONE_NUMBER_REMOVED> ค่ะ มียอดค้างชำระเท่าไหร่คะ น้องต่อระบบให้พี่ก่อนพี่เป็น sale พี่กดออกไม่ได้งงว่าทำไมตัดเลยอะ\n",
            "\n",
            "Showing label \"detail\"\n",
            "0 <PHONE_NUMBER_REMOVED> เป็นหมายเลขของเครือข่ายอะไรค่ะ\n",
            "1 เช็คโปรให้หน่อยคะ เบอร์ xxxxxxxx คะ\n",
            "2 เบอร์ <PHONE_NUMBER_REMOVED> จะสอบถามว่าเบอร์นี้เพิ่งเปิดใช้บริการมีวันหมดอายุมั้ยครับ\n",
            "\n",
            "Showing label \"bill\"\n",
            "0 <PHONE_NUMBER_REMOVED> ผมยังไม่ได้ใช้เลยครับ ทำไมมันมียอดให้ชำระครับ\n",
            "1 เขาจะ คิดเงิน เพิ่มที่ใช้ไปหรือเปล่า เกิน 500 ถึงจะ คิด เพิ่มใช่มั้ยครับ\n",
            "2 เคยสมัครอินเตอร์เน็ตไว้ พอเราเลิกเล่นแล้วมันก็ยังกินตังค์อยู่ เป็นเพราะอะไรคะ\n",
            "\n",
            "Showing label \"credit\"\n",
            "0 <PHONE_NUMBER_REMOVED> เมื่อกี้มีขอความของทรูมูฟเอชเข้ามา อยากจะทราบว่ามันหมายความอย่างไร เครดิตของคุณตอนนี้ 91% ค่ะ\n",
            "1 เติมเงินโปรของผมเป็นอะไรอยู่ตอนนี้ อยากให้ควบคุมวงเงินเติมเงินแล้ยอดเงินหาย 70 MB ได้หมดทุกอย่าง\n",
            "2 เติมเงินโปรของผมเป็นอะไรอยู่ตอนนี้ อยากให้ควบคุมวงเงินเติมเงินแล้วยอดเงินหาย 70 MB ได้หมดทุกอย่าง\n",
            "\n",
            "Showing label \"promotion\"\n",
            "0 <PHONE_NUMBER_REMOVED> สมัครโปรโทรฟรี โทร ทรูมูฟเอชได้หรือเปล่าครับ\n",
            "1 <PHONE_NUMBER_REMOVED>8ค่ะ จะสอบถามอินเตอร์เน็ตที่อันลิตมิตค่า\n",
            "2 3 G ที่ใช้กับโปรโมชั่นมันหมด ถ้าจะเติมจะทำยังไงค่ะ มันมียังไงบ้าง\n",
            "\n",
            "Showing label \"mobile_setting\"\n",
            "0 <PHONE_NUMBER_REMOVED> ถ้าจะเล่นกับคอม ต้องทำยังไง\n",
            "1 goliveครับ ทีนี้ตอนที่ข้อความรูปจะเข้า มันขึ้นข้อความว่า หน่อยความจำไม่เพียงพออย่างเนี้ย\n",
            "2 Upgrade Firmware / Restore เครื่อง\n",
            "\n",
            "Showing label \"iservice\"\n",
            "0 app iservice มันไม่ค่อยrunเลยค่ะ\n",
            "1 เข้า true iservice เช็ค net balance ไม่ได้\n",
            "2 ขอสอบถาม ID ของ True พอดีจะเข้าบริการ True I Service ค่ะ\n",
            "\n",
            "Showing label \"roaming\"\n",
            "0 Data Roaming ราคาพิเศษมีไหม\n",
            "1 เคยเปิด โรมมิ่งไปเมื่อเดิมก่อน ไม่แน่ใจว่า แจ้งปิดบริการไปหรือยัง\n",
            "2 เคยสมัครโทรข้ามแดน ตอนนี้ยังใช้ได้อยู่หรือเปล่า\n",
            "\n",
            "Showing label \"truemoney\"\n",
            "0 เคยเติมทรูมันนี่บนเว็บ ลืมพาสเวิร์ด\n",
            "1 เติม ทรูมันนี่ รหัสผิด 3 ครั้งอ่ะครับ\n",
            "2 เติมเงิน เข้าไปในเครื่อง จะ เติมเป็น ค่าโทร แต่มันเข้าไปใน ทรูมันนี่ อ่ะค่ะ\n",
            "\n",
            "Showing label \"information\"\n",
            "0 เคยใช้ เบอร์ฮัทช์ หมายเลขยกเลิกไปแล้ว แต่ต้องการกลับมาใช้งานของระบบ \n",
            "ทรูมูฟเอช หมายเลขนั้นได้หรือไม่\n",
            "1 เช็คสถานะของเครื่องซ่อมครับ\n",
            "2 เบอร์ <PHONE_NUMBER_REMOVED> เป็นเครือข่ายทรูมูฟหรือเปล่าครับ\n",
            "\n",
            "Showing label \"lost_stolen\"\n",
            "0 เครื่อง หาย ต้องทำอย่างไร\n",
            "1 เครื่องโดนขโมยไปเมื่อเช้าจะปิดบริการค่ะ\n",
            "2 เครื่องหาย\n",
            "\n",
            "Showing label \"balance_minutes\"\n",
            "0 เช็คดูยอดการโทรทำไมมันเหลือแค่ร้อยกว่านาที ทำไมอ่ะครับ\n",
            "1 เช็คนาทีคงเหลือให้หน่อย\n",
            "2 เบอร์นี้มันเหลือค่าโทรกี่บาทคะ\n",
            "\n",
            "Showing label \"idd\"\n",
            "0 เดือนก่อนโทรไปเกาหลี แต่จำค่าบริการไม่ได้แล้ว\n",
            "1 เบอร์นี้เป็นรายเดือนต้องการโทรออกต่างประเทศ\n",
            "2 เปิดใช้บริการโทรออกต่างประเทศ\n",
            "\n",
            "Showing label \"garbage\"\n",
            "0 เติมเงินเข้าไปแล้ว ยังดูทีวีไม่ได้\n",
            "1 เนี่ยที่โฆษณาในหนังสือพิมพ์คืออะไร\n",
            "2 เป็นเจ้าของ หมายเลข เครื่อง นี้ค่ะ\n",
            "\n",
            "Showing label \"ringtone\"\n",
            "0 เปลี่ยนเพลงรอสายค่ะ\n",
            "1 เปิดเสียงรอสายให้หน่อยครับ\n",
            "2 เอ่อ ว่าจะตั้งเสียงรอสายคะ\n",
            "\n",
            "Showing label \"rate\"\n",
            "0 เริ่มใช้บริการวันที่ XXX จะคิดค่าบริการยังไง\n",
            "1 แล้วอันนี้เวลาโทรออกคิด นาที เท่าไหร่\n",
            "2 โทรในเครือข่ายทรูมูฟ 25 สตางค์หน่ะค่ะ sms ข้อความละเท่าไหร่ค่ะ\n",
            "\n",
            "Showing label \"loyalty_card\"\n",
            "0 เอ่อ คือ ผมทำบัตร True card หายอ่ะครับ ผมต้องทำยังไงบ้างครับ\n",
            "1 แบร็คการ์ด มี สิทธิพิเศษต่างจาก เรดการ์ด อะไรบ้าง สนใจอยากสมัคร\n",
            "2 โอน สิทธิ์ แบร็คการ์ด มาให้ผมแทนได้มั้ย พอดีแม่ไม่ได้ใช้แล้ว\n",
            "\n",
            "Showing label \"contact\"\n",
            "0 ได้รับข้อความแจ้งเตือนการใช้งาน\n",
            "1 จะขอสอบถามเรืองได้รับ เอสเอ็มเอสเรื่องแจ้งเตื่อนการใช้งานเกินวงเงินค่ะ\n",
            "2 พอดีพี่จะสอบถาม พี่เห็นคัสโตเมอร์แคร์โทรหาพี่หลายครั้งแล้ว มีอะไรหรือเปล่าค่า\n",
            "\n",
            "Showing label \"officer\"\n",
            "0 ขอร้องเรียน แนะนำการให้บริการของพนักงาน\n",
            "1 ครับ อยากโทรไปร้องเรียน call center ได้มั๊ยครับ\n",
            "2 ค่ะ เมื่อกี่มีเจ้าหน้าที่โทรมาหาพี่ ไม่รู้เรื่องอะไรค่ะ <PHONE_NUMBER_REMOVED>\n",
            "\n"
          ]
        }
      ]
    },
    {
      "cell_type": "markdown",
      "metadata": {
        "id": "sqaqo6mxmLY7"
      },
      "source": [
        "Here are some of the entries used to find keywords."
      ]
    },
    {
      "cell_type": "code",
      "metadata": {
        "id": "9YqmgnNNmLY7",
        "colab": {
          "base_uri": "https://localhost:8080/",
          "height": 127
        },
        "outputId": "2e1b3538-50a6-45c3-eaf4-3adff6f2f08d"
      },
      "source": [
        "index = 30\n",
        "display(data[index, 0], num_2_label_map[data[index, 1]])\n",
        "\n",
        "index = 40\n",
        "display(data[index, 0], num_2_label_map[data[index, 1]])\n",
        "\n",
        "index = 80\n",
        "display(data[index, 0], num_2_label_map[data[index, 1]])"
      ],
      "execution_count": null,
      "outputs": [
        {
          "output_type": "display_data",
          "data": {
            "text/plain": [
              "'<PHONE_NUMBER_REMOVED> ไม่ทราบว่ามันโทรออกไม่ได้เพราะอะไร เพราะพึ่งไปชำระเงินมา'"
            ],
            "application/vnd.google.colaboratory.intrinsic+json": {
              "type": "string"
            }
          },
          "metadata": {}
        },
        {
          "output_type": "display_data",
          "data": {
            "text/plain": [
              "'phone_issues'"
            ],
            "application/vnd.google.colaboratory.intrinsic+json": {
              "type": "string"
            }
          },
          "metadata": {}
        },
        {
          "output_type": "display_data",
          "data": {
            "text/plain": [
              "'<PHONE_NUMBER_REMOVED> ใช้เบอร์เล่นอินเตอร์เน็ตอยู่ มันเป็นแอร์การ์ด จะยกเลิกอ่ะครับ'"
            ],
            "application/vnd.google.colaboratory.intrinsic+json": {
              "type": "string"
            }
          },
          "metadata": {}
        },
        {
          "output_type": "display_data",
          "data": {
            "text/plain": [
              "'service'"
            ],
            "application/vnd.google.colaboratory.intrinsic+json": {
              "type": "string"
            }
          },
          "metadata": {}
        },
        {
          "output_type": "display_data",
          "data": {
            "text/plain": [
              "'Upgrade Firmware / Restore เครื่อง'"
            ],
            "application/vnd.google.colaboratory.intrinsic+json": {
              "type": "string"
            }
          },
          "metadata": {}
        },
        {
          "output_type": "display_data",
          "data": {
            "text/plain": [
              "'mobile_setting'"
            ],
            "application/vnd.google.colaboratory.intrinsic+json": {
              "type": "string"
            }
          },
          "metadata": {}
        }
      ]
    },
    {
      "cell_type": "markdown",
      "metadata": {
        "id": "XIUukdnpmLY-"
      },
      "source": [
        "Add keywords here, some are already added for you as an example. \n",
        "The transformed features (keywords) should differentiate each classes from one another. See bellow that the 3 entries each from 3 classes can be differentiate using the keywords added as an example."
      ]
    },
    {
      "cell_type": "code",
      "metadata": {
        "id": "_Te3d0hSmLY_"
      },
      "source": [
        "keywords = [\"โปร\", \"โทร\", \"ไม่ได้\", \"iservice\",\"อินเตอร์เน็ต\"]"
      ],
      "execution_count": null,
      "outputs": []
    },
    {
      "cell_type": "markdown",
      "metadata": {
        "id": "7lrWTylcmLZC"
      },
      "source": [
        "The \"has_keyword\" function only detects the keyword. But you can also experiment with counting the occurrence of the keyword by modifying the function bellow."
      ]
    },
    {
      "cell_type": "code",
      "metadata": {
        "id": "3-CL-8y2mLZD",
        "colab": {
          "base_uri": "https://localhost:8080/",
          "height": 332
        },
        "outputId": "e69103b3-fa9b-4591-fe41-f87e0e4eb824"
      },
      "source": [
        "def has_keyword(string):\n",
        "    global keywords\n",
        "    result = np.zeros(len(keywords))\n",
        "    for index, keyword in enumerate(keywords):\n",
        "        if keyword in string:\n",
        "            result[index] = 1\n",
        "    return result\n",
        "\n",
        "def preview(string_ind):\n",
        "    print(\"Entry\")\n",
        "    display(data[string_ind, 0])\n",
        "    print(\"Feature\")\n",
        "    print(has_keyword(data[string_ind, 0]), \"->\", num_2_label_map[data[string_ind, 1]])\n",
        "    print(\"\")\n",
        "\n",
        "# run example feature transformation\n",
        "print(\"Example String to feature conversion\\n\\n\")\n",
        "preview(30)\n",
        "preview(40)\n",
        "preview(80)"
      ],
      "execution_count": null,
      "outputs": [
        {
          "output_type": "stream",
          "name": "stdout",
          "text": [
            "Example String to feature conversion\n",
            "\n",
            "\n",
            "Entry\n"
          ]
        },
        {
          "output_type": "display_data",
          "data": {
            "text/plain": [
              "'<PHONE_NUMBER_REMOVED> ไม่ทราบว่ามันโทรออกไม่ได้เพราะอะไร เพราะพึ่งไปชำระเงินมา'"
            ],
            "application/vnd.google.colaboratory.intrinsic+json": {
              "type": "string"
            }
          },
          "metadata": {}
        },
        {
          "output_type": "stream",
          "name": "stdout",
          "text": [
            "Feature\n",
            "[0. 1. 1. 0. 0.] -> phone_issues\n",
            "\n",
            "Entry\n"
          ]
        },
        {
          "output_type": "display_data",
          "data": {
            "text/plain": [
              "'<PHONE_NUMBER_REMOVED> ใช้เบอร์เล่นอินเตอร์เน็ตอยู่ มันเป็นแอร์การ์ด จะยกเลิกอ่ะครับ'"
            ],
            "application/vnd.google.colaboratory.intrinsic+json": {
              "type": "string"
            }
          },
          "metadata": {}
        },
        {
          "output_type": "stream",
          "name": "stdout",
          "text": [
            "Feature\n",
            "[0. 0. 0. 0. 1.] -> service\n",
            "\n",
            "Entry\n"
          ]
        },
        {
          "output_type": "display_data",
          "data": {
            "text/plain": [
              "'Upgrade Firmware / Restore เครื่อง'"
            ],
            "application/vnd.google.colaboratory.intrinsic+json": {
              "type": "string"
            }
          },
          "metadata": {}
        },
        {
          "output_type": "stream",
          "name": "stdout",
          "text": [
            "Feature\n",
            "[0. 0. 0. 0. 0.] -> mobile_setting\n",
            "\n"
          ]
        }
      ]
    },
    {
      "cell_type": "code",
      "metadata": {
        "id": "BiL28GdymLZG",
        "colab": {
          "base_uri": "https://localhost:8080/"
        },
        "outputId": "dbe57a6e-558b-4d86-a6c4-e2018cb12cf8"
      },
      "source": [
        "# run on data set\n",
        "temp = np.vectorize(has_keyword, otypes=[object])(data[:, 0])\n",
        "x_f2 = np.array([[e for e in sl] for sl in temp.tolist()])\n",
        "label = data[:, 1].astype(int)\n",
        "print(\"Data\")\n",
        "print(\"Data shape\", x_f2.shape)\n",
        "print(\"label shape\", label.shape)"
      ],
      "execution_count": null,
      "outputs": [
        {
          "output_type": "stream",
          "name": "stdout",
          "text": [
            "Data\n",
            "Data shape (13389, 5)\n",
            "label shape (13389,)\n"
          ]
        }
      ]
    },
    {
      "cell_type": "code",
      "source": [
        "x_f2"
      ],
      "metadata": {
        "colab": {
          "base_uri": "https://localhost:8080/"
        },
        "id": "Eo1Yb1-MySsv",
        "outputId": "f3913dea-7bfd-44eb-b908-3491c757142c"
      },
      "execution_count": null,
      "outputs": [
        {
          "output_type": "execute_result",
          "data": {
            "text/plain": [
              "array([[0., 0., 0., 0., 0.],\n",
              "       [0., 0., 0., 0., 0.],\n",
              "       [0., 0., 1., 0., 0.],\n",
              "       ...,\n",
              "       [0., 0., 0., 0., 0.],\n",
              "       [0., 0., 0., 0., 0.],\n",
              "       [1., 0., 0., 0., 0.]])"
            ]
          },
          "metadata": {},
          "execution_count": 26
        }
      ]
    },
    {
      "cell_type": "code",
      "source": [
        "label"
      ],
      "metadata": {
        "colab": {
          "base_uri": "https://localhost:8080/"
        },
        "id": "sTEZR4tH2ErP",
        "outputId": "7611ae4a-f0d1-4ee3-9a97-803d65ac3fd5"
      },
      "execution_count": null,
      "outputs": [
        {
          "output_type": "execute_result",
          "data": {
            "text/plain": [
              "array([0, 1, 2, ..., 7, 7, 1])"
            ]
          },
          "metadata": {},
          "execution_count": 27
        }
      ]
    },
    {
      "cell_type": "markdown",
      "metadata": {
        "id": "-W1jQcPEmLZJ"
      },
      "source": [
        "### Implement\n",
        "See how well the model can fit to our current data. This is a quick and dirty way of testing hand crafted features. The model will not generalize if it does not fit in the first place. We (you) will do proper training later."
      ]
    },
    {
      "cell_type": "code",
      "metadata": {
        "id": "Tasr416YmLZJ",
        "colab": {
          "base_uri": "https://localhost:8080/"
        },
        "outputId": "860ffb1f-ee1a-4349-d6bf-3dbd64ceca10"
      },
      "source": [
        "from sklearn.naive_bayes import MultinomialNB\n",
        "model = MultinomialNB()\n",
        "model.fit(x_f1, label)\n",
        "y_pred = model.predict(x_f1)\n",
        "print(\"Model Acc. on train data %f%%\"\n",
        "       % ((label == y_pred).sum() / x_f1.shape[0] * 100))"
      ],
      "execution_count": null,
      "outputs": [
        {
          "output_type": "stream",
          "name": "stdout",
          "text": [
            "Model Acc. on train data 47.778027%\n"
          ]
        }
      ]
    },
    {
      "cell_type": "code",
      "metadata": {
        "id": "dq38XV--mLZN",
        "colab": {
          "base_uri": "https://localhost:8080/"
        },
        "outputId": "182b4cbc-f936-4f44-b94a-f49f7776f65f"
      },
      "source": [
        "from sklearn.naive_bayes import MultinomialNB\n",
        "model = MultinomialNB()\n",
        "model.fit(x_f2, label)\n",
        "y_pred = model.predict(x_f2)\n",
        "print(\"Model Acc. on train data %f%%\"\n",
        "       % ((label == y_pred).sum() / x_f1.shape[0] * 100))"
      ],
      "execution_count": null,
      "outputs": [
        {
          "output_type": "stream",
          "name": "stdout",
          "text": [
            "Model Acc. on train data 26.805587%\n"
          ]
        }
      ]
    },
    {
      "cell_type": "markdown",
      "metadata": {
        "id": "Kq5S9-bqmLZP"
      },
      "source": [
        "### Training\n",
        "\n",
        "#### Feature #1\n",
        "##### Split  data into train-data test-data"
      ]
    },
    {
      "cell_type": "code",
      "metadata": {
        "id": "Ht1IH2xGmLZR"
      },
      "source": [
        "from sklearn.model_selection import train_test_split\n",
        "train_f1, test_f1 = train_test_split(x_f1, test_size=0.2,random_state=42)\n",
        "train_label, test_label = train_test_split(label, test_size=0.2,random_state=42)"
      ],
      "execution_count": null,
      "outputs": []
    },
    {
      "cell_type": "markdown",
      "metadata": {
        "id": "knxvFXoumLZU"
      },
      "source": [
        "##### Train model"
      ]
    },
    {
      "cell_type": "code",
      "metadata": {
        "id": "uKhj2KnemLZW"
      },
      "source": [
        "model = MultinomialNB()\n",
        "model.fit(train_f1, train_label)\n",
        "y_pred = model.predict(test_f1)\n"
      ],
      "execution_count": null,
      "outputs": []
    },
    {
      "cell_type": "markdown",
      "metadata": {
        "id": "5KerIRTrmLZZ"
      },
      "source": [
        "#### Display model performance\n",
        "Accuracy, confusion-matrix, etc."
      ]
    },
    {
      "cell_type": "code",
      "metadata": {
        "id": "2TfTZKuLmLZa",
        "colab": {
          "base_uri": "https://localhost:8080/"
        },
        "outputId": "325f4012-41ee-4802-b165-488d6673d482"
      },
      "source": [
        "print(\"Model Acc. on train data %f%%\"\n",
        "       % ((test_label == y_pred).sum() / test_f1.shape[0] * 100))"
      ],
      "execution_count": null,
      "outputs": [
        {
          "output_type": "stream",
          "name": "stdout",
          "text": [
            "Model Acc. on train data 44.996266%\n"
          ]
        }
      ]
    },
    {
      "cell_type": "code",
      "metadata": {
        "id": "TqUipayqmLZd",
        "colab": {
          "base_uri": "https://localhost:8080/",
          "height": 1000
        },
        "outputId": "68b9f86d-7d84-41d0-e563-ac4389d7d1ac"
      },
      "source": [
        "import itertools\n",
        "from sklearn.metrics import confusion_matrix\n",
        "#Reference: http://scikit-learn.org/stable/auto_examples/model_selection/plot_confusion_matrix.html\n",
        "def plot_confusion_matrix(cm, classes,\n",
        "                          normalize=False,\n",
        "                          title='Confusion matrix',\n",
        "                          cmap=plt.cm.Blues):\n",
        "    \"\"\"\n",
        "    This function prints and plots the confusion matrix.\n",
        "    Normalization can be applied by setting `normalize=True`.\n",
        "    \"\"\"\n",
        "    if normalize:\n",
        "        cm = cm.astype('float') / cm.sum(axis=1)[:, np.newaxis]\n",
        "        print(\"Normalized confusion matrix\")\n",
        "    else:\n",
        "        print('Confusion matrix, without normalization')\n",
        "\n",
        "    plt.imshow(cm, interpolation='nearest', cmap=cmap)\n",
        "    plt.title(title)\n",
        "    plt.colorbar()\n",
        "    tick_marks = np.arange(len(classes))\n",
        "    plt.xticks(tick_marks, classes, rotation=45)\n",
        "    plt.yticks(tick_marks, classes)\n",
        "\n",
        "    fmt = '.2f' if normalize else 'd'\n",
        "    thresh = cm.max() / 2.\n",
        "#     for i, j in itertools.product(range(cm.shape[0]), range(cm.shape[1])):\n",
        "#         plt.text(j, i, format(cm[i, j], fmt),\n",
        "#                  horizontalalignment=\"center\",\n",
        "#                  color=\"white\" if cm[i, j] > thresh else \"black\")\n",
        "\n",
        "    plt.tight_layout()\n",
        "    plt.ylabel('True label')\n",
        "    plt.xlabel('Predicted label')\n",
        "    \n",
        "    \n",
        "cnf_matrix = confusion_matrix(test_label, y_pred)\n",
        "# Plot non-normalized confusion matrix\n",
        "plt.figure(figsize=(15,10))\n",
        "plot_confusion_matrix(cnf_matrix, classes=unique_label,\n",
        "                      title='Confusion matrix, without normalization')\n",
        "\n",
        "# Plot normalized confusion matrix\n",
        "plt.figure(figsize=(15,10))\n",
        "plot_confusion_matrix(cnf_matrix, classes=unique_label, normalize=True,\n",
        "                      title='Normalized confusion matrix')\n",
        "\n",
        "plt.show()\n",
        "\n"
      ],
      "execution_count": null,
      "outputs": [
        {
          "output_type": "stream",
          "name": "stdout",
          "text": [
            "Confusion matrix, without normalization\n",
            "Normalized confusion matrix\n"
          ]
        },
        {
          "output_type": "display_data",
          "data": {
            "text/plain": [
              "<Figure size 1080x720 with 2 Axes>"
            ],
            "image/png": "[encoded data removed]"
          },
          "metadata": {
            "needs_background": "light"
          }
        },
        {
          "output_type": "display_data",
          "data": {
            "text/plain": [
              "<Figure size 1080x720 with 2 Axes>"
            ],
            "image/png": "[encoded data removed]"
          },
          "metadata": {
            "needs_background": "light"
          }
        }
      ]
    },
    {
      "cell_type": "markdown",
      "metadata": {
        "id": "S1hyngEQmLZg"
      },
      "source": [
        "#### Feature #2\n",
        "##### Split  data into train-data test-data"
      ]
    },
    {
      "cell_type": "code",
      "metadata": {
        "id": "i6Sa2rxDmLZh"
      },
      "source": [
        "train_f2, test_f2 = train_test_split(x_f2, test_size=0.2,random_state=42)\n",
        "#train_label, test_label = train_test_split(label, test_size=0.2,random_state=42)"
      ],
      "execution_count": null,
      "outputs": []
    },
    {
      "cell_type": "markdown",
      "metadata": {
        "id": "VxdmqKb-mLZk"
      },
      "source": [
        "##### Train model"
      ]
    },
    {
      "cell_type": "code",
      "metadata": {
        "id": "mqKJpW2YmLZk"
      },
      "source": [
        "model = MultinomialNB()\n",
        "model.fit(train_f2, train_label)\n",
        "y_pred = model.predict(test_f2)"
      ],
      "execution_count": null,
      "outputs": []
    },
    {
      "cell_type": "markdown",
      "metadata": {
        "id": "tnTRbE8NmLZn"
      },
      "source": [
        "##### Display model performance"
      ]
    },
    {
      "cell_type": "code",
      "metadata": {
        "id": "03hTCeo_mLZo",
        "colab": {
          "base_uri": "https://localhost:8080/"
        },
        "outputId": "3cea5075-6870-4308-c25c-efc97a180cc2"
      },
      "source": [
        "print(\"Model Acc. on train data %f%%\"\n",
        "       % ((test_label == y_pred).sum() / test_f1.shape[0] * 100))"
      ],
      "execution_count": null,
      "outputs": [
        {
          "output_type": "stream",
          "name": "stdout",
          "text": [
            "Model Acc. on train data 25.578790%\n"
          ]
        }
      ]
    },
    {
      "cell_type": "markdown",
      "metadata": {
        "id": "cTuWzTJjmLZr"
      },
      "source": [
        "#### Try combining the 2 features"
      ]
    },
    {
      "cell_type": "code",
      "metadata": {
        "id": "q_d8dlYYmLZs",
        "colab": {
          "base_uri": "https://localhost:8080/"
        },
        "outputId": "b8246931-62f0-42f6-939a-63906c0f8253"
      },
      "source": [
        "x_comb = np.concatenate((x_f1, x_f2), axis=1)\n",
        "x_comb[0:10] \n"
      ],
      "execution_count": null,
      "outputs": [
        {
          "output_type": "execute_result",
          "data": {
            "text/plain": [
              "array([[0., 9., 0., ..., 0., 0., 0.],\n",
              "       [0., 2., 0., ..., 0., 0., 0.],\n",
              "       [0., 2., 0., ..., 1., 0., 0.],\n",
              "       ...,\n",
              "       [0., 1., 0., ..., 0., 0., 0.],\n",
              "       [0., 3., 0., ..., 0., 0., 1.],\n",
              "       [0., 2., 0., ..., 1., 0., 0.]])"
            ]
          },
          "metadata": {},
          "execution_count": 38
        }
      ]
    },
    {
      "cell_type": "code",
      "source": [
        "train_comb, test_comb = train_test_split(x_comb, test_size=0.2,random_state=42)\n",
        "model = MultinomialNB()\n",
        "model.fit(train_comb, train_label)\n",
        "y_pred = model.predict(test_comb)\n",
        "print(\"Model Acc. on train data %f%%\"\n",
        "       % ((test_label == y_pred).sum() / test_comb.shape[0] * 100))"
      ],
      "metadata": {
        "colab": {
          "base_uri": "https://localhost:8080/"
        },
        "id": "FQHqA0Wv2Yl7",
        "outputId": "34dc941d-0388-4933-885a-760ded631fb6"
      },
      "execution_count": null,
      "outputs": [
        {
          "output_type": "stream",
          "name": "stdout",
          "text": [
            "Model Acc. on train data 46.191187%\n"
          ]
        }
      ]
    },
    {
      "cell_type": "markdown",
      "metadata": {
        "id": "Tr7DZn2ImLZv"
      },
      "source": [
        "#### Can you get more than 50% accuracy with Naive Bayes?"
      ]
    }
  ]
}
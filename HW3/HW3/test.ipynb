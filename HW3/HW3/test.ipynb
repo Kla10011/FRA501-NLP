{
 "cells": [
  {
   "cell_type": "code",
   "execution_count": 1,
   "metadata": {},
   "outputs": [
    {
     "name": "stdout",
     "output_type": "stream",
     "text": [
      "['d', 'c']\n"
     ]
    }
   ],
   "source": [
    "a = ['d']\n",
    "a += ['c']\n",
    "print(a)"
   ]
  },
  {
   "cell_type": "code",
   "execution_count": 40,
   "metadata": {},
   "outputs": [],
   "source": [
    "class PartialParse(object):\n",
    "    def __init__(self, sentence):\n",
    "        self.sentence = sentence #--list\n",
    "\n",
    "        self.stack = [\"ROOT\"]\n",
    "        self.buffer = sentence\n",
    "        self.dependencies = list()\n",
    "\n",
    "    def parse_step(self, transition):\n",
    "        if transition == \"S\":\n",
    "            self.stack.append(self.buffer[0])\n",
    "            self.buffer.pop(0)\n",
    "            print(self.stack)\n",
    "            print(self.buffer)\n",
    "        if transition == \"LA\":\n",
    "            self.dependencies.append((self.stack[len(self.stack)-1],self.stack[len(self.stack)-2]))\n",
    "            self.stack.pop(len(self.stack)-2)\n",
    "            print(self.stack)\n",
    "            print(self.buffer)\n",
    "        if transition == \"RA\":\n",
    "            self.dependencies.append((self.stack[len(self.stack)-2],self.stack[len(self.stack)-1]))\n",
    "            self.stack.pop(len(self.stack)-1)\n",
    "            print(self.stack)\n",
    "            print(self.buffer)\n",
    "    def parse(self, transitions):\n",
    "        for transition in transitions:\n",
    "            self.parse_step(transition)\n",
    "        return self.dependencies"
   ]
  },
  {
   "cell_type": "code",
   "execution_count": 41,
   "metadata": {},
   "outputs": [
    {
     "name": "stdout",
     "output_type": "stream",
     "text": [
      "['ROOT', 'kla']\n",
      "['ma', 'mea']\n",
      "['ROOT', 'kla', 'ma']\n",
      "['mea']\n",
      "['ROOT', 'kla', 'ma', 'mea']\n",
      "[]\n",
      "['ROOT', 'kla', 'ma']\n",
      "[]\n",
      "['ROOT', 'ma']\n",
      "[]\n",
      "['ROOT']\n",
      "[]\n"
     ]
    },
    {
     "data": {
      "text/plain": [
       "[('ma', 'mea'), ('ma', 'kla'), ('ROOT', 'ma')]"
      ]
     },
     "execution_count": 41,
     "metadata": {},
     "output_type": "execute_result"
    }
   ],
   "source": [
    "sentence = [\"kla\",\"ma\",\"mea\"]\n",
    "transitions = [\"S\",\"S\",\"S\",\"RA\",\"LA\",\"RA\"]\n",
    "# sentence.pop(2)\n",
    "# print(len(sentence),sentence)\n",
    "a = PartialParse(sentence)\n",
    "a.parse(transitions)"
   ]
  },
  {
   "cell_type": "code",
   "execution_count": 42,
   "metadata": {},
   "outputs": [
    {
     "name": "stdout",
     "output_type": "stream",
     "text": [
      "('parse', 'this', 'sentence')\n"
     ]
    }
   ],
   "source": [
    "sentence = [\"parse\", \"this\", \"sentence\"]\n",
    "print(tuple(sentence))\n",
    "\n"
   ]
  },
  {
   "cell_type": "code",
   "execution_count": 1,
   "metadata": {},
   "outputs": [
    {
     "name": "stdout",
     "output_type": "stream",
     "text": [
      "7\n"
     ]
    }
   ],
   "source": [
    "kid_ages = [2, 7, 5, 6, 3]\n",
    "\n",
    "# max = 0\n",
    "a = max(kid_ages)\n",
    "print(a)"
   ]
  },
  {
   "cell_type": "code",
   "execution_count": 2,
   "metadata": {},
   "outputs": [
    {
     "ename": "TypeError",
     "evalue": "'int' object is not callable",
     "output_type": "error",
     "traceback": [
      "\u001b[1;31m---------------------------------------------------------------------------\u001b[0m",
      "\u001b[1;31mTypeError\u001b[0m                                 Traceback (most recent call last)",
      "\u001b[1;32md:\\FRA501-NLP\\HW3\\HW3\\test.ipynb Cell 6\u001b[0m in \u001b[0;36m<cell line: 3>\u001b[1;34m()\u001b[0m\n\u001b[0;32m      <a href='vscode-notebook-cell:/d%3A/FRA501-NLP/HW3/HW3/test.ipynb#W5sZmlsZQ%3D%3D?line=0'>1</a>\u001b[0m kid_ages \u001b[39m=\u001b[39m [\u001b[39m2\u001b[39m, \u001b[39m7\u001b[39m, \u001b[39m5\u001b[39m, \u001b[39m6\u001b[39m, \u001b[39m3\u001b[39m]\n\u001b[0;32m      <a href='vscode-notebook-cell:/d%3A/FRA501-NLP/HW3/HW3/test.ipynb#W5sZmlsZQ%3D%3D?line=1'>2</a>\u001b[0m \u001b[39mmax\u001b[39m \u001b[39m=\u001b[39m \u001b[39m0\u001b[39m\n\u001b[1;32m----> <a href='vscode-notebook-cell:/d%3A/FRA501-NLP/HW3/HW3/test.ipynb#W5sZmlsZQ%3D%3D?line=2'>3</a>\u001b[0m max_age \u001b[39m=\u001b[39m \u001b[39mmax\u001b[39;49m(kid_ages)\n\u001b[0;32m      <a href='vscode-notebook-cell:/d%3A/FRA501-NLP/HW3/HW3/test.ipynb#W5sZmlsZQ%3D%3D?line=3'>4</a>\u001b[0m \u001b[39mprint\u001b[39m(max_age)\n",
      "\u001b[1;31mTypeError\u001b[0m: 'int' object is not callable"
     ]
    }
   ],
   "source": [
    "kid_ages = [2, 7, 5, 6, 3]\n",
    "max = 0\n",
    "max_age = max(kid_ages)\n",
    "print(max_age)"
   ]
  }
 ],
 "metadata": {
  "kernelspec": {
   "display_name": "base",
   "language": "python",
   "name": "python3"
  },
  "language_info": {
   "codemirror_mode": {
    "name": "ipython",
    "version": 3
   },
   "file_extension": ".py",
   "mimetype": "text/x-python",
   "name": "python",
   "nbconvert_exporter": "python",
   "pygments_lexer": "ipython3",
   "version": "3.9.12"
  },
  "orig_nbformat": 4,
  "vscode": {
   "interpreter": {
    "hash": "ad2bdc8ecc057115af97d19610ffacc2b4e99fae6737bb82f5d7fb13d2f2c186"
   }
  }
 },
 "nbformat": 4,
 "nbformat_minor": 2
}

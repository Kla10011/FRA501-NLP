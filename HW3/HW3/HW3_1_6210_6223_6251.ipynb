{
  "nbformat": 4,
  "nbformat_minor": 0,
  "metadata": {
    "kernelspec": {
      "display_name": "Python 3",
      "language": "python",
      "name": "python3"
    },
    "language_info": {
      "codemirror_mode": {
        "name": "ipython",
        "version": 3
      },
      "file_extension": ".py",
      "mimetype": "text/x-python",
      "name": "python",
      "nbconvert_exporter": "python",
      "pygments_lexer": "ipython3",
      "version": "3.5.2"
    },
    "colab": {
      "provenance": [],
      "collapsed_sections": [
        "JLRUK0Q8Mc6J"
      ]
    },
    "accelerator": "GPU",
    "gpuClass": "standard"
  },
  "cells": [
    {
      "cell_type": "markdown",
      "metadata": {
        "id": "VQ8FRFIYMc5X"
      },
      "source": [
        "# HOMEWORK 5: TEXT CLASSIFICATION\n",
        "In this homework, you will create models to classify texts from TRUE call-center. There are two classification tasks:\n",
        "1. Action Classification: Identify which action the customer would like to take (e.g. enquire, report, cancle)\n",
        "2. Object Classification: Identify which object the customer is referring to (e.g. payment, truemoney, internet, roaming) \n",
        "\n",
        "In this homework, you are asked to do the following tasks:\n",
        "1. Data Cleaning\n",
        "2. Preprocessing data for keras\n",
        "3. Build and evaluate a model for \"action\" classification\n",
        "4. Build and evaluate a model for \"object\" classification\n",
        "5. Build and evaluate a multi-task model that does both \"action\" and \"object\" classifications in one-go \n",
        "\n",
        "\n",
        "Note: we have removed phone numbers from the dataset for privacy purposes. "
      ]
    },
    {
      "cell_type": "code",
      "source": [
        "from google.colab import drive\n",
        "drive.mount('/content/drive')"
      ],
      "metadata": {
        "id": "ooCS0mx36Tvb",
        "colab": {
          "base_uri": "https://localhost:8080/"
        },
        "outputId": "655592d0-bc79-49e3-9deb-6590d043feaa"
      },
      "execution_count": null,
      "outputs": [
        {
          "output_type": "stream",
          "name": "stdout",
          "text": [
            "Mounted at /content/drive\n"
          ]
        }
      ]
    },
    {
      "cell_type": "code",
      "source": [
        "import shutil\n",
        "shutil.copy(\"/content/drive/MyDrive/fra501/Dataset/clean-phone-data.csv\", \"/content/clean-phone-data.csv\")"
      ],
      "metadata": {
        "id": "jdqdQr896VuU",
        "colab": {
          "base_uri": "https://localhost:8080/",
          "height": 35
        },
        "outputId": "f44367f9-9cdf-499f-d2f6-65b600d6c6ae"
      },
      "execution_count": null,
      "outputs": [
        {
          "output_type": "execute_result",
          "data": {
            "text/plain": [
              "'/content/clean-phone-data.csv'"
            ],
            "application/vnd.google.colaboratory.intrinsic+json": {
              "type": "string"
            }
          },
          "metadata": {},
          "execution_count": 2
        }
      ]
    },
    {
      "cell_type": "markdown",
      "metadata": {
        "id": "2YprqbOPMc5a"
      },
      "source": [
        "## Import Libs"
      ]
    },
    {
      "cell_type": "code",
      "metadata": {
        "id": "heICP79cMc5e"
      },
      "source": [
        "%matplotlib inline\n",
        "import pandas\n",
        "import sklearn\n",
        "import numpy as np\n",
        "from IPython.display import display\n",
        "\n",
        "import matplotlib.pyplot as plt"
      ],
      "execution_count": null,
      "outputs": []
    },
    {
      "cell_type": "markdown",
      "metadata": {
        "id": "GPaUf4PLMc5k"
      },
      "source": [
        "## Loading data\n",
        "First, we load the data from disk into a Dataframe.\n",
        "\n",
        "A Dataframe is essentially a table, or 2D-array/Matrix with a name for each column."
      ]
    },
    {
      "cell_type": "code",
      "metadata": {
        "id": "JhZ2eBAWMc5l"
      },
      "source": [
        "phone_df = pandas.read_csv('clean-phone-data.csv')"
      ],
      "execution_count": null,
      "outputs": []
    },
    {
      "cell_type": "markdown",
      "metadata": {
        "id": "cje3yruTMc5p"
      },
      "source": [
        "Let's preview the data."
      ]
    },
    {
      "cell_type": "code",
      "source": [
        "data_df = phone_df.copy()"
      ],
      "metadata": {
        "id": "Z8ZO_gD49h73"
      },
      "execution_count": null,
      "outputs": []
    },
    {
      "cell_type": "code",
      "metadata": {
        "id": "aNqRNz1PMc5q",
        "colab": {
          "base_uri": "https://localhost:8080/",
          "height": 581
        },
        "outputId": "e80b17a1-460f-40db-9ba2-0ac77a4458ff"
      },
      "source": [
        "# Show the top 5 rows\n",
        "display(data_df)\n",
        "# Summarize the data\n",
        "data_df.describe()"
      ],
      "execution_count": null,
      "outputs": [
        {
          "output_type": "display_data",
          "data": {
            "text/plain": [
              "                                      Sentence Utterance   Action  \\\n",
              "0       <PHONE_NUMBER_REMOVED> ผมไปจ่ายเงินที่ Counte...  enquire   \n",
              "1                   internet ยังความเร็วอยุ่เท่าไหร ครับ  enquire   \n",
              "2       ตะกี้ไปชำระค่าบริการไปแล้ว แต่ยังใช้งานไม่ได้...   report   \n",
              "3       พี่ค่ะยังใช้ internet ไม่ได้เลยค่ะ เป็นเครื่อ...  enquire   \n",
              "4       ฮาโหล คะ พอดีว่าเมื่อวานเปิดซิมทรูมูฟ แต่มันโ...   report   \n",
              "...                                                  ...      ...   \n",
              "16170                     เชื่อมต่ออินเตอร์เน็ตไม่ได้ค่ะ  enquire   \n",
              "16171                                โทรออกต่างประเทศค่ะ  enquire   \n",
              "16172                            ยอดเงินเหลือเท่าไหร่ค่ะ  enquire   \n",
              "16173                                      ยอดเงินในระบบ  enquire   \n",
              "16174               สอบถามโปรโมชั่นปัจจุบันที่ใช้อยู่ค่ะ  enquire   \n",
              "\n",
              "             Object  \n",
              "0           payment  \n",
              "1           package  \n",
              "2           suspend  \n",
              "3          internet  \n",
              "4      phone_issues  \n",
              "...             ...  \n",
              "16170      internet  \n",
              "16171           idd  \n",
              "16172       balance  \n",
              "16173       balance  \n",
              "16174       package  \n",
              "\n",
              "[16175 rows x 3 columns]"
            ],
            "text/html": [
              "\n",
              "  <div id=\"df-8fa5daa6-1140-404b-9471-95d55bb57408\">\n",
              "    <div class=\"colab-df-container\">\n",
              "      <div>\n",
              "<style scoped>\n",
              "    .dataframe tbody tr th:only-of-type {\n",
              "        vertical-align: middle;\n",
              "    }\n",
              "\n",
              "    .dataframe tbody tr th {\n",
              "        vertical-align: top;\n",
              "    }\n",
              "\n",
              "    .dataframe thead th {\n",
              "        text-align: right;\n",
              "    }\n",
              "</style>\n",
              "<table border=\"1\" class=\"dataframe\">\n",
              "  <thead>\n",
              "    <tr style=\"text-align: right;\">\n",
              "      <th></th>\n",
              "      <th>Sentence Utterance</th>\n",
              "      <th>Action</th>\n",
              "      <th>Object</th>\n",
              "    </tr>\n",
              "  </thead>\n",
              "  <tbody>\n",
              "    <tr>\n",
              "      <th>0</th>\n",
              "      <td>&lt;PHONE_NUMBER_REMOVED&gt; ผมไปจ่ายเงินที่ Counte...</td>\n",
              "      <td>enquire</td>\n",
              "      <td>payment</td>\n",
              "    </tr>\n",
              "    <tr>\n",
              "      <th>1</th>\n",
              "      <td>internet ยังความเร็วอยุ่เท่าไหร ครับ</td>\n",
              "      <td>enquire</td>\n",
              "      <td>package</td>\n",
              "    </tr>\n",
              "    <tr>\n",
              "      <th>2</th>\n",
              "      <td>ตะกี้ไปชำระค่าบริการไปแล้ว แต่ยังใช้งานไม่ได้...</td>\n",
              "      <td>report</td>\n",
              "      <td>suspend</td>\n",
              "    </tr>\n",
              "    <tr>\n",
              "      <th>3</th>\n",
              "      <td>พี่ค่ะยังใช้ internet ไม่ได้เลยค่ะ เป็นเครื่อ...</td>\n",
              "      <td>enquire</td>\n",
              "      <td>internet</td>\n",
              "    </tr>\n",
              "    <tr>\n",
              "      <th>4</th>\n",
              "      <td>ฮาโหล คะ พอดีว่าเมื่อวานเปิดซิมทรูมูฟ แต่มันโ...</td>\n",
              "      <td>report</td>\n",
              "      <td>phone_issues</td>\n",
              "    </tr>\n",
              "    <tr>\n",
              "      <th>...</th>\n",
              "      <td>...</td>\n",
              "      <td>...</td>\n",
              "      <td>...</td>\n",
              "    </tr>\n",
              "    <tr>\n",
              "      <th>16170</th>\n",
              "      <td>เชื่อมต่ออินเตอร์เน็ตไม่ได้ค่ะ</td>\n",
              "      <td>enquire</td>\n",
              "      <td>internet</td>\n",
              "    </tr>\n",
              "    <tr>\n",
              "      <th>16171</th>\n",
              "      <td>โทรออกต่างประเทศค่ะ</td>\n",
              "      <td>enquire</td>\n",
              "      <td>idd</td>\n",
              "    </tr>\n",
              "    <tr>\n",
              "      <th>16172</th>\n",
              "      <td>ยอดเงินเหลือเท่าไหร่ค่ะ</td>\n",
              "      <td>enquire</td>\n",
              "      <td>balance</td>\n",
              "    </tr>\n",
              "    <tr>\n",
              "      <th>16173</th>\n",
              "      <td>ยอดเงินในระบบ</td>\n",
              "      <td>enquire</td>\n",
              "      <td>balance</td>\n",
              "    </tr>\n",
              "    <tr>\n",
              "      <th>16174</th>\n",
              "      <td>สอบถามโปรโมชั่นปัจจุบันที่ใช้อยู่ค่ะ</td>\n",
              "      <td>enquire</td>\n",
              "      <td>package</td>\n",
              "    </tr>\n",
              "  </tbody>\n",
              "</table>\n",
              "<p>16175 rows × 3 columns</p>\n",
              "</div>\n",
              "      <button class=\"colab-df-convert\" onclick=\"convertToInteractive('df-8fa5daa6-1140-404b-9471-95d55bb57408')\"\n",
              "              title=\"Convert this dataframe to an interactive table.\"\n",
              "              style=\"display:none;\">\n",
              "        \n",
              "  <svg xmlns=\"http://www.w3.org/2000/svg\" height=\"24px\"viewBox=\"0 0 24 24\"\n",
              "       width=\"24px\">\n",
              "    <path d=\"M0 0h24v24H0V0z\" fill=\"none\"/>\n",
              "    <path d=\"M18.56 5.44l.94 2.06.94-2.06 2.06-.94-2.06-.94-.94-2.06-.94 2.06-2.06.94zm-11 1L8.5 8.5l.94-2.06 2.06-.94-2.06-.94L8.5 2.5l-.94 2.06-2.06.94zm10 10l.94 2.06.94-2.06 2.06-.94-2.06-.94-.94-2.06-.94 2.06-2.06.94z\"/><path d=\"M17.41 7.96l-1.37-1.37c-.4-.4-.92-.59-1.43-.59-.52 0-1.04.2-1.43.59L10.3 9.45l-7.72 7.72c-.78.78-.78 2.05 0 2.83L4 21.41c.39.39.9.59 1.41.59.51 0 1.02-.2 1.41-.59l7.78-7.78 2.81-2.81c.8-.78.8-2.07 0-2.86zM5.41 20L4 18.59l7.72-7.72 1.47 1.35L5.41 20z\"/>\n",
              "  </svg>\n",
              "      </button>\n",
              "      \n",
              "  <style>\n",
              "    .colab-df-container {\n",
              "      display:flex;\n",
              "      flex-wrap:wrap;\n",
              "      gap: 12px;\n",
              "    }\n",
              "\n",
              "    .colab-df-convert {\n",
              "      background-color: #E8F0FE;\n",
              "      border: none;\n",
              "      border-radius: 50%;\n",
              "      cursor: pointer;\n",
              "      display: none;\n",
              "      fill: #1967D2;\n",
              "      height: 32px;\n",
              "      padding: 0 0 0 0;\n",
              "      width: 32px;\n",
              "    }\n",
              "\n",
              "    .colab-df-convert:hover {\n",
              "      background-color: #E2EBFA;\n",
              "      box-shadow: 0px 1px 2px rgba(60, 64, 67, 0.3), 0px 1px 3px 1px rgba(60, 64, 67, 0.15);\n",
              "      fill: #174EA6;\n",
              "    }\n",
              "\n",
              "    [theme=dark] .colab-df-convert {\n",
              "      background-color: #3B4455;\n",
              "      fill: #D2E3FC;\n",
              "    }\n",
              "\n",
              "    [theme=dark] .colab-df-convert:hover {\n",
              "      background-color: #434B5C;\n",
              "      box-shadow: 0px 1px 3px 1px rgba(0, 0, 0, 0.15);\n",
              "      filter: drop-shadow(0px 1px 2px rgba(0, 0, 0, 0.3));\n",
              "      fill: #FFFFFF;\n",
              "    }\n",
              "  </style>\n",
              "\n",
              "      <script>\n",
              "        const buttonEl =\n",
              "          document.querySelector('#df-8fa5daa6-1140-404b-9471-95d55bb57408 button.colab-df-convert');\n",
              "        buttonEl.style.display =\n",
              "          google.colab.kernel.accessAllowed ? 'block' : 'none';\n",
              "\n",
              "        async function convertToInteractive(key) {\n",
              "          const element = document.querySelector('#df-8fa5daa6-1140-404b-9471-95d55bb57408');\n",
              "          const dataTable =\n",
              "            await google.colab.kernel.invokeFunction('convertToInteractive',\n",
              "                                                     [key], {});\n",
              "          if (!dataTable) return;\n",
              "\n",
              "          const docLinkHtml = 'Like what you see? Visit the ' +\n",
              "            '<a target=\"_blank\" href=https://colab.research.google.com/notebooks/data_table.ipynb>data table notebook</a>'\n",
              "            + ' to learn more about interactive tables.';\n",
              "          element.innerHTML = '';\n",
              "          dataTable['output_type'] = 'display_data';\n",
              "          await google.colab.output.renderOutput(dataTable, element);\n",
              "          const docLink = document.createElement('div');\n",
              "          docLink.innerHTML = docLinkHtml;\n",
              "          element.appendChild(docLink);\n",
              "        }\n",
              "      </script>\n",
              "    </div>\n",
              "  </div>\n",
              "  "
            ]
          },
          "metadata": {}
        },
        {
          "output_type": "execute_result",
          "data": {
            "text/plain": [
              "       Sentence Utterance   Action   Object\n",
              "count               16175    16175    16175\n",
              "unique              13389       10       33\n",
              "top           บริการอื่นๆ  enquire  service\n",
              "freq                   97    10377     2525"
            ],
            "text/html": [
              "\n",
              "  <div id=\"df-f2d04f8a-a65d-4eee-8b3a-55ce04dc9f5c\">\n",
              "    <div class=\"colab-df-container\">\n",
              "      <div>\n",
              "<style scoped>\n",
              "    .dataframe tbody tr th:only-of-type {\n",
              "        vertical-align: middle;\n",
              "    }\n",
              "\n",
              "    .dataframe tbody tr th {\n",
              "        vertical-align: top;\n",
              "    }\n",
              "\n",
              "    .dataframe thead th {\n",
              "        text-align: right;\n",
              "    }\n",
              "</style>\n",
              "<table border=\"1\" class=\"dataframe\">\n",
              "  <thead>\n",
              "    <tr style=\"text-align: right;\">\n",
              "      <th></th>\n",
              "      <th>Sentence Utterance</th>\n",
              "      <th>Action</th>\n",
              "      <th>Object</th>\n",
              "    </tr>\n",
              "  </thead>\n",
              "  <tbody>\n",
              "    <tr>\n",
              "      <th>count</th>\n",
              "      <td>16175</td>\n",
              "      <td>16175</td>\n",
              "      <td>16175</td>\n",
              "    </tr>\n",
              "    <tr>\n",
              "      <th>unique</th>\n",
              "      <td>13389</td>\n",
              "      <td>10</td>\n",
              "      <td>33</td>\n",
              "    </tr>\n",
              "    <tr>\n",
              "      <th>top</th>\n",
              "      <td>บริการอื่นๆ</td>\n",
              "      <td>enquire</td>\n",
              "      <td>service</td>\n",
              "    </tr>\n",
              "    <tr>\n",
              "      <th>freq</th>\n",
              "      <td>97</td>\n",
              "      <td>10377</td>\n",
              "      <td>2525</td>\n",
              "    </tr>\n",
              "  </tbody>\n",
              "</table>\n",
              "</div>\n",
              "      <button class=\"colab-df-convert\" onclick=\"convertToInteractive('df-f2d04f8a-a65d-4eee-8b3a-55ce04dc9f5c')\"\n",
              "              title=\"Convert this dataframe to an interactive table.\"\n",
              "              style=\"display:none;\">\n",
              "        \n",
              "  <svg xmlns=\"http://www.w3.org/2000/svg\" height=\"24px\"viewBox=\"0 0 24 24\"\n",
              "       width=\"24px\">\n",
              "    <path d=\"M0 0h24v24H0V0z\" fill=\"none\"/>\n",
              "    <path d=\"M18.56 5.44l.94 2.06.94-2.06 2.06-.94-2.06-.94-.94-2.06-.94 2.06-2.06.94zm-11 1L8.5 8.5l.94-2.06 2.06-.94-2.06-.94L8.5 2.5l-.94 2.06-2.06.94zm10 10l.94 2.06.94-2.06 2.06-.94-2.06-.94-.94-2.06-.94 2.06-2.06.94z\"/><path d=\"M17.41 7.96l-1.37-1.37c-.4-.4-.92-.59-1.43-.59-.52 0-1.04.2-1.43.59L10.3 9.45l-7.72 7.72c-.78.78-.78 2.05 0 2.83L4 21.41c.39.39.9.59 1.41.59.51 0 1.02-.2 1.41-.59l7.78-7.78 2.81-2.81c.8-.78.8-2.07 0-2.86zM5.41 20L4 18.59l7.72-7.72 1.47 1.35L5.41 20z\"/>\n",
              "  </svg>\n",
              "      </button>\n",
              "      \n",
              "  <style>\n",
              "    .colab-df-container {\n",
              "      display:flex;\n",
              "      flex-wrap:wrap;\n",
              "      gap: 12px;\n",
              "    }\n",
              "\n",
              "    .colab-df-convert {\n",
              "      background-color: #E8F0FE;\n",
              "      border: none;\n",
              "      border-radius: 50%;\n",
              "      cursor: pointer;\n",
              "      display: none;\n",
              "      fill: #1967D2;\n",
              "      height: 32px;\n",
              "      padding: 0 0 0 0;\n",
              "      width: 32px;\n",
              "    }\n",
              "\n",
              "    .colab-df-convert:hover {\n",
              "      background-color: #E2EBFA;\n",
              "      box-shadow: 0px 1px 2px rgba(60, 64, 67, 0.3), 0px 1px 3px 1px rgba(60, 64, 67, 0.15);\n",
              "      fill: #174EA6;\n",
              "    }\n",
              "\n",
              "    [theme=dark] .colab-df-convert {\n",
              "      background-color: #3B4455;\n",
              "      fill: #D2E3FC;\n",
              "    }\n",
              "\n",
              "    [theme=dark] .colab-df-convert:hover {\n",
              "      background-color: #434B5C;\n",
              "      box-shadow: 0px 1px 3px 1px rgba(0, 0, 0, 0.15);\n",
              "      filter: drop-shadow(0px 1px 2px rgba(0, 0, 0, 0.3));\n",
              "      fill: #FFFFFF;\n",
              "    }\n",
              "  </style>\n",
              "\n",
              "      <script>\n",
              "        const buttonEl =\n",
              "          document.querySelector('#df-f2d04f8a-a65d-4eee-8b3a-55ce04dc9f5c button.colab-df-convert');\n",
              "        buttonEl.style.display =\n",
              "          google.colab.kernel.accessAllowed ? 'block' : 'none';\n",
              "\n",
              "        async function convertToInteractive(key) {\n",
              "          const element = document.querySelector('#df-f2d04f8a-a65d-4eee-8b3a-55ce04dc9f5c');\n",
              "          const dataTable =\n",
              "            await google.colab.kernel.invokeFunction('convertToInteractive',\n",
              "                                                     [key], {});\n",
              "          if (!dataTable) return;\n",
              "\n",
              "          const docLinkHtml = 'Like what you see? Visit the ' +\n",
              "            '<a target=\"_blank\" href=https://colab.research.google.com/notebooks/data_table.ipynb>data table notebook</a>'\n",
              "            + ' to learn more about interactive tables.';\n",
              "          element.innerHTML = '';\n",
              "          dataTable['output_type'] = 'display_data';\n",
              "          await google.colab.output.renderOutput(dataTable, element);\n",
              "          const docLink = document.createElement('div');\n",
              "          docLink.innerHTML = docLinkHtml;\n",
              "          element.appendChild(docLink);\n",
              "        }\n",
              "      </script>\n",
              "    </div>\n",
              "  </div>\n",
              "  "
            ]
          },
          "metadata": {},
          "execution_count": 6
        }
      ]
    },
    {
      "cell_type": "markdown",
      "metadata": {
        "id": "jGd8BNvMMc5y"
      },
      "source": [
        "## Data cleaning\n",
        "\n",
        "We call the DataFrame.describe() again.\n",
        "Notice that there are 33 unique labels/classes for object and 10 unique labels for action that the model will try to predict.\n",
        "But there are unwanted duplications e.g. Idd,idd,lotalty_card,Lotalty_card\n",
        "\n",
        "Also note that, there are 13389 unqiue sentence utterances from 16175 utterances. You have to clean that too!\n",
        "\n",
        "## #TODO 1: \n",
        "You will have to remove unwanted label duplications as well as duplications in text inputs. \n",
        "Also, you will have to trim out unwanted whitespaces from the text inputs. \n",
        "This shouldn't be too hard, as you have already seen it in the demo.\n",
        "\n"
      ]
    },
    {
      "cell_type": "code",
      "metadata": {
        "id": "V0bGLblVMc5z",
        "colab": {
          "base_uri": "https://localhost:8080/",
          "height": 331
        },
        "outputId": "8be0c828-297d-49ca-fb7c-912ad195ed3a"
      },
      "source": [
        "display(data_df.describe())\n",
        "display(data_df.Object.unique())\n",
        "display(data_df.Action.unique())"
      ],
      "execution_count": null,
      "outputs": [
        {
          "output_type": "display_data",
          "data": {
            "text/plain": [
              "       Sentence Utterance   Action   Object\n",
              "count               16175    16175    16175\n",
              "unique              13389       10       33\n",
              "top           บริการอื่นๆ  enquire  service\n",
              "freq                   97    10377     2525"
            ],
            "text/html": [
              "\n",
              "  <div id=\"df-fc704f6c-37a6-4d58-83f6-cd54358f175e\">\n",
              "    <div class=\"colab-df-container\">\n",
              "      <div>\n",
              "<style scoped>\n",
              "    .dataframe tbody tr th:only-of-type {\n",
              "        vertical-align: middle;\n",
              "    }\n",
              "\n",
              "    .dataframe tbody tr th {\n",
              "        vertical-align: top;\n",
              "    }\n",
              "\n",
              "    .dataframe thead th {\n",
              "        text-align: right;\n",
              "    }\n",
              "</style>\n",
              "<table border=\"1\" class=\"dataframe\">\n",
              "  <thead>\n",
              "    <tr style=\"text-align: right;\">\n",
              "      <th></th>\n",
              "      <th>Sentence Utterance</th>\n",
              "      <th>Action</th>\n",
              "      <th>Object</th>\n",
              "    </tr>\n",
              "  </thead>\n",
              "  <tbody>\n",
              "    <tr>\n",
              "      <th>count</th>\n",
              "      <td>16175</td>\n",
              "      <td>16175</td>\n",
              "      <td>16175</td>\n",
              "    </tr>\n",
              "    <tr>\n",
              "      <th>unique</th>\n",
              "      <td>13389</td>\n",
              "      <td>10</td>\n",
              "      <td>33</td>\n",
              "    </tr>\n",
              "    <tr>\n",
              "      <th>top</th>\n",
              "      <td>บริการอื่นๆ</td>\n",
              "      <td>enquire</td>\n",
              "      <td>service</td>\n",
              "    </tr>\n",
              "    <tr>\n",
              "      <th>freq</th>\n",
              "      <td>97</td>\n",
              "      <td>10377</td>\n",
              "      <td>2525</td>\n",
              "    </tr>\n",
              "  </tbody>\n",
              "</table>\n",
              "</div>\n",
              "      <button class=\"colab-df-convert\" onclick=\"convertToInteractive('df-fc704f6c-37a6-4d58-83f6-cd54358f175e')\"\n",
              "              title=\"Convert this dataframe to an interactive table.\"\n",
              "              style=\"display:none;\">\n",
              "        \n",
              "  <svg xmlns=\"http://www.w3.org/2000/svg\" height=\"24px\"viewBox=\"0 0 24 24\"\n",
              "       width=\"24px\">\n",
              "    <path d=\"M0 0h24v24H0V0z\" fill=\"none\"/>\n",
              "    <path d=\"M18.56 5.44l.94 2.06.94-2.06 2.06-.94-2.06-.94-.94-2.06-.94 2.06-2.06.94zm-11 1L8.5 8.5l.94-2.06 2.06-.94-2.06-.94L8.5 2.5l-.94 2.06-2.06.94zm10 10l.94 2.06.94-2.06 2.06-.94-2.06-.94-.94-2.06-.94 2.06-2.06.94z\"/><path d=\"M17.41 7.96l-1.37-1.37c-.4-.4-.92-.59-1.43-.59-.52 0-1.04.2-1.43.59L10.3 9.45l-7.72 7.72c-.78.78-.78 2.05 0 2.83L4 21.41c.39.39.9.59 1.41.59.51 0 1.02-.2 1.41-.59l7.78-7.78 2.81-2.81c.8-.78.8-2.07 0-2.86zM5.41 20L4 18.59l7.72-7.72 1.47 1.35L5.41 20z\"/>\n",
              "  </svg>\n",
              "      </button>\n",
              "      \n",
              "  <style>\n",
              "    .colab-df-container {\n",
              "      display:flex;\n",
              "      flex-wrap:wrap;\n",
              "      gap: 12px;\n",
              "    }\n",
              "\n",
              "    .colab-df-convert {\n",
              "      background-color: #E8F0FE;\n",
              "      border: none;\n",
              "      border-radius: 50%;\n",
              "      cursor: pointer;\n",
              "      display: none;\n",
              "      fill: #1967D2;\n",
              "      height: 32px;\n",
              "      padding: 0 0 0 0;\n",
              "      width: 32px;\n",
              "    }\n",
              "\n",
              "    .colab-df-convert:hover {\n",
              "      background-color: #E2EBFA;\n",
              "      box-shadow: 0px 1px 2px rgba(60, 64, 67, 0.3), 0px 1px 3px 1px rgba(60, 64, 67, 0.15);\n",
              "      fill: #174EA6;\n",
              "    }\n",
              "\n",
              "    [theme=dark] .colab-df-convert {\n",
              "      background-color: #3B4455;\n",
              "      fill: #D2E3FC;\n",
              "    }\n",
              "\n",
              "    [theme=dark] .colab-df-convert:hover {\n",
              "      background-color: #434B5C;\n",
              "      box-shadow: 0px 1px 3px 1px rgba(0, 0, 0, 0.15);\n",
              "      filter: drop-shadow(0px 1px 2px rgba(0, 0, 0, 0.3));\n",
              "      fill: #FFFFFF;\n",
              "    }\n",
              "  </style>\n",
              "\n",
              "      <script>\n",
              "        const buttonEl =\n",
              "          document.querySelector('#df-fc704f6c-37a6-4d58-83f6-cd54358f175e button.colab-df-convert');\n",
              "        buttonEl.style.display =\n",
              "          google.colab.kernel.accessAllowed ? 'block' : 'none';\n",
              "\n",
              "        async function convertToInteractive(key) {\n",
              "          const element = document.querySelector('#df-fc704f6c-37a6-4d58-83f6-cd54358f175e');\n",
              "          const dataTable =\n",
              "            await google.colab.kernel.invokeFunction('convertToInteractive',\n",
              "                                                     [key], {});\n",
              "          if (!dataTable) return;\n",
              "\n",
              "          const docLinkHtml = 'Like what you see? Visit the ' +\n",
              "            '<a target=\"_blank\" href=https://colab.research.google.com/notebooks/data_table.ipynb>data table notebook</a>'\n",
              "            + ' to learn more about interactive tables.';\n",
              "          element.innerHTML = '';\n",
              "          dataTable['output_type'] = 'display_data';\n",
              "          await google.colab.output.renderOutput(dataTable, element);\n",
              "          const docLink = document.createElement('div');\n",
              "          docLink.innerHTML = docLinkHtml;\n",
              "          element.appendChild(docLink);\n",
              "        }\n",
              "      </script>\n",
              "    </div>\n",
              "  </div>\n",
              "  "
            ]
          },
          "metadata": {}
        },
        {
          "output_type": "display_data",
          "data": {
            "text/plain": [
              "array(['payment', 'package', 'suspend', 'internet', 'phone_issues',\n",
              "       'service', 'nonTrueMove', 'balance', 'detail', 'bill', 'credit',\n",
              "       'promotion', 'mobile_setting', 'iservice', 'roaming', 'truemoney',\n",
              "       'information', 'lost_stolen', 'balance_minutes', 'idd',\n",
              "       'TrueMoney', 'garbage', 'Payment', 'IDD', 'ringtone', 'Idd',\n",
              "       'rate', 'loyalty_card', 'contact', 'officer', 'Balance', 'Service',\n",
              "       'Loyalty_card'], dtype=object)"
            ]
          },
          "metadata": {}
        },
        {
          "output_type": "display_data",
          "data": {
            "text/plain": [
              "array(['enquire', 'report', 'cancel', 'Enquire', 'buy', 'activate',\n",
              "       'request', 'Report', 'garbage', 'change'], dtype=object)"
            ]
          },
          "metadata": {}
        }
      ]
    },
    {
      "cell_type": "code",
      "metadata": {
        "id": "19onNNUZMc54"
      },
      "source": [
        "# TODO1: Data cleaning\n",
        "data_df = data_df.drop_duplicates(['Sentence Utterance'], ignore_index=True)"
      ],
      "execution_count": null,
      "outputs": []
    },
    {
      "cell_type": "code",
      "source": [
        "for i in range(len(data_df)):\n",
        "  data_df['Sentence Utterance'][i] = data_df['Sentence Utterance'][i].replace(' ', '')\n",
        "  data_df['Action'][i] = data_df['Action'][i].lower()\n",
        "  data_df['Object'][i] = data_df['Object'][i].lower()"
      ],
      "metadata": {
        "id": "MWme8Yw9CTE-"
      },
      "execution_count": null,
      "outputs": []
    },
    {
      "cell_type": "code",
      "source": [
        "display(data_df.describe())\n",
        "display(data_df.Object.unique())\n",
        "display(data_df.Action.unique())"
      ],
      "metadata": {
        "colab": {
          "base_uri": "https://localhost:8080/",
          "height": 313
        },
        "id": "Z8IWzgnOBwwm",
        "outputId": "cec9a462-4ad3-43e9-b964-250b1c141a26"
      },
      "execution_count": null,
      "outputs": [
        {
          "output_type": "display_data",
          "data": {
            "text/plain": [
              "                Sentence Utterance   Action   Object\n",
              "count                        13389    13389    13389\n",
              "unique                       13282        8       26\n",
              "top     ต้องการเปลี่ยนโปรโมชั่นค่ะ  enquire  service\n",
              "freq                             3     8658     2111"
            ],
            "text/html": [
              "\n",
              "  <div id=\"df-339d7f9e-963c-44fe-929a-b369790c99c8\">\n",
              "    <div class=\"colab-df-container\">\n",
              "      <div>\n",
              "<style scoped>\n",
              "    .dataframe tbody tr th:only-of-type {\n",
              "        vertical-align: middle;\n",
              "    }\n",
              "\n",
              "    .dataframe tbody tr th {\n",
              "        vertical-align: top;\n",
              "    }\n",
              "\n",
              "    .dataframe thead th {\n",
              "        text-align: right;\n",
              "    }\n",
              "</style>\n",
              "<table border=\"1\" class=\"dataframe\">\n",
              "  <thead>\n",
              "    <tr style=\"text-align: right;\">\n",
              "      <th></th>\n",
              "      <th>Sentence Utterance</th>\n",
              "      <th>Action</th>\n",
              "      <th>Object</th>\n",
              "    </tr>\n",
              "  </thead>\n",
              "  <tbody>\n",
              "    <tr>\n",
              "      <th>count</th>\n",
              "      <td>13389</td>\n",
              "      <td>13389</td>\n",
              "      <td>13389</td>\n",
              "    </tr>\n",
              "    <tr>\n",
              "      <th>unique</th>\n",
              "      <td>13282</td>\n",
              "      <td>8</td>\n",
              "      <td>26</td>\n",
              "    </tr>\n",
              "    <tr>\n",
              "      <th>top</th>\n",
              "      <td>ต้องการเปลี่ยนโปรโมชั่นค่ะ</td>\n",
              "      <td>enquire</td>\n",
              "      <td>service</td>\n",
              "    </tr>\n",
              "    <tr>\n",
              "      <th>freq</th>\n",
              "      <td>3</td>\n",
              "      <td>8658</td>\n",
              "      <td>2111</td>\n",
              "    </tr>\n",
              "  </tbody>\n",
              "</table>\n",
              "</div>\n",
              "      <button class=\"colab-df-convert\" onclick=\"convertToInteractive('df-339d7f9e-963c-44fe-929a-b369790c99c8')\"\n",
              "              title=\"Convert this dataframe to an interactive table.\"\n",
              "              style=\"display:none;\">\n",
              "        \n",
              "  <svg xmlns=\"http://www.w3.org/2000/svg\" height=\"24px\"viewBox=\"0 0 24 24\"\n",
              "       width=\"24px\">\n",
              "    <path d=\"M0 0h24v24H0V0z\" fill=\"none\"/>\n",
              "    <path d=\"M18.56 5.44l.94 2.06.94-2.06 2.06-.94-2.06-.94-.94-2.06-.94 2.06-2.06.94zm-11 1L8.5 8.5l.94-2.06 2.06-.94-2.06-.94L8.5 2.5l-.94 2.06-2.06.94zm10 10l.94 2.06.94-2.06 2.06-.94-2.06-.94-.94-2.06-.94 2.06-2.06.94z\"/><path d=\"M17.41 7.96l-1.37-1.37c-.4-.4-.92-.59-1.43-.59-.52 0-1.04.2-1.43.59L10.3 9.45l-7.72 7.72c-.78.78-.78 2.05 0 2.83L4 21.41c.39.39.9.59 1.41.59.51 0 1.02-.2 1.41-.59l7.78-7.78 2.81-2.81c.8-.78.8-2.07 0-2.86zM5.41 20L4 18.59l7.72-7.72 1.47 1.35L5.41 20z\"/>\n",
              "  </svg>\n",
              "      </button>\n",
              "      \n",
              "  <style>\n",
              "    .colab-df-container {\n",
              "      display:flex;\n",
              "      flex-wrap:wrap;\n",
              "      gap: 12px;\n",
              "    }\n",
              "\n",
              "    .colab-df-convert {\n",
              "      background-color: #E8F0FE;\n",
              "      border: none;\n",
              "      border-radius: 50%;\n",
              "      cursor: pointer;\n",
              "      display: none;\n",
              "      fill: #1967D2;\n",
              "      height: 32px;\n",
              "      padding: 0 0 0 0;\n",
              "      width: 32px;\n",
              "    }\n",
              "\n",
              "    .colab-df-convert:hover {\n",
              "      background-color: #E2EBFA;\n",
              "      box-shadow: 0px 1px 2px rgba(60, 64, 67, 0.3), 0px 1px 3px 1px rgba(60, 64, 67, 0.15);\n",
              "      fill: #174EA6;\n",
              "    }\n",
              "\n",
              "    [theme=dark] .colab-df-convert {\n",
              "      background-color: #3B4455;\n",
              "      fill: #D2E3FC;\n",
              "    }\n",
              "\n",
              "    [theme=dark] .colab-df-convert:hover {\n",
              "      background-color: #434B5C;\n",
              "      box-shadow: 0px 1px 3px 1px rgba(0, 0, 0, 0.15);\n",
              "      filter: drop-shadow(0px 1px 2px rgba(0, 0, 0, 0.3));\n",
              "      fill: #FFFFFF;\n",
              "    }\n",
              "  </style>\n",
              "\n",
              "      <script>\n",
              "        const buttonEl =\n",
              "          document.querySelector('#df-339d7f9e-963c-44fe-929a-b369790c99c8 button.colab-df-convert');\n",
              "        buttonEl.style.display =\n",
              "          google.colab.kernel.accessAllowed ? 'block' : 'none';\n",
              "\n",
              "        async function convertToInteractive(key) {\n",
              "          const element = document.querySelector('#df-339d7f9e-963c-44fe-929a-b369790c99c8');\n",
              "          const dataTable =\n",
              "            await google.colab.kernel.invokeFunction('convertToInteractive',\n",
              "                                                     [key], {});\n",
              "          if (!dataTable) return;\n",
              "\n",
              "          const docLinkHtml = 'Like what you see? Visit the ' +\n",
              "            '<a target=\"_blank\" href=https://colab.research.google.com/notebooks/data_table.ipynb>data table notebook</a>'\n",
              "            + ' to learn more about interactive tables.';\n",
              "          element.innerHTML = '';\n",
              "          dataTable['output_type'] = 'display_data';\n",
              "          await google.colab.output.renderOutput(dataTable, element);\n",
              "          const docLink = document.createElement('div');\n",
              "          docLink.innerHTML = docLinkHtml;\n",
              "          element.appendChild(docLink);\n",
              "        }\n",
              "      </script>\n",
              "    </div>\n",
              "  </div>\n",
              "  "
            ]
          },
          "metadata": {}
        },
        {
          "output_type": "display_data",
          "data": {
            "text/plain": [
              "array(['payment', 'package', 'suspend', 'internet', 'phone_issues',\n",
              "       'service', 'nontruemove', 'balance', 'detail', 'bill', 'credit',\n",
              "       'promotion', 'mobile_setting', 'iservice', 'roaming', 'truemoney',\n",
              "       'information', 'lost_stolen', 'balance_minutes', 'idd', 'garbage',\n",
              "       'ringtone', 'rate', 'loyalty_card', 'contact', 'officer'],\n",
              "      dtype=object)"
            ]
          },
          "metadata": {}
        },
        {
          "output_type": "display_data",
          "data": {
            "text/plain": [
              "array(['enquire', 'report', 'cancel', 'buy', 'activate', 'request',\n",
              "       'garbage', 'change'], dtype=object)"
            ]
          },
          "metadata": {}
        }
      ]
    },
    {
      "cell_type": "code",
      "source": [
        "data_df.head()"
      ],
      "metadata": {
        "colab": {
          "base_uri": "https://localhost:8080/",
          "height": 206
        },
        "id": "qkTP5E942jCm",
        "outputId": "3b7a0176-3ed1-4af8-b264-5100e97f7489"
      },
      "execution_count": null,
      "outputs": [
        {
          "output_type": "execute_result",
          "data": {
            "text/plain": [
              "                                  Sentence Utterance   Action        Object\n",
              "0  <PHONE_NUMBER_REMOVED>ผมไปจ่ายเงินที่CounterSe...  enquire       payment\n",
              "1                 internetยังความเร็วอยุ่เท่าไหรครับ  enquire       package\n",
              "2    ตะกี้ไปชำระค่าบริการไปแล้วแต่ยังใช้งานไม่ได้ค่ะ   report       suspend\n",
              "3   พี่ค่ะยังใช้internetไม่ได้เลยค่ะเป็นเครื่องโกลไล  enquire      internet\n",
              "4  ฮาโหลคะพอดีว่าเมื่อวานเปิดซิมทรูมูฟแต่มันโทรออ...   report  phone_issues"
            ],
            "text/html": [
              "\n",
              "  <div id=\"df-b0d67534-5dab-44e0-be84-9dd1931613eb\">\n",
              "    <div class=\"colab-df-container\">\n",
              "      <div>\n",
              "<style scoped>\n",
              "    .dataframe tbody tr th:only-of-type {\n",
              "        vertical-align: middle;\n",
              "    }\n",
              "\n",
              "    .dataframe tbody tr th {\n",
              "        vertical-align: top;\n",
              "    }\n",
              "\n",
              "    .dataframe thead th {\n",
              "        text-align: right;\n",
              "    }\n",
              "</style>\n",
              "<table border=\"1\" class=\"dataframe\">\n",
              "  <thead>\n",
              "    <tr style=\"text-align: right;\">\n",
              "      <th></th>\n",
              "      <th>Sentence Utterance</th>\n",
              "      <th>Action</th>\n",
              "      <th>Object</th>\n",
              "    </tr>\n",
              "  </thead>\n",
              "  <tbody>\n",
              "    <tr>\n",
              "      <th>0</th>\n",
              "      <td>&lt;PHONE_NUMBER_REMOVED&gt;ผมไปจ่ายเงินที่CounterSe...</td>\n",
              "      <td>enquire</td>\n",
              "      <td>payment</td>\n",
              "    </tr>\n",
              "    <tr>\n",
              "      <th>1</th>\n",
              "      <td>internetยังความเร็วอยุ่เท่าไหรครับ</td>\n",
              "      <td>enquire</td>\n",
              "      <td>package</td>\n",
              "    </tr>\n",
              "    <tr>\n",
              "      <th>2</th>\n",
              "      <td>ตะกี้ไปชำระค่าบริการไปแล้วแต่ยังใช้งานไม่ได้ค่ะ</td>\n",
              "      <td>report</td>\n",
              "      <td>suspend</td>\n",
              "    </tr>\n",
              "    <tr>\n",
              "      <th>3</th>\n",
              "      <td>พี่ค่ะยังใช้internetไม่ได้เลยค่ะเป็นเครื่องโกลไล</td>\n",
              "      <td>enquire</td>\n",
              "      <td>internet</td>\n",
              "    </tr>\n",
              "    <tr>\n",
              "      <th>4</th>\n",
              "      <td>ฮาโหลคะพอดีว่าเมื่อวานเปิดซิมทรูมูฟแต่มันโทรออ...</td>\n",
              "      <td>report</td>\n",
              "      <td>phone_issues</td>\n",
              "    </tr>\n",
              "  </tbody>\n",
              "</table>\n",
              "</div>\n",
              "      <button class=\"colab-df-convert\" onclick=\"convertToInteractive('df-b0d67534-5dab-44e0-be84-9dd1931613eb')\"\n",
              "              title=\"Convert this dataframe to an interactive table.\"\n",
              "              style=\"display:none;\">\n",
              "        \n",
              "  <svg xmlns=\"http://www.w3.org/2000/svg\" height=\"24px\"viewBox=\"0 0 24 24\"\n",
              "       width=\"24px\">\n",
              "    <path d=\"M0 0h24v24H0V0z\" fill=\"none\"/>\n",
              "    <path d=\"M18.56 5.44l.94 2.06.94-2.06 2.06-.94-2.06-.94-.94-2.06-.94 2.06-2.06.94zm-11 1L8.5 8.5l.94-2.06 2.06-.94-2.06-.94L8.5 2.5l-.94 2.06-2.06.94zm10 10l.94 2.06.94-2.06 2.06-.94-2.06-.94-.94-2.06-.94 2.06-2.06.94z\"/><path d=\"M17.41 7.96l-1.37-1.37c-.4-.4-.92-.59-1.43-.59-.52 0-1.04.2-1.43.59L10.3 9.45l-7.72 7.72c-.78.78-.78 2.05 0 2.83L4 21.41c.39.39.9.59 1.41.59.51 0 1.02-.2 1.41-.59l7.78-7.78 2.81-2.81c.8-.78.8-2.07 0-2.86zM5.41 20L4 18.59l7.72-7.72 1.47 1.35L5.41 20z\"/>\n",
              "  </svg>\n",
              "      </button>\n",
              "      \n",
              "  <style>\n",
              "    .colab-df-container {\n",
              "      display:flex;\n",
              "      flex-wrap:wrap;\n",
              "      gap: 12px;\n",
              "    }\n",
              "\n",
              "    .colab-df-convert {\n",
              "      background-color: #E8F0FE;\n",
              "      border: none;\n",
              "      border-radius: 50%;\n",
              "      cursor: pointer;\n",
              "      display: none;\n",
              "      fill: #1967D2;\n",
              "      height: 32px;\n",
              "      padding: 0 0 0 0;\n",
              "      width: 32px;\n",
              "    }\n",
              "\n",
              "    .colab-df-convert:hover {\n",
              "      background-color: #E2EBFA;\n",
              "      box-shadow: 0px 1px 2px rgba(60, 64, 67, 0.3), 0px 1px 3px 1px rgba(60, 64, 67, 0.15);\n",
              "      fill: #174EA6;\n",
              "    }\n",
              "\n",
              "    [theme=dark] .colab-df-convert {\n",
              "      background-color: #3B4455;\n",
              "      fill: #D2E3FC;\n",
              "    }\n",
              "\n",
              "    [theme=dark] .colab-df-convert:hover {\n",
              "      background-color: #434B5C;\n",
              "      box-shadow: 0px 1px 3px 1px rgba(0, 0, 0, 0.15);\n",
              "      filter: drop-shadow(0px 1px 2px rgba(0, 0, 0, 0.3));\n",
              "      fill: #FFFFFF;\n",
              "    }\n",
              "  </style>\n",
              "\n",
              "      <script>\n",
              "        const buttonEl =\n",
              "          document.querySelector('#df-b0d67534-5dab-44e0-be84-9dd1931613eb button.colab-df-convert');\n",
              "        buttonEl.style.display =\n",
              "          google.colab.kernel.accessAllowed ? 'block' : 'none';\n",
              "\n",
              "        async function convertToInteractive(key) {\n",
              "          const element = document.querySelector('#df-b0d67534-5dab-44e0-be84-9dd1931613eb');\n",
              "          const dataTable =\n",
              "            await google.colab.kernel.invokeFunction('convertToInteractive',\n",
              "                                                     [key], {});\n",
              "          if (!dataTable) return;\n",
              "\n",
              "          const docLinkHtml = 'Like what you see? Visit the ' +\n",
              "            '<a target=\"_blank\" href=https://colab.research.google.com/notebooks/data_table.ipynb>data table notebook</a>'\n",
              "            + ' to learn more about interactive tables.';\n",
              "          element.innerHTML = '';\n",
              "          dataTable['output_type'] = 'display_data';\n",
              "          await google.colab.output.renderOutput(dataTable, element);\n",
              "          const docLink = document.createElement('div');\n",
              "          docLink.innerHTML = docLinkHtml;\n",
              "          element.appendChild(docLink);\n",
              "        }\n",
              "      </script>\n",
              "    </div>\n",
              "  </div>\n",
              "  "
            ]
          },
          "metadata": {},
          "execution_count": 11
        }
      ]
    },
    {
      "cell_type": "markdown",
      "metadata": {
        "id": "7BZZYPuIMc59"
      },
      "source": [
        "## #TODO 2: Preprocessing data for Keras\n",
        "You will be using Tensorflow 2 keras in this assignment. Please show us how you prepare your data for keras.\n",
        "Don't forget to split data into train and test sets (+ validation set if you want)"
      ]
    },
    {
      "cell_type": "code",
      "metadata": {
        "id": "SycOJ6cDMc5_",
        "colab": {
          "base_uri": "https://localhost:8080/"
        },
        "outputId": "b041f121-dc51-4048-f6e4-3b7aa873637b"
      },
      "source": [
        "# TODO2: Preprocessing data for Keras\n",
        "input_chars = list(set(''.join(data_df['Sentence Utterance'])))\n",
        "# action_chars = list(set(''.join(data_df['Action'])))\n",
        "# object_chars = list(set(''.join(data_df['Object'])))\n",
        "\n",
        "# +1 for padding\n",
        "data_size, vocab_size = len(data_df), len(input_chars)+1 \n",
        "print(data_size, vocab_size)\n",
        "# action_vocab_size = len(action_chars)+1\n",
        "# object_vocab_size = len(object_chars)+1\n",
        "# print(data_size, vocab_size, action_vocab_size, object_vocab_size)\n",
        "\n",
        "maxlen = len(max(data_df['Sentence Utterance'], key=len))\n",
        "print('max len:', maxlen)"
      ],
      "execution_count": null,
      "outputs": [
        {
          "output_type": "stream",
          "name": "stdout",
          "text": [
            "13389 152\n",
            "max len: 449\n"
          ]
        }
      ]
    },
    {
      "cell_type": "code",
      "source": [
        "sorted_chars= sorted(input_chars)\n",
        "# sorted_action_chars= sorted(action_chars)\n",
        "# sorted_object_chars= sorted(object_chars)\n",
        "sorted_chars.insert(0,\"<PAD>\") #PADDING for input\n",
        "# sorted_action_chars.insert(0,\"<PAD>\") #PADDING for action\n",
        "# sorted_object_chars.insert(0,\"<PAD>\") #PADDING for object\n",
        "#Input\n",
        "char_to_ix = { ch:i for i,ch in enumerate(sorted_chars) }\n",
        "ix_to_char = { i:ch for i,ch in enumerate(sorted_chars) } #reverse dictionary\n",
        "# #Action\n",
        "# action_char_to_ix = { ch:i for i,ch in enumerate(sorted_action_chars) }\n",
        "# ix_to_action_char = { i:ch for i,ch in enumerate(sorted_action_chars) } #reverse dictionary\n",
        "# #Object\n",
        "# object_char_to_ix = { ch:i for i,ch in enumerate(sorted_object_chars) }\n",
        "# ix_to_object_char = { i:ch for i,ch in enumerate(sorted_object_chars) } #reverse dictionary\n",
        "\n",
        "print(ix_to_char)\n",
        "# print(ix_to_action_char)\n",
        "# print(ix_to_object_char)"
      ],
      "metadata": {
        "colab": {
          "base_uri": "https://localhost:8080/"
        },
        "id": "RNTM9KHS70Lq",
        "outputId": "14a0b93d-817c-47be-9503-09b737358d0c"
      },
      "execution_count": null,
      "outputs": [
        {
          "output_type": "stream",
          "name": "stdout",
          "text": [
            "{0: '<PAD>', 1: '\\n', 2: '\"', 3: '#', 4: '%', 5: '&', 6: \"'\", 7: '(', 8: ')', 9: '*', 10: '+', 11: ',', 12: '-', 13: '.', 14: '/', 15: '0', 16: '1', 17: '2', 18: '3', 19: '4', 20: '5', 21: '6', 22: '7', 23: '8', 24: '9', 25: '<', 26: '>', 27: '?', 28: '@', 29: 'A', 30: 'B', 31: 'C', 32: 'D', 33: 'E', 34: 'F', 35: 'G', 36: 'H', 37: 'I', 38: 'J', 39: 'K', 40: 'L', 41: 'M', 42: 'N', 43: 'O', 44: 'P', 45: 'R', 46: 'S', 47: 'T', 48: 'U', 49: 'V', 50: 'W', 51: 'X', 52: 'Y', 53: '_', 54: 'a', 55: 'b', 56: 'c', 57: 'd', 58: 'e', 59: 'f', 60: 'g', 61: 'h', 62: 'i', 63: 'j', 64: 'k', 65: 'l', 66: 'm', 67: 'n', 68: 'o', 69: 'p', 70: 'q', 71: 'r', 72: 's', 73: 't', 74: 'u', 75: 'v', 76: 'w', 77: 'x', 78: 'y', 79: 'z', 80: 'é', 81: 'ก', 82: 'ข', 83: 'ฃ', 84: 'ค', 85: 'ฆ', 86: 'ง', 87: 'จ', 88: 'ฉ', 89: 'ช', 90: 'ซ', 91: 'ฌ', 92: 'ญ', 93: 'ฎ', 94: 'ฐ', 95: 'ฑ', 96: 'ฒ', 97: 'ณ', 98: 'ด', 99: 'ต', 100: 'ถ', 101: 'ท', 102: 'ธ', 103: 'น', 104: 'บ', 105: 'ป', 106: 'ผ', 107: 'ฝ', 108: 'พ', 109: 'ฟ', 110: 'ภ', 111: 'ม', 112: 'ย', 113: 'ร', 114: 'ฤ', 115: 'ล', 116: 'ว', 117: 'ศ', 118: 'ษ', 119: 'ส', 120: 'ห', 121: 'ฬ', 122: 'อ', 123: 'ฮ', 124: 'ฯ', 125: 'ะ', 126: 'ั', 127: 'า', 128: 'ำ', 129: 'ิ', 130: 'ี', 131: 'ึ', 132: 'ื', 133: 'ุ', 134: 'ู', 135: 'ฺ', 136: 'เ', 137: 'แ', 138: 'โ', 139: 'ใ', 140: 'ไ', 141: 'ๆ', 142: '็', 143: '่', 144: '้', 145: '๊', 146: '๋', 147: '์', 148: 'ํ', 149: '“', 150: '”', 151: '…'}\n"
          ]
        }
      ]
    },
    {
      "cell_type": "code",
      "source": [
        "temp = []\n",
        "action_to_num = {}\n",
        "for act in data_df['Action']:\n",
        "  if act not in temp:\n",
        "    action_to_num[act] = len(temp)\n",
        "    temp.append(act)\n",
        "\n",
        "temp = []\n",
        "object_to_num = {}\n",
        "for obj in data_df['Object']:\n",
        "  if obj not in temp:\n",
        "    object_to_num[obj] = len(temp)\n",
        "    temp.append(obj)\n",
        "\n",
        "print(action_to_num)\n",
        "print(object_to_num)"
      ],
      "metadata": {
        "colab": {
          "base_uri": "https://localhost:8080/"
        },
        "id": "NPqL9a_EJLeh",
        "outputId": "a4436316-c486-4146-dee7-57c690f67121"
      },
      "execution_count": null,
      "outputs": [
        {
          "output_type": "stream",
          "name": "stdout",
          "text": [
            "{'enquire': 0, 'report': 1, 'cancel': 2, 'buy': 3, 'activate': 4, 'request': 5, 'garbage': 6, 'change': 7}\n",
            "{'payment': 0, 'package': 1, 'suspend': 2, 'internet': 3, 'phone_issues': 4, 'service': 5, 'nontruemove': 6, 'balance': 7, 'detail': 8, 'bill': 9, 'credit': 10, 'promotion': 11, 'mobile_setting': 12, 'iservice': 13, 'roaming': 14, 'truemoney': 15, 'information': 16, 'lost_stolen': 17, 'balance_minutes': 18, 'idd': 19, 'garbage': 20, 'ringtone': 21, 'rate': 22, 'loyalty_card': 23, 'contact': 24, 'officer': 25}\n"
          ]
        }
      ]
    },
    {
      "cell_type": "code",
      "source": [
        "df = data_df.copy()"
      ],
      "metadata": {
        "id": "pwM_9i8Bl7Yf"
      },
      "execution_count": null,
      "outputs": []
    },
    {
      "cell_type": "code",
      "source": [
        "for act in action_to_num:\n",
        "  df.loc[df[\"Action\"] == act, \"Action\"] = action_to_num[act]\n",
        "\n",
        "for obj in object_to_num:\n",
        "  df.loc[df[\"Object\"] == obj, \"Object\"] = object_to_num[obj]\n",
        "\n",
        "df.head()"
      ],
      "metadata": {
        "colab": {
          "base_uri": "https://localhost:8080/",
          "height": 206
        },
        "id": "Bd3U3TPZkDzc",
        "outputId": "69f98648-0892-4983-d9e2-2f604de4add7"
      },
      "execution_count": null,
      "outputs": [
        {
          "output_type": "execute_result",
          "data": {
            "text/plain": [
              "                                  Sentence Utterance Action Object\n",
              "0  <PHONE_NUMBER_REMOVED>ผมไปจ่ายเงินที่CounterSe...      0      0\n",
              "1                 internetยังความเร็วอยุ่เท่าไหรครับ      0      1\n",
              "2    ตะกี้ไปชำระค่าบริการไปแล้วแต่ยังใช้งานไม่ได้ค่ะ      1      2\n",
              "3   พี่ค่ะยังใช้internetไม่ได้เลยค่ะเป็นเครื่องโกลไล      0      3\n",
              "4  ฮาโหลคะพอดีว่าเมื่อวานเปิดซิมทรูมูฟแต่มันโทรออ...      1      4"
            ],
            "text/html": [
              "\n",
              "  <div id=\"df-49b2e16f-a782-452c-af95-9702257ab988\">\n",
              "    <div class=\"colab-df-container\">\n",
              "      <div>\n",
              "<style scoped>\n",
              "    .dataframe tbody tr th:only-of-type {\n",
              "        vertical-align: middle;\n",
              "    }\n",
              "\n",
              "    .dataframe tbody tr th {\n",
              "        vertical-align: top;\n",
              "    }\n",
              "\n",
              "    .dataframe thead th {\n",
              "        text-align: right;\n",
              "    }\n",
              "</style>\n",
              "<table border=\"1\" class=\"dataframe\">\n",
              "  <thead>\n",
              "    <tr style=\"text-align: right;\">\n",
              "      <th></th>\n",
              "      <th>Sentence Utterance</th>\n",
              "      <th>Action</th>\n",
              "      <th>Object</th>\n",
              "    </tr>\n",
              "  </thead>\n",
              "  <tbody>\n",
              "    <tr>\n",
              "      <th>0</th>\n",
              "      <td>&lt;PHONE_NUMBER_REMOVED&gt;ผมไปจ่ายเงินที่CounterSe...</td>\n",
              "      <td>0</td>\n",
              "      <td>0</td>\n",
              "    </tr>\n",
              "    <tr>\n",
              "      <th>1</th>\n",
              "      <td>internetยังความเร็วอยุ่เท่าไหรครับ</td>\n",
              "      <td>0</td>\n",
              "      <td>1</td>\n",
              "    </tr>\n",
              "    <tr>\n",
              "      <th>2</th>\n",
              "      <td>ตะกี้ไปชำระค่าบริการไปแล้วแต่ยังใช้งานไม่ได้ค่ะ</td>\n",
              "      <td>1</td>\n",
              "      <td>2</td>\n",
              "    </tr>\n",
              "    <tr>\n",
              "      <th>3</th>\n",
              "      <td>พี่ค่ะยังใช้internetไม่ได้เลยค่ะเป็นเครื่องโกลไล</td>\n",
              "      <td>0</td>\n",
              "      <td>3</td>\n",
              "    </tr>\n",
              "    <tr>\n",
              "      <th>4</th>\n",
              "      <td>ฮาโหลคะพอดีว่าเมื่อวานเปิดซิมทรูมูฟแต่มันโทรออ...</td>\n",
              "      <td>1</td>\n",
              "      <td>4</td>\n",
              "    </tr>\n",
              "  </tbody>\n",
              "</table>\n",
              "</div>\n",
              "      <button class=\"colab-df-convert\" onclick=\"convertToInteractive('df-49b2e16f-a782-452c-af95-9702257ab988')\"\n",
              "              title=\"Convert this dataframe to an interactive table.\"\n",
              "              style=\"display:none;\">\n",
              "        \n",
              "  <svg xmlns=\"http://www.w3.org/2000/svg\" height=\"24px\"viewBox=\"0 0 24 24\"\n",
              "       width=\"24px\">\n",
              "    <path d=\"M0 0h24v24H0V0z\" fill=\"none\"/>\n",
              "    <path d=\"M18.56 5.44l.94 2.06.94-2.06 2.06-.94-2.06-.94-.94-2.06-.94 2.06-2.06.94zm-11 1L8.5 8.5l.94-2.06 2.06-.94-2.06-.94L8.5 2.5l-.94 2.06-2.06.94zm10 10l.94 2.06.94-2.06 2.06-.94-2.06-.94-.94-2.06-.94 2.06-2.06.94z\"/><path d=\"M17.41 7.96l-1.37-1.37c-.4-.4-.92-.59-1.43-.59-.52 0-1.04.2-1.43.59L10.3 9.45l-7.72 7.72c-.78.78-.78 2.05 0 2.83L4 21.41c.39.39.9.59 1.41.59.51 0 1.02-.2 1.41-.59l7.78-7.78 2.81-2.81c.8-.78.8-2.07 0-2.86zM5.41 20L4 18.59l7.72-7.72 1.47 1.35L5.41 20z\"/>\n",
              "  </svg>\n",
              "      </button>\n",
              "      \n",
              "  <style>\n",
              "    .colab-df-container {\n",
              "      display:flex;\n",
              "      flex-wrap:wrap;\n",
              "      gap: 12px;\n",
              "    }\n",
              "\n",
              "    .colab-df-convert {\n",
              "      background-color: #E8F0FE;\n",
              "      border: none;\n",
              "      border-radius: 50%;\n",
              "      cursor: pointer;\n",
              "      display: none;\n",
              "      fill: #1967D2;\n",
              "      height: 32px;\n",
              "      padding: 0 0 0 0;\n",
              "      width: 32px;\n",
              "    }\n",
              "\n",
              "    .colab-df-convert:hover {\n",
              "      background-color: #E2EBFA;\n",
              "      box-shadow: 0px 1px 2px rgba(60, 64, 67, 0.3), 0px 1px 3px 1px rgba(60, 64, 67, 0.15);\n",
              "      fill: #174EA6;\n",
              "    }\n",
              "\n",
              "    [theme=dark] .colab-df-convert {\n",
              "      background-color: #3B4455;\n",
              "      fill: #D2E3FC;\n",
              "    }\n",
              "\n",
              "    [theme=dark] .colab-df-convert:hover {\n",
              "      background-color: #434B5C;\n",
              "      box-shadow: 0px 1px 3px 1px rgba(0, 0, 0, 0.15);\n",
              "      filter: drop-shadow(0px 1px 2px rgba(0, 0, 0, 0.3));\n",
              "      fill: #FFFFFF;\n",
              "    }\n",
              "  </style>\n",
              "\n",
              "      <script>\n",
              "        const buttonEl =\n",
              "          document.querySelector('#df-49b2e16f-a782-452c-af95-9702257ab988 button.colab-df-convert');\n",
              "        buttonEl.style.display =\n",
              "          google.colab.kernel.accessAllowed ? 'block' : 'none';\n",
              "\n",
              "        async function convertToInteractive(key) {\n",
              "          const element = document.querySelector('#df-49b2e16f-a782-452c-af95-9702257ab988');\n",
              "          const dataTable =\n",
              "            await google.colab.kernel.invokeFunction('convertToInteractive',\n",
              "                                                     [key], {});\n",
              "          if (!dataTable) return;\n",
              "\n",
              "          const docLinkHtml = 'Like what you see? Visit the ' +\n",
              "            '<a target=\"_blank\" href=https://colab.research.google.com/notebooks/data_table.ipynb>data table notebook</a>'\n",
              "            + ' to learn more about interactive tables.';\n",
              "          element.innerHTML = '';\n",
              "          dataTable['output_type'] = 'display_data';\n",
              "          await google.colab.output.renderOutput(dataTable, element);\n",
              "          const docLink = document.createElement('div');\n",
              "          docLink.innerHTML = docLinkHtml;\n",
              "          element.appendChild(docLink);\n",
              "        }\n",
              "      </script>\n",
              "    </div>\n",
              "  </div>\n",
              "  "
            ]
          },
          "metadata": {},
          "execution_count": 16
        }
      ]
    },
    {
      "cell_type": "code",
      "source": [
        "from tensorflow.keras.preprocessing.sequence import pad_sequences\n",
        "from tensorflow.keras.layers import Bidirectional, Concatenate, Permute, Dot, Input, LSTM, Multiply\n",
        "from tensorflow.keras.layers import RepeatVector, Dense, Activation, Lambda, Reshape, SimpleRNN\n",
        "from tensorflow.keras.callbacks import LambdaCallback\n",
        "from tensorflow.keras.optimizers import Adam\n",
        "from tensorflow.keras.utils import to_categorical\n",
        "from tensorflow.keras.models import load_model, Model\n",
        "import tensorflow.keras.backend as K\n",
        "import numpy as np"
      ],
      "metadata": {
        "id": "LGiL6CQYpznN"
      },
      "execution_count": null,
      "outputs": []
    },
    {
      "cell_type": "code",
      "source": [
        "train = df[:int(len(df)*0.7)].copy()\n",
        "test = df[int(len(df)*0.7):].copy()"
      ],
      "metadata": {
        "id": "IKdcRBGSLnDx"
      },
      "execution_count": null,
      "outputs": []
    },
    {
      "cell_type": "code",
      "source": [
        "train_X = []\n",
        "for line in train['Sentence Utterance']:\n",
        "    temp=[]\n",
        "    for char in line:\n",
        "        temp.append(char_to_ix[char])\n",
        "    train_X.append(temp)\n",
        "train_X = pad_sequences(train_X,maxlen=maxlen)\n",
        "train_X = to_categorical(train_X,vocab_size)\n",
        "train_X =train_X.reshape(len(train),maxlen ,vocab_size)\n",
        "train_act = train['Action']\n",
        "train_obj = train['Object']\n",
        "\n",
        "test_X = []\n",
        "for line in test['Sentence Utterance']:\n",
        "    temp=[]\n",
        "    for char in line:\n",
        "        temp.append(char_to_ix[char])\n",
        "    test_X.append(temp)\n",
        "test_X = pad_sequences(test_X,maxlen=maxlen)\n",
        "test_X = to_categorical(test_X,vocab_size)\n",
        "test_X =test_X.reshape(len(test),maxlen ,vocab_size)\n",
        "test_act = test['Action']\n",
        "test_obj = test['Object']\n",
        "\n"
      ],
      "metadata": {
        "id": "mPAuxzC3mywa"
      },
      "execution_count": null,
      "outputs": []
    },
    {
      "cell_type": "code",
      "source": [
        "print(train_X.shape, test_X.shape)"
      ],
      "metadata": {
        "colab": {
          "base_uri": "https://localhost:8080/"
        },
        "id": "jZ9GNQs-qAbt",
        "outputId": "f02f2d48-099a-432f-8fbe-484846d7d4c9"
      },
      "execution_count": null,
      "outputs": [
        {
          "output_type": "stream",
          "name": "stdout",
          "text": [
            "(9372, 449, 152) (4017, 449, 152)\n"
          ]
        }
      ]
    },
    {
      "cell_type": "code",
      "source": [
        "train_act = to_categorical(train_act, len(df.Action.unique()))\n",
        "train_obj = to_categorical(train_obj, len(df.Object.unique()))\n",
        "test_act = to_categorical(test_act, len(df.Action.unique()))\n",
        "test_obj = to_categorical(test_obj, len(df.Object.unique()))"
      ],
      "metadata": {
        "id": "2UFEmXSxOZOJ"
      },
      "execution_count": null,
      "outputs": []
    },
    {
      "cell_type": "markdown",
      "metadata": {
        "id": "-tXZiLZ4Mc6E"
      },
      "source": [
        "## #TODO 3: Build and evaluate a model for \"action\" classification\n"
      ]
    },
    {
      "cell_type": "code",
      "metadata": {
        "id": "sYXnkcY7Mc6F"
      },
      "source": [
        "#TODO 3: Build and evaluate a model for \"action\" classification\n",
        "def train_model(maxlen, hidden, n_class):\n",
        "  X = Input(shape=(maxlen, vocab_size))\n",
        "\n",
        "  # a0 = Input(shape=(hidden,), name='a0')\n",
        "  # a = a0\n",
        "\n",
        "  reshapor = Reshape((1,  vocab_size)) #Reshape the size of a tensor                         \n",
        "  RNN_cell = SimpleRNN(hidden, return_state = True) #An RNN Cell       \n",
        "  output_layer = Dense(n_class, activation='softmax')  #softmax output layer  \n",
        "    \n",
        "  # REMOVE DUE TO PROCESSING POWER NOT ENOUGH\n",
        "    # Loop  through the sequence of length Tx\n",
        "  # for t in range(maxlen):\n",
        "  #     # Select the \"t\"th time step vector from X.\n",
        "  #     x =  X[:,t,:] #--> shape(n_values)\n",
        "  #     # Reshape x to be (1, n_values)\n",
        "  #     x = reshapor(x) \n",
        "  #     # Update the hidden state of the RNN \n",
        "  #     # a, _ = RNN_cell(x, initial_state=[a]) \n",
        "  #     if t > 0:\n",
        "  #       a, _ = RNN_cell(x, initial_state=[a])\n",
        "  #     elif t==0:\n",
        "  #       a, _ = RNN_cell(x)\n",
        "      # Pass the hidden vector to a softmax function\n",
        "  # x = reshapor(X)\n",
        "  a, _ = RNN_cell(X)\n",
        "  out = output_layer(a)\n",
        "        \n",
        "    # Create the model instance\n",
        "  model =  Model(inputs=X, outputs=out)    \n",
        "  return model\n",
        "  "
      ],
      "execution_count": null,
      "outputs": []
    },
    {
      "cell_type": "code",
      "source": [
        "model = train_model(maxlen, 16, len(df.Action.unique()))\n",
        "opt = Adam(lr=0.001) #optimizer\n",
        "model.compile(optimizer=opt, loss='categorical_crossentropy', metrics=['accuracy'])\n",
        "model.summary()"
      ],
      "metadata": {
        "colab": {
          "base_uri": "https://localhost:8080/"
        },
        "id": "wCd7VBW0u2OH",
        "outputId": "7c374e3e-74bb-4c23-e048-66d0737abbf0"
      },
      "execution_count": null,
      "outputs": [
        {
          "output_type": "stream",
          "name": "stderr",
          "text": [
            "WARNING:absl:`lr` is deprecated in Keras optimizer, please use `learning_rate` or use the legacy optimizer, e.g.,tf.keras.optimizers.legacy.Adam.\n"
          ]
        },
        {
          "output_type": "stream",
          "name": "stdout",
          "text": [
            "Model: \"model_1\"\n",
            "_________________________________________________________________\n",
            " Layer (type)                Output Shape              Param #   \n",
            "=================================================================\n",
            " input_2 (InputLayer)        [(None, 449, 152)]        0         \n",
            "                                                                 \n",
            " simple_rnn_1 (SimpleRNN)    [(None, 16),              2704      \n",
            "                              (None, 16)]                        \n",
            "                                                                 \n",
            " dense_1 (Dense)             (None, 8)                 136       \n",
            "                                                                 \n",
            "=================================================================\n",
            "Total params: 2,840\n",
            "Trainable params: 2,840\n",
            "Non-trainable params: 0\n",
            "_________________________________________________________________\n"
          ]
        }
      ]
    },
    {
      "cell_type": "code",
      "source": [
        "model.fit(train_X, train_act,verbose=1 ,epochs=50)"
      ],
      "metadata": {
        "colab": {
          "base_uri": "https://localhost:8080/"
        },
        "id": "Y3P6ockFJJVn",
        "outputId": "8e53a28b-5843-492f-cc76-368f1c544ab0"
      },
      "execution_count": null,
      "outputs": [
        {
          "output_type": "stream",
          "name": "stdout",
          "text": [
            "Epoch 1/50\n",
            "293/293 [==============================] - 28s 93ms/step - loss: 1.4244 - accuracy: 0.5794\n",
            "Epoch 2/50\n",
            "293/293 [==============================] - 24s 84ms/step - loss: 1.3173 - accuracy: 0.6104\n",
            "Epoch 3/50\n",
            "293/293 [==============================] - 26s 90ms/step - loss: 1.3091 - accuracy: 0.6094\n",
            "Epoch 4/50\n",
            "293/293 [==============================] - 26s 90ms/step - loss: 1.2532 - accuracy: 0.6153\n",
            "Epoch 5/50\n",
            "293/293 [==============================] - 26s 88ms/step - loss: 1.2378 - accuracy: 0.6140\n",
            "Epoch 6/50\n",
            "293/293 [==============================] - 24s 82ms/step - loss: 1.1851 - accuracy: 0.6276\n",
            "Epoch 7/50\n",
            "293/293 [==============================] - 26s 90ms/step - loss: 1.1631 - accuracy: 0.6366\n",
            "Epoch 8/50\n",
            "293/293 [==============================] - 27s 91ms/step - loss: 1.1522 - accuracy: 0.6415\n",
            "Epoch 9/50\n",
            "293/293 [==============================] - 25s 85ms/step - loss: 1.1369 - accuracy: 0.6463\n",
            "Epoch 10/50\n",
            "293/293 [==============================] - 25s 87ms/step - loss: 1.1287 - accuracy: 0.6454\n",
            "Epoch 11/50\n",
            "293/293 [==============================] - 27s 91ms/step - loss: 1.1154 - accuracy: 0.6514\n",
            "Epoch 12/50\n",
            "293/293 [==============================] - 27s 92ms/step - loss: 1.0793 - accuracy: 0.6598\n",
            "Epoch 13/50\n",
            "293/293 [==============================] - 25s 84ms/step - loss: 1.0368 - accuracy: 0.6695\n",
            "Epoch 14/50\n",
            "293/293 [==============================] - 25s 87ms/step - loss: 1.0123 - accuracy: 0.6767\n",
            "Epoch 15/50\n",
            "293/293 [==============================] - 26s 90ms/step - loss: 0.9876 - accuracy: 0.6826\n",
            "Epoch 16/50\n",
            "293/293 [==============================] - 26s 89ms/step - loss: 0.9652 - accuracy: 0.6962\n",
            "Epoch 17/50\n",
            "293/293 [==============================] - 23s 80ms/step - loss: 1.1479 - accuracy: 0.6625\n",
            "Epoch 18/50\n",
            "293/293 [==============================] - 26s 88ms/step - loss: 1.2794 - accuracy: 0.6106\n",
            "Epoch 19/50\n",
            "293/293 [==============================] - 26s 89ms/step - loss: 1.2629 - accuracy: 0.6120\n",
            "Epoch 20/50\n",
            "293/293 [==============================] - 24s 80ms/step - loss: 1.2240 - accuracy: 0.6188\n",
            "Epoch 21/50\n",
            "293/293 [==============================] - 26s 89ms/step - loss: 1.1100 - accuracy: 0.6500\n",
            "Epoch 22/50\n",
            "293/293 [==============================] - 26s 89ms/step - loss: 1.0090 - accuracy: 0.6802\n",
            "Epoch 23/50\n",
            "293/293 [==============================] - 25s 84ms/step - loss: 0.9418 - accuracy: 0.7013\n",
            "Epoch 24/50\n",
            "293/293 [==============================] - 25s 84ms/step - loss: 1.0368 - accuracy: 0.6826\n",
            "Epoch 25/50\n",
            "293/293 [==============================] - 26s 89ms/step - loss: 0.9766 - accuracy: 0.7000\n",
            "Epoch 26/50\n",
            "293/293 [==============================] - 26s 90ms/step - loss: 0.9345 - accuracy: 0.7140\n",
            "Epoch 27/50\n",
            "293/293 [==============================] - 23s 80ms/step - loss: 1.0111 - accuracy: 0.7045\n",
            "Epoch 28/50\n",
            "293/293 [==============================] - 26s 88ms/step - loss: 1.2945 - accuracy: 0.6269\n",
            "Epoch 29/50\n",
            "293/293 [==============================] - 26s 88ms/step - loss: 1.2356 - accuracy: 0.6268\n",
            "Epoch 30/50\n",
            "293/293 [==============================] - 23s 79ms/step - loss: 1.2301 - accuracy: 0.6268\n",
            "Epoch 31/50\n",
            "293/293 [==============================] - 26s 89ms/step - loss: 1.2289 - accuracy: 0.6258\n",
            "Epoch 32/50\n",
            "293/293 [==============================] - 26s 89ms/step - loss: 1.2188 - accuracy: 0.6272\n",
            "Epoch 33/50\n",
            "293/293 [==============================] - 24s 82ms/step - loss: 1.2202 - accuracy: 0.6258\n",
            "Epoch 34/50\n",
            "293/293 [==============================] - 25s 86ms/step - loss: 1.2390 - accuracy: 0.6222\n",
            "Epoch 35/50\n",
            "293/293 [==============================] - 26s 89ms/step - loss: 1.2537 - accuracy: 0.6168\n",
            "Epoch 36/50\n",
            "293/293 [==============================] - 26s 88ms/step - loss: 1.2003 - accuracy: 0.6290\n",
            "Epoch 37/50\n",
            "293/293 [==============================] - 24s 81ms/step - loss: 1.2042 - accuracy: 0.6207\n",
            "Epoch 38/50\n",
            "293/293 [==============================] - 26s 89ms/step - loss: 1.1741 - accuracy: 0.6246\n",
            "Epoch 39/50\n",
            "293/293 [==============================] - 26s 89ms/step - loss: 1.1232 - accuracy: 0.6294\n",
            "Epoch 40/50\n",
            "293/293 [==============================] - 23s 80ms/step - loss: 1.0850 - accuracy: 0.6401\n",
            "Epoch 41/50\n",
            "293/293 [==============================] - 26s 89ms/step - loss: 1.0318 - accuracy: 0.6586\n",
            "Epoch 42/50\n",
            "293/293 [==============================] - 26s 89ms/step - loss: 1.0046 - accuracy: 0.6657\n",
            "Epoch 43/50\n",
            "293/293 [==============================] - 24s 83ms/step - loss: 0.9962 - accuracy: 0.6821\n",
            "Epoch 44/50\n",
            "293/293 [==============================] - 26s 87ms/step - loss: 0.9141 - accuracy: 0.7076\n",
            "Epoch 45/50\n",
            "293/293 [==============================] - 26s 89ms/step - loss: 0.8931 - accuracy: 0.7111\n",
            "Epoch 46/50\n",
            "293/293 [==============================] - 26s 90ms/step - loss: 0.8686 - accuracy: 0.7179\n",
            "Epoch 47/50\n",
            "293/293 [==============================] - 23s 80ms/step - loss: 0.9551 - accuracy: 0.6980\n",
            "Epoch 48/50\n",
            "293/293 [==============================] - 26s 89ms/step - loss: 0.8849 - accuracy: 0.7149\n",
            "Epoch 49/50\n",
            "293/293 [==============================] - 26s 89ms/step - loss: 0.8525 - accuracy: 0.7122\n",
            "Epoch 50/50\n",
            "293/293 [==============================] - 24s 81ms/step - loss: 0.8256 - accuracy: 0.7345\n"
          ]
        },
        {
          "output_type": "execute_result",
          "data": {
            "text/plain": [
              "<keras.callbacks.History at 0x7f82b45eaee0>"
            ]
          },
          "metadata": {},
          "execution_count": 24
        }
      ]
    },
    {
      "cell_type": "code",
      "source": [
        "model.evaluate(test_X, test_act)"
      ],
      "metadata": {
        "colab": {
          "base_uri": "https://localhost:8080/"
        },
        "id": "ADdpaRdamX16",
        "outputId": "2cb4182e-6982-4d57-e8b9-1f3530520729"
      },
      "execution_count": null,
      "outputs": [
        {
          "output_type": "stream",
          "name": "stdout",
          "text": [
            "126/126 [==============================] - 4s 30ms/step - loss: 0.8061 - accuracy: 0.7864\n"
          ]
        },
        {
          "output_type": "execute_result",
          "data": {
            "text/plain": [
              "[0.8061073422431946, 0.7864077687263489]"
            ]
          },
          "metadata": {},
          "execution_count": 25
        }
      ]
    },
    {
      "cell_type": "markdown",
      "source": [
        "*The result can be improve easily by training more epoch but we will train it only until 50 epochs due to insufficient RAM"
      ],
      "metadata": {
        "id": "63Op6arpz7n_"
      }
    },
    {
      "cell_type": "markdown",
      "metadata": {
        "id": "JLRUK0Q8Mc6J"
      },
      "source": [
        "## #TODO 4: Build and evaluate a model for \"object\" classification\n",
        "\n"
      ]
    },
    {
      "cell_type": "code",
      "metadata": {
        "id": "9evsrIiKMc6K",
        "colab": {
          "base_uri": "https://localhost:8080/"
        },
        "outputId": "d1f99806-4ed0-4ba6-85e4-b4bc9c85af07"
      },
      "source": [
        "#TODO 4: Build and evaluate a model for \"object\" classification\n",
        "model = train_model(maxlen, 16, len(df.Object.unique()))\n",
        "opt = Adam(lr=0.001) #optimizer\n",
        "model.compile(optimizer=opt, loss='categorical_crossentropy', metrics=['accuracy'])\n",
        "model.summary()"
      ],
      "execution_count": null,
      "outputs": [
        {
          "output_type": "stream",
          "name": "stderr",
          "text": [
            "WARNING:absl:`lr` is deprecated in Keras optimizer, please use `learning_rate` or use the legacy optimizer, e.g.,tf.keras.optimizers.legacy.Adam.\n"
          ]
        },
        {
          "output_type": "stream",
          "name": "stdout",
          "text": [
            "Model: \"model_2\"\n",
            "_________________________________________________________________\n",
            " Layer (type)                Output Shape              Param #   \n",
            "=================================================================\n",
            " input_3 (InputLayer)        [(None, 449, 152)]        0         \n",
            "                                                                 \n",
            " simple_rnn_2 (SimpleRNN)    [(None, 16),              2704      \n",
            "                              (None, 16)]                        \n",
            "                                                                 \n",
            " dense_2 (Dense)             (None, 26)                442       \n",
            "                                                                 \n",
            "=================================================================\n",
            "Total params: 3,146\n",
            "Trainable params: 3,146\n",
            "Non-trainable params: 0\n",
            "_________________________________________________________________\n"
          ]
        }
      ]
    },
    {
      "cell_type": "code",
      "source": [
        "model.fit(train_X, train_obj,verbose=1 ,epochs=50)"
      ],
      "metadata": {
        "colab": {
          "base_uri": "https://localhost:8080/"
        },
        "id": "lZCYU_itnXle",
        "outputId": "4f541fb6-3eb2-4ae1-ab31-7d3278249e4c"
      },
      "execution_count": null,
      "outputs": [
        {
          "output_type": "stream",
          "name": "stdout",
          "text": [
            "Epoch 1/50\n",
            "293/293 [==============================] - 31s 102ms/step - loss: 2.7510 - accuracy: 0.1605\n",
            "Epoch 2/50\n",
            "293/293 [==============================] - 27s 91ms/step - loss: 2.6229 - accuracy: 0.1774\n",
            "Epoch 3/50\n",
            "293/293 [==============================] - 26s 89ms/step - loss: 2.6049 - accuracy: 0.2004\n",
            "Epoch 4/50\n",
            "293/293 [==============================] - 25s 86ms/step - loss: 2.5896 - accuracy: 0.2088\n",
            "Epoch 5/50\n",
            "293/293 [==============================] - 27s 93ms/step - loss: 2.5731 - accuracy: 0.2188\n",
            "Epoch 6/50\n",
            "293/293 [==============================] - 27s 92ms/step - loss: 2.5540 - accuracy: 0.2272\n",
            "Epoch 7/50\n",
            "293/293 [==============================] - 27s 93ms/step - loss: 2.5312 - accuracy: 0.2339\n",
            "Epoch 8/50\n",
            "293/293 [==============================] - 25s 84ms/step - loss: 2.5177 - accuracy: 0.2389\n",
            "Epoch 9/50\n",
            "293/293 [==============================] - 27s 91ms/step - loss: 2.4655 - accuracy: 0.2573\n",
            "Epoch 10/50\n",
            "293/293 [==============================] - 27s 91ms/step - loss: 2.3912 - accuracy: 0.2927\n",
            "Epoch 11/50\n",
            "293/293 [==============================] - 26s 90ms/step - loss: 2.3660 - accuracy: 0.3003\n",
            "Epoch 12/50\n",
            "293/293 [==============================] - 25s 86ms/step - loss: 2.3217 - accuracy: 0.3126\n",
            "Epoch 13/50\n",
            "293/293 [==============================] - 26s 90ms/step - loss: 2.3026 - accuracy: 0.3233\n",
            "Epoch 14/50\n",
            "293/293 [==============================] - 27s 91ms/step - loss: 2.3064 - accuracy: 0.3262\n",
            "Epoch 15/50\n",
            "293/293 [==============================] - 27s 91ms/step - loss: 2.2520 - accuracy: 0.3418\n",
            "Epoch 16/50\n",
            "293/293 [==============================] - 25s 84ms/step - loss: 2.2436 - accuracy: 0.3445\n",
            "Epoch 17/50\n",
            "293/293 [==============================] - 26s 90ms/step - loss: 2.2224 - accuracy: 0.3521\n",
            "Epoch 18/50\n",
            "293/293 [==============================] - 27s 94ms/step - loss: 2.2008 - accuracy: 0.3569\n",
            "Epoch 19/50\n",
            "293/293 [==============================] - 27s 92ms/step - loss: 2.1905 - accuracy: 0.3605\n",
            "Epoch 20/50\n",
            "293/293 [==============================] - 26s 90ms/step - loss: 2.1789 - accuracy: 0.3651\n",
            "Epoch 21/50\n",
            "293/293 [==============================] - 25s 84ms/step - loss: 2.1574 - accuracy: 0.3677\n",
            "Epoch 22/50\n",
            "293/293 [==============================] - 28s 94ms/step - loss: 2.1434 - accuracy: 0.3704\n",
            "Epoch 23/50\n",
            "293/293 [==============================] - 27s 92ms/step - loss: 2.1443 - accuracy: 0.3710\n",
            "Epoch 24/50\n",
            "293/293 [==============================] - 27s 93ms/step - loss: 2.1117 - accuracy: 0.3801\n",
            "Epoch 25/50\n",
            "293/293 [==============================] - 26s 89ms/step - loss: 2.1153 - accuracy: 0.3819\n",
            "Epoch 26/50\n",
            "293/293 [==============================] - 26s 87ms/step - loss: 2.0770 - accuracy: 0.3913\n",
            "Epoch 27/50\n",
            "293/293 [==============================] - 27s 93ms/step - loss: 2.0776 - accuracy: 0.3916\n",
            "Epoch 28/50\n",
            "293/293 [==============================] - 27s 94ms/step - loss: 2.0449 - accuracy: 0.4054\n",
            "Epoch 29/50\n",
            "293/293 [==============================] - 28s 96ms/step - loss: 2.0378 - accuracy: 0.4073\n",
            "Epoch 30/50\n",
            "293/293 [==============================] - 28s 96ms/step - loss: 2.0203 - accuracy: 0.4086\n",
            "Epoch 31/50\n",
            "293/293 [==============================] - 25s 85ms/step - loss: 2.0051 - accuracy: 0.4146\n",
            "Epoch 32/50\n",
            "293/293 [==============================] - 27s 94ms/step - loss: 1.9977 - accuracy: 0.4117\n",
            "Epoch 33/50\n",
            "293/293 [==============================] - 28s 95ms/step - loss: 1.9896 - accuracy: 0.4214\n",
            "Epoch 34/50\n",
            "293/293 [==============================] - 27s 93ms/step - loss: 1.9720 - accuracy: 0.4187\n",
            "Epoch 35/50\n",
            "293/293 [==============================] - 27s 92ms/step - loss: 1.9765 - accuracy: 0.4214\n",
            "Epoch 36/50\n",
            "293/293 [==============================] - 25s 84ms/step - loss: 1.9567 - accuracy: 0.4250\n",
            "Epoch 37/50\n",
            "293/293 [==============================] - 27s 92ms/step - loss: 1.9459 - accuracy: 0.4267\n",
            "Epoch 38/50\n",
            "293/293 [==============================] - 27s 92ms/step - loss: 1.9447 - accuracy: 0.4254\n",
            "Epoch 39/50\n",
            "293/293 [==============================] - 27s 93ms/step - loss: 1.9297 - accuracy: 0.4284\n",
            "Epoch 40/50\n",
            "293/293 [==============================] - 26s 89ms/step - loss: 1.9351 - accuracy: 0.4292\n",
            "Epoch 41/50\n",
            "293/293 [==============================] - 25s 87ms/step - loss: 1.9283 - accuracy: 0.4266\n",
            "Epoch 42/50\n",
            "293/293 [==============================] - 27s 93ms/step - loss: 1.9451 - accuracy: 0.4255\n",
            "Epoch 43/50\n",
            "293/293 [==============================] - 27s 93ms/step - loss: 1.9168 - accuracy: 0.4346\n",
            "Epoch 44/50\n",
            "293/293 [==============================] - 27s 93ms/step - loss: 1.9693 - accuracy: 0.4165\n",
            "Epoch 45/50\n",
            "293/293 [==============================] - 25s 87ms/step - loss: 1.8936 - accuracy: 0.4367\n",
            "Epoch 46/50\n",
            "293/293 [==============================] - 26s 89ms/step - loss: 1.8897 - accuracy: 0.4450\n",
            "Epoch 47/50\n",
            "293/293 [==============================] - 27s 92ms/step - loss: 1.8894 - accuracy: 0.4384\n",
            "Epoch 48/50\n",
            "293/293 [==============================] - 27s 92ms/step - loss: 1.8630 - accuracy: 0.4483\n",
            "Epoch 49/50\n",
            "293/293 [==============================] - 27s 92ms/step - loss: 1.8673 - accuracy: 0.4477\n",
            "Epoch 50/50\n",
            "293/293 [==============================] - 24s 83ms/step - loss: 1.8716 - accuracy: 0.4489\n"
          ]
        },
        {
          "output_type": "execute_result",
          "data": {
            "text/plain": [
              "<keras.callbacks.History at 0x7f81d6d3cb20>"
            ]
          },
          "metadata": {},
          "execution_count": 29
        }
      ]
    },
    {
      "cell_type": "code",
      "source": [
        "model.evaluate(test_X, test_obj)"
      ],
      "metadata": {
        "colab": {
          "base_uri": "https://localhost:8080/"
        },
        "id": "cPL-rRPpnbkc",
        "outputId": "6bac85f5-74c6-4d3e-a6c5-27b67b442c55"
      },
      "execution_count": null,
      "outputs": [
        {
          "output_type": "stream",
          "name": "stdout",
          "text": [
            "126/126 [==============================] - 4s 30ms/step - loss: 2.0686 - accuracy: 0.3886\n"
          ]
        },
        {
          "output_type": "execute_result",
          "data": {
            "text/plain": [
              "[2.068596124649048, 0.3885984420776367]"
            ]
          },
          "metadata": {},
          "execution_count": 30
        }
      ]
    },
    {
      "cell_type": "markdown",
      "source": [
        "*The result can be improve easily by training more epoch but we will train it only until 50 epochs due to insufficient RAM"
      ],
      "metadata": {
        "id": "NGHRgXsf0nBK"
      }
    },
    {
      "cell_type": "markdown",
      "metadata": {
        "id": "bsAxmXfGMc6N"
      },
      "source": [
        "## #TODO 5: Build and evaluate a multi-task model that does both \"action\" and \"object\" classifications in one-go \n",
        "\n",
        "This can be a bit tricky, if you are not familiar with the Keras functional API. PLEASE READ these webpages(https://www.tensorflow.org/guide/keras/functional, https://keras.io/getting-started/functional-api-guide/) before you start this task.   \n",
        "\n",
        "Your model will have 2 separate output layers one for action classification task and another for object classification task. \n",
        "\n",
        "This is a rough sketch of what your model might look like:\n",
        "image --> https://drive.google.com/file/d/1r7M6tFyQDu6pJIxLd_fn2kBMjo_CWmUK/view?usp=share_link"
      ]
    },
    {
      "cell_type": "code",
      "metadata": {
        "id": "MZX6wx49Mc6P"
      },
      "source": [
        "#TODO 5: Build and evaluate a multi-task model that does both \"action\" and \"object\" classifications in one-go\n",
        "def train_model(maxlen, hidden, n_act, n_obj):\n",
        "  X = Input(shape=(maxlen, vocab_size))\n",
        "\n",
        "\n",
        "  reshapor = Reshape((1,  vocab_size)) #Reshape the size of a tensor                         \n",
        "  RNN_cell = SimpleRNN(hidden, return_state = True) #An RNN Cell       \n",
        "  output_act = Dense(n_act, activation='softmax')  #softmax output layer \n",
        "  output_obj = Dense(n_obj, activation='softmax')  #softmax output layer   \n",
        "    \n",
        "  a, _ = RNN_cell(X)\n",
        "  out_act = output_act(a)\n",
        "  out_obj = output_obj(a)\n",
        "        \n",
        "    # Create the model instance\n",
        "  model =  Model(inputs=X, outputs=[out_act, out_obj])    \n",
        "  return model"
      ],
      "execution_count": null,
      "outputs": []
    },
    {
      "cell_type": "code",
      "source": [
        "model = train_model(maxlen, 16, len(df.Action.unique()), len(df.Object.unique()))\n",
        "opt = Adam(lr=0.001) #optimizer\n",
        "model.compile(optimizer=opt, loss='categorical_crossentropy', metrics=['accuracy'])\n",
        "model.summary()"
      ],
      "metadata": {
        "colab": {
          "base_uri": "https://localhost:8080/"
        },
        "id": "Fkpj-6uqFgKQ",
        "outputId": "89ed94b1-0b57-4a16-ced0-845679ca5aec"
      },
      "execution_count": null,
      "outputs": [
        {
          "output_type": "stream",
          "name": "stderr",
          "text": [
            "WARNING:absl:`lr` is deprecated in Keras optimizer, please use `learning_rate` or use the legacy optimizer, e.g.,tf.keras.optimizers.legacy.Adam.\n"
          ]
        },
        {
          "output_type": "stream",
          "name": "stdout",
          "text": [
            "Model: \"model_1\"\n",
            "__________________________________________________________________________________________________\n",
            " Layer (type)                   Output Shape         Param #     Connected to                     \n",
            "==================================================================================================\n",
            " input_2 (InputLayer)           [(None, 449, 152)]   0           []                               \n",
            "                                                                                                  \n",
            " simple_rnn_1 (SimpleRNN)       [(None, 16),         2704        ['input_2[0][0]']                \n",
            "                                 (None, 16)]                                                      \n",
            "                                                                                                  \n",
            " dense_2 (Dense)                (None, 8)            136         ['simple_rnn_1[0][0]']           \n",
            "                                                                                                  \n",
            " dense_3 (Dense)                (None, 26)           442         ['simple_rnn_1[0][0]']           \n",
            "                                                                                                  \n",
            "==================================================================================================\n",
            "Total params: 3,282\n",
            "Trainable params: 3,282\n",
            "Non-trainable params: 0\n",
            "__________________________________________________________________________________________________\n"
          ]
        }
      ]
    },
    {
      "cell_type": "code",
      "source": [
        "model.fit(train_X, [train_act, train_obj],verbose=1 ,epochs=50)"
      ],
      "metadata": {
        "colab": {
          "base_uri": "https://localhost:8080/"
        },
        "id": "7tWOc9hDFu7q",
        "outputId": "1cd43446-2af4-4af9-9480-927de3adf7ec"
      },
      "execution_count": null,
      "outputs": [
        {
          "output_type": "stream",
          "name": "stdout",
          "text": [
            "Epoch 1/50\n",
            "293/293 [==============================] - 29s 91ms/step - loss: 4.1712 - dense_2_loss: 1.3873 - dense_3_loss: 2.7838 - dense_2_accuracy: 0.5990 - dense_3_accuracy: 0.1352\n",
            "Epoch 2/50\n",
            "293/293 [==============================] - 27s 91ms/step - loss: 3.9526 - dense_2_loss: 1.3211 - dense_3_loss: 2.6315 - dense_2_accuracy: 0.6104 - dense_3_accuracy: 0.1735\n",
            "Epoch 3/50\n",
            "293/293 [==============================] - 27s 91ms/step - loss: 3.9449 - dense_2_loss: 1.3175 - dense_3_loss: 2.6273 - dense_2_accuracy: 0.6104 - dense_3_accuracy: 0.1732\n",
            "Epoch 4/50\n",
            "293/293 [==============================] - 25s 85ms/step - loss: 3.9376 - dense_2_loss: 1.3132 - dense_3_loss: 2.6244 - dense_2_accuracy: 0.6104 - dense_3_accuracy: 0.1742\n",
            "Epoch 5/50\n",
            "293/293 [==============================] - 26s 89ms/step - loss: 3.9214 - dense_2_loss: 1.3050 - dense_3_loss: 2.6164 - dense_2_accuracy: 0.6104 - dense_3_accuracy: 0.1819\n",
            "Epoch 6/50\n",
            "293/293 [==============================] - 28s 95ms/step - loss: 3.8719 - dense_2_loss: 1.2774 - dense_3_loss: 2.5946 - dense_2_accuracy: 0.6105 - dense_3_accuracy: 0.1994\n",
            "Epoch 7/50\n",
            "293/293 [==============================] - 27s 91ms/step - loss: 3.8119 - dense_2_loss: 1.2478 - dense_3_loss: 2.5641 - dense_2_accuracy: 0.6110 - dense_3_accuracy: 0.2175\n",
            "Epoch 8/50\n",
            "293/293 [==============================] - 25s 86ms/step - loss: 3.7419 - dense_2_loss: 1.2119 - dense_3_loss: 2.5300 - dense_2_accuracy: 0.6133 - dense_3_accuracy: 0.2239\n",
            "Epoch 9/50\n",
            "293/293 [==============================] - 26s 88ms/step - loss: 3.7479 - dense_2_loss: 1.2152 - dense_3_loss: 2.5326 - dense_2_accuracy: 0.6156 - dense_3_accuracy: 0.2153\n",
            "Epoch 10/50\n",
            "293/293 [==============================] - 27s 91ms/step - loss: 3.8497 - dense_2_loss: 1.2708 - dense_3_loss: 2.5789 - dense_2_accuracy: 0.6058 - dense_3_accuracy: 0.2049\n",
            "Epoch 11/50\n",
            "293/293 [==============================] - 27s 91ms/step - loss: 3.8580 - dense_2_loss: 1.2762 - dense_3_loss: 2.5818 - dense_2_accuracy: 0.6122 - dense_3_accuracy: 0.2043\n",
            "Epoch 12/50\n",
            "293/293 [==============================] - 26s 88ms/step - loss: 3.7649 - dense_2_loss: 1.2282 - dense_3_loss: 2.5367 - dense_2_accuracy: 0.6211 - dense_3_accuracy: 0.2280\n",
            "Epoch 13/50\n",
            "293/293 [==============================] - 25s 86ms/step - loss: 3.6555 - dense_2_loss: 1.1650 - dense_3_loss: 2.4905 - dense_2_accuracy: 0.6365 - dense_3_accuracy: 0.2489\n",
            "Epoch 14/50\n",
            "293/293 [==============================] - 27s 91ms/step - loss: 3.5889 - dense_2_loss: 1.1381 - dense_3_loss: 2.4508 - dense_2_accuracy: 0.6422 - dense_3_accuracy: 0.2710\n",
            "Epoch 15/50\n",
            "293/293 [==============================] - 26s 90ms/step - loss: 3.4806 - dense_2_loss: 1.0848 - dense_3_loss: 2.3958 - dense_2_accuracy: 0.6554 - dense_3_accuracy: 0.3014\n",
            "Epoch 16/50\n",
            "293/293 [==============================] - 26s 90ms/step - loss: 3.4417 - dense_2_loss: 1.0599 - dense_3_loss: 2.3818 - dense_2_accuracy: 0.6608 - dense_3_accuracy: 0.2932\n",
            "Epoch 17/50\n",
            "293/293 [==============================] - 25s 84ms/step - loss: 3.3755 - dense_2_loss: 1.0312 - dense_3_loss: 2.3443 - dense_2_accuracy: 0.6628 - dense_3_accuracy: 0.3091\n",
            "Epoch 18/50\n",
            "293/293 [==============================] - 27s 91ms/step - loss: 3.3130 - dense_2_loss: 0.9979 - dense_3_loss: 2.3151 - dense_2_accuracy: 0.6720 - dense_3_accuracy: 0.3085\n",
            "Epoch 19/50\n",
            "293/293 [==============================] - 27s 91ms/step - loss: 3.2647 - dense_2_loss: 0.9821 - dense_3_loss: 2.2826 - dense_2_accuracy: 0.6771 - dense_3_accuracy: 0.3210\n",
            "Epoch 20/50\n",
            "293/293 [==============================] - 26s 88ms/step - loss: 3.2687 - dense_2_loss: 0.9871 - dense_3_loss: 2.2816 - dense_2_accuracy: 0.6771 - dense_3_accuracy: 0.3206\n",
            "Epoch 21/50\n",
            "293/293 [==============================] - 25s 85ms/step - loss: 3.2484 - dense_2_loss: 0.9778 - dense_3_loss: 2.2706 - dense_2_accuracy: 0.6829 - dense_3_accuracy: 0.3239\n",
            "Epoch 22/50\n",
            "293/293 [==============================] - 27s 91ms/step - loss: 3.4216 - dense_2_loss: 1.0775 - dense_3_loss: 2.3441 - dense_2_accuracy: 0.6497 - dense_3_accuracy: 0.2780\n",
            "Epoch 23/50\n",
            "293/293 [==============================] - 27s 91ms/step - loss: 3.3718 - dense_2_loss: 1.0537 - dense_3_loss: 2.3182 - dense_2_accuracy: 0.6498 - dense_3_accuracy: 0.2973\n",
            "Epoch 24/50\n",
            "293/293 [==============================] - 27s 91ms/step - loss: 3.1895 - dense_2_loss: 0.9641 - dense_3_loss: 2.2254 - dense_2_accuracy: 0.6853 - dense_3_accuracy: 0.3506\n",
            "Epoch 25/50\n",
            "293/293 [==============================] - 26s 87ms/step - loss: 3.1313 - dense_2_loss: 0.9410 - dense_3_loss: 2.1903 - dense_2_accuracy: 0.6943 - dense_3_accuracy: 0.3580\n",
            "Epoch 26/50\n",
            "293/293 [==============================] - 27s 90ms/step - loss: 3.1332 - dense_2_loss: 0.9459 - dense_3_loss: 2.1872 - dense_2_accuracy: 0.6925 - dense_3_accuracy: 0.3648\n",
            "Epoch 27/50\n",
            "293/293 [==============================] - 26s 90ms/step - loss: 3.2232 - dense_2_loss: 0.9843 - dense_3_loss: 2.2389 - dense_2_accuracy: 0.6856 - dense_3_accuracy: 0.3429\n",
            "Epoch 28/50\n",
            "293/293 [==============================] - 27s 91ms/step - loss: 3.0657 - dense_2_loss: 0.9231 - dense_3_loss: 2.1426 - dense_2_accuracy: 0.6964 - dense_3_accuracy: 0.3793\n",
            "Epoch 29/50\n",
            "293/293 [==============================] - 25s 84ms/step - loss: 3.3719 - dense_2_loss: 1.0406 - dense_3_loss: 2.3313 - dense_2_accuracy: 0.6794 - dense_3_accuracy: 0.3221\n",
            "Epoch 30/50\n",
            "293/293 [==============================] - 26s 88ms/step - loss: 3.2159 - dense_2_loss: 0.9839 - dense_3_loss: 2.2320 - dense_2_accuracy: 0.6860 - dense_3_accuracy: 0.3504\n",
            "Epoch 31/50\n",
            "293/293 [==============================] - 27s 91ms/step - loss: 3.1847 - dense_2_loss: 0.9865 - dense_3_loss: 2.1982 - dense_2_accuracy: 0.6818 - dense_3_accuracy: 0.3596\n",
            "Epoch 32/50\n",
            "293/293 [==============================] - 27s 92ms/step - loss: 3.0164 - dense_2_loss: 0.9115 - dense_3_loss: 2.1049 - dense_2_accuracy: 0.6986 - dense_3_accuracy: 0.3965\n",
            "Epoch 33/50\n",
            "293/293 [==============================] - 26s 88ms/step - loss: 3.4786 - dense_2_loss: 1.1040 - dense_3_loss: 2.3746 - dense_2_accuracy: 0.6669 - dense_3_accuracy: 0.3100\n",
            "Epoch 34/50\n",
            "293/293 [==============================] - 25s 85ms/step - loss: 3.2934 - dense_2_loss: 1.0249 - dense_3_loss: 2.2686 - dense_2_accuracy: 0.6777 - dense_3_accuracy: 0.3392\n",
            "Epoch 35/50\n",
            "293/293 [==============================] - 27s 92ms/step - loss: 3.3142 - dense_2_loss: 1.0553 - dense_3_loss: 2.2589 - dense_2_accuracy: 0.6631 - dense_3_accuracy: 0.3378\n",
            "Epoch 36/50\n",
            "293/293 [==============================] - 27s 91ms/step - loss: 3.1434 - dense_2_loss: 0.9626 - dense_3_loss: 2.1807 - dense_2_accuracy: 0.6921 - dense_3_accuracy: 0.3725\n",
            "Epoch 37/50\n",
            "293/293 [==============================] - 27s 92ms/step - loss: 3.1978 - dense_2_loss: 0.9919 - dense_3_loss: 2.2058 - dense_2_accuracy: 0.6850 - dense_3_accuracy: 0.3668\n",
            "Epoch 38/50\n",
            "293/293 [==============================] - 24s 83ms/step - loss: 3.1021 - dense_2_loss: 0.9425 - dense_3_loss: 2.1597 - dense_2_accuracy: 0.6817 - dense_3_accuracy: 0.3832\n",
            "Epoch 39/50\n",
            "293/293 [==============================] - 27s 92ms/step - loss: 3.0610 - dense_2_loss: 0.9254 - dense_3_loss: 2.1356 - dense_2_accuracy: 0.6958 - dense_3_accuracy: 0.3899\n",
            "Epoch 40/50\n",
            "293/293 [==============================] - 27s 92ms/step - loss: 3.0287 - dense_2_loss: 0.9127 - dense_3_loss: 2.1160 - dense_2_accuracy: 0.7021 - dense_3_accuracy: 0.3896\n",
            "Epoch 41/50\n",
            "293/293 [==============================] - 27s 92ms/step - loss: 3.0755 - dense_2_loss: 0.9331 - dense_3_loss: 2.1424 - dense_2_accuracy: 0.6832 - dense_3_accuracy: 0.3880\n",
            "Epoch 42/50\n",
            "293/293 [==============================] - 25s 85ms/step - loss: 3.4817 - dense_2_loss: 1.0929 - dense_3_loss: 2.3888 - dense_2_accuracy: 0.6626 - dense_3_accuracy: 0.3185\n",
            "Epoch 43/50\n",
            "293/293 [==============================] - 26s 89ms/step - loss: 3.1923 - dense_2_loss: 0.9813 - dense_3_loss: 2.2110 - dense_2_accuracy: 0.6806 - dense_3_accuracy: 0.3581\n",
            "Epoch 44/50\n",
            "293/293 [==============================] - 27s 91ms/step - loss: 3.0944 - dense_2_loss: 0.9552 - dense_3_loss: 2.1391 - dense_2_accuracy: 0.6794 - dense_3_accuracy: 0.3873\n",
            "Epoch 45/50\n",
            "293/293 [==============================] - 27s 91ms/step - loss: 3.1997 - dense_2_loss: 1.0373 - dense_3_loss: 2.1624 - dense_2_accuracy: 0.6492 - dense_3_accuracy: 0.3703\n",
            "Epoch 46/50\n",
            "293/293 [==============================] - 25s 85ms/step - loss: 3.0480 - dense_2_loss: 0.9549 - dense_3_loss: 2.0930 - dense_2_accuracy: 0.6745 - dense_3_accuracy: 0.3982\n",
            "Epoch 47/50\n",
            "293/293 [==============================] - 26s 87ms/step - loss: 3.0392 - dense_2_loss: 0.9477 - dense_3_loss: 2.0916 - dense_2_accuracy: 0.6768 - dense_3_accuracy: 0.3938\n",
            "Epoch 48/50\n",
            "293/293 [==============================] - 27s 91ms/step - loss: 2.9987 - dense_2_loss: 0.9336 - dense_3_loss: 2.0651 - dense_2_accuracy: 0.6800 - dense_3_accuracy: 0.4025\n",
            "Epoch 49/50\n",
            "293/293 [==============================] - 27s 91ms/step - loss: 3.0414 - dense_2_loss: 0.9448 - dense_3_loss: 2.0966 - dense_2_accuracy: 0.6837 - dense_3_accuracy: 0.3936\n",
            "Epoch 50/50\n",
            "293/293 [==============================] - 26s 87ms/step - loss: 2.9675 - dense_2_loss: 0.9190 - dense_3_loss: 2.0485 - dense_2_accuracy: 0.6866 - dense_3_accuracy: 0.4092\n"
          ]
        },
        {
          "output_type": "execute_result",
          "data": {
            "text/plain": [
              "<keras.callbacks.History at 0x7fae05f8dc70>"
            ]
          },
          "metadata": {},
          "execution_count": 27
        }
      ]
    },
    {
      "cell_type": "code",
      "source": [
        "model.evaluate(test_X, [test_act, test_obj])"
      ],
      "metadata": {
        "colab": {
          "base_uri": "https://localhost:8080/"
        },
        "id": "eEgz_XU8Fw-W",
        "outputId": "b41250d8-954d-4bbe-ccbf-03e72c7fc8d2"
      },
      "execution_count": null,
      "outputs": [
        {
          "output_type": "stream",
          "name": "stdout",
          "text": [
            "126/126 [==============================] - 6s 48ms/step - loss: 3.0096 - dense_2_loss: 0.8492 - dense_3_loss: 2.1604 - dense_2_accuracy: 0.7665 - dense_3_accuracy: 0.3799\n"
          ]
        },
        {
          "output_type": "execute_result",
          "data": {
            "text/plain": [
              "[3.009551763534546,\n",
              " 0.8491876721382141,\n",
              " 2.1603636741638184,\n",
              " 0.7664924263954163,\n",
              " 0.3798854947090149]"
            ]
          },
          "metadata": {},
          "execution_count": 28
        }
      ]
    },
    {
      "cell_type": "markdown",
      "source": [
        "*The result can be improve easily by training more epoch but we will train it only until 50 epochs due to insufficient RAM"
      ],
      "metadata": {
        "id": "IaeHcCBs0n2Q"
      }
    }
  ]
}
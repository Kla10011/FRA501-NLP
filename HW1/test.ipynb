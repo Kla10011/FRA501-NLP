{
 "cells": [
  {
   "cell_type": "code",
   "execution_count": 33,
   "metadata": {},
   "outputs": [],
   "source": [
    "# %pip install --upgrade tensorflow-gpu"
   ]
  },
  {
   "cell_type": "code",
   "execution_count": 34,
   "metadata": {},
   "outputs": [],
   "source": [
    "# import tensorflow as tf\n",
    "# print(len(tf.config.experimmental.list_physical_devices('GPU')))"
   ]
  },
  {
   "cell_type": "code",
   "execution_count": 35,
   "metadata": {},
   "outputs": [],
   "source": [
    "thai_vocab = [\"ไ\",\"ป\",\"ห\",\"า\",\"ม\",\"เ\",\"ห\",\"ส\",\"ี\",\"ไป\",\"หา\",\"หาม\",\"เห\",\"สี\",\"มเหสี\",\"!\"]\n",
    "from math import inf #infinity\n",
    "def maximal_matching(c):\n",
    "    #Initialize an empty 2D list\n",
    "    # d  =[[None]*len(c) for _ in range(len(c))]\n",
    "    d  =[[1,2] for _ in range(len(c))]\n",
    "    ####FILL CODE HERE####\n",
    "    \n",
    "\n",
    "    ######################\n",
    "    \n",
    "    return d"
   ]
  },
  {
   "cell_type": "code",
   "execution_count": 36,
   "metadata": {},
   "outputs": [
    {
     "name": "stdout",
     "output_type": "stream",
     "text": [
      "[1, 2] ไ\n",
      "[1, 2] ป\n",
      "[1, 2] ห\n",
      "[1, 2] า\n",
      "[1, 2] ม\n",
      "[1, 2] เ\n",
      "[1, 2] ห\n",
      "[1, 2] ส\n",
      "[1, 2] ี\n",
      "[1, 2] !\n"
     ]
    }
   ],
   "source": [
    "input_text = \"ไปหามเหสี!\"\n",
    "out = maximal_matching(input_text)\n",
    "# print(out)\n",
    "for i in range(len(out)):\n",
    "    print(out[i],input_text[i])"
   ]
  },
  {
   "cell_type": "code",
   "execution_count": 37,
   "metadata": {},
   "outputs": [
    {
     "name": "stdout",
     "output_type": "stream",
     "text": [
      "None\n",
      "['!', 'มเหสี', 'สี', 'เห', 'หาม', 'หา', 'ไป', 'ี', 'ส', 'ห', 'เ', 'ม', 'า', 'ห', 'ป', 'ไ']\n"
     ]
    }
   ],
   "source": [
    "print(thai_vocab.reverse())\n",
    "print(thai_vocab)"
   ]
  },
  {
   "cell_type": "code",
   "execution_count": 38,
   "metadata": {},
   "outputs": [
    {
     "name": "stdout",
     "output_type": "stream",
     "text": [
      "[[1, 2], [1, 2], [1, 2], [1, 2], [1, 2], [1, 2], [1, 2], [1, 2], [1, 2], [1, 2]]\n",
      "[[1, 2], [1, 2], [1, 2], [1, 2]]\n"
     ]
    }
   ],
   "source": [
    "print(out)\n",
    "print(out[1:5])"
   ]
  },
  {
   "cell_type": "code",
   "execution_count": 39,
   "metadata": {},
   "outputs": [
    {
     "name": "stdout",
     "output_type": "stream",
     "text": [
      "True\n",
      "ป\n",
      "000w1\n"
     ]
    }
   ],
   "source": [
    "print(\"ไป\" in thai_vocab)\n",
    "print(input_text[1])\n",
    "print(\"000w\"+\"\"+\"1\")"
   ]
  },
  {
   "cell_type": "code",
   "execution_count": 40,
   "metadata": {},
   "outputs": [
    {
     "name": "stdout",
     "output_type": "stream",
     "text": [
      "kla\n",
      "<class 'int'>\n"
     ]
    }
   ],
   "source": [
    "a = [1,2,3,4,0]\n",
    "if type(min(a)) == int:\n",
    "    print(\"kla\")\n",
    "print(type(min(a)))\n",
    "# print(a[1:3])"
   ]
  },
  {
   "cell_type": "code",
   "execution_count": 41,
   "metadata": {},
   "outputs": [
    {
     "name": "stdout",
     "output_type": "stream",
     "text": [
      "[0, 1, 4, 9, 16]\n"
     ]
    }
   ],
   "source": [
    "squared_numbers = list(map(lambda x: x**2, range(5)))\n",
    "print(squared_numbers)"
   ]
  },
  {
   "cell_type": "code",
   "execution_count": 42,
   "metadata": {},
   "outputs": [
    {
     "name": "stdout",
     "output_type": "stream",
     "text": [
      "k\n",
      "kk\n"
     ]
    }
   ],
   "source": [
    "G = 1\n",
    "if type(G)==int:\n",
    "    print(\"k\")\n",
    "if G == 1 :\n",
    "    print(\"kk\")\n",
    "else : \n",
    "    print(\"kkk\")"
   ]
  },
  {
   "cell_type": "code",
   "execution_count": 43,
   "metadata": {},
   "outputs": [
    {
     "name": "stdout",
     "output_type": "stream",
     "text": [
      "9\n",
      "8\n",
      "7\n",
      "6\n",
      "5\n",
      "4\n",
      "3\n",
      "2\n",
      "1\n",
      "0\n"
     ]
    }
   ],
   "source": [
    "for i in range(9,-1,-1):\n",
    "    print(i)"
   ]
  },
  {
   "cell_type": "code",
   "execution_count": 44,
   "metadata": {},
   "outputs": [
    {
     "name": "stdout",
     "output_type": "stream",
     "text": [
      "[[1, 2, 3, 4, 5, 6], [11, 1]]\n",
      "[[11, 1], [1, 2, 3, 4, 5, 6]]\n"
     ]
    }
   ],
   "source": [
    "a = [[1,2,3,4,5,6]]\n",
    "b = [[11,1]]\n",
    "c = a+b\n",
    "print(c)\n",
    "c.reverse()\n",
    "print(c)"
   ]
  },
  {
   "cell_type": "code",
   "execution_count": 45,
   "metadata": {},
   "outputs": [
    {
     "name": "stdout",
     "output_type": "stream",
     "text": [
      "The index of 3 is: 0\n"
     ]
    }
   ],
   "source": [
    "numbers = [3, 2, 3, 3, 5]\n",
    "\n",
    "# Find the index of the number 3\n",
    "index = numbers.index(3)\n",
    "\n",
    "# Print the index\n",
    "print(\"The index of 3 is:\", index)"
   ]
  },
  {
   "cell_type": "code",
   "execution_count": 46,
   "metadata": {},
   "outputs": [],
   "source": [
    "# from math import inf #infinity\n",
    "# numbers = [4, inf, inf, inf, inf, inf, inf, inf, inf, inf]\n",
    "# Min_of_word = list(map(lambda x: numbers.index(4,x) , range(0,9,1)))\n",
    "# print(Min_of_word)\n",
    "# print(min(Min_of_word))\n",
    "# print(max(Min_of_word))"
   ]
  },
  {
   "cell_type": "code",
   "execution_count": 47,
   "metadata": {},
   "outputs": [],
   "source": [
    "if type(\"1\") == int or \"1\" == 1 :\n",
    "    print(1)"
   ]
  },
  {
   "cell_type": "code",
   "execution_count": 48,
   "metadata": {},
   "outputs": [
    {
     "name": "stdout",
     "output_type": "stream",
     "text": [
      "{'one': 0, 'Two': 1, 'Three': 2}\n"
     ]
    }
   ],
   "source": [
    "CHARS = [\"one\",\"Two\",\"Three\"]\n",
    "K1 = {v: k for k, v in enumerate(CHARS)}\n",
    "print(K1)"
   ]
  },
  {
   "cell_type": "code",
   "execution_count": 49,
   "metadata": {},
   "outputs": [
    {
     "name": "stdout",
     "output_type": "stream",
     "text": [
      "[None, None, 2, None]\n"
     ]
    }
   ],
   "source": [
    "a =[1,0,0,0]\n",
    "b =[1,0,1,0]\n",
    "c = len(b)\n",
    "kla = list(map(lambda x,y,z: z if x!=y else None ,a,b,range(c)))\n",
    "# kla.remove(None)\n",
    "# kla = lambda x,y,z: z if x!=y else 0 ,a,b,range(4)\n",
    "print(kla)\n",
    "# print(c)"
   ]
  },
  {
   "cell_type": "code",
   "execution_count": 50,
   "metadata": {},
   "outputs": [],
   "source": [
    "# Image(url=\"Pic/dense.png\", width=300, height=300)"
   ]
  },
  {
   "cell_type": "code",
   "execution_count": 55,
   "metadata": {},
   "outputs": [
    {
     "name": "stdout",
     "output_type": "stream",
     "text": [
      "(5,)\n"
     ]
    }
   ],
   "source": [
    "import numpy as np\n",
    "a = np.array([1,23,9,5,4])\n",
    "# a = [1,23,9,5,4]\n",
    "print(a.shape)"
   ]
  },
  {
   "cell_type": "code",
   "execution_count": 72,
   "metadata": {},
   "outputs": [
    {
     "name": "stdout",
     "output_type": "stream",
     "text": [
      "KerasTensor(type_spec=TensorSpec(shape=(None, None), dtype=tf.int32, name='input_17'), name='input_17', description=\"created by layer 'input_17'\")\n",
      "(<KerasTensor: shape=(None, None) dtype=int32 (created by layer 'crf_16')>, <KerasTensor: shape=(None, None, 9) dtype=float32 (created by layer 'crf_16')>, <KerasTensor: shape=(None,) dtype=int32 (created by layer 'crf_16')>, <KerasTensor: type_spec=VariableSpec(shape=(9, 9), dtype=tf.float32, trainable=True, alias_id=None) (created by layer 'crf_16')>)\n",
      "<class 'list'>\n",
      "10\n",
      "10\n",
      "Epoch 1/2\n",
      "5/5 [==============================] - 7s 5ms/step - loss: 21.3398 - accuracy: 0.0000e+00\n",
      "Epoch 2/2\n",
      "5/5 [==============================] - 0s 5ms/step - loss: 20.3952 - accuracy: 0.0000e+00\n",
      "Model: \"model_with_crf_loss_15\"\n",
      "_________________________________________________________________\n",
      " Layer (type)                Output Shape              Param #   \n",
      "=================================================================\n",
      " model_15 (Functional)       ((None, None),            45946     \n",
      "                              (None, None, 9),                   \n",
      "                              (None,),                           \n",
      "                              (9, 9))                            \n",
      "                                                                 \n",
      "=================================================================\n",
      "Total params: 45,950\n",
      "Trainable params: 45,946\n",
      "Non-trainable params: 4\n",
      "_________________________________________________________________\n"
     ]
    }
   ],
   "source": [
    "import tensorflow as tf\n",
    "from tf2crf import CRF\n",
    "from tensorflow.keras.layers import Input, Embedding, Bidirectional, GRU, Dense\n",
    "from tensorflow.keras.models import Model\n",
    "from tf2crf import CRF, ModelWithCRFLoss\n",
    "\n",
    "inputs = Input(shape=(None,), dtype='int32')\n",
    "output = Embedding(100, 40, trainable=True, mask_zero=True)(inputs)\n",
    "output = Bidirectional(GRU(64, return_sequences=True))(output)\n",
    "crf = CRF(units=9, dtype='float32')\n",
    "output = crf(output)\n",
    "print(inputs)\n",
    "print(output)\n",
    "base_model = Model(inputs, output)\n",
    "model = ModelWithCRFLoss(base_model, sparse_target=True)\n",
    "model.compile(optimizer='adam')\n",
    "x = [[5, 2, 3] * 3] * 10\n",
    "y = [[1, 2, 3] * 3] * 10\n",
    "print(type(x))\n",
    "print(len(x))\n",
    "print(len(y))\n",
    "model.fit(x=x, y=y, epochs=2, batch_size=2)\n",
    "model.summary()\n"
   ]
  },
  {
   "cell_type": "code",
   "execution_count": 75,
   "metadata": {},
   "outputs": [
    {
     "name": "stderr",
     "output_type": "stream",
     "text": [
      "--2023-02-24 23:05:47--  http://nlp.stanford.edu/data/glove.6B.zip\n",
      "Resolving nlp.stanford.edu (nlp.stanford.edu)... 171.64.67.140\n",
      "Connecting to nlp.stanford.edu (nlp.stanford.edu)|171.64.67.140|:80... connected.\n",
      "HTTP request sent, awaiting response... 302 Found\n",
      "Location: https://nlp.stanford.edu/data/glove.6B.zip [following]\n",
      "--2023-02-24 23:05:48--  https://nlp.stanford.edu/data/glove.6B.zip\n",
      "Connecting to nlp.stanford.edu (nlp.stanford.edu)|171.64.67.140|:443... connected.\n",
      "Unable to establish SSL connection.\n"
     ]
    }
   ],
   "source": [
    "# !wget http://nlp.stanford.edu/data/glove.6B.zip\n",
    "# ?unzip -q glove.6B.zip"
   ]
  },
  {
   "cell_type": "code",
   "execution_count": 76,
   "metadata": {},
   "outputs": [
    {
     "ename": "NameError",
     "evalue": "name 'word_index' is not defined",
     "output_type": "error",
     "traceback": [
      "\u001b[1;31m---------------------------------------------------------------------------\u001b[0m",
      "\u001b[1;31mNameError\u001b[0m                                 Traceback (most recent call last)",
      "\u001b[1;32md:\\FRA501-NLP\\HW1\\test.ipynb Cell 22\u001b[0m in \u001b[0;36m<cell line: 2>\u001b[1;34m()\u001b[0m\n\u001b[0;32m      <a href='vscode-notebook-cell:/d%3A/FRA501-NLP/HW1/test.ipynb#X31sZmlsZQ%3D%3D?line=0'>1</a>\u001b[0m test \u001b[39m=\u001b[39m [\u001b[39m\"\u001b[39m\u001b[39mthe\u001b[39m\u001b[39m\"\u001b[39m, \u001b[39m\"\u001b[39m\u001b[39mcat\u001b[39m\u001b[39m\"\u001b[39m, \u001b[39m\"\u001b[39m\u001b[39msat\u001b[39m\u001b[39m\"\u001b[39m, \u001b[39m\"\u001b[39m\u001b[39mon\u001b[39m\u001b[39m\"\u001b[39m, \u001b[39m\"\u001b[39m\u001b[39mthe\u001b[39m\u001b[39m\"\u001b[39m, \u001b[39m\"\u001b[39m\u001b[39mmat\u001b[39m\u001b[39m\"\u001b[39m]\n\u001b[1;32m----> <a href='vscode-notebook-cell:/d%3A/FRA501-NLP/HW1/test.ipynb#X31sZmlsZQ%3D%3D?line=1'>2</a>\u001b[0m [word_index[w] \u001b[39mfor\u001b[39;00m w \u001b[39min\u001b[39;00m test]\n",
      "\u001b[1;32md:\\FRA501-NLP\\HW1\\test.ipynb Cell 22\u001b[0m in \u001b[0;36m<listcomp>\u001b[1;34m(.0)\u001b[0m\n\u001b[0;32m      <a href='vscode-notebook-cell:/d%3A/FRA501-NLP/HW1/test.ipynb#X31sZmlsZQ%3D%3D?line=0'>1</a>\u001b[0m test \u001b[39m=\u001b[39m [\u001b[39m\"\u001b[39m\u001b[39mthe\u001b[39m\u001b[39m\"\u001b[39m, \u001b[39m\"\u001b[39m\u001b[39mcat\u001b[39m\u001b[39m\"\u001b[39m, \u001b[39m\"\u001b[39m\u001b[39msat\u001b[39m\u001b[39m\"\u001b[39m, \u001b[39m\"\u001b[39m\u001b[39mon\u001b[39m\u001b[39m\"\u001b[39m, \u001b[39m\"\u001b[39m\u001b[39mthe\u001b[39m\u001b[39m\"\u001b[39m, \u001b[39m\"\u001b[39m\u001b[39mmat\u001b[39m\u001b[39m\"\u001b[39m]\n\u001b[1;32m----> <a href='vscode-notebook-cell:/d%3A/FRA501-NLP/HW1/test.ipynb#X31sZmlsZQ%3D%3D?line=1'>2</a>\u001b[0m [word_index[w] \u001b[39mfor\u001b[39;00m w \u001b[39min\u001b[39;00m test]\n",
      "\u001b[1;31mNameError\u001b[0m: name 'word_index' is not defined"
     ]
    }
   ],
   "source": [
    "test = [\"the\", \"cat\", \"sat\", \"on\", \"the\", \"mat\"]\n",
    "[word_index[w] for w in test]"
   ]
  }
 ],
 "metadata": {
  "kernelspec": {
   "display_name": "base",
   "language": "python",
   "name": "python3"
  },
  "language_info": {
   "codemirror_mode": {
    "name": "ipython",
    "version": 3
   },
   "file_extension": ".py",
   "mimetype": "text/x-python",
   "name": "python",
   "nbconvert_exporter": "python",
   "pygments_lexer": "ipython3",
   "version": "3.9.12"
  },
  "orig_nbformat": 4,
  "vscode": {
   "interpreter": {
    "hash": "929163599431c7b3e753eb9c75a6800fa8c5c72fb3910ee126ea89c879162a29"
   }
  }
 },
 "nbformat": 4,
 "nbformat_minor": 2
}

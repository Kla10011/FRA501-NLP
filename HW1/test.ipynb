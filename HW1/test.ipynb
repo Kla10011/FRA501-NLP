{
 "cells": [
  {
   "cell_type": "code",
   "execution_count": 2,
   "metadata": {},
   "outputs": [],
   "source": [
    "thai_vocab = [\"ไ\",\"ป\",\"ห\",\"า\",\"ม\",\"เ\",\"ห\",\"ส\",\"ี\",\"ไป\",\"หา\",\"หาม\",\"เห\",\"สี\",\"มเหสี\",\"!\"]\n",
    "from math import inf #infinity\n",
    "def maximal_matching(c):\n",
    "    #Initialize an empty 2D list\n",
    "    # d  =[[None]*len(c) for _ in range(len(c))]\n",
    "    d  =[[1,2] for _ in range(len(c))]\n",
    "    ####FILL CODE HERE####\n",
    "    \n",
    "\n",
    "    ######################\n",
    "    \n",
    "    return d"
   ]
  },
  {
   "cell_type": "code",
   "execution_count": 3,
   "metadata": {},
   "outputs": [
    {
     "name": "stdout",
     "output_type": "stream",
     "text": [
      "[1, 2] ไ\n",
      "[1, 2] ป\n",
      "[1, 2] ห\n",
      "[1, 2] า\n",
      "[1, 2] ม\n",
      "[1, 2] เ\n",
      "[1, 2] ห\n",
      "[1, 2] ส\n",
      "[1, 2] ี\n",
      "[1, 2] !\n"
     ]
    }
   ],
   "source": [
    "input_text = \"ไปหามเหสี!\"\n",
    "out = maximal_matching(input_text)\n",
    "# print(out)\n",
    "for i in range(len(out)):\n",
    "    print(out[i],input_text[i])"
   ]
  },
  {
   "cell_type": "code",
   "execution_count": 16,
   "metadata": {},
   "outputs": [
    {
     "name": "stdout",
     "output_type": "stream",
     "text": [
      "[[1, 2], [1, 2], [1, 2], [1, 2], [1, 2], [1, 2], [1, 2], [1, 2], [1, 2], [1, 2]]\n",
      "[[1, 2], [1, 2], [1, 2], [1, 2]]\n"
     ]
    }
   ],
   "source": [
    "print(out)\n",
    "print(out[1:5])"
   ]
  },
  {
   "cell_type": "code",
   "execution_count": 5,
   "metadata": {},
   "outputs": [
    {
     "name": "stdout",
     "output_type": "stream",
     "text": [
      "True\n",
      "ป\n",
      "000w1\n"
     ]
    }
   ],
   "source": [
    "print(\"ไป\" in thai_vocab)\n",
    "print(input_text[1])\n",
    "print(\"000w\"+\"\"+\"1\")"
   ]
  },
  {
   "cell_type": "code",
   "execution_count": 24,
   "metadata": {},
   "outputs": [
    {
     "name": "stdout",
     "output_type": "stream",
     "text": [
      "kla\n",
      "<class 'int'>\n"
     ]
    }
   ],
   "source": [
    "a = [1,2,3,4,0]\n",
    "if type(min(a)) == int:\n",
    "    print(\"kla\")\n",
    "print(type(min(a)))\n",
    "# print(a[1:3])"
   ]
  },
  {
   "cell_type": "code",
   "execution_count": 18,
   "metadata": {},
   "outputs": [
    {
     "name": "stdout",
     "output_type": "stream",
     "text": [
      "[0, 1, 4, 9, 16]\n"
     ]
    }
   ],
   "source": [
    "squared_numbers = list(map(lambda x: x**2, range(5)))\n",
    "print(squared_numbers)"
   ]
  },
  {
   "cell_type": "code",
   "execution_count": 27,
   "metadata": {},
   "outputs": [
    {
     "name": "stdout",
     "output_type": "stream",
     "text": [
      "k\n",
      "kk\n"
     ]
    }
   ],
   "source": [
    "G = 1\n",
    "if type(G)==int:\n",
    "    print(\"k\")\n",
    "if G == 1 :\n",
    "    print(\"kk\")\n",
    "else : \n",
    "    print(\"kkk\")"
   ]
  }
 ],
 "metadata": {
  "kernelspec": {
   "display_name": "base",
   "language": "python",
   "name": "python3"
  },
  "language_info": {
   "codemirror_mode": {
    "name": "ipython",
    "version": 3
   },
   "file_extension": ".py",
   "mimetype": "text/x-python",
   "name": "python",
   "nbconvert_exporter": "python",
   "pygments_lexer": "ipython3",
   "version": "3.9.12"
  },
  "orig_nbformat": 4,
  "vscode": {
   "interpreter": {
    "hash": "929163599431c7b3e753eb9c75a6800fa8c5c72fb3910ee126ea89c879162a29"
   }
  }
 },
 "nbformat": 4,
 "nbformat_minor": 2
}

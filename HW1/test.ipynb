{
 "cells": [
  {
   "cell_type": "code",
   "execution_count": 33,
   "metadata": {},
   "outputs": [],
   "source": [
    "thai_vocab = [\"ไ\",\"ป\",\"ห\",\"า\",\"ม\",\"เ\",\"ห\",\"ส\",\"ี\",\"ไป\",\"หา\",\"หาม\",\"เห\",\"สี\",\"มเหสี\",\"!\"]\n",
    "from math import inf #infinity\n",
    "def maximal_matching(c):\n",
    "    #Initialize an empty 2D list\n",
    "    # d  =[[None]*len(c) for _ in range(len(c))]\n",
    "    d  =[[1,2] for _ in range(len(c))]\n",
    "    ####FILL CODE HERE####\n",
    "    \n",
    "\n",
    "    ######################\n",
    "    \n",
    "    return d"
   ]
  },
  {
   "cell_type": "code",
   "execution_count": 34,
   "metadata": {},
   "outputs": [
    {
     "name": "stdout",
     "output_type": "stream",
     "text": [
      "[1, 2] ไ\n",
      "[1, 2] ป\n",
      "[1, 2] ห\n",
      "[1, 2] า\n",
      "[1, 2] ม\n",
      "[1, 2] เ\n",
      "[1, 2] ห\n",
      "[1, 2] ส\n",
      "[1, 2] ี\n",
      "[1, 2] !\n"
     ]
    }
   ],
   "source": [
    "input_text = \"ไปหามเหสี!\"\n",
    "out = maximal_matching(input_text)\n",
    "# print(out)\n",
    "for i in range(len(out)):\n",
    "    print(out[i],input_text[i])"
   ]
  },
  {
   "cell_type": "code",
   "execution_count": 47,
   "metadata": {},
   "outputs": [
    {
     "name": "stdout",
     "output_type": "stream",
     "text": [
      "None\n",
      "['!', 'มเหสี', 'สี', 'เห', 'หาม', 'หา', 'ไป', 'ี', 'ส', 'ห', 'เ', 'ม', 'า', 'ห', 'ป', 'ไ']\n"
     ]
    }
   ],
   "source": [
    "print(thai_vocab.reverse())\n",
    "print(thai_vocab)"
   ]
  },
  {
   "cell_type": "code",
   "execution_count": 36,
   "metadata": {},
   "outputs": [
    {
     "name": "stdout",
     "output_type": "stream",
     "text": [
      "[[1, 2], [1, 2], [1, 2], [1, 2], [1, 2], [1, 2], [1, 2], [1, 2], [1, 2], [1, 2]]\n",
      "[[1, 2], [1, 2], [1, 2], [1, 2]]\n"
     ]
    }
   ],
   "source": [
    "print(out)\n",
    "print(out[1:5])"
   ]
  },
  {
   "cell_type": "code",
   "execution_count": 37,
   "metadata": {},
   "outputs": [
    {
     "name": "stdout",
     "output_type": "stream",
     "text": [
      "True\n",
      "ป\n",
      "000w1\n"
     ]
    }
   ],
   "source": [
    "print(\"ไป\" in thai_vocab)\n",
    "print(input_text[1])\n",
    "print(\"000w\"+\"\"+\"1\")"
   ]
  },
  {
   "cell_type": "code",
   "execution_count": 38,
   "metadata": {},
   "outputs": [
    {
     "name": "stdout",
     "output_type": "stream",
     "text": [
      "kla\n",
      "<class 'int'>\n"
     ]
    }
   ],
   "source": [
    "a = [1,2,3,4,0]\n",
    "if type(min(a)) == int:\n",
    "    print(\"kla\")\n",
    "print(type(min(a)))\n",
    "# print(a[1:3])"
   ]
  },
  {
   "cell_type": "code",
   "execution_count": 39,
   "metadata": {},
   "outputs": [
    {
     "name": "stdout",
     "output_type": "stream",
     "text": [
      "[0, 1, 4, 9, 16]\n"
     ]
    }
   ],
   "source": [
    "squared_numbers = list(map(lambda x: x**2, range(5)))\n",
    "print(squared_numbers)"
   ]
  },
  {
   "cell_type": "code",
   "execution_count": 40,
   "metadata": {},
   "outputs": [
    {
     "name": "stdout",
     "output_type": "stream",
     "text": [
      "k\n",
      "kk\n"
     ]
    }
   ],
   "source": [
    "G = 1\n",
    "if type(G)==int:\n",
    "    print(\"k\")\n",
    "if G == 1 :\n",
    "    print(\"kk\")\n",
    "else : \n",
    "    print(\"kkk\")"
   ]
  },
  {
   "cell_type": "code",
   "execution_count": 41,
   "metadata": {},
   "outputs": [
    {
     "name": "stdout",
     "output_type": "stream",
     "text": [
      "9\n",
      "8\n",
      "7\n",
      "6\n",
      "5\n",
      "4\n",
      "3\n",
      "2\n",
      "1\n",
      "0\n"
     ]
    }
   ],
   "source": [
    "for i in range(9,-1,-1):\n",
    "    print(i)"
   ]
  },
  {
   "cell_type": "code",
   "execution_count": 45,
   "metadata": {},
   "outputs": [
    {
     "name": "stdout",
     "output_type": "stream",
     "text": [
      "[[1, 2, 3, 4, 5, 6], [11, 1]]\n",
      "[[11, 1], [1, 2, 3, 4, 5, 6]]\n"
     ]
    }
   ],
   "source": [
    "a = [[1,2,3,4,5,6]]\n",
    "b = [[11,1]]\n",
    "c = a+b\n",
    "print(c)\n",
    "c.reverse()\n",
    "print(c)"
   ]
  },
  {
   "cell_type": "code",
   "execution_count": 51,
   "metadata": {},
   "outputs": [
    {
     "name": "stdout",
     "output_type": "stream",
     "text": [
      "The index of 3 is: 0\n"
     ]
    }
   ],
   "source": [
    "numbers = [3, 2, 3, 3, 5]\n",
    "\n",
    "# Find the index of the number 3\n",
    "index = numbers.index(3)\n",
    "\n",
    "# Print the index\n",
    "print(\"The index of 3 is:\", index)"
   ]
  },
  {
   "cell_type": "code",
   "execution_count": 87,
   "metadata": {},
   "outputs": [
    {
     "ename": "ValueError",
     "evalue": "4 is not in list",
     "output_type": "error",
     "traceback": [
      "\u001b[1;31m---------------------------------------------------------------------------\u001b[0m",
      "\u001b[1;31mValueError\u001b[0m                                Traceback (most recent call last)",
      "\u001b[1;32md:\\FRA501-NLP\\HW1\\test.ipynb Cell 12\u001b[0m in \u001b[0;36m<cell line: 3>\u001b[1;34m()\u001b[0m\n\u001b[0;32m      <a href='vscode-notebook-cell:/d%3A/FRA501-NLP/HW1/test.ipynb#X15sZmlsZQ%3D%3D?line=0'>1</a>\u001b[0m \u001b[39mfrom\u001b[39;00m \u001b[39mmath\u001b[39;00m \u001b[39mimport\u001b[39;00m inf \u001b[39m#infinity\u001b[39;00m\n\u001b[0;32m      <a href='vscode-notebook-cell:/d%3A/FRA501-NLP/HW1/test.ipynb#X15sZmlsZQ%3D%3D?line=1'>2</a>\u001b[0m numbers \u001b[39m=\u001b[39m [\u001b[39m4\u001b[39m, inf, inf, inf, inf, inf, inf, inf, inf, inf]\n\u001b[1;32m----> <a href='vscode-notebook-cell:/d%3A/FRA501-NLP/HW1/test.ipynb#X15sZmlsZQ%3D%3D?line=2'>3</a>\u001b[0m Min_of_word \u001b[39m=\u001b[39m \u001b[39mlist\u001b[39;49m(\u001b[39mmap\u001b[39;49m(\u001b[39mlambda\u001b[39;49;00m x: numbers\u001b[39m.\u001b[39;49mindex(\u001b[39m4\u001b[39;49m,x) , \u001b[39mrange\u001b[39;49m(\u001b[39m0\u001b[39;49m,\u001b[39m9\u001b[39;49m,\u001b[39m1\u001b[39;49m)))\n\u001b[0;32m      <a href='vscode-notebook-cell:/d%3A/FRA501-NLP/HW1/test.ipynb#X15sZmlsZQ%3D%3D?line=3'>4</a>\u001b[0m \u001b[39mprint\u001b[39m(Min_of_word)\n\u001b[0;32m      <a href='vscode-notebook-cell:/d%3A/FRA501-NLP/HW1/test.ipynb#X15sZmlsZQ%3D%3D?line=4'>5</a>\u001b[0m \u001b[39mprint\u001b[39m(\u001b[39mmin\u001b[39m(Min_of_word))\n",
      "\u001b[1;32md:\\FRA501-NLP\\HW1\\test.ipynb Cell 12\u001b[0m in \u001b[0;36m<lambda>\u001b[1;34m(x)\u001b[0m\n\u001b[0;32m      <a href='vscode-notebook-cell:/d%3A/FRA501-NLP/HW1/test.ipynb#X15sZmlsZQ%3D%3D?line=0'>1</a>\u001b[0m \u001b[39mfrom\u001b[39;00m \u001b[39mmath\u001b[39;00m \u001b[39mimport\u001b[39;00m inf \u001b[39m#infinity\u001b[39;00m\n\u001b[0;32m      <a href='vscode-notebook-cell:/d%3A/FRA501-NLP/HW1/test.ipynb#X15sZmlsZQ%3D%3D?line=1'>2</a>\u001b[0m numbers \u001b[39m=\u001b[39m [\u001b[39m4\u001b[39m, inf, inf, inf, inf, inf, inf, inf, inf, inf]\n\u001b[1;32m----> <a href='vscode-notebook-cell:/d%3A/FRA501-NLP/HW1/test.ipynb#X15sZmlsZQ%3D%3D?line=2'>3</a>\u001b[0m Min_of_word \u001b[39m=\u001b[39m \u001b[39mlist\u001b[39m(\u001b[39mmap\u001b[39m(\u001b[39mlambda\u001b[39;00m x: numbers\u001b[39m.\u001b[39;49mindex(\u001b[39m4\u001b[39;49m,x) , \u001b[39mrange\u001b[39m(\u001b[39m0\u001b[39m,\u001b[39m9\u001b[39m,\u001b[39m1\u001b[39m)))\n\u001b[0;32m      <a href='vscode-notebook-cell:/d%3A/FRA501-NLP/HW1/test.ipynb#X15sZmlsZQ%3D%3D?line=3'>4</a>\u001b[0m \u001b[39mprint\u001b[39m(Min_of_word)\n\u001b[0;32m      <a href='vscode-notebook-cell:/d%3A/FRA501-NLP/HW1/test.ipynb#X15sZmlsZQ%3D%3D?line=4'>5</a>\u001b[0m \u001b[39mprint\u001b[39m(\u001b[39mmin\u001b[39m(Min_of_word))\n",
      "\u001b[1;31mValueError\u001b[0m: 4 is not in list"
     ]
    }
   ],
   "source": [
    "from math import inf #infinity\n",
    "numbers = [4, inf, inf, inf, inf, inf, inf, inf, inf, inf]\n",
    "Min_of_word = list(map(lambda x: numbers.index(4,x) , range(0,9,1)))\n",
    "print(Min_of_word)\n",
    "print(min(Min_of_word))\n",
    "print(max(Min_of_word))"
   ]
  },
  {
   "cell_type": "code",
   "execution_count": 90,
   "metadata": {},
   "outputs": [],
   "source": [
    "if type(\"1\") == int or \"1\" == 1 :\n",
    "    print(1)"
   ]
  },
  {
   "cell_type": "code",
   "execution_count": 1,
   "metadata": {},
   "outputs": [
    {
     "name": "stdout",
     "output_type": "stream",
     "text": [
      "{'one': 0, 'Two': 1, 'Three': 2}\n"
     ]
    }
   ],
   "source": [
    "CHARS = [\"one\",\"Two\",\"Three\"]\n",
    "K1 = {v: k for k, v in enumerate(CHARS)}\n",
    "print(K1)"
   ]
  },
  {
   "cell_type": "code",
   "execution_count": 14,
   "metadata": {},
   "outputs": [
    {
     "name": "stdout",
     "output_type": "stream",
     "text": [
      "[[], [], 2, []]\n"
     ]
    }
   ],
   "source": [
    "a =[1,0,0,0]\n",
    "b =[1,0,1,0]\n",
    "c = len(b)\n",
    "kla = list(map(lambda x,y,z: z if x!=y else None ,a,b,range(c)))\n",
    "# kla.remove(None)\n",
    "# kla = lambda x,y,z: z if x!=y else 0 ,a,b,range(4)\n",
    "print(kla)\n",
    "# print(c)"
   ]
  }
 ],
 "metadata": {
  "kernelspec": {
   "display_name": "base",
   "language": "python",
   "name": "python3"
  },
  "language_info": {
   "codemirror_mode": {
    "name": "ipython",
    "version": 3
   },
   "file_extension": ".py",
   "mimetype": "text/x-python",
   "name": "python",
   "nbconvert_exporter": "python",
   "pygments_lexer": "ipython3",
   "version": "3.9.12"
  },
  "orig_nbformat": 4,
  "vscode": {
   "interpreter": {
    "hash": "ad2bdc8ecc057115af97d19610ffacc2b4e99fae6737bb82f5d7fb13d2f2c186"
   }
  }
 },
 "nbformat": 4,
 "nbformat_minor": 2
}

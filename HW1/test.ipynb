{
 "cells": [
  {
   "cell_type": "code",
   "execution_count": 2,
   "metadata": {},
   "outputs": [
    {
     "name": "stdout",
     "output_type": "stream",
     "text": [
      "Collecting tensorflow-gpu\n",
      "  Using cached tensorflow-gpu-2.12.0.tar.gz (2.6 kB)\n",
      "Requirement already satisfied: python_version>\"3.7\" in c:\\users\\kla\\anaconda3\\lib\\site-packages (from tensorflow-gpu) (0.0.2)\n",
      "Building wheels for collected packages: tensorflow-gpu\n",
      "  Building wheel for tensorflow-gpu (setup.py): started\n",
      "  Building wheel for tensorflow-gpu (setup.py): finished with status 'error'\n",
      "  Running setup.py clean for tensorflow-gpu\n",
      "Failed to build tensorflow-gpu\n",
      "Installing collected packages: tensorflow-gpu\n",
      "    Running setup.py install for tensorflow-gpu: started\n",
      "    Running setup.py install for tensorflow-gpu: finished with status 'error'\n",
      "Note: you may need to restart the kernel to use updated packages.\n"
     ]
    },
    {
     "name": "stderr",
     "output_type": "stream",
     "text": [
      "  ERROR: Command errored out with exit status 1:\n",
      "   command: 'c:\\Users\\Kla\\anaconda3\\python.exe' -u -c 'import io, os, sys, setuptools, tokenize; sys.argv[0] = '\"'\"'C:\\\\Users\\\\Kla\\\\AppData\\\\Local\\\\Temp\\\\pip-install-i0qi68py\\\\tensorflow-gpu_6cf953edda5d493ea5be26db960ea66b\\\\setup.py'\"'\"'; __file__='\"'\"'C:\\\\Users\\\\Kla\\\\AppData\\\\Local\\\\Temp\\\\pip-install-i0qi68py\\\\tensorflow-gpu_6cf953edda5d493ea5be26db960ea66b\\\\setup.py'\"'\"';f = getattr(tokenize, '\"'\"'open'\"'\"', open)(__file__) if os.path.exists(__file__) else io.StringIO('\"'\"'from setuptools import setup; setup()'\"'\"');code = f.read().replace('\"'\"'\\r\\n'\"'\"', '\"'\"'\\n'\"'\"');f.close();exec(compile(code, __file__, '\"'\"'exec'\"'\"'))' bdist_wheel -d 'C:\\Users\\Kla\\AppData\\Local\\Temp\\pip-wheel-4ujzsyf3'\n",
      "       cwd: C:\\Users\\Kla\\AppData\\Local\\Temp\\pip-install-i0qi68py\\tensorflow-gpu_6cf953edda5d493ea5be26db960ea66b\\\n",
      "  Complete output (17 lines):\n",
      "  Traceback (most recent call last):\n",
      "    File \"<string>\", line 1, in <module>\n",
      "    File \"C:\\Users\\Kla\\AppData\\Local\\Temp\\pip-install-i0qi68py\\tensorflow-gpu_6cf953edda5d493ea5be26db960ea66b\\setup.py\", line 37, in <module>\n",
      "      raise Exception(TF_REMOVAL_WARNING)\n",
      "  Exception:\n",
      "  \n",
      "  =========================================================\n",
      "  The \"tensorflow-gpu\" package has been removed!\n",
      "  \n",
      "  Please install \"tensorflow\" instead.\n",
      "  \n",
      "  Other than the name, the two packages have been identical\n",
      "  since TensorFlow 2.1, or roughly since Sep 2019. For more\n",
      "  information, see: pypi.org/project/tensorflow-gpu\n",
      "  =========================================================\n",
      "  \n",
      "  \n",
      "  ----------------------------------------\n",
      "  ERROR: Failed building wheel for tensorflow-gpu\n",
      "    ERROR: Command errored out with exit status 1:\n",
      "     command: 'c:\\Users\\Kla\\anaconda3\\python.exe' -u -c 'import io, os, sys, setuptools, tokenize; sys.argv[0] = '\"'\"'C:\\\\Users\\\\Kla\\\\AppData\\\\Local\\\\Temp\\\\pip-install-i0qi68py\\\\tensorflow-gpu_6cf953edda5d493ea5be26db960ea66b\\\\setup.py'\"'\"'; __file__='\"'\"'C:\\\\Users\\\\Kla\\\\AppData\\\\Local\\\\Temp\\\\pip-install-i0qi68py\\\\tensorflow-gpu_6cf953edda5d493ea5be26db960ea66b\\\\setup.py'\"'\"';f = getattr(tokenize, '\"'\"'open'\"'\"', open)(__file__) if os.path.exists(__file__) else io.StringIO('\"'\"'from setuptools import setup; setup()'\"'\"');code = f.read().replace('\"'\"'\\r\\n'\"'\"', '\"'\"'\\n'\"'\"');f.close();exec(compile(code, __file__, '\"'\"'exec'\"'\"'))' install --record 'C:\\Users\\Kla\\AppData\\Local\\Temp\\pip-record-c37wqd9n\\install-record.txt' --single-version-externally-managed --compile --install-headers 'c:\\Users\\Kla\\anaconda3\\Include\\tensorflow-gpu'\n",
      "         cwd: C:\\Users\\Kla\\AppData\\Local\\Temp\\pip-install-i0qi68py\\tensorflow-gpu_6cf953edda5d493ea5be26db960ea66b\\\n",
      "    Complete output (17 lines):\n",
      "    Traceback (most recent call last):\n",
      "      File \"<string>\", line 1, in <module>\n",
      "      File \"C:\\Users\\Kla\\AppData\\Local\\Temp\\pip-install-i0qi68py\\tensorflow-gpu_6cf953edda5d493ea5be26db960ea66b\\setup.py\", line 37, in <module>\n",
      "        raise Exception(TF_REMOVAL_WARNING)\n",
      "    Exception:\n",
      "    \n",
      "    =========================================================\n",
      "    The \"tensorflow-gpu\" package has been removed!\n",
      "    \n",
      "    Please install \"tensorflow\" instead.\n",
      "    \n",
      "    Other than the name, the two packages have been identical\n",
      "    since TensorFlow 2.1, or roughly since Sep 2019. For more\n",
      "    information, see: pypi.org/project/tensorflow-gpu\n",
      "    =========================================================\n",
      "    \n",
      "    \n",
      "    ----------------------------------------\n",
      "ERROR: Command errored out with exit status 1: 'c:\\Users\\Kla\\anaconda3\\python.exe' -u -c 'import io, os, sys, setuptools, tokenize; sys.argv[0] = '\"'\"'C:\\\\Users\\\\Kla\\\\AppData\\\\Local\\\\Temp\\\\pip-install-i0qi68py\\\\tensorflow-gpu_6cf953edda5d493ea5be26db960ea66b\\\\setup.py'\"'\"'; __file__='\"'\"'C:\\\\Users\\\\Kla\\\\AppData\\\\Local\\\\Temp\\\\pip-install-i0qi68py\\\\tensorflow-gpu_6cf953edda5d493ea5be26db960ea66b\\\\setup.py'\"'\"';f = getattr(tokenize, '\"'\"'open'\"'\"', open)(__file__) if os.path.exists(__file__) else io.StringIO('\"'\"'from setuptools import setup; setup()'\"'\"');code = f.read().replace('\"'\"'\\r\\n'\"'\"', '\"'\"'\\n'\"'\"');f.close();exec(compile(code, __file__, '\"'\"'exec'\"'\"'))' install --record 'C:\\Users\\Kla\\AppData\\Local\\Temp\\pip-record-c37wqd9n\\install-record.txt' --single-version-externally-managed --compile --install-headers 'c:\\Users\\Kla\\anaconda3\\Include\\tensorflow-gpu' Check the logs for full command output.\n"
     ]
    }
   ],
   "source": [
    "%pip install --upgrade tensorflow-gpu"
   ]
  },
  {
   "cell_type": "code",
   "execution_count": 1,
   "metadata": {},
   "outputs": [
    {
     "ename": "AttributeError",
     "evalue": "module 'tensorflow._api.v2.config' has no attribute 'experimmental'",
     "output_type": "error",
     "traceback": [
      "\u001b[1;31m---------------------------------------------------------------------------\u001b[0m",
      "\u001b[1;31mAttributeError\u001b[0m                            Traceback (most recent call last)",
      "\u001b[1;32md:\\FRA501-NLP\\HW1\\test.ipynb Cell 1\u001b[0m in \u001b[0;36m<cell line: 2>\u001b[1;34m()\u001b[0m\n\u001b[0;32m      <a href='vscode-notebook-cell:/d%3A/FRA501-NLP/HW1/test.ipynb#X22sZmlsZQ%3D%3D?line=0'>1</a>\u001b[0m \u001b[39mimport\u001b[39;00m \u001b[39mtensorflow\u001b[39;00m \u001b[39mas\u001b[39;00m \u001b[39mtf\u001b[39;00m\n\u001b[1;32m----> <a href='vscode-notebook-cell:/d%3A/FRA501-NLP/HW1/test.ipynb#X22sZmlsZQ%3D%3D?line=1'>2</a>\u001b[0m \u001b[39mprint\u001b[39m(\u001b[39mlen\u001b[39m(tf\u001b[39m.\u001b[39;49mconfig\u001b[39m.\u001b[39;49mexperimmental\u001b[39m.\u001b[39mlist_physical_devices(\u001b[39m'\u001b[39m\u001b[39mGPU\u001b[39m\u001b[39m'\u001b[39m)))\n",
      "\u001b[1;31mAttributeError\u001b[0m: module 'tensorflow._api.v2.config' has no attribute 'experimmental'"
     ]
    }
   ],
   "source": [
    "import tensorflow as tf\n",
    "print(len(tf.config.experimmental.list_physical_devices('GPU')))"
   ]
  },
  {
   "cell_type": "code",
   "execution_count": 33,
   "metadata": {},
   "outputs": [],
   "source": [
    "thai_vocab = [\"ไ\",\"ป\",\"ห\",\"า\",\"ม\",\"เ\",\"ห\",\"ส\",\"ี\",\"ไป\",\"หา\",\"หาม\",\"เห\",\"สี\",\"มเหสี\",\"!\"]\n",
    "from math import inf #infinity\n",
    "def maximal_matching(c):\n",
    "    #Initialize an empty 2D list\n",
    "    # d  =[[None]*len(c) for _ in range(len(c))]\n",
    "    d  =[[1,2] for _ in range(len(c))]\n",
    "    ####FILL CODE HERE####\n",
    "    \n",
    "\n",
    "    ######################\n",
    "    \n",
    "    return d"
   ]
  },
  {
   "cell_type": "code",
   "execution_count": 34,
   "metadata": {},
   "outputs": [
    {
     "name": "stdout",
     "output_type": "stream",
     "text": [
      "[1, 2] ไ\n",
      "[1, 2] ป\n",
      "[1, 2] ห\n",
      "[1, 2] า\n",
      "[1, 2] ม\n",
      "[1, 2] เ\n",
      "[1, 2] ห\n",
      "[1, 2] ส\n",
      "[1, 2] ี\n",
      "[1, 2] !\n"
     ]
    }
   ],
   "source": [
    "input_text = \"ไปหามเหสี!\"\n",
    "out = maximal_matching(input_text)\n",
    "# print(out)\n",
    "for i in range(len(out)):\n",
    "    print(out[i],input_text[i])"
   ]
  },
  {
   "cell_type": "code",
   "execution_count": 47,
   "metadata": {},
   "outputs": [
    {
     "name": "stdout",
     "output_type": "stream",
     "text": [
      "None\n",
      "['!', 'มเหสี', 'สี', 'เห', 'หาม', 'หา', 'ไป', 'ี', 'ส', 'ห', 'เ', 'ม', 'า', 'ห', 'ป', 'ไ']\n"
     ]
    }
   ],
   "source": [
    "print(thai_vocab.reverse())\n",
    "print(thai_vocab)"
   ]
  },
  {
   "cell_type": "code",
   "execution_count": 36,
   "metadata": {},
   "outputs": [
    {
     "name": "stdout",
     "output_type": "stream",
     "text": [
      "[[1, 2], [1, 2], [1, 2], [1, 2], [1, 2], [1, 2], [1, 2], [1, 2], [1, 2], [1, 2]]\n",
      "[[1, 2], [1, 2], [1, 2], [1, 2]]\n"
     ]
    }
   ],
   "source": [
    "print(out)\n",
    "print(out[1:5])"
   ]
  },
  {
   "cell_type": "code",
   "execution_count": 37,
   "metadata": {},
   "outputs": [
    {
     "name": "stdout",
     "output_type": "stream",
     "text": [
      "True\n",
      "ป\n",
      "000w1\n"
     ]
    }
   ],
   "source": [
    "print(\"ไป\" in thai_vocab)\n",
    "print(input_text[1])\n",
    "print(\"000w\"+\"\"+\"1\")"
   ]
  },
  {
   "cell_type": "code",
   "execution_count": 38,
   "metadata": {},
   "outputs": [
    {
     "name": "stdout",
     "output_type": "stream",
     "text": [
      "kla\n",
      "<class 'int'>\n"
     ]
    }
   ],
   "source": [
    "a = [1,2,3,4,0]\n",
    "if type(min(a)) == int:\n",
    "    print(\"kla\")\n",
    "print(type(min(a)))\n",
    "# print(a[1:3])"
   ]
  },
  {
   "cell_type": "code",
   "execution_count": 39,
   "metadata": {},
   "outputs": [
    {
     "name": "stdout",
     "output_type": "stream",
     "text": [
      "[0, 1, 4, 9, 16]\n"
     ]
    }
   ],
   "source": [
    "squared_numbers = list(map(lambda x: x**2, range(5)))\n",
    "print(squared_numbers)"
   ]
  },
  {
   "cell_type": "code",
   "execution_count": 40,
   "metadata": {},
   "outputs": [
    {
     "name": "stdout",
     "output_type": "stream",
     "text": [
      "k\n",
      "kk\n"
     ]
    }
   ],
   "source": [
    "G = 1\n",
    "if type(G)==int:\n",
    "    print(\"k\")\n",
    "if G == 1 :\n",
    "    print(\"kk\")\n",
    "else : \n",
    "    print(\"kkk\")"
   ]
  },
  {
   "cell_type": "code",
   "execution_count": 41,
   "metadata": {},
   "outputs": [
    {
     "name": "stdout",
     "output_type": "stream",
     "text": [
      "9\n",
      "8\n",
      "7\n",
      "6\n",
      "5\n",
      "4\n",
      "3\n",
      "2\n",
      "1\n",
      "0\n"
     ]
    }
   ],
   "source": [
    "for i in range(9,-1,-1):\n",
    "    print(i)"
   ]
  },
  {
   "cell_type": "code",
   "execution_count": 45,
   "metadata": {},
   "outputs": [
    {
     "name": "stdout",
     "output_type": "stream",
     "text": [
      "[[1, 2, 3, 4, 5, 6], [11, 1]]\n",
      "[[11, 1], [1, 2, 3, 4, 5, 6]]\n"
     ]
    }
   ],
   "source": [
    "a = [[1,2,3,4,5,6]]\n",
    "b = [[11,1]]\n",
    "c = a+b\n",
    "print(c)\n",
    "c.reverse()\n",
    "print(c)"
   ]
  },
  {
   "cell_type": "code",
   "execution_count": 51,
   "metadata": {},
   "outputs": [
    {
     "name": "stdout",
     "output_type": "stream",
     "text": [
      "The index of 3 is: 0\n"
     ]
    }
   ],
   "source": [
    "numbers = [3, 2, 3, 3, 5]\n",
    "\n",
    "# Find the index of the number 3\n",
    "index = numbers.index(3)\n",
    "\n",
    "# Print the index\n",
    "print(\"The index of 3 is:\", index)"
   ]
  },
  {
   "cell_type": "code",
   "execution_count": 87,
   "metadata": {},
   "outputs": [
    {
     "ename": "ValueError",
     "evalue": "4 is not in list",
     "output_type": "error",
     "traceback": [
      "\u001b[1;31m---------------------------------------------------------------------------\u001b[0m",
      "\u001b[1;31mValueError\u001b[0m                                Traceback (most recent call last)",
      "\u001b[1;32md:\\FRA501-NLP\\HW1\\test.ipynb Cell 12\u001b[0m in \u001b[0;36m<cell line: 3>\u001b[1;34m()\u001b[0m\n\u001b[0;32m      <a href='vscode-notebook-cell:/d%3A/FRA501-NLP/HW1/test.ipynb#X15sZmlsZQ%3D%3D?line=0'>1</a>\u001b[0m \u001b[39mfrom\u001b[39;00m \u001b[39mmath\u001b[39;00m \u001b[39mimport\u001b[39;00m inf \u001b[39m#infinity\u001b[39;00m\n\u001b[0;32m      <a href='vscode-notebook-cell:/d%3A/FRA501-NLP/HW1/test.ipynb#X15sZmlsZQ%3D%3D?line=1'>2</a>\u001b[0m numbers \u001b[39m=\u001b[39m [\u001b[39m4\u001b[39m, inf, inf, inf, inf, inf, inf, inf, inf, inf]\n\u001b[1;32m----> <a href='vscode-notebook-cell:/d%3A/FRA501-NLP/HW1/test.ipynb#X15sZmlsZQ%3D%3D?line=2'>3</a>\u001b[0m Min_of_word \u001b[39m=\u001b[39m \u001b[39mlist\u001b[39;49m(\u001b[39mmap\u001b[39;49m(\u001b[39mlambda\u001b[39;49;00m x: numbers\u001b[39m.\u001b[39;49mindex(\u001b[39m4\u001b[39;49m,x) , \u001b[39mrange\u001b[39;49m(\u001b[39m0\u001b[39;49m,\u001b[39m9\u001b[39;49m,\u001b[39m1\u001b[39;49m)))\n\u001b[0;32m      <a href='vscode-notebook-cell:/d%3A/FRA501-NLP/HW1/test.ipynb#X15sZmlsZQ%3D%3D?line=3'>4</a>\u001b[0m \u001b[39mprint\u001b[39m(Min_of_word)\n\u001b[0;32m      <a href='vscode-notebook-cell:/d%3A/FRA501-NLP/HW1/test.ipynb#X15sZmlsZQ%3D%3D?line=4'>5</a>\u001b[0m \u001b[39mprint\u001b[39m(\u001b[39mmin\u001b[39m(Min_of_word))\n",
      "\u001b[1;32md:\\FRA501-NLP\\HW1\\test.ipynb Cell 12\u001b[0m in \u001b[0;36m<lambda>\u001b[1;34m(x)\u001b[0m\n\u001b[0;32m      <a href='vscode-notebook-cell:/d%3A/FRA501-NLP/HW1/test.ipynb#X15sZmlsZQ%3D%3D?line=0'>1</a>\u001b[0m \u001b[39mfrom\u001b[39;00m \u001b[39mmath\u001b[39;00m \u001b[39mimport\u001b[39;00m inf \u001b[39m#infinity\u001b[39;00m\n\u001b[0;32m      <a href='vscode-notebook-cell:/d%3A/FRA501-NLP/HW1/test.ipynb#X15sZmlsZQ%3D%3D?line=1'>2</a>\u001b[0m numbers \u001b[39m=\u001b[39m [\u001b[39m4\u001b[39m, inf, inf, inf, inf, inf, inf, inf, inf, inf]\n\u001b[1;32m----> <a href='vscode-notebook-cell:/d%3A/FRA501-NLP/HW1/test.ipynb#X15sZmlsZQ%3D%3D?line=2'>3</a>\u001b[0m Min_of_word \u001b[39m=\u001b[39m \u001b[39mlist\u001b[39m(\u001b[39mmap\u001b[39m(\u001b[39mlambda\u001b[39;00m x: numbers\u001b[39m.\u001b[39;49mindex(\u001b[39m4\u001b[39;49m,x) , \u001b[39mrange\u001b[39m(\u001b[39m0\u001b[39m,\u001b[39m9\u001b[39m,\u001b[39m1\u001b[39m)))\n\u001b[0;32m      <a href='vscode-notebook-cell:/d%3A/FRA501-NLP/HW1/test.ipynb#X15sZmlsZQ%3D%3D?line=3'>4</a>\u001b[0m \u001b[39mprint\u001b[39m(Min_of_word)\n\u001b[0;32m      <a href='vscode-notebook-cell:/d%3A/FRA501-NLP/HW1/test.ipynb#X15sZmlsZQ%3D%3D?line=4'>5</a>\u001b[0m \u001b[39mprint\u001b[39m(\u001b[39mmin\u001b[39m(Min_of_word))\n",
      "\u001b[1;31mValueError\u001b[0m: 4 is not in list"
     ]
    }
   ],
   "source": [
    "from math import inf #infinity\n",
    "numbers = [4, inf, inf, inf, inf, inf, inf, inf, inf, inf]\n",
    "Min_of_word = list(map(lambda x: numbers.index(4,x) , range(0,9,1)))\n",
    "print(Min_of_word)\n",
    "print(min(Min_of_word))\n",
    "print(max(Min_of_word))"
   ]
  },
  {
   "cell_type": "code",
   "execution_count": 90,
   "metadata": {},
   "outputs": [],
   "source": [
    "if type(\"1\") == int or \"1\" == 1 :\n",
    "    print(1)"
   ]
  },
  {
   "cell_type": "code",
   "execution_count": 1,
   "metadata": {},
   "outputs": [
    {
     "name": "stdout",
     "output_type": "stream",
     "text": [
      "{'one': 0, 'Two': 1, 'Three': 2}\n"
     ]
    }
   ],
   "source": [
    "CHARS = [\"one\",\"Two\",\"Three\"]\n",
    "K1 = {v: k for k, v in enumerate(CHARS)}\n",
    "print(K1)"
   ]
  },
  {
   "cell_type": "code",
   "execution_count": 14,
   "metadata": {},
   "outputs": [
    {
     "name": "stdout",
     "output_type": "stream",
     "text": [
      "[[], [], 2, []]\n"
     ]
    }
   ],
   "source": [
    "a =[1,0,0,0]\n",
    "b =[1,0,1,0]\n",
    "c = len(b)\n",
    "kla = list(map(lambda x,y,z: z if x!=y else None ,a,b,range(c)))\n",
    "# kla.remove(None)\n",
    "# kla = lambda x,y,z: z if x!=y else 0 ,a,b,range(4)\n",
    "print(kla)\n",
    "# print(c)"
   ]
  }
 ],
 "metadata": {
  "kernelspec": {
   "display_name": "base",
   "language": "python",
   "name": "python3"
  },
  "language_info": {
   "codemirror_mode": {
    "name": "ipython",
    "version": 3
   },
   "file_extension": ".py",
   "mimetype": "text/x-python",
   "name": "python",
   "nbconvert_exporter": "python",
   "pygments_lexer": "ipython3",
   "version": "3.9.12"
  },
  "orig_nbformat": 4,
  "vscode": {
   "interpreter": {
    "hash": "929163599431c7b3e753eb9c75a6800fa8c5c72fb3910ee126ea89c879162a29"
   }
  }
 },
 "nbformat": 4,
 "nbformat_minor": 2
}

{
 "cells": [
  {
   "attachments": {},
   "cell_type": "markdown",
   "metadata": {},
   "source": [
    "<p style=\"color:yellow;font-size:18px;\"><b>\n",
    "Tanut Bumrungvongsiri  63340500026 <br>\n",
    "Parapat patcharapimpisut 63340500046<br>\n",
    "Ronnakon mekvimanloi 63340500051\n"
   ]
  },
  {
   "cell_type": "markdown",
   "metadata": {
    "id": "Y1cDcKRZwXCL"
   },
   "source": [
    "# Key-Value Attention Mechanism Homework on Keras: Character-level Machine Translation (Many-to-Many, encoder-decoder)\n",
    "\n",
    "In this homework, you will create an MT model with key-value attention mechnism that coverts names of constituency MP candidates in the 2019 Thai general election from Thai script to Roman(Latin) script. E.g. นิยม-->niyom "
   ]
  },
  {
   "cell_type": "code",
   "execution_count": 1,
   "metadata": {},
   "outputs": [
    {
     "name": "stderr",
     "output_type": "stream",
     "text": [
      "--2023-04-28 14:36:28--  https://github.com/Phonbopit/sarabun-webfont/raw/master/fonts/thsarabunnew-webfont.ttf\n",
      "Resolving github.com (github.com)... 20.205.243.166\n",
      "Connecting to github.com (github.com)|20.205.243.166|:443... connected.\n",
      "HTTP request sent, awaiting response... 302 Found\n",
      "Location: https://raw.githubusercontent.com/Phonbopit/sarabun-webfont/master/fonts/thsarabunnew-webfont.ttf [following]\n",
      "--2023-04-28 14:36:28--  https://raw.githubusercontent.com/Phonbopit/sarabun-webfont/master/fonts/thsarabunnew-webfont.ttf\n",
      "Resolving raw.githubusercontent.com (raw.githubusercontent.com)... 185.199.109.133, 185.199.111.133, 185.199.110.133, ...\n",
      "Connecting to raw.githubusercontent.com (raw.githubusercontent.com)|185.199.109.133|:443... connected.\n",
      "HTTP request sent, awaiting response... 200 OK\n",
      "Length: 98308 (96K) [application/octet-stream]\n",
      "Saving to: 'thsarabunnew-webfont.ttf.22'\n",
      "\n",
      "     0K .......... .......... .......... .......... .......... 52%  362K 0s\n",
      "    50K .......... .......... .......... .......... ......    100%  451K=0.2s\n",
      "\n",
      "2023-04-28 14:36:29 (400 KB/s) - 'thsarabunnew-webfont.ttf.22' saved [98308/98308]\n",
      "\n"
     ]
    }
   ],
   "source": [
    "!wget https://github.com/Phonbopit/sarabun-webfont/raw/master/fonts/thsarabunnew-webfont.ttf"
   ]
  },
  {
   "cell_type": "code",
   "execution_count": 2,
   "metadata": {
    "colab": {
     "base_uri": "https://localhost:8080/"
    },
    "id": "Oy6QYsP4wa-k",
    "outputId": "25936619-1972-417c-f33d-71e420528835"
   },
   "outputs": [
    {
     "name": "stdout",
     "output_type": "stream",
     "text": [
      "2.10.0\n"
     ]
    }
   ],
   "source": [
    "import tensorflow as tf\n",
    "print(tf.__version__)\n",
    "\n",
    "import matplotlib\n",
    "import matplotlib.font_manager as fm\n",
    "\n",
    "fm.fontManager.addfont('thsarabunnew-webfont.ttf') # 3.2+\n",
    "matplotlib.rc('font', family='TH Sarabun New')"
   ]
  },
  {
   "cell_type": "code",
   "execution_count": 3,
   "metadata": {
    "id": "mRdbTrQJwXCR"
   },
   "outputs": [],
   "source": [
    "# %matplotlib inline\n",
    "from tensorflow.keras.preprocessing.sequence import pad_sequences\n",
    "from tensorflow.keras.layers import Bidirectional, Concatenate, Permute, Dot, Input, LSTM, Multiply\n",
    "from tensorflow.keras.layers import RepeatVector, Dense, Activation, Lambda\n",
    "from tensorflow.keras.optimizers import Adam\n",
    "from tensorflow.keras.utils import to_categorical\n",
    "from tensorflow.keras import Model\n",
    "from tensorflow.keras.models import load_model\n",
    "import tensorflow.keras.backend as K\n",
    "import numpy as np\n",
    "\n",
    "import random"
   ]
  },
  {
   "cell_type": "markdown",
   "metadata": {
    "id": "Sq20keO6wXCh"
   },
   "source": [
    "## Load Dataset\n",
    "We have generated a toy dataset using names of constituency MP candidates in 2019 Thai General Election from elect.in.th's github(https://github.com/codeforthailand/dataset-election-62-candidates) and tltk (https://pypi.org/project/tltk/) library to convert them into Roman script.\n",
    "\n",
    "<img src=\"https://raw.githubusercontent.com/ekapolc/nlp_2019/master/HW8/images/dataset_diagram.png\" alt=\"Drawing\" style=\"width: 500px;\"/>\n"
   ]
  },
  {
   "cell_type": "code",
   "execution_count": 4,
   "metadata": {
    "colab": {
     "base_uri": "https://localhost:8080/"
    },
    "id": "B8ILK0shprTa",
    "outputId": "ab6afe4f-3724-4a1e-b788-ddcc3fbd1f75"
   },
   "outputs": [],
   "source": [
    "# from google.colab import drive\n",
    "# drive.mount('/content/drive')"
   ]
  },
  {
   "cell_type": "code",
   "execution_count": 5,
   "metadata": {
    "colab": {
     "base_uri": "https://localhost:8080/",
     "height": 36
    },
    "id": "ecQgM1JRp-7B",
    "outputId": "c789cc23-0a12-408d-94c7-a657f86e6356"
   },
   "outputs": [],
   "source": [
    "# import shutil\n",
    "# shutil.copy(\"/content/drive/MyDrive/mp_name_th_en.csv\", \"/content/mp_name_th_en.csv\")"
   ]
  },
  {
   "cell_type": "code",
   "execution_count": 6,
   "metadata": {
    "id": "rTQk8W4OwXCk"
   },
   "outputs": [],
   "source": [
    "import csv\n",
    "\n",
    "with open('mp_name_th_en.csv', 'r', encoding='utf-8') as file:\n",
    "    readCSV = csv.reader(file)\n",
    "    name_th = []\n",
    "    name_en = []\n",
    "    for row in readCSV:\n",
    "        name_th.append(row[0])\n",
    "        name_en.append(row[1])"
   ]
  },
  {
   "cell_type": "code",
   "execution_count": 7,
   "metadata": {
    "colab": {
     "base_uri": "https://localhost:8080/"
    },
    "id": "lVNHVM_FwXCs",
    "outputId": "b7be5094-f8e6-45ca-cd70-a5908f34a6ab"
   },
   "outputs": [
    {
     "name": "stdout",
     "output_type": "stream",
     "text": [
      "ไกรสีห์ kraisi\n",
      "พัชรี phatri\n",
      "ธีระ thira\n",
      "วุฒิกร wutthikon\n",
      "ไสว sawai\n",
      "สัมภาษณ์  samphat\n",
      "วศิน wasin\n",
      "ทินวัฒน์ thinwat\n",
      "ศักดินัย sakdinai\n",
      "สุรศักดิ์ surasak\n"
     ]
    }
   ],
   "source": [
    "for th, en in zip(name_th[:10],name_en[:10]):\n",
    "    print(th,en)"
   ]
  },
  {
   "cell_type": "markdown",
   "metadata": {
    "id": "heMTiM7qwXC2"
   },
   "source": [
    "## Task1: Preprocess dataset for Keras\n",
    "* 2 dictionaries for indexing (1 for input and another for output)\n",
    "* DON'T FORGET TO INCLUDE special token for padding\n",
    "* DON'T FORGET TO INCLUDE special token for the end of word symbol (output)\n",
    "* Be mindful of your pad_sequences \"padding\" hyperparameter. Choose wisely (post-padding vs pre-padding)"
   ]
  },
  {
   "cell_type": "code",
   "execution_count": 8,
   "metadata": {
    "colab": {
     "base_uri": "https://localhost:8080/"
    },
    "id": "_O5YhjntwXC4",
    "outputId": "7ecc1f73-246c-447c-9127-961a4defa229"
   },
   "outputs": [
    {
     "name": "stdout",
     "output_type": "stream",
     "text": [
      "{'<PAD>': 0, 'ร': 1, 'ส': 2, 'ไ': 3, 'ี': 4, '์': 5, 'ห': 6, 'ก': 7, 'ั': 8, 'ช': 9, 'พ': 10, 'ธ': 11, 'ะ': 12, 'ิ': 13, 'ว': 14, 'ฒ': 15, 'ุ': 16, 'ม': 17, ' ': 18, 'ภ': 19, 'า': 20, 'ณ': 21, 'ษ': 22, 'ศ': 23, 'น': 24, 'ท': 25, 'ย': 26, 'ด': 27, 'เ': 28, 'อ': 29, 'ค': 30, 'ต': 31, '่': 32, 'ำ': 33, 'ฐ': 34, 'ญ': 35, 'ล': 36, 'ู': 37, 'ง': 38, 'ฏ': 39, 'ป': 40, 'บ': 41, 'ฎ': 42, 'จ': 43, 'โ': 44, 'ข': 45, 'ื': 46, 'ึ': 47, 'ถ': 48, 'ซ': 49, '้': 50, 'ฑ': 51, 'แ': 52, 'ผ': 53, '็': 54, 'ฮ': 55, 'ฉ': 56, 'ใ': 57, '๊': 58, 'ฆ': 59, 'ฌ': 60, 'ฟ': 61, 'ฬ': 62, 'ฝ': 63, '๋': 64}\n",
      "{'<PAD>': 0, 'a': 1, 'r': 2, 's': 3, 'k': 4, 'i': 5, 'h': 6, 'p': 7, 't': 8, 'n': 9, 'u': 10, 'o': 11, 'w': 12, 'm': 13, 'd': 14, 'e': 15, 'c': 16, 'l': 17, 'g': 18, 'y': 19, 'b': 20, 'f': 21, '-': 22, '<END>': 23}\n",
      "{0: '<PAD>', 1: 'ร', 2: 'ส', 3: 'ไ', 4: 'ี', 5: '์', 6: 'ห', 7: 'ก', 8: 'ั', 9: 'ช', 10: 'พ', 11: 'ธ', 12: 'ะ', 13: 'ิ', 14: 'ว', 15: 'ฒ', 16: 'ุ', 17: 'ม', 18: ' ', 19: 'ภ', 20: 'า', 21: 'ณ', 22: 'ษ', 23: 'ศ', 24: 'น', 25: 'ท', 26: 'ย', 27: 'ด', 28: 'เ', 29: 'อ', 30: 'ค', 31: 'ต', 32: '่', 33: 'ำ', 34: 'ฐ', 35: 'ญ', 36: 'ล', 37: 'ู', 38: 'ง', 39: 'ฏ', 40: 'ป', 41: 'บ', 42: 'ฎ', 43: 'จ', 44: 'โ', 45: 'ข', 46: 'ื', 47: 'ึ', 48: 'ถ', 49: 'ซ', 50: '้', 51: 'ฑ', 52: 'แ', 53: 'ผ', 54: '็', 55: 'ฮ', 56: 'ฉ', 57: 'ใ', 58: '๊', 59: 'ฆ', 60: 'ฌ', 61: 'ฟ', 62: 'ฬ', 63: 'ฝ', 64: '๋'}\n",
      "{0: '<PAD>', 1: 'a', 2: 'r', 3: 's', 4: 'k', 5: 'i', 6: 'h', 7: 'p', 8: 't', 9: 'n', 10: 'u', 11: 'o', 12: 'w', 13: 'm', 14: 'd', 15: 'e', 16: 'c', 17: 'l', 18: 'g', 19: 'y', 20: 'b', 21: 'f', 22: '-', 23: '<END>'}\n",
      "(10887, 20, 65) (10887, 19, 24)\n"
     ]
    }
   ],
   "source": [
    "def unique_char(words,output =0):\n",
    "    dictionary = {}\n",
    "    dictionary[\"<PAD>\"] = 0\n",
    "    index = 1\n",
    "    for word in words:\n",
    "        for char in set(word):\n",
    "            if char not in dictionary:\n",
    "                dictionary[char] = index\n",
    "                index += 1\n",
    "    if output==1:\n",
    "        dictionary[\"<END>\"] = index\n",
    "    return dictionary\n",
    "\n",
    "def reverse_dict(dictionary):\n",
    "    rev_dict = {}\n",
    "    for index,word in enumerate(dictionary):\n",
    "        rev_dict[index] = word\n",
    "    return rev_dict\n",
    "\n",
    "dict_in = unique_char(name_th)\n",
    "dict_out = unique_char(name_en,1)\n",
    "print(dict_in)\n",
    "print(dict_out)\n",
    "\n",
    "dict_in_rev = reverse_dict(dict_in)\n",
    "dict_out_rev = reverse_dict(dict_out)\n",
    "print(dict_in_rev)\n",
    "print(dict_out_rev)\n",
    "\n",
    "maxlen_in = len( max(name_th, key=len)) \n",
    "maxlen_out = len( max(name_en, key=len)) \n",
    "\n",
    "vocab_size_in = len(dict_in)\n",
    "vocab_size_out = len(dict_out)\n",
    "\n",
    "def data_generator(dictionary,dataset,maxlen,output):\n",
    "    data = []\n",
    "    for word in dataset:\n",
    "        temp=[]\n",
    "        for char in word:\n",
    "            temp.append(dictionary[char])\n",
    "        if output == 1:\n",
    "            temp.append(dictionary['<END>'])\n",
    "        data.append(temp)\n",
    "\n",
    "    data = pad_sequences(data,maxlen=maxlen,padding='pre')\n",
    "    return data\n",
    "\n",
    "X = data_generator(dict_in,name_th,maxlen_in,0)\n",
    "Y = data_generator(dict_out,name_en,maxlen_out,1)\n",
    "\n",
    "X= to_categorical(X,vocab_size_in)\n",
    "X=X.reshape(len(name_th),maxlen_in ,vocab_size_in)\n",
    "\n",
    "Y= to_categorical(Y,vocab_size_out)\n",
    "Y=Y.reshape(len(name_en),maxlen_out ,vocab_size_out)\n",
    "print(X.shape,Y.shape) "
   ]
  },
  {
   "cell_type": "markdown",
   "metadata": {
    "id": "HNqqnkVSwXC-"
   },
   "source": [
    "# Attention Mechanism\n",
    "## Task 2: Code your own (key-value) attention mechnism\n",
    "* PLEASE READ: you DO NOT have to follow all the details in (Daniluk, et al. 2017). You just need to create a key-value attention mechanism where the \"key\" part of the mechanism is used for attention score calculation, and the \"value\" part of the mechanism is used to encode information to create a context vector.  \n",
    "* Define global variables\n",
    "* fill code for one_step_attention function\n",
    "* Hint: use keras.layers.Lambda \n",
    "* Hint: you will probably need more hidden dimmensions than what you've seen in the demo\n"
   ]
  },
  {
   "cell_type": "code",
   "execution_count": 9,
   "metadata": {
    "id": "eSdFcuGuwXDB"
   },
   "outputs": [],
   "source": [
    "from tensorflow.keras.activations import softmax\n",
    "from tensorflow.keras.layers import Lambda\n",
    "def softMaxAxis1(x):\n",
    "    return softmax(x,axis=1)\n"
   ]
  },
  {
   "cell_type": "code",
   "execution_count": 10,
   "metadata": {
    "id": "BS3Ziti1wXDH"
   },
   "outputs": [],
   "source": [
    "#These are global variables (shared layers)\n",
    "## Fill your code here\n",
    "## you are allowed to use code in the demo as your template. \n",
    "\n",
    "#repeater = ???\n",
    "#concatenator = ???\n",
    "\n",
    "repeator = RepeatVector(maxlen_in)\n",
    "concatenator = Concatenate(axis=-1)\n",
    "\n",
    "#Key-values (Hint)\n",
    "splitter = Lambda(lambda x:tf.split(x, num_or_size_splits=2,axis=2)) \n",
    "\n",
    "#fatten_1 = ???\n",
    "#fatten_2 = ???\n",
    "\n",
    "fattn_1 = Dense(128, activation = \"tanh\")\n",
    "fattn_2 = Dense(1, activation = \"relu\")\n",
    "\n",
    "#activator = ???\n",
    "#dotor = ???\n",
    "\n",
    "activator = Activation(softMaxAxis1, name='attention_scores') \n",
    "dotor = Dot(axes = 1)"
   ]
  },
  {
   "cell_type": "code",
   "execution_count": 11,
   "metadata": {
    "id": "ecNci8x5wXDN"
   },
   "outputs": [],
   "source": [
    "def one_step_attention(a, s_prev):\n",
    "    s_prev = repeator(s_prev)\n",
    "    \n",
    "    key , value = splitter(a)\n",
    "\n",
    "    #concat = ...key...\n",
    "    concat = concatenator([key,s_prev])\n",
    "    e = fattn_1(concat)\n",
    "    energies = fattn_2(e)\n",
    "    attention_scores = activator(energies)\n",
    "    #context = ...value...\n",
    "    context = dotor([attention_scores,value])\n",
    "\n",
    "\n",
    "    return context , attention_scores ,energies  # return whatever you need to complete this homework "
   ]
  },
  {
   "cell_type": "markdown",
   "metadata": {
    "id": "2bgSCY3NwXDU"
   },
   "source": [
    "## Task3: Create and train your encoder/decoder model here\n",
    "* HINT: you will probably need more hidden dimmensions than what you've seen in the demo"
   ]
  },
  {
   "cell_type": "code",
   "execution_count": 12,
   "metadata": {},
   "outputs": [],
   "source": [
    "n_h = 64 #hidden dimensions for encoder \n",
    "n_s = 128 #hidden dimensions for decoder\n",
    "Tx , Ty = maxlen_in, maxlen_out\n",
    "\n",
    "encoder_LSTM =  Bidirectional(LSTM(n_h, return_sequences=True),input_shape=(-1, Tx, n_h*2))\n",
    "decoder_LSTM_cell = LSTM(n_s, return_state = True) #decoder_LSTM_cell\n",
    "output_layer = Dense(vocab_size_out, activation=\"softmax\") #softmax output layer"
   ]
  },
  {
   "cell_type": "code",
   "execution_count": 13,
   "metadata": {
    "id": "3CVrgh9nwXDV"
   },
   "outputs": [],
   "source": [
    "#FILL CODE HERE :Hint --> heatmap in CNN + GradCAM\n",
    "\n",
    "def model(Tx, Ty, n_h, n_s, vocab_size, machine_vocab_size):\n",
    "    \n",
    "    # Define the input of your model\n",
    "    X = Input(shape=(Tx, vocab_size))\n",
    "    # Define hidden state and cell state for decoder_LSTM_Cell\n",
    "    s0 = Input(shape=(n_s,), name='s0')\n",
    "    c0 = Input(shape=(n_s,), name='c0')\n",
    "    s = s0\n",
    "    c = c0\n",
    "    \n",
    "    # Initialize empty list of outputs\n",
    "    outputs = list()\n",
    "\n",
    "    #Encoder Bi-LSTM\n",
    "    # h = Bidirectional(LSTM(n_h, return_sequences=True),input_shape=(-1, Tx, n_h*2))(X)\n",
    "    h = encoder_LSTM(X)\n",
    "    #Iterate for Ty steps (Decoding)\n",
    "    for t in range(Ty):\n",
    "    \n",
    "        #Perform one step of the attention mechanism to calculate the context vector at timestep t\n",
    "        context , attention_scores ,energies = one_step_attention(h, s)\n",
    "       \n",
    "        # Feed the context vector to the decoder LSTM cell\n",
    "        s, _, c = decoder_LSTM_cell(context,initial_state=[s,c])\n",
    "           \n",
    "        # Pass the decoder hidden output to the output layer (softmax)\n",
    "        out = output_layer(s)\n",
    "        \n",
    "        # Append an output list with the current output\n",
    "        outputs.append(out)\n",
    "    \n",
    "    #Create model instance\n",
    "    model = Model(inputs=[X,s0,c0],outputs=outputs)\n",
    "    \n",
    "    return model\n",
    "\n",
    "def inference_encoder(Tx, Ty, n_h, n_s, vocab_size, machine_vocab_size):\n",
    "    X = Input(shape=(Tx, vocab_size))\n",
    "\n",
    "    h = encoder_LSTM(X)\n",
    "\n",
    "    model = Model(inputs=[X],outputs=h)\n",
    "\n",
    "    return model\n",
    "\n",
    "def inference_decoder(Tx, Ty, n_h, n_s, vocab_size, machine_vocab_size):\n",
    "    s0 = Input(shape=(n_s,), name='s0')\n",
    "    c0 = Input(shape=(n_s,), name='c0')\n",
    "    h = Input(shape=(Tx,n_h*2), name='h')\n",
    "    s = s0\n",
    "    c = c0\n",
    "\n",
    "    context, attention_scores, energies = one_step_attention(h, s)\n",
    "\n",
    "    s, _, c = decoder_LSTM_cell(context, initial_state=[s, c])\n",
    "\n",
    "    out = output_layer(s)\n",
    "\n",
    "    model = Model(inputs=[h, s0, c0], outputs=[out, s, c, attention_scores, energies])\n",
    "\n",
    "    return model"
   ]
  },
  {
   "cell_type": "code",
   "execution_count": 14,
   "metadata": {
    "colab": {
     "base_uri": "https://localhost:8080/",
     "height": 363
    },
    "id": "XptuOQj-wXDb",
    "outputId": "e6b416c2-de93-4798-8424-7dbe29bf6436"
   },
   "outputs": [],
   "source": [
    "#FIT YOUR MODEL HERE\n",
    "\n",
    "model = model(maxlen_in, maxlen_out, n_h, n_s, vocab_size_in, vocab_size_out)"
   ]
  },
  {
   "cell_type": "code",
   "execution_count": 15,
   "metadata": {
    "colab": {
     "base_uri": "https://localhost:8080/"
    },
    "id": "M-rCiTWrRFMH",
    "outputId": "8bd908f1-9bee-40af-81be-4fbd83146cb0"
   },
   "outputs": [
    {
     "name": "stdout",
     "output_type": "stream",
     "text": [
      "Model: \"model\"\n",
      "__________________________________________________________________________________________________\n",
      " Layer (type)                   Output Shape         Param #     Connected to                     \n",
      "==================================================================================================\n",
      " input_1 (InputLayer)           [(None, 20, 65)]     0           []                               \n",
      "                                                                                                  \n",
      " bidirectional (Bidirectional)  (None, 20, 128)      66560       ['input_1[0][0]']                \n",
      "                                                                                                  \n",
      " s0 (InputLayer)                [(None, 128)]        0           []                               \n",
      "                                                                                                  \n",
      " lambda (Lambda)                [(None, 20, 64),     0           ['bidirectional[0][0]',          \n",
      "                                 (None, 20, 64)]                  'bidirectional[0][0]',          \n",
      "                                                                  'bidirectional[0][0]',          \n",
      "                                                                  'bidirectional[0][0]',          \n",
      "                                                                  'bidirectional[0][0]',          \n",
      "                                                                  'bidirectional[0][0]',          \n",
      "                                                                  'bidirectional[0][0]',          \n",
      "                                                                  'bidirectional[0][0]',          \n",
      "                                                                  'bidirectional[0][0]',          \n",
      "                                                                  'bidirectional[0][0]',          \n",
      "                                                                  'bidirectional[0][0]',          \n",
      "                                                                  'bidirectional[0][0]',          \n",
      "                                                                  'bidirectional[0][0]',          \n",
      "                                                                  'bidirectional[0][0]',          \n",
      "                                                                  'bidirectional[0][0]',          \n",
      "                                                                  'bidirectional[0][0]',          \n",
      "                                                                  'bidirectional[0][0]',          \n",
      "                                                                  'bidirectional[0][0]',          \n",
      "                                                                  'bidirectional[0][0]']          \n",
      "                                                                                                  \n",
      " repeat_vector (RepeatVector)   (None, 20, 128)      0           ['s0[0][0]',                     \n",
      "                                                                  'lstm_1[0][0]',                 \n",
      "                                                                  'lstm_1[1][0]',                 \n",
      "                                                                  'lstm_1[2][0]',                 \n",
      "                                                                  'lstm_1[3][0]',                 \n",
      "                                                                  'lstm_1[4][0]',                 \n",
      "                                                                  'lstm_1[5][0]',                 \n",
      "                                                                  'lstm_1[6][0]',                 \n",
      "                                                                  'lstm_1[7][0]',                 \n",
      "                                                                  'lstm_1[8][0]',                 \n",
      "                                                                  'lstm_1[9][0]',                 \n",
      "                                                                  'lstm_1[10][0]',                \n",
      "                                                                  'lstm_1[11][0]',                \n",
      "                                                                  'lstm_1[12][0]',                \n",
      "                                                                  'lstm_1[13][0]',                \n",
      "                                                                  'lstm_1[14][0]',                \n",
      "                                                                  'lstm_1[15][0]',                \n",
      "                                                                  'lstm_1[16][0]',                \n",
      "                                                                  'lstm_1[17][0]']                \n",
      "                                                                                                  \n",
      " concatenate (Concatenate)      (None, 20, 192)      0           ['lambda[0][0]',                 \n",
      "                                                                  'repeat_vector[0][0]',          \n",
      "                                                                  'lambda[1][0]',                 \n",
      "                                                                  'repeat_vector[1][0]',          \n",
      "                                                                  'lambda[2][0]',                 \n",
      "                                                                  'repeat_vector[2][0]',          \n",
      "                                                                  'lambda[3][0]',                 \n",
      "                                                                  'repeat_vector[3][0]',          \n",
      "                                                                  'lambda[4][0]',                 \n",
      "                                                                  'repeat_vector[4][0]',          \n",
      "                                                                  'lambda[5][0]',                 \n",
      "                                                                  'repeat_vector[5][0]',          \n",
      "                                                                  'lambda[6][0]',                 \n",
      "                                                                  'repeat_vector[6][0]',          \n",
      "                                                                  'lambda[7][0]',                 \n",
      "                                                                  'repeat_vector[7][0]',          \n",
      "                                                                  'lambda[8][0]',                 \n",
      "                                                                  'repeat_vector[8][0]',          \n",
      "                                                                  'lambda[9][0]',                 \n",
      "                                                                  'repeat_vector[9][0]',          \n",
      "                                                                  'lambda[10][0]',                \n",
      "                                                                  'repeat_vector[10][0]',         \n",
      "                                                                  'lambda[11][0]',                \n",
      "                                                                  'repeat_vector[11][0]',         \n",
      "                                                                  'lambda[12][0]',                \n",
      "                                                                  'repeat_vector[12][0]',         \n",
      "                                                                  'lambda[13][0]',                \n",
      "                                                                  'repeat_vector[13][0]',         \n",
      "                                                                  'lambda[14][0]',                \n",
      "                                                                  'repeat_vector[14][0]',         \n",
      "                                                                  'lambda[15][0]',                \n",
      "                                                                  'repeat_vector[15][0]',         \n",
      "                                                                  'lambda[16][0]',                \n",
      "                                                                  'repeat_vector[16][0]',         \n",
      "                                                                  'lambda[17][0]',                \n",
      "                                                                  'repeat_vector[17][0]',         \n",
      "                                                                  'lambda[18][0]',                \n",
      "                                                                  'repeat_vector[18][0]']         \n",
      "                                                                                                  \n",
      " dense (Dense)                  (None, 20, 128)      24704       ['concatenate[0][0]',            \n",
      "                                                                  'concatenate[1][0]',            \n",
      "                                                                  'concatenate[2][0]',            \n",
      "                                                                  'concatenate[3][0]',            \n",
      "                                                                  'concatenate[4][0]',            \n",
      "                                                                  'concatenate[5][0]',            \n",
      "                                                                  'concatenate[6][0]',            \n",
      "                                                                  'concatenate[7][0]',            \n",
      "                                                                  'concatenate[8][0]',            \n",
      "                                                                  'concatenate[9][0]',            \n",
      "                                                                  'concatenate[10][0]',           \n",
      "                                                                  'concatenate[11][0]',           \n",
      "                                                                  'concatenate[12][0]',           \n",
      "                                                                  'concatenate[13][0]',           \n",
      "                                                                  'concatenate[14][0]',           \n",
      "                                                                  'concatenate[15][0]',           \n",
      "                                                                  'concatenate[16][0]',           \n",
      "                                                                  'concatenate[17][0]',           \n",
      "                                                                  'concatenate[18][0]']           \n",
      "                                                                                                  \n",
      " dense_1 (Dense)                (None, 20, 1)        129         ['dense[0][0]',                  \n",
      "                                                                  'dense[1][0]',                  \n",
      "                                                                  'dense[2][0]',                  \n",
      "                                                                  'dense[3][0]',                  \n",
      "                                                                  'dense[4][0]',                  \n",
      "                                                                  'dense[5][0]',                  \n",
      "                                                                  'dense[6][0]',                  \n",
      "                                                                  'dense[7][0]',                  \n",
      "                                                                  'dense[8][0]',                  \n",
      "                                                                  'dense[9][0]',                  \n",
      "                                                                  'dense[10][0]',                 \n",
      "                                                                  'dense[11][0]',                 \n",
      "                                                                  'dense[12][0]',                 \n",
      "                                                                  'dense[13][0]',                 \n",
      "                                                                  'dense[14][0]',                 \n",
      "                                                                  'dense[15][0]',                 \n",
      "                                                                  'dense[16][0]',                 \n",
      "                                                                  'dense[17][0]',                 \n",
      "                                                                  'dense[18][0]']                 \n",
      "                                                                                                  \n",
      " attention_scores (Activation)  (None, 20, 1)        0           ['dense_1[0][0]',                \n",
      "                                                                  'dense_1[1][0]',                \n",
      "                                                                  'dense_1[2][0]',                \n",
      "                                                                  'dense_1[3][0]',                \n",
      "                                                                  'dense_1[4][0]',                \n",
      "                                                                  'dense_1[5][0]',                \n",
      "                                                                  'dense_1[6][0]',                \n",
      "                                                                  'dense_1[7][0]',                \n",
      "                                                                  'dense_1[8][0]',                \n",
      "                                                                  'dense_1[9][0]',                \n",
      "                                                                  'dense_1[10][0]',               \n",
      "                                                                  'dense_1[11][0]',               \n",
      "                                                                  'dense_1[12][0]',               \n",
      "                                                                  'dense_1[13][0]',               \n",
      "                                                                  'dense_1[14][0]',               \n",
      "                                                                  'dense_1[15][0]',               \n",
      "                                                                  'dense_1[16][0]',               \n",
      "                                                                  'dense_1[17][0]',               \n",
      "                                                                  'dense_1[18][0]']               \n",
      "                                                                                                  \n",
      " dot (Dot)                      (None, 1, 64)        0           ['attention_scores[0][0]',       \n",
      "                                                                  'lambda[0][1]',                 \n",
      "                                                                  'attention_scores[1][0]',       \n",
      "                                                                  'lambda[1][1]',                 \n",
      "                                                                  'attention_scores[2][0]',       \n",
      "                                                                  'lambda[2][1]',                 \n",
      "                                                                  'attention_scores[3][0]',       \n",
      "                                                                  'lambda[3][1]',                 \n",
      "                                                                  'attention_scores[4][0]',       \n",
      "                                                                  'lambda[4][1]',                 \n",
      "                                                                  'attention_scores[5][0]',       \n",
      "                                                                  'lambda[5][1]',                 \n",
      "                                                                  'attention_scores[6][0]',       \n",
      "                                                                  'lambda[6][1]',                 \n",
      "                                                                  'attention_scores[7][0]',       \n",
      "                                                                  'lambda[7][1]',                 \n",
      "                                                                  'attention_scores[8][0]',       \n",
      "                                                                  'lambda[8][1]',                 \n",
      "                                                                  'attention_scores[9][0]',       \n",
      "                                                                  'lambda[9][1]',                 \n",
      "                                                                  'attention_scores[10][0]',      \n",
      "                                                                  'lambda[10][1]',                \n",
      "                                                                  'attention_scores[11][0]',      \n",
      "                                                                  'lambda[11][1]',                \n",
      "                                                                  'attention_scores[12][0]',      \n",
      "                                                                  'lambda[12][1]',                \n",
      "                                                                  'attention_scores[13][0]',      \n",
      "                                                                  'lambda[13][1]',                \n",
      "                                                                  'attention_scores[14][0]',      \n",
      "                                                                  'lambda[14][1]',                \n",
      "                                                                  'attention_scores[15][0]',      \n",
      "                                                                  'lambda[15][1]',                \n",
      "                                                                  'attention_scores[16][0]',      \n",
      "                                                                  'lambda[16][1]',                \n",
      "                                                                  'attention_scores[17][0]',      \n",
      "                                                                  'lambda[17][1]',                \n",
      "                                                                  'attention_scores[18][0]',      \n",
      "                                                                  'lambda[18][1]']                \n",
      "                                                                                                  \n",
      " c0 (InputLayer)                [(None, 128)]        0           []                               \n",
      "                                                                                                  \n",
      " lstm_1 (LSTM)                  [(None, 128),        98816       ['dot[0][0]',                    \n",
      "                                 (None, 128),                     's0[0][0]',                     \n",
      "                                 (None, 128)]                     'c0[0][0]',                     \n",
      "                                                                  'dot[1][0]',                    \n",
      "                                                                  'lstm_1[0][0]',                 \n",
      "                                                                  'lstm_1[0][2]',                 \n",
      "                                                                  'dot[2][0]',                    \n",
      "                                                                  'lstm_1[1][0]',                 \n",
      "                                                                  'lstm_1[1][2]',                 \n",
      "                                                                  'dot[3][0]',                    \n",
      "                                                                  'lstm_1[2][0]',                 \n",
      "                                                                  'lstm_1[2][2]',                 \n",
      "                                                                  'dot[4][0]',                    \n",
      "                                                                  'lstm_1[3][0]',                 \n",
      "                                                                  'lstm_1[3][2]',                 \n",
      "                                                                  'dot[5][0]',                    \n",
      "                                                                  'lstm_1[4][0]',                 \n",
      "                                                                  'lstm_1[4][2]',                 \n",
      "                                                                  'dot[6][0]',                    \n",
      "                                                                  'lstm_1[5][0]',                 \n",
      "                                                                  'lstm_1[5][2]',                 \n",
      "                                                                  'dot[7][0]',                    \n",
      "                                                                  'lstm_1[6][0]',                 \n",
      "                                                                  'lstm_1[6][2]',                 \n",
      "                                                                  'dot[8][0]',                    \n",
      "                                                                  'lstm_1[7][0]',                 \n",
      "                                                                  'lstm_1[7][2]',                 \n",
      "                                                                  'dot[9][0]',                    \n",
      "                                                                  'lstm_1[8][0]',                 \n",
      "                                                                  'lstm_1[8][2]',                 \n",
      "                                                                  'dot[10][0]',                   \n",
      "                                                                  'lstm_1[9][0]',                 \n",
      "                                                                  'lstm_1[9][2]',                 \n",
      "                                                                  'dot[11][0]',                   \n",
      "                                                                  'lstm_1[10][0]',                \n",
      "                                                                  'lstm_1[10][2]',                \n",
      "                                                                  'dot[12][0]',                   \n",
      "                                                                  'lstm_1[11][0]',                \n",
      "                                                                  'lstm_1[11][2]',                \n",
      "                                                                  'dot[13][0]',                   \n",
      "                                                                  'lstm_1[12][0]',                \n",
      "                                                                  'lstm_1[12][2]',                \n",
      "                                                                  'dot[14][0]',                   \n",
      "                                                                  'lstm_1[13][0]',                \n",
      "                                                                  'lstm_1[13][2]',                \n",
      "                                                                  'dot[15][0]',                   \n",
      "                                                                  'lstm_1[14][0]',                \n",
      "                                                                  'lstm_1[14][2]',                \n",
      "                                                                  'dot[16][0]',                   \n",
      "                                                                  'lstm_1[15][0]',                \n",
      "                                                                  'lstm_1[15][2]',                \n",
      "                                                                  'dot[17][0]',                   \n",
      "                                                                  'lstm_1[16][0]',                \n",
      "                                                                  'lstm_1[16][2]',                \n",
      "                                                                  'dot[18][0]',                   \n",
      "                                                                  'lstm_1[17][0]',                \n",
      "                                                                  'lstm_1[17][2]']                \n",
      "                                                                                                  \n",
      " dense_2 (Dense)                (None, 24)           3096        ['lstm_1[0][0]',                 \n",
      "                                                                  'lstm_1[1][0]',                 \n",
      "                                                                  'lstm_1[2][0]',                 \n",
      "                                                                  'lstm_1[3][0]',                 \n",
      "                                                                  'lstm_1[4][0]',                 \n",
      "                                                                  'lstm_1[5][0]',                 \n",
      "                                                                  'lstm_1[6][0]',                 \n",
      "                                                                  'lstm_1[7][0]',                 \n",
      "                                                                  'lstm_1[8][0]',                 \n",
      "                                                                  'lstm_1[9][0]',                 \n",
      "                                                                  'lstm_1[10][0]',                \n",
      "                                                                  'lstm_1[11][0]',                \n",
      "                                                                  'lstm_1[12][0]',                \n",
      "                                                                  'lstm_1[13][0]',                \n",
      "                                                                  'lstm_1[14][0]',                \n",
      "                                                                  'lstm_1[15][0]',                \n",
      "                                                                  'lstm_1[16][0]',                \n",
      "                                                                  'lstm_1[17][0]',                \n",
      "                                                                  'lstm_1[18][0]']                \n",
      "                                                                                                  \n",
      "==================================================================================================\n",
      "Total params: 193,305\n",
      "Trainable params: 193,305\n",
      "Non-trainable params: 0\n",
      "__________________________________________________________________________________________________\n"
     ]
    }
   ],
   "source": [
    "model.summary()"
   ]
  },
  {
   "cell_type": "code",
   "execution_count": 16,
   "metadata": {
    "colab": {
     "base_uri": "https://localhost:8080/"
    },
    "id": "JwyiWPBpckjB",
    "outputId": "c934c6ea-d2e6-4d8d-9983-331b07dd987c"
   },
   "outputs": [
    {
     "name": "stdout",
     "output_type": "stream",
     "text": [
      "Epoch 1/30\n",
      "171/171 [==============================] - 44s 80ms/step - loss: 25.3940 - dense_2_loss: 0.1081 - dense_2_1_loss: 0.0908 - dense_2_2_loss: 0.0891 - dense_2_3_loss: 0.1007 - dense_2_4_loss: 0.1295 - dense_2_5_loss: 0.1790 - dense_2_6_loss: 0.2733 - dense_2_7_loss: 0.4246 - dense_2_8_loss: 0.7009 - dense_2_9_loss: 1.0957 - dense_2_10_loss: 1.6255 - dense_2_11_loss: 2.2286 - dense_2_12_loss: 2.6568 - dense_2_13_loss: 2.8631 - dense_2_14_loss: 2.8664 - dense_2_15_loss: 3.1102 - dense_2_16_loss: 2.7582 - dense_2_17_loss: 2.7437 - dense_2_18_loss: 1.3495 - dense_2_accuracy: 0.9984 - dense_2_1_accuracy: 0.9972 - dense_2_2_accuracy: 0.9960 - dense_2_3_accuracy: 0.9941 - dense_2_4_accuracy: 0.9888 - dense_2_5_accuracy: 0.9805 - dense_2_6_accuracy: 0.9626 - dense_2_7_accuracy: 0.9304 - dense_2_8_accuracy: 0.8639 - dense_2_9_accuracy: 0.7583 - dense_2_10_accuracy: 0.6116 - dense_2_11_accuracy: 0.3963 - dense_2_12_accuracy: 0.2354 - dense_2_13_accuracy: 0.1546 - dense_2_14_accuracy: 0.1594 - dense_2_15_accuracy: 0.0573 - dense_2_16_accuracy: 0.1734 - dense_2_17_accuracy: 0.0526 - dense_2_18_accuracy: 0.7096\n",
      "Epoch 2/30\n",
      "171/171 [==============================] - 13s 79ms/step - loss: 20.7846 - dense_2_loss: 0.0036 - dense_2_1_loss: 0.0070 - dense_2_2_loss: 0.0122 - dense_2_3_loss: 0.0194 - dense_2_4_loss: 0.0408 - dense_2_5_loss: 0.0789 - dense_2_6_loss: 0.1534 - dense_2_7_loss: 0.2859 - dense_2_8_loss: 0.5180 - dense_2_9_loss: 0.8810 - dense_2_10_loss: 1.3691 - dense_2_11_loss: 1.9383 - dense_2_12_loss: 2.3793 - dense_2_13_loss: 2.5862 - dense_2_14_loss: 2.5413 - dense_2_15_loss: 2.7261 - dense_2_16_loss: 2.4020 - dense_2_17_loss: 2.4341 - dense_2_18_loss: 0.4080 - dense_2_accuracy: 0.9996 - dense_2_1_accuracy: 0.9990 - dense_2_2_accuracy: 0.9981 - dense_2_3_accuracy: 0.9967 - dense_2_4_accuracy: 0.9924 - dense_2_5_accuracy: 0.9846 - dense_2_6_accuracy: 0.9672 - dense_2_7_accuracy: 0.9342 - dense_2_8_accuracy: 0.8716 - dense_2_9_accuracy: 0.7706 - dense_2_10_accuracy: 0.6234 - dense_2_11_accuracy: 0.4368 - dense_2_12_accuracy: 0.2766 - dense_2_13_accuracy: 0.1917 - dense_2_14_accuracy: 0.2261 - dense_2_15_accuracy: 0.1640 - dense_2_16_accuracy: 0.3021 - dense_2_17_accuracy: 0.1368 - dense_2_18_accuracy: 0.9452\n",
      "Epoch 3/30\n",
      "171/171 [==============================] - 14s 81ms/step - loss: 18.3708 - dense_2_loss: 0.0029 - dense_2_1_loss: 0.0077 - dense_2_2_loss: 0.0128 - dense_2_3_loss: 0.0193 - dense_2_4_loss: 0.0401 - dense_2_5_loss: 0.0764 - dense_2_6_loss: 0.1429 - dense_2_7_loss: 0.2685 - dense_2_8_loss: 0.5016 - dense_2_9_loss: 0.8392 - dense_2_10_loss: 1.3054 - dense_2_11_loss: 1.8325 - dense_2_12_loss: 2.2548 - dense_2_13_loss: 2.4323 - dense_2_14_loss: 2.1860 - dense_2_15_loss: 2.2479 - dense_2_16_loss: 1.9803 - dense_2_17_loss: 1.9099 - dense_2_18_loss: 0.3102 - dense_2_accuracy: 0.9997 - dense_2_1_accuracy: 0.9990 - dense_2_2_accuracy: 0.9981 - dense_2_3_accuracy: 0.9967 - dense_2_4_accuracy: 0.9924 - dense_2_5_accuracy: 0.9842 - dense_2_6_accuracy: 0.9667 - dense_2_7_accuracy: 0.9360 - dense_2_8_accuracy: 0.8708 - dense_2_9_accuracy: 0.7757 - dense_2_10_accuracy: 0.6321 - dense_2_11_accuracy: 0.4485 - dense_2_12_accuracy: 0.2975 - dense_2_13_accuracy: 0.2182 - dense_2_14_accuracy: 0.3259 - dense_2_15_accuracy: 0.3193 - dense_2_16_accuracy: 0.4132 - dense_2_17_accuracy: 0.3482 - dense_2_18_accuracy: 0.9346\n",
      "Epoch 4/30\n",
      "171/171 [==============================] - 14s 81ms/step - loss: 14.5403 - dense_2_loss: 0.0034 - dense_2_1_loss: 0.0081 - dense_2_2_loss: 0.0119 - dense_2_3_loss: 0.0172 - dense_2_4_loss: 0.0371 - dense_2_5_loss: 0.0695 - dense_2_6_loss: 0.1286 - dense_2_7_loss: 0.2410 - dense_2_8_loss: 0.4420 - dense_2_9_loss: 0.7434 - dense_2_10_loss: 1.1544 - dense_2_11_loss: 1.5868 - dense_2_12_loss: 1.9795 - dense_2_13_loss: 2.1620 - dense_2_14_loss: 1.8507 - dense_2_15_loss: 1.6802 - dense_2_16_loss: 1.2706 - dense_2_17_loss: 1.0499 - dense_2_18_loss: 0.1039 - dense_2_accuracy: 0.9996 - dense_2_1_accuracy: 0.9990 - dense_2_2_accuracy: 0.9981 - dense_2_3_accuracy: 0.9967 - dense_2_4_accuracy: 0.9924 - dense_2_5_accuracy: 0.9846 - dense_2_6_accuracy: 0.9677 - dense_2_7_accuracy: 0.9374 - dense_2_8_accuracy: 0.8743 - dense_2_9_accuracy: 0.7792 - dense_2_10_accuracy: 0.6492 - dense_2_11_accuracy: 0.5068 - dense_2_12_accuracy: 0.3760 - dense_2_13_accuracy: 0.2960 - dense_2_14_accuracy: 0.4146 - dense_2_15_accuracy: 0.4972 - dense_2_16_accuracy: 0.6134 - dense_2_17_accuracy: 0.6728 - dense_2_18_accuracy: 0.9776\n",
      "Epoch 5/30\n",
      "171/171 [==============================] - 14s 82ms/step - loss: 11.6872 - dense_2_loss: 0.0036 - dense_2_1_loss: 0.0081 - dense_2_2_loss: 0.0114 - dense_2_3_loss: 0.0161 - dense_2_4_loss: 0.0345 - dense_2_5_loss: 0.0643 - dense_2_6_loss: 0.1163 - dense_2_7_loss: 0.2184 - dense_2_8_loss: 0.3820 - dense_2_9_loss: 0.6398 - dense_2_10_loss: 0.9731 - dense_2_11_loss: 1.3341 - dense_2_12_loss: 1.6353 - dense_2_13_loss: 1.7703 - dense_2_14_loss: 1.5009 - dense_2_15_loss: 1.3155 - dense_2_16_loss: 0.8899 - dense_2_17_loss: 0.6518 - dense_2_18_loss: 0.1219 - dense_2_accuracy: 0.9996 - dense_2_1_accuracy: 0.9990 - dense_2_2_accuracy: 0.9981 - dense_2_3_accuracy: 0.9968 - dense_2_4_accuracy: 0.9926 - dense_2_5_accuracy: 0.9848 - dense_2_6_accuracy: 0.9690 - dense_2_7_accuracy: 0.9362 - dense_2_8_accuracy: 0.8820 - dense_2_9_accuracy: 0.7981 - dense_2_10_accuracy: 0.6889 - dense_2_11_accuracy: 0.5710 - dense_2_12_accuracy: 0.4651 - dense_2_13_accuracy: 0.4009 - dense_2_14_accuracy: 0.5140 - dense_2_15_accuracy: 0.6140 - dense_2_16_accuracy: 0.7286 - dense_2_17_accuracy: 0.8115 - dense_2_18_accuracy: 0.9589\n",
      "Epoch 6/30\n",
      "171/171 [==============================] - 14s 82ms/step - loss: 9.1460 - dense_2_loss: 0.0042 - dense_2_1_loss: 0.0077 - dense_2_2_loss: 0.0118 - dense_2_3_loss: 0.0158 - dense_2_4_loss: 0.0348 - dense_2_5_loss: 0.0587 - dense_2_6_loss: 0.1065 - dense_2_7_loss: 0.1921 - dense_2_8_loss: 0.3251 - dense_2_9_loss: 0.5339 - dense_2_10_loss: 0.8010 - dense_2_11_loss: 1.0879 - dense_2_12_loss: 1.2850 - dense_2_13_loss: 1.3523 - dense_2_14_loss: 1.1301 - dense_2_15_loss: 0.9518 - dense_2_16_loss: 0.6199 - dense_2_17_loss: 0.5003 - dense_2_18_loss: 0.1269 - dense_2_accuracy: 0.9996 - dense_2_1_accuracy: 0.9990 - dense_2_2_accuracy: 0.9981 - dense_2_3_accuracy: 0.9967 - dense_2_4_accuracy: 0.9924 - dense_2_5_accuracy: 0.9849 - dense_2_6_accuracy: 0.9701 - dense_2_7_accuracy: 0.9405 - dense_2_8_accuracy: 0.8946 - dense_2_9_accuracy: 0.8225 - dense_2_10_accuracy: 0.7359 - dense_2_11_accuracy: 0.6375 - dense_2_12_accuracy: 0.5572 - dense_2_13_accuracy: 0.5361 - dense_2_14_accuracy: 0.6384 - dense_2_15_accuracy: 0.7221 - dense_2_16_accuracy: 0.8192 - dense_2_17_accuracy: 0.8592 - dense_2_18_accuracy: 0.9571\n",
      "Epoch 7/30\n",
      "171/171 [==============================] - 14s 83ms/step - loss: 7.2667 - dense_2_loss: 0.0040 - dense_2_1_loss: 0.0073 - dense_2_2_loss: 0.0117 - dense_2_3_loss: 0.0145 - dense_2_4_loss: 0.0328 - dense_2_5_loss: 0.0541 - dense_2_6_loss: 0.0943 - dense_2_7_loss: 0.1687 - dense_2_8_loss: 0.2825 - dense_2_9_loss: 0.4584 - dense_2_10_loss: 0.6669 - dense_2_11_loss: 0.8916 - dense_2_12_loss: 1.0107 - dense_2_13_loss: 1.0592 - dense_2_14_loss: 0.8843 - dense_2_15_loss: 0.6930 - dense_2_16_loss: 0.4434 - dense_2_17_loss: 0.3817 - dense_2_18_loss: 0.1075 - dense_2_accuracy: 0.9996 - dense_2_1_accuracy: 0.9990 - dense_2_2_accuracy: 0.9981 - dense_2_3_accuracy: 0.9968 - dense_2_4_accuracy: 0.9923 - dense_2_5_accuracy: 0.9848 - dense_2_6_accuracy: 0.9708 - dense_2_7_accuracy: 0.9443 - dense_2_8_accuracy: 0.9047 - dense_2_9_accuracy: 0.8431 - dense_2_10_accuracy: 0.7746 - dense_2_11_accuracy: 0.6973 - dense_2_12_accuracy: 0.6531 - dense_2_13_accuracy: 0.6380 - dense_2_14_accuracy: 0.7165 - dense_2_15_accuracy: 0.7972 - dense_2_16_accuracy: 0.8734 - dense_2_17_accuracy: 0.8900 - dense_2_18_accuracy: 0.9641\n",
      "Epoch 8/30\n",
      "171/171 [==============================] - 14s 84ms/step - loss: 5.8464 - dense_2_loss: 0.0036 - dense_2_1_loss: 0.0075 - dense_2_2_loss: 0.0106 - dense_2_3_loss: 0.0149 - dense_2_4_loss: 0.0307 - dense_2_5_loss: 0.0494 - dense_2_6_loss: 0.0870 - dense_2_7_loss: 0.1550 - dense_2_8_loss: 0.2514 - dense_2_9_loss: 0.4093 - dense_2_10_loss: 0.5884 - dense_2_11_loss: 0.7728 - dense_2_12_loss: 0.8558 - dense_2_13_loss: 0.8594 - dense_2_14_loss: 0.6715 - dense_2_15_loss: 0.4844 - dense_2_16_loss: 0.2918 - dense_2_17_loss: 0.2483 - dense_2_18_loss: 0.0544 - dense_2_accuracy: 0.9996 - dense_2_1_accuracy: 0.9990 - dense_2_2_accuracy: 0.9981 - dense_2_3_accuracy: 0.9969 - dense_2_4_accuracy: 0.9925 - dense_2_5_accuracy: 0.9855 - dense_2_6_accuracy: 0.9739 - dense_2_7_accuracy: 0.9479 - dense_2_8_accuracy: 0.9154 - dense_2_9_accuracy: 0.8608 - dense_2_10_accuracy: 0.7992 - dense_2_11_accuracy: 0.7437 - dense_2_12_accuracy: 0.7149 - dense_2_13_accuracy: 0.7106 - dense_2_14_accuracy: 0.7870 - dense_2_15_accuracy: 0.8608 - dense_2_16_accuracy: 0.9185 - dense_2_17_accuracy: 0.9343 - dense_2_18_accuracy: 0.9822\n",
      "Epoch 9/30\n",
      "171/171 [==============================] - 15s 88ms/step - loss: 4.9804 - dense_2_loss: 0.0039 - dense_2_1_loss: 0.0068 - dense_2_2_loss: 0.0108 - dense_2_3_loss: 0.0134 - dense_2_4_loss: 0.0287 - dense_2_5_loss: 0.0450 - dense_2_6_loss: 0.0768 - dense_2_7_loss: 0.1383 - dense_2_8_loss: 0.2208 - dense_2_9_loss: 0.3547 - dense_2_10_loss: 0.5079 - dense_2_11_loss: 0.6619 - dense_2_12_loss: 0.7303 - dense_2_13_loss: 0.7286 - dense_2_14_loss: 0.5477 - dense_2_15_loss: 0.3981 - dense_2_16_loss: 0.2430 - dense_2_17_loss: 0.2164 - dense_2_18_loss: 0.0475 - dense_2_accuracy: 0.9996 - dense_2_1_accuracy: 0.9991 - dense_2_2_accuracy: 0.9982 - dense_2_3_accuracy: 0.9967 - dense_2_4_accuracy: 0.9927 - dense_2_5_accuracy: 0.9860 - dense_2_6_accuracy: 0.9762 - dense_2_7_accuracy: 0.9548 - dense_2_8_accuracy: 0.9282 - dense_2_9_accuracy: 0.8807 - dense_2_10_accuracy: 0.8302 - dense_2_11_accuracy: 0.7828 - dense_2_12_accuracy: 0.7648 - dense_2_13_accuracy: 0.7624 - dense_2_14_accuracy: 0.8349 - dense_2_15_accuracy: 0.8902 - dense_2_16_accuracy: 0.9375 - dense_2_17_accuracy: 0.9467 - dense_2_18_accuracy: 0.9864\n",
      "Epoch 10/30\n",
      "171/171 [==============================] - 15s 89ms/step - loss: 4.0814 - dense_2_loss: 0.0034 - dense_2_1_loss: 0.0067 - dense_2_2_loss: 0.0101 - dense_2_3_loss: 0.0127 - dense_2_4_loss: 0.0272 - dense_2_5_loss: 0.0422 - dense_2_6_loss: 0.0707 - dense_2_7_loss: 0.1252 - dense_2_8_loss: 0.1950 - dense_2_9_loss: 0.3137 - dense_2_10_loss: 0.4520 - dense_2_11_loss: 0.5755 - dense_2_12_loss: 0.6268 - dense_2_13_loss: 0.5893 - dense_2_14_loss: 0.4306 - dense_2_15_loss: 0.2912 - dense_2_16_loss: 0.1610 - dense_2_17_loss: 0.1312 - dense_2_18_loss: 0.0169 - dense_2_accuracy: 0.9996 - dense_2_1_accuracy: 0.9990 - dense_2_2_accuracy: 0.9981 - dense_2_3_accuracy: 0.9967 - dense_2_4_accuracy: 0.9927 - dense_2_5_accuracy: 0.9862 - dense_2_6_accuracy: 0.9781 - dense_2_7_accuracy: 0.9609 - dense_2_8_accuracy: 0.9347 - dense_2_9_accuracy: 0.9006 - dense_2_10_accuracy: 0.8496 - dense_2_11_accuracy: 0.8138 - dense_2_12_accuracy: 0.7985 - dense_2_13_accuracy: 0.8140 - dense_2_14_accuracy: 0.8722 - dense_2_15_accuracy: 0.9191 - dense_2_16_accuracy: 0.9610 - dense_2_17_accuracy: 0.9688 - dense_2_18_accuracy: 0.9961\n",
      "Epoch 11/30\n",
      "171/171 [==============================] - 15s 89ms/step - loss: 3.3656 - dense_2_loss: 0.0035 - dense_2_1_loss: 0.0060 - dense_2_2_loss: 0.0091 - dense_2_3_loss: 0.0111 - dense_2_4_loss: 0.0243 - dense_2_5_loss: 0.0376 - dense_2_6_loss: 0.0643 - dense_2_7_loss: 0.1135 - dense_2_8_loss: 0.1660 - dense_2_9_loss: 0.2700 - dense_2_10_loss: 0.3810 - dense_2_11_loss: 0.4749 - dense_2_12_loss: 0.5122 - dense_2_13_loss: 0.4823 - dense_2_14_loss: 0.3506 - dense_2_15_loss: 0.2235 - dense_2_16_loss: 0.1274 - dense_2_17_loss: 0.0994 - dense_2_18_loss: 0.0090 - dense_2_accuracy: 0.9996 - dense_2_1_accuracy: 0.9991 - dense_2_2_accuracy: 0.9981 - dense_2_3_accuracy: 0.9968 - dense_2_4_accuracy: 0.9931 - dense_2_5_accuracy: 0.9879 - dense_2_6_accuracy: 0.9803 - dense_2_7_accuracy: 0.9646 - dense_2_8_accuracy: 0.9462 - dense_2_9_accuracy: 0.9143 - dense_2_10_accuracy: 0.8805 - dense_2_11_accuracy: 0.8524 - dense_2_12_accuracy: 0.8380 - dense_2_13_accuracy: 0.8501 - dense_2_14_accuracy: 0.8995 - dense_2_15_accuracy: 0.9402 - dense_2_16_accuracy: 0.9720 - dense_2_17_accuracy: 0.9758 - dense_2_18_accuracy: 0.9973\n",
      "Epoch 12/30\n",
      "171/171 [==============================] - 15s 90ms/step - loss: 3.1593 - dense_2_loss: 0.0032 - dense_2_1_loss: 0.0059 - dense_2_2_loss: 0.0093 - dense_2_3_loss: 0.0115 - dense_2_4_loss: 0.0239 - dense_2_5_loss: 0.0372 - dense_2_6_loss: 0.0624 - dense_2_7_loss: 0.1042 - dense_2_8_loss: 0.1588 - dense_2_9_loss: 0.2537 - dense_2_10_loss: 0.3572 - dense_2_11_loss: 0.4398 - dense_2_12_loss: 0.4698 - dense_2_13_loss: 0.4440 - dense_2_14_loss: 0.3199 - dense_2_15_loss: 0.2138 - dense_2_16_loss: 0.1303 - dense_2_17_loss: 0.1024 - dense_2_18_loss: 0.0120 - dense_2_accuracy: 0.9996 - dense_2_1_accuracy: 0.9990 - dense_2_2_accuracy: 0.9983 - dense_2_3_accuracy: 0.9967 - dense_2_4_accuracy: 0.9936 - dense_2_5_accuracy: 0.9877 - dense_2_6_accuracy: 0.9812 - dense_2_7_accuracy: 0.9684 - dense_2_8_accuracy: 0.9506 - dense_2_9_accuracy: 0.9202 - dense_2_10_accuracy: 0.8841 - dense_2_11_accuracy: 0.8589 - dense_2_12_accuracy: 0.8527 - dense_2_13_accuracy: 0.8646 - dense_2_14_accuracy: 0.9020 - dense_2_15_accuracy: 0.9430 - dense_2_16_accuracy: 0.9687 - dense_2_17_accuracy: 0.9726 - dense_2_18_accuracy: 0.9969\n",
      "Epoch 13/30\n",
      "171/171 [==============================] - 16s 91ms/step - loss: 3.6205 - dense_2_loss: 0.0028 - dense_2_1_loss: 0.0055 - dense_2_2_loss: 0.0091 - dense_2_3_loss: 0.0110 - dense_2_4_loss: 0.0246 - dense_2_5_loss: 0.0369 - dense_2_6_loss: 0.0665 - dense_2_7_loss: 0.1050 - dense_2_8_loss: 0.1643 - dense_2_9_loss: 0.2648 - dense_2_10_loss: 0.3681 - dense_2_11_loss: 0.4610 - dense_2_12_loss: 0.4996 - dense_2_13_loss: 0.4786 - dense_2_14_loss: 0.3669 - dense_2_15_loss: 0.2699 - dense_2_16_loss: 0.2088 - dense_2_17_loss: 0.2136 - dense_2_18_loss: 0.0635 - dense_2_accuracy: 0.9996 - dense_2_1_accuracy: 0.9990 - dense_2_2_accuracy: 0.9983 - dense_2_3_accuracy: 0.9968 - dense_2_4_accuracy: 0.9930 - dense_2_5_accuracy: 0.9875 - dense_2_6_accuracy: 0.9805 - dense_2_7_accuracy: 0.9670 - dense_2_8_accuracy: 0.9481 - dense_2_9_accuracy: 0.9160 - dense_2_10_accuracy: 0.8808 - dense_2_11_accuracy: 0.8528 - dense_2_12_accuracy: 0.8414 - dense_2_13_accuracy: 0.8506 - dense_2_14_accuracy: 0.8882 - dense_2_15_accuracy: 0.9266 - dense_2_16_accuracy: 0.9465 - dense_2_17_accuracy: 0.9475 - dense_2_18_accuracy: 0.9809\n",
      "Epoch 14/30\n",
      "171/171 [==============================] - 15s 90ms/step - loss: 2.7409 - dense_2_loss: 0.0031 - dense_2_1_loss: 0.0064 - dense_2_2_loss: 0.0100 - dense_2_3_loss: 0.0115 - dense_2_4_loss: 0.0222 - dense_2_5_loss: 0.0338 - dense_2_6_loss: 0.0598 - dense_2_7_loss: 0.0984 - dense_2_8_loss: 0.1418 - dense_2_9_loss: 0.2249 - dense_2_10_loss: 0.3187 - dense_2_11_loss: 0.3905 - dense_2_12_loss: 0.4087 - dense_2_13_loss: 0.3687 - dense_2_14_loss: 0.2682 - dense_2_15_loss: 0.1753 - dense_2_16_loss: 0.0999 - dense_2_17_loss: 0.0884 - dense_2_18_loss: 0.0106 - dense_2_accuracy: 0.9996 - dense_2_1_accuracy: 0.9990 - dense_2_2_accuracy: 0.9981 - dense_2_3_accuracy: 0.9969 - dense_2_4_accuracy: 0.9937 - dense_2_5_accuracy: 0.9888 - dense_2_6_accuracy: 0.9825 - dense_2_7_accuracy: 0.9696 - dense_2_8_accuracy: 0.9532 - dense_2_9_accuracy: 0.9294 - dense_2_10_accuracy: 0.8972 - dense_2_11_accuracy: 0.8784 - dense_2_12_accuracy: 0.8746 - dense_2_13_accuracy: 0.8879 - dense_2_14_accuracy: 0.9220 - dense_2_15_accuracy: 0.9535 - dense_2_16_accuracy: 0.9754 - dense_2_17_accuracy: 0.9775 - dense_2_18_accuracy: 0.9971\n",
      "Epoch 15/30\n",
      "171/171 [==============================] - 15s 91ms/step - loss: 2.5951 - dense_2_loss: 0.0030 - dense_2_1_loss: 0.0048 - dense_2_2_loss: 0.0080 - dense_2_3_loss: 0.0101 - dense_2_4_loss: 0.0205 - dense_2_5_loss: 0.0318 - dense_2_6_loss: 0.0515 - dense_2_7_loss: 0.0862 - dense_2_8_loss: 0.1333 - dense_2_9_loss: 0.2089 - dense_2_10_loss: 0.2918 - dense_2_11_loss: 0.3613 - dense_2_12_loss: 0.3835 - dense_2_13_loss: 0.3455 - dense_2_14_loss: 0.2610 - dense_2_15_loss: 0.1720 - dense_2_16_loss: 0.1121 - dense_2_17_loss: 0.0940 - dense_2_18_loss: 0.0160 - dense_2_accuracy: 0.9996 - dense_2_1_accuracy: 0.9990 - dense_2_2_accuracy: 0.9983 - dense_2_3_accuracy: 0.9969 - dense_2_4_accuracy: 0.9938 - dense_2_5_accuracy: 0.9884 - dense_2_6_accuracy: 0.9844 - dense_2_7_accuracy: 0.9731 - dense_2_8_accuracy: 0.9583 - dense_2_9_accuracy: 0.9372 - dense_2_10_accuracy: 0.9077 - dense_2_11_accuracy: 0.8870 - dense_2_12_accuracy: 0.8787 - dense_2_13_accuracy: 0.8961 - dense_2_14_accuracy: 0.9235 - dense_2_15_accuracy: 0.9541 - dense_2_16_accuracy: 0.9735 - dense_2_17_accuracy: 0.9752 - dense_2_18_accuracy: 0.9950\n",
      "Epoch 16/30\n",
      "171/171 [==============================] - 16s 91ms/step - loss: 2.1715 - dense_2_loss: 0.0028 - dense_2_1_loss: 0.0042 - dense_2_2_loss: 0.0073 - dense_2_3_loss: 0.0092 - dense_2_4_loss: 0.0184 - dense_2_5_loss: 0.0288 - dense_2_6_loss: 0.0477 - dense_2_7_loss: 0.0766 - dense_2_8_loss: 0.1189 - dense_2_9_loss: 0.1875 - dense_2_10_loss: 0.2615 - dense_2_11_loss: 0.3124 - dense_2_12_loss: 0.3136 - dense_2_13_loss: 0.2815 - dense_2_14_loss: 0.2190 - dense_2_15_loss: 0.1317 - dense_2_16_loss: 0.0777 - dense_2_17_loss: 0.0658 - dense_2_18_loss: 0.0069 - dense_2_accuracy: 0.9996 - dense_2_1_accuracy: 0.9991 - dense_2_2_accuracy: 0.9983 - dense_2_3_accuracy: 0.9971 - dense_2_4_accuracy: 0.9938 - dense_2_5_accuracy: 0.9900 - dense_2_6_accuracy: 0.9857 - dense_2_7_accuracy: 0.9780 - dense_2_8_accuracy: 0.9627 - dense_2_9_accuracy: 0.9431 - dense_2_10_accuracy: 0.9167 - dense_2_11_accuracy: 0.9023 - dense_2_12_accuracy: 0.9030 - dense_2_13_accuracy: 0.9190 - dense_2_14_accuracy: 0.9349 - dense_2_15_accuracy: 0.9619 - dense_2_16_accuracy: 0.9814 - dense_2_17_accuracy: 0.9833 - dense_2_18_accuracy: 0.9983\n",
      "Epoch 17/30\n",
      "171/171 [==============================] - 16s 92ms/step - loss: 2.1114 - dense_2_loss: 0.0027 - dense_2_1_loss: 0.0045 - dense_2_2_loss: 0.0076 - dense_2_3_loss: 0.0099 - dense_2_4_loss: 0.0213 - dense_2_5_loss: 0.0308 - dense_2_6_loss: 0.0509 - dense_2_7_loss: 0.0780 - dense_2_8_loss: 0.1155 - dense_2_9_loss: 0.1789 - dense_2_10_loss: 0.2470 - dense_2_11_loss: 0.3030 - dense_2_12_loss: 0.2971 - dense_2_13_loss: 0.2644 - dense_2_14_loss: 0.1982 - dense_2_15_loss: 0.1359 - dense_2_16_loss: 0.0810 - dense_2_17_loss: 0.0726 - dense_2_18_loss: 0.0119 - dense_2_accuracy: 0.9996 - dense_2_1_accuracy: 0.9990 - dense_2_2_accuracy: 0.9983 - dense_2_3_accuracy: 0.9969 - dense_2_4_accuracy: 0.9938 - dense_2_5_accuracy: 0.9896 - dense_2_6_accuracy: 0.9835 - dense_2_7_accuracy: 0.9758 - dense_2_8_accuracy: 0.9647 - dense_2_9_accuracy: 0.9442 - dense_2_10_accuracy: 0.9243 - dense_2_11_accuracy: 0.9090 - dense_2_12_accuracy: 0.9091 - dense_2_13_accuracy: 0.9239 - dense_2_14_accuracy: 0.9444 - dense_2_15_accuracy: 0.9643 - dense_2_16_accuracy: 0.9805 - dense_2_17_accuracy: 0.9794 - dense_2_18_accuracy: 0.9965\n",
      "Epoch 18/30\n",
      "171/171 [==============================] - 16s 91ms/step - loss: 1.6761 - dense_2_loss: 0.0024 - dense_2_1_loss: 0.0038 - dense_2_2_loss: 0.0064 - dense_2_3_loss: 0.0091 - dense_2_4_loss: 0.0185 - dense_2_5_loss: 0.0252 - dense_2_6_loss: 0.0430 - dense_2_7_loss: 0.0696 - dense_2_8_loss: 0.0992 - dense_2_9_loss: 0.1486 - dense_2_10_loss: 0.2027 - dense_2_11_loss: 0.2426 - dense_2_12_loss: 0.2326 - dense_2_13_loss: 0.2062 - dense_2_14_loss: 0.1595 - dense_2_15_loss: 0.0959 - dense_2_16_loss: 0.0561 - dense_2_17_loss: 0.0505 - dense_2_18_loss: 0.0043 - dense_2_accuracy: 0.9997 - dense_2_1_accuracy: 0.9991 - dense_2_2_accuracy: 0.9983 - dense_2_3_accuracy: 0.9970 - dense_2_4_accuracy: 0.9946 - dense_2_5_accuracy: 0.9923 - dense_2_6_accuracy: 0.9868 - dense_2_7_accuracy: 0.9795 - dense_2_8_accuracy: 0.9721 - dense_2_9_accuracy: 0.9564 - dense_2_10_accuracy: 0.9361 - dense_2_11_accuracy: 0.9272 - dense_2_12_accuracy: 0.9310 - dense_2_13_accuracy: 0.9403 - dense_2_14_accuracy: 0.9552 - dense_2_15_accuracy: 0.9751 - dense_2_16_accuracy: 0.9873 - dense_2_17_accuracy: 0.9872 - dense_2_18_accuracy: 0.9992\n",
      "Epoch 19/30\n",
      "171/171 [==============================] - 16s 91ms/step - loss: 2.0983 - dense_2_loss: 0.0026 - dense_2_1_loss: 0.0041 - dense_2_2_loss: 0.0073 - dense_2_3_loss: 0.0105 - dense_2_4_loss: 0.0198 - dense_2_5_loss: 0.0283 - dense_2_6_loss: 0.0485 - dense_2_7_loss: 0.0761 - dense_2_8_loss: 0.1111 - dense_2_9_loss: 0.1779 - dense_2_10_loss: 0.2465 - dense_2_11_loss: 0.2901 - dense_2_12_loss: 0.2899 - dense_2_13_loss: 0.2593 - dense_2_14_loss: 0.1995 - dense_2_15_loss: 0.1351 - dense_2_16_loss: 0.0914 - dense_2_17_loss: 0.0819 - dense_2_18_loss: 0.0184 - dense_2_accuracy: 0.9996 - dense_2_1_accuracy: 0.9991 - dense_2_2_accuracy: 0.9984 - dense_2_3_accuracy: 0.9967 - dense_2_4_accuracy: 0.9942 - dense_2_5_accuracy: 0.9901 - dense_2_6_accuracy: 0.9851 - dense_2_7_accuracy: 0.9774 - dense_2_8_accuracy: 0.9640 - dense_2_9_accuracy: 0.9438 - dense_2_10_accuracy: 0.9228 - dense_2_11_accuracy: 0.9111 - dense_2_12_accuracy: 0.9119 - dense_2_13_accuracy: 0.9228 - dense_2_14_accuracy: 0.9407 - dense_2_15_accuracy: 0.9647 - dense_2_16_accuracy: 0.9760 - dense_2_17_accuracy: 0.9764 - dense_2_18_accuracy: 0.9948\n",
      "Epoch 20/30\n",
      "171/171 [==============================] - 16s 91ms/step - loss: 2.2584 - dense_2_loss: 0.0025 - dense_2_1_loss: 0.0043 - dense_2_2_loss: 0.0075 - dense_2_3_loss: 0.0102 - dense_2_4_loss: 0.0198 - dense_2_5_loss: 0.0283 - dense_2_6_loss: 0.0469 - dense_2_7_loss: 0.0746 - dense_2_8_loss: 0.1139 - dense_2_9_loss: 0.1679 - dense_2_10_loss: 0.2304 - dense_2_11_loss: 0.2832 - dense_2_12_loss: 0.2838 - dense_2_13_loss: 0.2692 - dense_2_14_loss: 0.2164 - dense_2_15_loss: 0.1654 - dense_2_16_loss: 0.1416 - dense_2_17_loss: 0.1394 - dense_2_18_loss: 0.0529 - dense_2_accuracy: 0.9997 - dense_2_1_accuracy: 0.9990 - dense_2_2_accuracy: 0.9984 - dense_2_3_accuracy: 0.9970 - dense_2_4_accuracy: 0.9938 - dense_2_5_accuracy: 0.9905 - dense_2_6_accuracy: 0.9853 - dense_2_7_accuracy: 0.9773 - dense_2_8_accuracy: 0.9629 - dense_2_9_accuracy: 0.9491 - dense_2_10_accuracy: 0.9302 - dense_2_11_accuracy: 0.9123 - dense_2_12_accuracy: 0.9105 - dense_2_13_accuracy: 0.9184 - dense_2_14_accuracy: 0.9363 - dense_2_15_accuracy: 0.9544 - dense_2_16_accuracy: 0.9653 - dense_2_17_accuracy: 0.9653 - dense_2_18_accuracy: 0.9879\n",
      "Epoch 21/30\n",
      "171/171 [==============================] - 16s 93ms/step - loss: 1.6402 - dense_2_loss: 0.0024 - dense_2_1_loss: 0.0040 - dense_2_2_loss: 0.0069 - dense_2_3_loss: 0.0092 - dense_2_4_loss: 0.0184 - dense_2_5_loss: 0.0269 - dense_2_6_loss: 0.0450 - dense_2_7_loss: 0.0678 - dense_2_8_loss: 0.0938 - dense_2_9_loss: 0.1407 - dense_2_10_loss: 0.1974 - dense_2_11_loss: 0.2295 - dense_2_12_loss: 0.2231 - dense_2_13_loss: 0.2006 - dense_2_14_loss: 0.1530 - dense_2_15_loss: 0.0998 - dense_2_16_loss: 0.0629 - dense_2_17_loss: 0.0517 - dense_2_18_loss: 0.0074 - dense_2_accuracy: 0.9997 - dense_2_1_accuracy: 0.9991 - dense_2_2_accuracy: 0.9983 - dense_2_3_accuracy: 0.9972 - dense_2_4_accuracy: 0.9938 - dense_2_5_accuracy: 0.9914 - dense_2_6_accuracy: 0.9867 - dense_2_7_accuracy: 0.9790 - dense_2_8_accuracy: 0.9721 - dense_2_9_accuracy: 0.9577 - dense_2_10_accuracy: 0.9405 - dense_2_11_accuracy: 0.9301 - dense_2_12_accuracy: 0.9334 - dense_2_13_accuracy: 0.9425 - dense_2_14_accuracy: 0.9568 - dense_2_15_accuracy: 0.9727 - dense_2_16_accuracy: 0.9849 - dense_2_17_accuracy: 0.9855 - dense_2_18_accuracy: 0.9983\n",
      "Epoch 22/30\n",
      "171/171 [==============================] - 16s 94ms/step - loss: 1.5144 - dense_2_loss: 0.0025 - dense_2_1_loss: 0.0040 - dense_2_2_loss: 0.0066 - dense_2_3_loss: 0.0090 - dense_2_4_loss: 0.0170 - dense_2_5_loss: 0.0244 - dense_2_6_loss: 0.0398 - dense_2_7_loss: 0.0610 - dense_2_8_loss: 0.0905 - dense_2_9_loss: 0.1368 - dense_2_10_loss: 0.1880 - dense_2_11_loss: 0.2106 - dense_2_12_loss: 0.2022 - dense_2_13_loss: 0.1817 - dense_2_14_loss: 0.1422 - dense_2_15_loss: 0.0914 - dense_2_16_loss: 0.0535 - dense_2_17_loss: 0.0488 - dense_2_18_loss: 0.0042 - dense_2_accuracy: 0.9997 - dense_2_1_accuracy: 0.9991 - dense_2_2_accuracy: 0.9982 - dense_2_3_accuracy: 0.9975 - dense_2_4_accuracy: 0.9947 - dense_2_5_accuracy: 0.9927 - dense_2_6_accuracy: 0.9886 - dense_2_7_accuracy: 0.9813 - dense_2_8_accuracy: 0.9724 - dense_2_9_accuracy: 0.9589 - dense_2_10_accuracy: 0.9426 - dense_2_11_accuracy: 0.9364 - dense_2_12_accuracy: 0.9414 - dense_2_13_accuracy: 0.9482 - dense_2_14_accuracy: 0.9614 - dense_2_15_accuracy: 0.9764 - dense_2_16_accuracy: 0.9870 - dense_2_17_accuracy: 0.9874 - dense_2_18_accuracy: 0.9989\n",
      "Epoch 23/30\n",
      "171/171 [==============================] - 16s 92ms/step - loss: 1.9823 - dense_2_loss: 0.0026 - dense_2_1_loss: 0.0041 - dense_2_2_loss: 0.0071 - dense_2_3_loss: 0.0081 - dense_2_4_loss: 0.0189 - dense_2_5_loss: 0.0269 - dense_2_6_loss: 0.0442 - dense_2_7_loss: 0.0730 - dense_2_8_loss: 0.1095 - dense_2_9_loss: 0.1634 - dense_2_10_loss: 0.2266 - dense_2_11_loss: 0.2529 - dense_2_12_loss: 0.2538 - dense_2_13_loss: 0.2403 - dense_2_14_loss: 0.1829 - dense_2_15_loss: 0.1366 - dense_2_16_loss: 0.0946 - dense_2_17_loss: 0.1015 - dense_2_18_loss: 0.0352 - dense_2_accuracy: 0.9996 - dense_2_1_accuracy: 0.9992 - dense_2_2_accuracy: 0.9985 - dense_2_3_accuracy: 0.9971 - dense_2_4_accuracy: 0.9939 - dense_2_5_accuracy: 0.9912 - dense_2_6_accuracy: 0.9863 - dense_2_7_accuracy: 0.9767 - dense_2_8_accuracy: 0.9650 - dense_2_9_accuracy: 0.9498 - dense_2_10_accuracy: 0.9286 - dense_2_11_accuracy: 0.9216 - dense_2_12_accuracy: 0.9242 - dense_2_13_accuracy: 0.9289 - dense_2_14_accuracy: 0.9472 - dense_2_15_accuracy: 0.9645 - dense_2_16_accuracy: 0.9757 - dense_2_17_accuracy: 0.9734 - dense_2_18_accuracy: 0.9912\n",
      "Epoch 24/30\n",
      "171/171 [==============================] - 19s 108ms/step - loss: 1.3948 - dense_2_loss: 0.0028 - dense_2_1_loss: 0.0041 - dense_2_2_loss: 0.0060 - dense_2_3_loss: 0.0086 - dense_2_4_loss: 0.0173 - dense_2_5_loss: 0.0274 - dense_2_6_loss: 0.0383 - dense_2_7_loss: 0.0576 - dense_2_8_loss: 0.0814 - dense_2_9_loss: 0.1210 - dense_2_10_loss: 0.1606 - dense_2_11_loss: 0.1867 - dense_2_12_loss: 0.1806 - dense_2_13_loss: 0.1712 - dense_2_14_loss: 0.1311 - dense_2_15_loss: 0.0847 - dense_2_16_loss: 0.0563 - dense_2_17_loss: 0.0493 - dense_2_18_loss: 0.0100 - dense_2_accuracy: 0.9996 - dense_2_1_accuracy: 0.9990 - dense_2_2_accuracy: 0.9983 - dense_2_3_accuracy: 0.9974 - dense_2_4_accuracy: 0.9943 - dense_2_5_accuracy: 0.9921 - dense_2_6_accuracy: 0.9892 - dense_2_7_accuracy: 0.9825 - dense_2_8_accuracy: 0.9755 - dense_2_9_accuracy: 0.9642 - dense_2_10_accuracy: 0.9529 - dense_2_11_accuracy: 0.9452 - dense_2_12_accuracy: 0.9484 - dense_2_13_accuracy: 0.9515 - dense_2_14_accuracy: 0.9637 - dense_2_15_accuracy: 0.9797 - dense_2_16_accuracy: 0.9869 - dense_2_17_accuracy: 0.9869 - dense_2_18_accuracy: 0.9979\n",
      "Epoch 25/30\n",
      "171/171 [==============================] - 16s 94ms/step - loss: 1.5566 - dense_2_loss: 0.0026 - dense_2_1_loss: 0.0046 - dense_2_2_loss: 0.0082 - dense_2_3_loss: 0.0108 - dense_2_4_loss: 0.0197 - dense_2_5_loss: 0.0303 - dense_2_6_loss: 0.0445 - dense_2_7_loss: 0.0637 - dense_2_8_loss: 0.0956 - dense_2_9_loss: 0.1316 - dense_2_10_loss: 0.1736 - dense_2_11_loss: 0.2022 - dense_2_12_loss: 0.2005 - dense_2_13_loss: 0.1869 - dense_2_14_loss: 0.1510 - dense_2_15_loss: 0.0998 - dense_2_16_loss: 0.0631 - dense_2_17_loss: 0.0573 - dense_2_18_loss: 0.0108 - dense_2_accuracy: 0.9996 - dense_2_1_accuracy: 0.9991 - dense_2_2_accuracy: 0.9983 - dense_2_3_accuracy: 0.9971 - dense_2_4_accuracy: 0.9939 - dense_2_5_accuracy: 0.9901 - dense_2_6_accuracy: 0.9859 - dense_2_7_accuracy: 0.9789 - dense_2_8_accuracy: 0.9706 - dense_2_9_accuracy: 0.9580 - dense_2_10_accuracy: 0.9466 - dense_2_11_accuracy: 0.9380 - dense_2_12_accuracy: 0.9387 - dense_2_13_accuracy: 0.9442 - dense_2_14_accuracy: 0.9568 - dense_2_15_accuracy: 0.9734 - dense_2_16_accuracy: 0.9841 - dense_2_17_accuracy: 0.9841 - dense_2_18_accuracy: 0.9964\n",
      "Epoch 26/30\n",
      "171/171 [==============================] - 16s 93ms/step - loss: 1.2072 - dense_2_loss: 0.0026 - dense_2_1_loss: 0.0048 - dense_2_2_loss: 0.0078 - dense_2_3_loss: 0.0095 - dense_2_4_loss: 0.0178 - dense_2_5_loss: 0.0262 - dense_2_6_loss: 0.0398 - dense_2_7_loss: 0.0542 - dense_2_8_loss: 0.0770 - dense_2_9_loss: 0.1085 - dense_2_10_loss: 0.1444 - dense_2_11_loss: 0.1634 - dense_2_12_loss: 0.1562 - dense_2_13_loss: 0.1380 - dense_2_14_loss: 0.1086 - dense_2_15_loss: 0.0685 - dense_2_16_loss: 0.0389 - dense_2_17_loss: 0.0341 - dense_2_18_loss: 0.0070 - dense_2_accuracy: 0.9996 - dense_2_1_accuracy: 0.9990 - dense_2_2_accuracy: 0.9982 - dense_2_3_accuracy: 0.9971 - dense_2_4_accuracy: 0.9942 - dense_2_5_accuracy: 0.9924 - dense_2_6_accuracy: 0.9882 - dense_2_7_accuracy: 0.9839 - dense_2_8_accuracy: 0.9765 - dense_2_9_accuracy: 0.9670 - dense_2_10_accuracy: 0.9561 - dense_2_11_accuracy: 0.9518 - dense_2_12_accuracy: 0.9554 - dense_2_13_accuracy: 0.9594 - dense_2_14_accuracy: 0.9690 - dense_2_15_accuracy: 0.9814 - dense_2_16_accuracy: 0.9894 - dense_2_17_accuracy: 0.9904 - dense_2_18_accuracy: 0.9986\n",
      "Epoch 27/30\n",
      "171/171 [==============================] - 17s 101ms/step - loss: 1.0304 - dense_2_loss: 0.0023 - dense_2_1_loss: 0.0038 - dense_2_2_loss: 0.0057 - dense_2_3_loss: 0.0082 - dense_2_4_loss: 0.0164 - dense_2_5_loss: 0.0226 - dense_2_6_loss: 0.0360 - dense_2_7_loss: 0.0541 - dense_2_8_loss: 0.0776 - dense_2_9_loss: 0.0986 - dense_2_10_loss: 0.1243 - dense_2_11_loss: 0.1371 - dense_2_12_loss: 0.1287 - dense_2_13_loss: 0.1109 - dense_2_14_loss: 0.0876 - dense_2_15_loss: 0.0555 - dense_2_16_loss: 0.0285 - dense_2_17_loss: 0.0306 - dense_2_18_loss: 0.0021 - dense_2_accuracy: 0.9996 - dense_2_1_accuracy: 0.9989 - dense_2_2_accuracy: 0.9984 - dense_2_3_accuracy: 0.9972 - dense_2_4_accuracy: 0.9951 - dense_2_5_accuracy: 0.9936 - dense_2_6_accuracy: 0.9893 - dense_2_7_accuracy: 0.9838 - dense_2_8_accuracy: 0.9770 - dense_2_9_accuracy: 0.9701 - dense_2_10_accuracy: 0.9640 - dense_2_11_accuracy: 0.9579 - dense_2_12_accuracy: 0.9620 - dense_2_13_accuracy: 0.9674 - dense_2_14_accuracy: 0.9761 - dense_2_15_accuracy: 0.9847 - dense_2_16_accuracy: 0.9920 - dense_2_17_accuracy: 0.9925 - dense_2_18_accuracy: 0.9997\n",
      "Epoch 28/30\n",
      "171/171 [==============================] - 16s 93ms/step - loss: 1.4204 - dense_2_loss: 0.0025 - dense_2_1_loss: 0.0038 - dense_2_2_loss: 0.0059 - dense_2_3_loss: 0.0096 - dense_2_4_loss: 0.0162 - dense_2_5_loss: 0.0274 - dense_2_6_loss: 0.0403 - dense_2_7_loss: 0.0601 - dense_2_8_loss: 0.0840 - dense_2_9_loss: 0.1241 - dense_2_10_loss: 0.1647 - dense_2_11_loss: 0.1969 - dense_2_12_loss: 0.1884 - dense_2_13_loss: 0.1697 - dense_2_14_loss: 0.1272 - dense_2_15_loss: 0.0889 - dense_2_16_loss: 0.0522 - dense_2_17_loss: 0.0487 - dense_2_18_loss: 0.0099 - dense_2_accuracy: 0.9996 - dense_2_1_accuracy: 0.9991 - dense_2_2_accuracy: 0.9983 - dense_2_3_accuracy: 0.9973 - dense_2_4_accuracy: 0.9948 - dense_2_5_accuracy: 0.9914 - dense_2_6_accuracy: 0.9882 - dense_2_7_accuracy: 0.9818 - dense_2_8_accuracy: 0.9735 - dense_2_9_accuracy: 0.9634 - dense_2_10_accuracy: 0.9507 - dense_2_11_accuracy: 0.9417 - dense_2_12_accuracy: 0.9442 - dense_2_13_accuracy: 0.9515 - dense_2_14_accuracy: 0.9635 - dense_2_15_accuracy: 0.9769 - dense_2_16_accuracy: 0.9860 - dense_2_17_accuracy: 0.9861 - dense_2_18_accuracy: 0.9972\n",
      "Epoch 29/30\n",
      "171/171 [==============================] - 15s 90ms/step - loss: 1.0830 - dense_2_loss: 0.0026 - dense_2_1_loss: 0.0036 - dense_2_2_loss: 0.0056 - dense_2_3_loss: 0.0075 - dense_2_4_loss: 0.0159 - dense_2_5_loss: 0.0257 - dense_2_6_loss: 0.0356 - dense_2_7_loss: 0.0507 - dense_2_8_loss: 0.0720 - dense_2_9_loss: 0.1009 - dense_2_10_loss: 0.1230 - dense_2_11_loss: 0.1406 - dense_2_12_loss: 0.1307 - dense_2_13_loss: 0.1215 - dense_2_14_loss: 0.1011 - dense_2_15_loss: 0.0613 - dense_2_16_loss: 0.0425 - dense_2_17_loss: 0.0369 - dense_2_18_loss: 0.0051 - dense_2_accuracy: 0.9997 - dense_2_1_accuracy: 0.9992 - dense_2_2_accuracy: 0.9983 - dense_2_3_accuracy: 0.9976 - dense_2_4_accuracy: 0.9948 - dense_2_5_accuracy: 0.9923 - dense_2_6_accuracy: 0.9887 - dense_2_7_accuracy: 0.9853 - dense_2_8_accuracy: 0.9778 - dense_2_9_accuracy: 0.9698 - dense_2_10_accuracy: 0.9649 - dense_2_11_accuracy: 0.9566 - dense_2_12_accuracy: 0.9620 - dense_2_13_accuracy: 0.9665 - dense_2_14_accuracy: 0.9725 - dense_2_15_accuracy: 0.9841 - dense_2_16_accuracy: 0.9885 - dense_2_17_accuracy: 0.9901 - dense_2_18_accuracy: 0.9988\n",
      "Epoch 30/30\n",
      "171/171 [==============================] - 15s 90ms/step - loss: 1.2227 - dense_2_loss: 0.0018 - dense_2_1_loss: 0.0038 - dense_2_2_loss: 0.0057 - dense_2_3_loss: 0.0078 - dense_2_4_loss: 0.0147 - dense_2_5_loss: 0.0238 - dense_2_6_loss: 0.0335 - dense_2_7_loss: 0.0500 - dense_2_8_loss: 0.0773 - dense_2_9_loss: 0.1110 - dense_2_10_loss: 0.1399 - dense_2_11_loss: 0.1585 - dense_2_12_loss: 0.1541 - dense_2_13_loss: 0.1495 - dense_2_14_loss: 0.1106 - dense_2_15_loss: 0.0774 - dense_2_16_loss: 0.0473 - dense_2_17_loss: 0.0463 - dense_2_18_loss: 0.0099 - dense_2_accuracy: 0.9998 - dense_2_1_accuracy: 0.9990 - dense_2_2_accuracy: 0.9981 - dense_2_3_accuracy: 0.9977 - dense_2_4_accuracy: 0.9956 - dense_2_5_accuracy: 0.9921 - dense_2_6_accuracy: 0.9902 - dense_2_7_accuracy: 0.9843 - dense_2_8_accuracy: 0.9757 - dense_2_9_accuracy: 0.9661 - dense_2_10_accuracy: 0.9578 - dense_2_11_accuracy: 0.9510 - dense_2_12_accuracy: 0.9546 - dense_2_13_accuracy: 0.9557 - dense_2_14_accuracy: 0.9664 - dense_2_15_accuracy: 0.9795 - dense_2_16_accuracy: 0.9865 - dense_2_17_accuracy: 0.9866 - dense_2_18_accuracy: 0.9969\n"
     ]
    },
    {
     "data": {
      "text/plain": [
       "<keras.callbacks.History at 0x24832cdd490>"
      ]
     },
     "execution_count": 16,
     "metadata": {},
     "output_type": "execute_result"
    }
   ],
   "source": [
    "opt = Adam(learning_rate= 0.01, clipvalue=0.5)\n",
    "model.compile(loss='categorical_crossentropy',optimizer=opt,metrics=['accuracy'])\n",
    "\n",
    "s0 = np.zeros((len(name_th), n_s))\n",
    "c0 = np.zeros((len(name_th), n_s))\n",
    "outputs = list(Y.swapaxes(0,1))\n",
    "\n",
    "model.fit([X, s0, c0], outputs, epochs=30, batch_size= 64)"
   ]
  },
  {
   "cell_type": "markdown",
   "metadata": {
    "id": "3C2RET9GwXDh"
   },
   "source": [
    "# Thai-Script to Roman-Script Translation\n",
    "* Task 4: Test your model on 5 examples of your choice including your name! \n",
    "* Task 5: Show your visualization of attention scores on one of your example "
   ]
  },
  {
   "cell_type": "code",
   "execution_count": 17,
   "metadata": {
    "colab": {
     "base_uri": "https://localhost:8080/"
    },
    "id": "gON7T2xVwXDk",
    "outputId": "8e61d716-e729-4041-b720-85092dd53716"
   },
   "outputs": [
    {
     "name": "stdout",
     "output_type": "stream",
     "text": [
      "1/1 [==============================] - 7s 7s/step\n",
      "สมชาย somchai\n",
      "สมศักดิ์ somsak\n",
      "อดัม adam\n",
      "ก้องภพ kongphop\n",
      "ธนัท thanat\n",
      "ใจดี caidi\n"
     ]
    }
   ],
   "source": [
    "#task 4\n",
    "#fill your code here\n",
    "def prep_input(input_list):\n",
    "    X = []\n",
    "    for line in input_list:\n",
    "        temp=[]\n",
    "        for char in line:\n",
    "            temp.append(dict_in[char])\n",
    "        X.append(temp)\n",
    "    X = pad_sequences(X,maxlen=maxlen_in)\n",
    "    X= to_categorical(X,len(dict_in))\n",
    "    X=X.reshape(len(input_list),maxlen_in ,len(dict_in))\n",
    "    \n",
    "    return X\n",
    "\n",
    "EXAMPLES = ['สมชาย','สมศักดิ์','อดัม','ก้องภพ','ธนัท','ใจดี']\n",
    "Sample = EXAMPLES\n",
    "s0 = np.zeros((len(EXAMPLES), n_s))\n",
    "c0 = np.zeros((len(EXAMPLES), n_s))\n",
    "EXAMPLES = prep_input(EXAMPLES)\n",
    "\n",
    "prediction = model.predict([EXAMPLES , s0, c0])\n",
    "prediction = np.swapaxes(prediction,0,1)\n",
    "prediction = np.argmax(prediction, axis = -1)\n",
    "\n",
    "for j in range(len(prediction)):\n",
    "    output = \"\".join([dict_out_rev[int(i)] for i in prediction[j]])\n",
    "    output = output.replace('<PAD>','')\n",
    "    output = output.replace('<END>','')\n",
    "    print(Sample[j],output)  "
   ]
  },
  {
   "cell_type": "markdown",
   "metadata": {
    "id": "r9-mxbsKwXDp"
   },
   "source": [
    "### Plot the attention map\n",
    "* If you need to install thai font: sudo apt install xfonts-thai\n",
    "* this is what your visualization might look like:\n",
    "--> https://drive.google.com/file/d/168J5SPSf4NNKj718wWUEDpUbh8QYZKux/view?usp=share_link"
   ]
  },
  {
   "cell_type": "code",
   "execution_count": 18,
   "metadata": {
    "id": "-4lhl4Vsz6Y8"
   },
   "outputs": [
    {
     "name": "stdout",
     "output_type": "stream",
     "text": [
      "สมชาย <PAD><PAD><PAD><PAD><PAD><PAD><PAD><PAD><PAD><PAD><PAD>somchai<END><END><END><END><END><END><END><END><END><END><END><END>\n",
      "สมศักดิ์ <PAD><PAD><PAD><PAD><PAD><PAD><PAD><PAD><PAD><PAD><PAD><PAD>somsak<END><END><END><END><END><END><END><END><END><END><END><END>\n",
      "อดัม <PAD><PAD><PAD><PAD><PAD><PAD><PAD><PAD><PAD><PAD><PAD><PAD><PAD><PAD>adam<END><END><END><END><END><END><END><END><END><END><END><END>\n",
      "ก้องภพ <PAD><PAD><PAD><PAD><PAD><PAD><PAD><PAD><PAD><PAD>kongphop<END><END><END><END><END><END><END><END><END><END><END><END>\n",
      "ธนัท <PAD><PAD><PAD><PAD><PAD><PAD><PAD><PAD><PAD><PAD><PAD><PAD>thanat<END><END><END><END><END><END><END><END><END><END><END><END>\n",
      "ใจดี <PAD><PAD><PAD><PAD><PAD><PAD><PAD><PAD><PAD><PAD><PAD><PAD><PAD>caidi<END><END><END><END><END><END><END><END><END><END><END><END>\n"
     ]
    }
   ],
   "source": [
    "# EXAMPLES = ???\n",
    "# h = inferEncoder_model.predict(EXAMPLES)\n",
    "# s0 = ???\n",
    "# c0 = ???\n",
    "# ...\n",
    "# Ty = 10\n",
    "# for t in range(Ty):\n",
    "#   out,s,c,attention_scores,energies = inferDecoder_model.predict([h,s0,c0])\n",
    "# ...\n",
    "\n",
    "EXAMPLES = ['สมชาย','สมศักดิ์','อดัม','ก้องภพ','ธนัท','ใจดี']\n",
    "temp = EXAMPLES\n",
    "inferEncoder_model = inference_encoder(maxlen_in, maxlen_out, n_h, n_s, vocab_size_in, vocab_size_out)\n",
    "inferDecoder_model = inference_decoder(maxlen_in, maxlen_out, n_h, n_s, vocab_size_in, vocab_size_out)\n",
    "\n",
    "s0 = np.zeros((len(EXAMPLES), n_s))\n",
    "c0 = np.zeros((len(EXAMPLES), n_s))\n",
    "s = s0\n",
    "c = c0\n",
    "\n",
    "EXAMPLES = prep_input(EXAMPLES)\n",
    "h = inferEncoder_model.predict(EXAMPLES,verbose=0)\n",
    "\n",
    "Ty = 30\n",
    "score = []\n",
    "attention_list = []\n",
    "\n",
    "for t in range(Ty):\n",
    "    out,s,c,attention_scores,energies = inferDecoder_model.predict([h,s,c],verbose=0)\n",
    "    score.append(out)\n",
    "    attention_list.append(attention_scores)\n",
    "    # array=np.array(out)\n",
    "    \n",
    "prediction = np.swapaxes(score,0,1)\n",
    "prediction = np.argmax(prediction, axis = -1)\n",
    "\n",
    "attention_list = np.array(attention_list)\n",
    "output_list=[]\n",
    "\n",
    "for j in range(len(prediction)):\n",
    "    a = [dict_out_rev[int(i)] for i in prediction[j]]\n",
    "    output = \"\".join(a)\n",
    "    output_list.append([[temp[j]],a])\n",
    "    # output = output.replace('<PAD>','')\n",
    "    # output = output.replace('<END>','')\n",
    "    print(temp[j],output)  "
   ]
  },
  {
   "cell_type": "code",
   "execution_count": 19,
   "metadata": {
    "id": "SRL8hHaLwXDq"
   },
   "outputs": [],
   "source": [
    "#task 5\n",
    "%matplotlib inline\n",
    "import seaborn as sns\n",
    "import matplotlib.pyplot as plt\n",
    "plt.rcParams['font.family']='TH Sarabun New'  #you can change to other font that works for you\n",
    "#fill your code here\n"
   ]
  },
  {
   "cell_type": "code",
   "execution_count": 20,
   "metadata": {
    "id": "XT44RFuxqzBM"
   },
   "outputs": [
    {
     "name": "stdout",
     "output_type": "stream",
     "text": [
      "(number , Ty) (6, 30)\n",
      "(number Tx , Ty ) (6, 30, 20, 1)\n"
     ]
    }
   ],
   "source": [
    "print(\"(number , Ty)\",prediction.shape)\n",
    "attention_list = np.swapaxes(attention_list,0,1)\n",
    "print(\"(number Tx , Ty )\",attention_list.shape)"
   ]
  },
  {
   "cell_type": "code",
   "execution_count": 21,
   "metadata": {},
   "outputs": [],
   "source": [
    "def get_word_indices(word_list):\n",
    "    start_index = None\n",
    "    end_index = None\n",
    "    \n",
    "    for i in range(len(word_list)):\n",
    "        if word_list[i] != '<PAD>':\n",
    "            if start_index is None:\n",
    "                start_index = i\n",
    "            if word_list[i] == '<END>':\n",
    "                end_index = i\n",
    "                break\n",
    "    \n",
    "    return start_index, end_index"
   ]
  },
  {
   "cell_type": "code",
   "execution_count": null,
   "metadata": {},
   "outputs": [
    {
     "data": {
      "image/png": "[encoded data removed]",
      "text/plain": [
       "<Figure size 1000x3000 with 12 Axes>"
      ]
     },
     "metadata": {},
     "output_type": "display_data"
    }
   ],
   "source": [
    "def plotheat(output_list,atten):\n",
    "    fig, ax = plt.subplots(nrows = 6, figsize=(20,50))\n",
    "    for index,i in enumerate(output_list) :\n",
    "        word = i[0]\n",
    "        word_padded = ['<PAD>']*(maxlen_in - len(word[0])) + list(word[0])\n",
    "        start,end = get_word_indices(i[1])\n",
    "        att = atten[index]\n",
    "        a = att.reshape(30,20)\n",
    "        a = a[start:end,:]\n",
    "        out = list(filter((lambda x : x != \"<PAD>\" and x != \"<END>\" ),i[1]) )\n",
    "        sns.heatmap(a,xticklabels=word_padded, yticklabels=out, vmin=0, vmax=1 , ax=ax[index])\n",
    "        ax[index].set_title(word[0])\n",
    "    plt.show()\n",
    "\n",
    "plotheat(output_list,attention_list)"
   ]
  }
 ],
 "metadata": {
  "colab": {
   "provenance": [],
   "toc_visible": true
  },
  "kernelspec": {
   "display_name": "Python 3 (ipykernel)",
   "language": "python",
   "name": "python3"
  },
  "language_info": {
   "codemirror_mode": {
    "name": "ipython",
    "version": 3
   },
   "file_extension": ".py",
   "mimetype": "text/x-python",
   "name": "python",
   "nbconvert_exporter": "python",
   "pygments_lexer": "ipython3",
   "version": "3.9.12"
  }
 },
 "nbformat": 4,
 "nbformat_minor": 1
}
